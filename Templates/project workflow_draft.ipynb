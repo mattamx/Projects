{
 "cells": [
  {
   "cell_type": "markdown",
   "metadata": {},
   "source": [
    "**[In progress: The aim of this template is to provide structure for DS projects]**"
   ]
  },
  {
   "cell_type": "markdown",
   "metadata": {},
   "source": [
    "# Project Brief"
   ]
  },
  {
   "cell_type": "markdown",
   "metadata": {},
   "source": [
    "## Business Statement"
   ]
  },
  {
   "cell_type": "markdown",
   "metadata": {},
   "source": [
    "## Requirements"
   ]
  },
  {
   "cell_type": "markdown",
   "metadata": {},
   "source": [
    "## Limitations"
   ]
  },
  {
   "cell_type": "markdown",
   "metadata": {},
   "source": [
    "# Data"
   ]
  },
  {
   "cell_type": "markdown",
   "metadata": {},
   "source": [
    "## Extraction"
   ]
  },
  {
   "cell_type": "code",
   "execution_count": null,
   "metadata": {
    "vscode": {
     "languageId": "plaintext"
    }
   },
   "outputs": [],
   "source": [
    "# importing flat files using NumPy\n",
    "filename = 'name.txt'\n",
    "data = np.loadtxt(filename, delimiter=',', skiprows=1, usecols=[0,2], dtype=str)"
   ]
  },
  {
   "cell_type": "code",
   "execution_count": null,
   "metadata": {
    "vscode": {
     "languageId": "plaintext"
    }
   },
   "outputs": [],
   "source": [
    "# pickled files\n",
    "import pickle \n",
    "with open('name.pkl', 'rb') as file:\n",
    "    data = pickle.load(file)\n",
    "\n",
    "print(data)"
   ]
  },
  {
   "cell_type": "code",
   "execution_count": null,
   "metadata": {
    "vscode": {
     "languageId": "plaintext"
    }
   },
   "outputs": [],
   "source": [
    "# importing excel spreadsheets\n",
    "file = 'name.xlsx'\n",
    "data = pd.ExcelFile(file)\n",
    "\n",
    "print(data.sheet_names)\n",
    "\n",
    "df1 = data.parse('sheet_name') # sheet name, as a string\n",
    "df2 = data.parse(0) # sheet index, as a float"
   ]
  },
  {
   "cell_type": "code",
   "execution_count": null,
   "metadata": {
    "vscode": {
     "languageId": "plaintext"
    }
   },
   "outputs": [],
   "source": [
    "# importing csv files\n",
    "data = pd.read_csv('name.csv')\n",
    "\n",
    "\"\"\"use the below for multiple extractions\n",
    "try:\n",
    "except:\n",
    "\"\"\""
   ]
  },
  {
   "cell_type": "code",
   "execution_count": null,
   "metadata": {
    "vscode": {
     "languageId": "plaintext"
    }
   },
   "outputs": [],
   "source": [
    "# importing SAS files\n",
    "from sas7bdat import SAS7BDAT\n",
    "with SAS7BDAT('name.sas7bdat') as file:\n",
    "    df_sas = file.to_data_frame()"
   ]
  },
  {
   "cell_type": "code",
   "execution_count": null,
   "metadata": {
    "vscode": {
     "languageId": "plaintext"
    }
   },
   "outputs": [],
   "source": [
    "# importing Stata files\n",
    "data = pd.read_stata('name.dta')"
   ]
  },
  {
   "cell_type": "code",
   "execution_count": null,
   "metadata": {
    "vscode": {
     "languageId": "plaintext"
    }
   },
   "outputs": [],
   "source": [
    "# importing HDF5 files\n",
    "import h5py\n",
    "filename = 'name.hdf5'\n",
    "data = h5py.File(filename, 'r')\n",
    "\n",
    "print(type(data))\n",
    "\n",
    "# structure\n",
    "for key in data.keys():\n",
    "    print(key)"
   ]
  },
  {
   "cell_type": "code",
   "execution_count": null,
   "metadata": {
    "vscode": {
     "languageId": "plaintext"
    }
   },
   "outputs": [],
   "source": [
    "# importing MATLAB files, keys = MATLAB variable names / values = objects assigned to variables\n",
    "import scipy.io\n",
    "filename = 'name.mat'\n",
    "mat = scipy.io.loadmat(filename)\n",
    "\n",
    "print(type(mat))"
   ]
  },
  {
   "cell_type": "code",
   "execution_count": null,
   "metadata": {
    "vscode": {
     "languageId": "plaintext"
    }
   },
   "outputs": [],
   "source": [
    "# importing through SQL (sqlalchemy)\n",
    "\n",
    "from sqlalchemy import create_engine\n",
    "engine = create_engine('sqlite://name.sqlite')\n",
    "\n",
    "table_names = engine.table_names()\n",
    "print(table_names)\n",
    "\n",
    "# querying\n",
    "con = engine.connect()\n",
    "rs - con.execute('SELECT * FROM table')\n",
    "df = pd.DataFrame(rs.fetchall())\n",
    "df.columns = rs.keys() # setting the DF column names\n",
    "con.close()\n",
    "\n",
    "# through context manager\n",
    "with engine.connect() as con:\n",
    "    rs = con.execute('query')\n",
    "    df = pd.DataFrame(rs.fetchmany(size=5)) # fetching specific number\n",
    "    df.columns = rs.keys()\n",
    "\n",
    "# querying directly via pandas\n",
    "df = pd.read_sql_query('query', egine)"
   ]
  },
  {
   "cell_type": "markdown",
   "metadata": {},
   "source": [
    "## Exploration & Processing"
   ]
  },
  {
   "cell_type": "markdown",
   "metadata": {},
   "source": [
    "`Data type validation`"
   ]
  },
  {
   "cell_type": "code",
   "execution_count": null,
   "metadata": {
    "vscode": {
     "languageId": "plaintext"
    }
   },
   "outputs": [],
   "source": [
    "df.dtypes"
   ]
  },
  {
   "cell_type": "code",
   "execution_count": null,
   "metadata": {
    "vscode": {
     "languageId": "plaintext"
    }
   },
   "outputs": [],
   "source": [
    "# feature classification\n",
    "\n",
    "def classify_features(df):\n",
    "    categorical_features = []\n",
    "    non_categorical_features = []\n",
    "    discrete_features = []\n",
    "    continuous_features = []\n",
    "\n",
    "    for column in df.columns:\n",
    "        if df[column].dtype in ['object', 'bool', 'category']: \n",
    "            if df[column].nunique() < 15:\n",
    "                categorical_features.append(column)\n",
    "            else: \n",
    "                non_categorical_features.append(column)\n",
    "        elif df[column].dtype in ['int64', 'float64']:\n",
    "            if df[column].nunique() < 10:\n",
    "                discrete_features.append(column)\n",
    "            else: \n",
    "                continuous_features.append(column)\n",
    "    return categorical_features, non_categorical_features, discrete_features, continuous_features\n",
    "\n",
    "\n",
    "categorical, non_categorical, discrete, continuous = classify_features(df)"
   ]
  },
  {
   "cell_type": "markdown",
   "metadata": {},
   "source": [
    "`Cleaning text data`\n",
    "\n",
    "- Data inconsistency\n",
    "- Fixed length violations\n",
    "- Typos"
   ]
  },
  {
   "cell_type": "code",
   "execution_count": null,
   "metadata": {
    "vscode": {
     "languageId": "plaintext"
    }
   },
   "outputs": [],
   "source": [
    "# using str.replace()\n",
    "\n",
    "df['col'] = df['col'].str.replace('old element','new element')\n",
    "\n",
    "# replacing elements with a condition\n",
    "\n",
    "element_len = df['col'].str.len()\n",
    "df.loc[element_len < number, 'col'] = np.nan # replace those falling under a specific condition with NaN\n",
    "\n",
    "# asserting column does not contain specific, unwanted elements\n",
    "\n",
    "assert df['col'].str.contains(\"element1|element2\").any() == False"
   ]
  },
  {
   "cell_type": "markdown",
   "metadata": {},
   "source": [
    "`Handling duplicate values`"
   ]
  },
  {
   "cell_type": "code",
   "execution_count": null,
   "metadata": {
    "vscode": {
     "languageId": "plaintext"
    }
   },
   "outputs": [],
   "source": [
    "# finding duplicate values\n",
    "\n",
    "duplicates = df.duplicated()\n",
    "df[duplicates]"
   ]
  },
  {
   "cell_type": "code",
   "execution_count": null,
   "metadata": {
    "vscode": {
     "languageId": "plaintext"
    }
   },
   "outputs": [],
   "source": [
    "# treating not fully duplicate rows (e.g. all but one or two columns are the exact same)\n",
    "\n",
    "# group by column names and produce statistical summaries \n",
    "column_names = ['col1', 'col2', 'col3']\n",
    "summaries = {'col1': 'max', 'col2': 'mean'} # create a dictionary in order to merge nearly identical rows\n",
    "df = df.groupby(by=column_names).agg(summaries).reset_index()\n",
    "\n",
    "# verification\n",
    "duplicates = df.duplicated(subset=column_names, keep=False)\n",
    "df[duplicates].sort_values(by='col1')"
   ]
  },
  {
   "cell_type": "markdown",
   "metadata": {},
   "source": [
    "`Handling missing values`"
   ]
  },
  {
   "cell_type": "code",
   "execution_count": null,
   "metadata": {
    "vscode": {
     "languageId": "plaintext"
    }
   },
   "outputs": [],
   "source": [
    "# checking the proportion of missing values to the respective totals\n",
    "\n",
    "df_nan = (df.isnull().sum() / len(df)) * 100\n",
    "df_nan = df_na.drop(df_na[df_na == 0].index).sort_values(ascending=False)[:30]\n",
    "\n",
    "missing_data = pd.DataFrame({'Missing Ratio' :df_na})\n",
    "missing_data.head(10)"
   ]
  },
  {
   "cell_type": "code",
   "execution_count": null,
   "metadata": {
    "vscode": {
     "languageId": "plaintext"
    }
   },
   "outputs": [],
   "source": [
    "# set a threshold to drop missing values (missing values as a % of total)\n",
    "\n",
    "threshold = len(df) * 0.05\n",
    "\n",
    "cols_to_drop = df.columns[df.isna().sum() <= threhold]\n",
    "\n",
    "df.dropna(subset=cols_to_drop, inplace=True)"
   ]
  },
  {
   "cell_type": "code",
   "execution_count": null,
   "metadata": {
    "vscode": {
     "languageId": "plaintext"
    }
   },
   "outputs": [],
   "source": [
    "# imputation \n",
    "cols_with_missing_values = df.columns[df.isna().sum() > 0]\n",
    "\n",
    "for col in cols_with_missing_values[:-1]:\n",
    "    df[col].fillna(df[col].mode()[0])\n",
    "\n",
    "# imputation by sub-group\n",
    "df_dict = df.groupby(\"col1\")[\"col2\"].median().to_dict()\n",
    "\n",
    "df[\"col2\"] = df[\"col2\"].fillna(df[\"col1\"].map(df_dict))"
   ]
  },
  {
   "cell_type": "markdown",
   "metadata": {},
   "source": [
    "`Handling outliers`"
   ]
  },
  {
   "cell_type": "code",
   "execution_count": null,
   "metadata": {
    "vscode": {
     "languageId": "plaintext"
    }
   },
   "outputs": [],
   "source": [
    "# identifying thresholds\n",
    "\n",
    "# 75th percentile\n",
    "seventy_fifth = df[\"col\"].quantile(0.75)\n",
    "\n",
    "# 25th percentile\n",
    "twenty_fifth = df[\"col\"].quantile(0.25)\n",
    "\n",
    "# Interquartile range\n",
    "df_iqr = seventy_fifth - twenty_fifth"
   ]
  },
  {
   "cell_type": "code",
   "execution_count": null,
   "metadata": {
    "vscode": {
     "languageId": "plaintext"
    }
   },
   "outputs": [],
   "source": [
    "# identifying outliers\n",
    "\n",
    "# Upper threshold\n",
    "upper = seventy_fifth + (1.5 * df_iqr)\n",
    "\n",
    "# Lower threshold\n",
    "lower = twenty_fifth - (1.5 * df_iqr)"
   ]
  },
  {
   "cell_type": "code",
   "execution_count": null,
   "metadata": {
    "vscode": {
     "languageId": "plaintext"
    }
   },
   "outputs": [],
   "source": [
    "# subsetting the data\n",
    "\n",
    "df[(df[\"col\"] < lower) | (df[\"col\"] > upper)] \\\n",
    "      [[\"col1\", \"col2\", \"col3\"]] # columns to display"
   ]
  },
  {
   "cell_type": "code",
   "execution_count": null,
   "metadata": {
    "vscode": {
     "languageId": "plaintext"
    }
   },
   "outputs": [],
   "source": [
    "# dropping outliers\n",
    "\n",
    "no_outliers = df[(df[\"col\"] > lower) | (df[\"col\"] < upper)]\n",
    "\n",
    "print(no_outliers[\"col\"].describe())"
   ]
  },
  {
   "cell_type": "markdown",
   "metadata": {},
   "source": [
    "`Membership constraints`\n",
    "\n",
    "- Dropping data\n",
    "- Remapping categories\n",
    "- Inferring categories"
   ]
  },
  {
   "cell_type": "code",
   "execution_count": null,
   "metadata": {
    "vscode": {
     "languageId": "plaintext"
    }
   },
   "outputs": [],
   "source": [
    "# finding inconsistent categories\n",
    "inconsistent_categories = set(df['col1']).difference(categories['col1'])\n",
    "\n",
    "# get rows with inconsistent categories\n",
    "inconsistent_rows = df['col1'].isin(inconsistent_categories)\n",
    "df[inconsistent_rows]\n",
    "\n",
    "# dropping inconsistent categories\n",
    "consistent_data = df[~inconsistent_rows]"
   ]
  },
  {
   "cell_type": "code",
   "execution_count": null,
   "metadata": {
    "vscode": {
     "languageId": "plaintext"
    }
   },
   "outputs": [],
   "source": [
    "# collapsing data into categories\n",
    "\n",
    "# creating category ranges and names\n",
    "ranges = [0, integer, integer, np.inf]\n",
    "group_names = ['label1','label2','label3']\n",
    "\n",
    "# creating new group column\n",
    "df['new_col'] = pd.cut(df['col1'], bins=ranges,\n",
    "                    labels=group_names)\n",
    "\n",
    "df[['new_col', 'col1']]"
   ]
  },
  {
   "cell_type": "code",
   "execution_count": null,
   "metadata": {
    "vscode": {
     "languageId": "plaintext"
    }
   },
   "outputs": [],
   "source": [
    "# mapping categories to fewer ones\n",
    "\n",
    "# mapping dictionary and replace\n",
    "mapping = {'category1':'new_category1', 'category2':'new_category1', 'category3':'new_category1',\n",
    "            'category4':'new_category2', 'category5':'new_category2'}\n",
    "\n",
    "df['col'] = df['col'].replace(mapping)\n",
    "\n",
    "# verification\n",
    "df['col'].unique()"
   ]
  },
  {
   "cell_type": "markdown",
   "metadata": {},
   "source": [
    "`Categorical encoding`"
   ]
  },
  {
   "cell_type": "code",
   "execution_count": null,
   "metadata": {
    "vscode": {
     "languageId": "plaintext"
    }
   },
   "outputs": [],
   "source": [
    "# multi-column label encoding\n",
    "\n",
    "class MultiColumnLabelEncoder:\n",
    "    def __init__(self,columns = None):\n",
    "        self.columns = columns # column names to encode\n",
    "\n",
    "    def fit(self,X,y=None):\n",
    "        return self \n",
    "\n",
    "    def transform(self,X):\n",
    "        '''\n",
    "        Transforms columns of X specified in self.columns using\n",
    "        LabelEncoder(). If no columns specified, transforms all\n",
    "        columns in X.\n",
    "        '''\n",
    "        output = X.copy()\n",
    "        if self.columns is not None:\n",
    "            for col in self.columns:\n",
    "                output[col] = LabelEncoder().fit_transform(output[col])\n",
    "        else:\n",
    "            for colname,col in output.iteritems():\n",
    "                output[colname] = LabelEncoder().fit_transform(col)\n",
    "        return output\n",
    "\n",
    "    def fit_transform(self,X,y=None):\n",
    "        return self.fit(X,y).transform(X)"
   ]
  },
  {
   "cell_type": "markdown",
   "metadata": {},
   "source": [
    "`Normalization & Standardization`"
   ]
  },
  {
   "cell_type": "markdown",
   "metadata": {},
   "source": [
    "## Insights"
   ]
  },
  {
   "cell_type": "markdown",
   "metadata": {},
   "source": [
    "`Correlation`"
   ]
  },
  {
   "cell_type": "code",
   "execution_count": null,
   "metadata": {
    "vscode": {
     "languageId": "plaintext"
    }
   },
   "outputs": [],
   "source": [
    "# checking the strength of relationship between variables\n",
    "\n",
    "df.corr()"
   ]
  },
  {
   "cell_type": "code",
   "execution_count": null,
   "metadata": {
    "vscode": {
     "languageId": "plaintext"
    }
   },
   "outputs": [],
   "source": [
    "# correlation heatmap\n",
    "\n",
    "sns.heatmap(df.corr(), annot=True)\n",
    "plt.show()"
   ]
  },
  {
   "cell_type": "markdown",
   "metadata": {},
   "source": [
    "`Statistical analysis on scalar data`"
   ]
  },
  {
   "cell_type": "code",
   "execution_count": null,
   "metadata": {
    "vscode": {
     "languageId": "plaintext"
    }
   },
   "outputs": [],
   "source": [
    "labels = [\"category1\", \"category2\", \"category3\", \"category4\"]\n",
    "\n",
    "bins = [0, twenty_fifth, median, seventy_fifth, maximum] # min, median, quartiles and max to be assigned to labels/categories\n",
    "\n",
    "pd.cut(data, # pass the data\n",
    "      labels, # set the labels\n",
    "      bins # provide the bins\n",
    "      )"
   ]
  },
  {
   "cell_type": "markdown",
   "metadata": {},
   "source": [
    "`Data summarization`\n",
    "\n",
    "- Groupings"
   ]
  },
  {
   "cell_type": "code",
   "execution_count": null,
   "metadata": {
    "vscode": {
     "languageId": "plaintext"
    }
   },
   "outputs": [],
   "source": [
    "# adding summary statistics to the dataframe\n",
    "\n",
    "# standard deviation example using lambda\n",
    "df[\"std_dev\"] = df.groupby(\"col\")[\"col1\"].transform(lambda x: x.std()) # for each x, transform to the respective standard deviation"
   ]
  },
  {
   "cell_type": "markdown",
   "metadata": {},
   "source": [
    "## Graphs"
   ]
  },
  {
   "cell_type": "markdown",
   "metadata": {},
   "source": [
    "# Model Building"
   ]
  },
  {
   "cell_type": "markdown",
   "metadata": {},
   "source": [
    "`Model Preparation`"
   ]
  },
  {
   "cell_type": "code",
   "execution_count": null,
   "metadata": {
    "vscode": {
     "languageId": "plaintext"
    }
   },
   "outputs": [],
   "source": [
    "# verifying class imbalance after data splitting\n",
    "\n",
    "classes = unique(target_train)\n",
    "total = len(target_train)\n",
    "for c in classes:\n",
    "    n_examples = len(target_train[target_train==c])\n",
    "    percent = n_examples / total * 100\n",
    "    print('> Class = %d : %d/%d (%.1f%%)' % (c, n_examples, total, percent))"
   ]
  },
  {
   "cell_type": "markdown",
   "metadata": {},
   "source": [
    "`Model Selection`\n",
    "\n",
    "- Benchmark ('Dummy') model\n",
    "- Classification v. Regression"
   ]
  },
  {
   "cell_type": "markdown",
   "metadata": {},
   "source": [
    "## Analysis"
   ]
  },
  {
   "cell_type": "markdown",
   "metadata": {},
   "source": [
    "`Model creation and hyperparameter tuning`\n",
    "\n",
    "- GridsearchCV / RandomizedSearchCV\n",
    "- Feature importance\n",
    "- Metric selection\n",
    "- Bayesan optimization\n",
    "- Keras tuner"
   ]
  },
  {
   "cell_type": "markdown",
   "metadata": {},
   "source": [
    "## Evaluation"
   ]
  }
 ],
 "metadata": {
  "language_info": {
   "name": "python"
  }
 },
 "nbformat": 4,
 "nbformat_minor": 2
}
