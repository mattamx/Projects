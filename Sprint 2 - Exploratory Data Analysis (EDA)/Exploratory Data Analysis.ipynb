{
 "cells": [
  {
   "cell_type": "markdown",
   "id": "5cf59321",
   "metadata": {},
   "source": [
    "# Project Description\n",
    "\n",
    "For this project, you’ll work with data from Instacart.\n",
    "\n",
    "Instacart is a grocery delivery platform where customers can place a grocery order and have it delivered to them, similar to how Uber Eats and Door Dash work. This particular dataset was publicly released by Instacart in 2017 for a Kaggle competition.\n",
    "\n",
    "***Dataset*** \n",
    "    \n",
    "The dataset we've provided for you has been modified from the original. We've reduced the size of the dataset so that your calculations run faster and we’ve introduced missing and duplicate values. We were also careful to preserve the distributions of the original data when we made our changes.\n",
    "\n",
    "***Mission***\n",
    "    \n",
    "Your mission is to clean up the data and prepare a report that gives insight into the shopping habits of Instacart customers. After answering each question, write a brief explanation of your results in a markdown cell of your Jupyter notebook.\n",
    "\n",
    "This project will require you to make plots that communicate your results. Make sure that any plots you create have a title, labeled axes, and a legend if necessary; and include plt.show() at the end of each cell with a plot.\n"
   ]
  },
  {
   "cell_type": "markdown",
   "id": "f03bfe67",
   "metadata": {},
   "source": [
    "`Preprocessing`\n",
    "\n",
    "***Verify and fix data types (e.g. make sure ID columns are integers)***\n",
    "    \n",
    "Identify and fill in missing values\n",
    "    \n",
    "Identify and remove duplicate values\n",
    "    \n",
    "Be sure to explain what types of missing and duplicate values you found, how you filled or removed them, why you used those methods, and why you think these missing and duplicate values may have been present in the dataset."
   ]
  },
  {
   "cell_type": "code",
   "execution_count": 1,
   "id": "fbf1adab",
   "metadata": {},
   "outputs": [],
   "source": [
    "import pandas as pd\n",
    "\n",
    "import numpy as np\n",
    "\n",
    "from matplotlib import pyplot as plt"
   ]
  },
  {
   "cell_type": "markdown",
   "id": "fbba034b",
   "metadata": {},
   "source": [
    "`Dataset Description`\n",
    "\n",
    "***instacart_orders.csv: each row corresponds to one order on the Instacart app***\n",
    "    \n",
    "'order_id': ID number that uniquely identifies each order\n",
    "    \n",
    "'user_id': ID number that uniquely identifies each customer account\n",
    "    \n",
    "'order_number': the number of times this customer has placed an order\n",
    "    \n",
    "'order_dow': day of the week that the order placed (which day is 0 is uncertain)\n",
    "    \n",
    "'order_hour_of_day': hour of the day that the order was placed\n",
    "    \n",
    "'days_since_prior_order': number of days since this customer placed their previous order"
   ]
  },
  {
   "cell_type": "code",
   "execution_count": 3,
   "id": "ad6a1efa",
   "metadata": {
    "scrolled": true
   },
   "outputs": [
    {
     "name": "stdout",
     "output_type": "stream",
     "text": [
      "<class 'pandas.core.frame.DataFrame'>\n",
      "RangeIndex: 478967 entries, 0 to 478966\n",
      "Data columns (total 6 columns):\n",
      " #   Column                  Non-Null Count   Dtype  \n",
      "---  ------                  --------------   -----  \n",
      " 0   order_id                478967 non-null  int64  \n",
      " 1   user_id                 478967 non-null  int64  \n",
      " 2   order_number            478967 non-null  int64  \n",
      " 3   order_dow               478967 non-null  int64  \n",
      " 4   order_hour_of_day       478967 non-null  int64  \n",
      " 5   days_since_prior_order  450148 non-null  float64\n",
      "dtypes: float64(1), int64(5)\n",
      "memory usage: 21.9 MB\n"
     ]
    }
   ],
   "source": [
    "df_orders = pd.read_csv('/Users/dani/Data Science/TripleTen Projects/Project Data/EDA/instacart_orders.csv', sep=';')\n",
    "\n",
    "#df_orders.info() #first check\n",
    "\n",
    "#print(df_orders['days_since_prior_order'].isna().sum()) #finding the amount of missing values\n",
    "#print(df_orders['days_since_prior_order'].value_counts(dropna=False)) #used to find the count as well as sniff out the NaN\n",
    "\n",
    "#df_orders['days_since_prior_order'] = df_orders['days_since_prior_order'].fillna(31.0) #replacing with day 31 as that is the missing value\n",
    "#print(df_orders['days_since_prior_order'].isna().sum()) #checking for NaN again to verify\n",
    "\n",
    "#df_orders['days_since_prior_order'] = df_orders['days_since_prior_order'].astype('int') #changing column to integer\n",
    "\n",
    "#print(df_orders.duplicated()) #extra check\n",
    "#print(df_orders.nunique()) #extra check\n",
    "\n",
    "df_orders.info() #last check to make sure things are flowing correctly"
   ]
  },
  {
   "cell_type": "markdown",
   "id": "7c441d10",
   "metadata": {},
   "source": [
    "`Dataset Description`\n",
    "\n",
    "***products.csv: each row corresponds to a unique product that customers can buy***\n",
    "    \n",
    "'product_id': ID number that uniquely identifies each product\n",
    "    \n",
    "'product_name': name of the product\n",
    "    \n",
    "'aisle_id': ID number that uniquely identifies each grocery aisle category\n",
    "    \n",
    "'department_id': ID number that uniquely identifies each grocery department category"
   ]
  },
  {
   "cell_type": "code",
   "execution_count": 4,
   "id": "ad36396d",
   "metadata": {},
   "outputs": [
    {
     "name": "stdout",
     "output_type": "stream",
     "text": [
      "<class 'pandas.core.frame.DataFrame'>\n",
      "RangeIndex: 49694 entries, 0 to 49693\n",
      "Data columns (total 4 columns):\n",
      " #   Column         Non-Null Count  Dtype \n",
      "---  ------         --------------  ----- \n",
      " 0   product_id     49694 non-null  int64 \n",
      " 1   product_name   48436 non-null  object\n",
      " 2   aisle_id       49694 non-null  int64 \n",
      " 3   department_id  49694 non-null  int64 \n",
      "dtypes: int64(3), object(1)\n",
      "memory usage: 1.5+ MB\n"
     ]
    }
   ],
   "source": [
    "df_products = pd.read_csv('/Users/dani/Data Science/TripleTen Projects/Project Data/EDA/products.csv', sep=';') #removed keep_default_na=False\n",
    "#df_products.info() #first check\n",
    "\n",
    "#print(df_products['product_name'].isna().sum()) #finding the amount of missing values\n",
    "#print(df_products['product_name'].value_counts(dropna=False))\n",
    "\n",
    "#print(df_products[df_products.isna().any(axis=1)]) #checking for any similarities in the empty product_name values\n",
    "\n",
    "#print(df_products.duplicated()) #extra check\n",
    "#print(df_products.nunique()) #extra check\n",
    "\n",
    "df_products.info()"
   ]
  },
  {
   "cell_type": "markdown",
   "id": "6a810a56",
   "metadata": {},
   "source": [
    "**`Comments`**\n",
    "\n",
    "Similar to the above when it comes to preprocessing, initial thoughts are that we can do away with 1258 missing values out of 49694 (~2.5% share). \n",
    "\n",
    "Before removal got curious to see if there was a specific aisle_id/department_id. Turns out it's aisle_id 100 and department_id 21 which is missing."
   ]
  },
  {
   "cell_type": "markdown",
   "id": "d88ea90d",
   "metadata": {},
   "source": [
    "`Dataset Description`\n",
    "\n",
    "***aisles.csv***\n",
    "    \n",
    "'aisle_id': ID number that uniquely identifies each grocery aisle category\n",
    "    \n",
    "'aisle': name of the aisle"
   ]
  },
  {
   "cell_type": "code",
   "execution_count": 5,
   "id": "5130e05e",
   "metadata": {},
   "outputs": [
    {
     "name": "stdout",
     "output_type": "stream",
     "text": [
      "<class 'pandas.core.frame.DataFrame'>\n",
      "RangeIndex: 134 entries, 0 to 133\n",
      "Data columns (total 2 columns):\n",
      " #   Column    Non-Null Count  Dtype \n",
      "---  ------    --------------  ----- \n",
      " 0   aisle_id  134 non-null    int64 \n",
      " 1   aisle     134 non-null    object\n",
      "dtypes: int64(1), object(1)\n",
      "memory usage: 2.2+ KB\n"
     ]
    }
   ],
   "source": [
    "df_aisles = pd.read_csv('/Users/dani/Data Science/TripleTen Projects/Project Data/EDA/aisles.csv', sep=';')\n",
    "#df_aisles.info() #first check\n",
    "\n",
    "#print(df_aisles[df_aisles['aisle_id'] == 100]) #checking aisle_id vs the missing values in the prior dataset\n",
    "\n",
    "#print(df_aisles.duplicated()) #extra check\n",
    "#print(df_aisles.nunique()) #extra check\n",
    "\n",
    "df_aisles.info()"
   ]
  },
  {
   "cell_type": "markdown",
   "id": "8afb5b82",
   "metadata": {},
   "source": [
    "**`Comments`**\n",
    "\n",
    "Ran a quick check to see if we could get an aisle for the missing values in df_products, turns out it's missing in this dataset as well!\n",
    "\n",
    "No percieved issues with missing values. Checked for duplicates as well.\n"
   ]
  },
  {
   "cell_type": "markdown",
   "id": "0c378fdb",
   "metadata": {},
   "source": [
    "`Dataset Description`\n",
    "\n",
    "***departments.csv***\n",
    "    \n",
    "'department_id': ID number that uniquely identifies each grocery department category\n",
    "    \n",
    "'department': name of the department"
   ]
  },
  {
   "cell_type": "code",
   "execution_count": 6,
   "id": "d8370c05",
   "metadata": {
    "scrolled": true
   },
   "outputs": [
    {
     "name": "stdout",
     "output_type": "stream",
     "text": [
      "<class 'pandas.core.frame.DataFrame'>\n",
      "RangeIndex: 21 entries, 0 to 20\n",
      "Data columns (total 2 columns):\n",
      " #   Column         Non-Null Count  Dtype \n",
      "---  ------         --------------  ----- \n",
      " 0   department_id  21 non-null     int64 \n",
      " 1   department     21 non-null     object\n",
      "dtypes: int64(1), object(1)\n",
      "memory usage: 468.0+ bytes\n"
     ]
    }
   ],
   "source": [
    "df_departments = pd.read_csv('/Users/dani/Data Science/TripleTen Projects/Project Data/EDA/departments.csv', sep=';')\n",
    "#df_departments.info() #first check\n",
    "\n",
    "#print(df_departments.duplicated()) #extra check\n",
    "#print(df_departments.nunique()) #extra check\n",
    "\n",
    "#print(df_departments) #checking for department_id 21 (related to missing value from previous dataset)\n",
    "\n",
    "df_departments.info()"
   ]
  },
  {
   "cell_type": "markdown",
   "id": "a9a48e35",
   "metadata": {},
   "source": [
    "**`Comments`**\n",
    "\n",
    "Ran the usual checks, nothing that popped up.\n",
    "\n",
    "Did run a quick check on the department_id related to the missing values in prior datasets, still 'missing'"
   ]
  },
  {
   "cell_type": "markdown",
   "id": "73ec4ca3",
   "metadata": {},
   "source": [
    "`Dataset Description`\n",
    "\n",
    "***order_products.csv: each row corresponds to one item placed in an order***\n",
    "    \n",
    "'order_id': ID number that uniquely identifies each order\n",
    "    \n",
    "'product_id': ID number that uniquely identifies each product\n",
    "    \n",
    "'add_to_cart_order': the sequential order in which each item was placed in the cart\n",
    "    \n",
    "'reordered': 0 if the customer has never ordered this product before, 1 if they have\n",
    "    "
   ]
  },
  {
   "cell_type": "code",
   "execution_count": 7,
   "id": "59e2090f",
   "metadata": {},
   "outputs": [
    {
     "name": "stdout",
     "output_type": "stream",
     "text": [
      "<class 'pandas.core.frame.DataFrame'>\n",
      "RangeIndex: 4545007 entries, 0 to 4545006\n",
      "Data columns (total 4 columns):\n",
      " #   Column             Non-Null Count    Dtype  \n",
      "---  ------             --------------    -----  \n",
      " 0   order_id           4545007 non-null  int64  \n",
      " 1   product_id         4545007 non-null  int64  \n",
      " 2   add_to_cart_order  4544171 non-null  float64\n",
      " 3   reordered          4545007 non-null  int64  \n",
      "dtypes: float64(1), int64(3)\n",
      "memory usage: 138.7 MB\n"
     ]
    }
   ],
   "source": [
    "df_order_products = pd.read_csv('/Users/dani/Data Science/TripleTen Projects/Project Data/EDA/order_products.csv', sep=';')\n",
    "df_order_products.info(show_counts=True) #first check passing in show_counts=True given size of data\n",
    "\n",
    "#print(df_order_products.duplicated())\n"
   ]
  },
  {
   "cell_type": "markdown",
   "id": "dd6dc0d1",
   "metadata": {},
   "source": [
    "**`Comments`**\n",
    "\n",
    "Looks like a possible data type change is in order with the add_to_card_order if there is no reason to have decimal points (after a check)."
   ]
  },
  {
   "cell_type": "markdown",
   "id": "f179f0a9",
   "metadata": {},
   "source": [
    "`orders data frame`"
   ]
  },
  {
   "cell_type": "code",
   "execution_count": 8,
   "id": "b99297a5-405a-463d-8535-9adc3da4ad74",
   "metadata": {},
   "outputs": [
    {
     "data": {
      "text/plain": [
       "15"
      ]
     },
     "execution_count": 8,
     "metadata": {},
     "output_type": "execute_result"
    }
   ],
   "source": [
    "# Check for duplicated orders\n",
    "df_orders.duplicated().sum()"
   ]
  },
  {
   "cell_type": "markdown",
   "id": "ea1ad826",
   "metadata": {},
   "source": [
    "**`Comments`**\n",
    "\n",
    "Found 15 duplicated rows using duplicated() along with sum(), which may impair the quality of the analysis."
   ]
  },
  {
   "cell_type": "code",
   "execution_count": 9,
   "id": "0d44de5d",
   "metadata": {},
   "outputs": [
    {
     "name": "stdout",
     "output_type": "stream",
     "text": [
      "        order_id  user_id  order_number  order_dow  order_hour_of_day  \\\n",
      "4838     2766110   162084            41          3                  2   \n",
      "5156     2190225   138285            18          3                  2   \n",
      "15506     553049    58599            13          3                  2   \n",
      "18420     382357   120200            19          3                  2   \n",
      "24691     690242    77357             2          3                  2   \n",
      "...          ...      ...           ...        ...                ...   \n",
      "457013   3384021    14881             6          3                  2   \n",
      "458816    910166   164782            18          3                  2   \n",
      "459635   1680532   106435             6          3                  2   \n",
      "468324    222962    54979            59          3                  2   \n",
      "477526   2592344    46860            38          3                  2   \n",
      "\n",
      "        days_since_prior_order  \n",
      "4838                      16.0  \n",
      "5156                      11.0  \n",
      "15506                      7.0  \n",
      "18420                     11.0  \n",
      "24691                      9.0  \n",
      "...                        ...  \n",
      "457013                    30.0  \n",
      "458816                     4.0  \n",
      "459635                    21.0  \n",
      "468324                     3.0  \n",
      "477526                     3.0  \n",
      "\n",
      "[121 rows x 6 columns]\n"
     ]
    }
   ],
   "source": [
    "# Check for all orders placed Wednesday at 2:00 AM\n",
    "print(df_orders[(df_orders['order_dow'] == 3) & (df_orders['order_hour_of_day'] == 2)])"
   ]
  },
  {
   "cell_type": "code",
   "execution_count": 10,
   "id": "6a9971b0",
   "metadata": {},
   "outputs": [
    {
     "data": {
      "text/html": [
       "<div>\n",
       "<style scoped>\n",
       "    .dataframe tbody tr th:only-of-type {\n",
       "        vertical-align: middle;\n",
       "    }\n",
       "\n",
       "    .dataframe tbody tr th {\n",
       "        vertical-align: top;\n",
       "    }\n",
       "\n",
       "    .dataframe thead th {\n",
       "        text-align: right;\n",
       "    }\n",
       "</style>\n",
       "<table border=\"1\" class=\"dataframe\">\n",
       "  <thead>\n",
       "    <tr style=\"text-align: right;\">\n",
       "      <th></th>\n",
       "      <th>order_id</th>\n",
       "      <th>user_id</th>\n",
       "      <th>order_number</th>\n",
       "      <th>order_dow</th>\n",
       "      <th>order_hour_of_day</th>\n",
       "      <th>days_since_prior_order</th>\n",
       "    </tr>\n",
       "  </thead>\n",
       "  <tbody>\n",
       "    <tr>\n",
       "      <th>0</th>\n",
       "      <td>1515936</td>\n",
       "      <td>183418</td>\n",
       "      <td>11</td>\n",
       "      <td>6</td>\n",
       "      <td>13</td>\n",
       "      <td>30.0</td>\n",
       "    </tr>\n",
       "    <tr>\n",
       "      <th>1</th>\n",
       "      <td>1690866</td>\n",
       "      <td>163593</td>\n",
       "      <td>5</td>\n",
       "      <td>5</td>\n",
       "      <td>12</td>\n",
       "      <td>9.0</td>\n",
       "    </tr>\n",
       "    <tr>\n",
       "      <th>2</th>\n",
       "      <td>1454967</td>\n",
       "      <td>39980</td>\n",
       "      <td>4</td>\n",
       "      <td>5</td>\n",
       "      <td>19</td>\n",
       "      <td>2.0</td>\n",
       "    </tr>\n",
       "  </tbody>\n",
       "</table>\n",
       "</div>"
      ],
      "text/plain": [
       "   order_id  user_id  order_number  order_dow  order_hour_of_day  \\\n",
       "0   1515936   183418            11          6                 13   \n",
       "1   1690866   163593             5          5                 12   \n",
       "2   1454967    39980             4          5                 19   \n",
       "\n",
       "   days_since_prior_order  \n",
       "0                    30.0  \n",
       "1                     9.0  \n",
       "2                     2.0  "
      ]
     },
     "metadata": {},
     "output_type": "display_data"
    },
    {
     "data": {
      "text/html": [
       "<div>\n",
       "<style scoped>\n",
       "    .dataframe tbody tr th:only-of-type {\n",
       "        vertical-align: middle;\n",
       "    }\n",
       "\n",
       "    .dataframe tbody tr th {\n",
       "        vertical-align: top;\n",
       "    }\n",
       "\n",
       "    .dataframe thead th {\n",
       "        text-align: right;\n",
       "    }\n",
       "</style>\n",
       "<table border=\"1\" class=\"dataframe\">\n",
       "  <thead>\n",
       "    <tr style=\"text-align: right;\">\n",
       "      <th></th>\n",
       "      <th>order_id</th>\n",
       "      <th>user_id</th>\n",
       "      <th>order_number</th>\n",
       "      <th>order_dow</th>\n",
       "      <th>order_hour_of_day</th>\n",
       "      <th>days_since_prior_order</th>\n",
       "    </tr>\n",
       "  </thead>\n",
       "  <tbody>\n",
       "    <tr>\n",
       "      <th>0</th>\n",
       "      <td>1515936</td>\n",
       "      <td>183418</td>\n",
       "      <td>11</td>\n",
       "      <td>6</td>\n",
       "      <td>13</td>\n",
       "      <td>30.0</td>\n",
       "    </tr>\n",
       "    <tr>\n",
       "      <th>1</th>\n",
       "      <td>1690866</td>\n",
       "      <td>163593</td>\n",
       "      <td>5</td>\n",
       "      <td>5</td>\n",
       "      <td>12</td>\n",
       "      <td>9.0</td>\n",
       "    </tr>\n",
       "  </tbody>\n",
       "</table>\n",
       "</div>"
      ],
      "text/plain": [
       "   order_id  user_id  order_number  order_dow  order_hour_of_day  \\\n",
       "0   1515936   183418            11          6                 13   \n",
       "1   1690866   163593             5          5                 12   \n",
       "\n",
       "   days_since_prior_order  \n",
       "0                    30.0  \n",
       "1                     9.0  "
      ]
     },
     "execution_count": 10,
     "metadata": {},
     "output_type": "execute_result"
    }
   ],
   "source": [
    "# Reviewer's code\n",
    "\n",
    "display(df_orders.head(3))\n",
    "df_orders.head(2)"
   ]
  },
  {
   "cell_type": "markdown",
   "id": "02ef611d",
   "metadata": {},
   "source": [
    "**`Comments`**\n",
    "\n",
    "Assuming days of week are 1-7 with 0 as uncertain and that the hours are under a 24H format."
   ]
  },
  {
   "cell_type": "code",
   "execution_count": 11,
   "id": "480563c7",
   "metadata": {},
   "outputs": [],
   "source": [
    "# Remove duplicate orders\n",
    "\n",
    "#duplicated_orders = df_orders[df_orders.duplicated()] \n",
    "#print(duplicated_orders) #printing a DataFram consisting of duplicates to verify\n",
    "\n",
    "df_orders = df_orders.drop_duplicates()"
   ]
  },
  {
   "cell_type": "markdown",
   "id": "a742489e",
   "metadata": {},
   "source": [
    "**`Comments`**\n",
    "\n",
    "Printed the 15 duplicated rows to start and start the process of removing the duplicate orders.\n",
    "\n",
    "Ran drop.duplicates() on df_orders in order to remove the 15 rows we found earlier (reassignig it to the DataFrame)."
   ]
  },
  {
   "cell_type": "code",
   "execution_count": 12,
   "id": "0b2396a2",
   "metadata": {},
   "outputs": [
    {
     "data": {
      "text/plain": [
       "0"
      ]
     },
     "execution_count": 12,
     "metadata": {},
     "output_type": "execute_result"
    }
   ],
   "source": [
    "# Double check for duplicate rows\n",
    "df_orders.duplicated().sum()"
   ]
  },
  {
   "cell_type": "markdown",
   "id": "7a677ad3",
   "metadata": {},
   "source": [
    "**`Comments`**\n",
    "\n",
    "Running the same check as the initial view into the data to make sure we processed the data correctly (with a count to check vs the 15 from prior code blocks).\n"
   ]
  },
  {
   "cell_type": "code",
   "execution_count": 13,
   "id": "f6113ef1",
   "metadata": {
    "scrolled": true
   },
   "outputs": [
    {
     "data": {
      "text/plain": [
       "0"
      ]
     },
     "execution_count": 13,
     "metadata": {},
     "output_type": "execute_result"
    }
   ],
   "source": [
    "# Double check for duplicate order IDs only\n",
    "df_orders.duplicated(subset='order_id').sum()\n"
   ]
  },
  {
   "cell_type": "markdown",
   "id": "eb44c374",
   "metadata": {},
   "source": [
    "**`Comments`**\n",
    "\n",
    "Checked for duplicate order IDs in the DataFram with no duplicate instances.\n",
    "\n",
    "For one last check, ran info on the DataFrame to validate that we only removed the 15 rows of duplicates and if the total entries make sense (15 row difference). This holds true.\n"
   ]
  },
  {
   "cell_type": "markdown",
   "id": "45e6bc46",
   "metadata": {},
   "source": [
    "`products data frame`"
   ]
  },
  {
   "cell_type": "code",
   "execution_count": 14,
   "id": "5f526b5b-8175-46fa-a0fd-441767d50e64",
   "metadata": {},
   "outputs": [
    {
     "data": {
      "text/plain": [
       "0"
      ]
     },
     "execution_count": 14,
     "metadata": {},
     "output_type": "execute_result"
    }
   ],
   "source": [
    "# Check for fully duplicate rows\n",
    "#df_products.nunique()\n",
    "df_products.duplicated().sum()"
   ]
  },
  {
   "cell_type": "markdown",
   "id": "78f30bdd",
   "metadata": {},
   "source": [
    "**`Comments`**\n",
    "\n",
    "Calling duplicated along with sum on the df_products DataFrame to find fully duplicate rows, did not find any. Left subset alone since this captures all."
   ]
  },
  {
   "cell_type": "code",
   "execution_count": 15,
   "id": "88daa4f4",
   "metadata": {},
   "outputs": [
    {
     "data": {
      "text/plain": [
       "0"
      ]
     },
     "execution_count": 15,
     "metadata": {},
     "output_type": "execute_result"
    }
   ],
   "source": [
    "# Check for just duplicate product IDs\n",
    "df_products.duplicated(subset='product_id').sum()"
   ]
  },
  {
   "cell_type": "markdown",
   "id": "d8418b54",
   "metadata": {},
   "source": [
    "**`Comments`**\n",
    "\n",
    "Similar call to the above but now focusing on a specific column using the subset parameter and calling sum for the total.\n"
   ]
  },
  {
   "cell_type": "code",
   "execution_count": 16,
   "id": "c773f0bf",
   "metadata": {},
   "outputs": [
    {
     "data": {
      "text/plain": [
       "1361"
      ]
     },
     "execution_count": 16,
     "metadata": {},
     "output_type": "execute_result"
    }
   ],
   "source": [
    "# Check for just duplicate product names (convert names to lowercase to compare better)\n",
    "df_products['product_name'] = df_products['product_name'].str.lower()\n",
    "\n",
    "df_products.duplicated(subset='product_name').sum()\n",
    "\n",
    "#duplicated_products = df_products[df_products['product_name'].duplicated()] \n",
    "#print(duplicated_products.sample(n=15)) #printing a DataFram consisting of duplicates to verify"
   ]
  },
  {
   "cell_type": "markdown",
   "id": "351c2cdf",
   "metadata": {},
   "source": [
    "**`Comments`**\n",
    "\n",
    "Converted the column to a lower case string and reassigned it to the DataFrame.\n",
    "\n",
    "Ran duplicated along with sum on the product name column to check for duplicates."
   ]
  },
  {
   "cell_type": "code",
   "execution_count": 17,
   "id": "01efd02e",
   "metadata": {},
   "outputs": [
    {
     "name": "stdout",
     "output_type": "stream",
     "text": [
      "<class 'pandas.core.frame.DataFrame'>\n",
      "RangeIndex: 49694 entries, 0 to 49693\n",
      "Data columns (total 4 columns):\n",
      " #   Column         Non-Null Count  Dtype \n",
      "---  ------         --------------  ----- \n",
      " 0   product_id     49694 non-null  int64 \n",
      " 1   product_name   48436 non-null  object\n",
      " 2   aisle_id       49694 non-null  int64 \n",
      " 3   department_id  49694 non-null  int64 \n",
      "dtypes: int64(3), object(1)\n",
      "memory usage: 1.5+ MB\n"
     ]
    },
    {
     "data": {
      "text/html": [
       "<div>\n",
       "<style scoped>\n",
       "    .dataframe tbody tr th:only-of-type {\n",
       "        vertical-align: middle;\n",
       "    }\n",
       "\n",
       "    .dataframe tbody tr th {\n",
       "        vertical-align: top;\n",
       "    }\n",
       "\n",
       "    .dataframe thead th {\n",
       "        text-align: right;\n",
       "    }\n",
       "</style>\n",
       "<table border=\"1\" class=\"dataframe\">\n",
       "  <thead>\n",
       "    <tr style=\"text-align: right;\">\n",
       "      <th></th>\n",
       "      <th>product_id</th>\n",
       "      <th>product_name</th>\n",
       "      <th>aisle_id</th>\n",
       "      <th>department_id</th>\n",
       "    </tr>\n",
       "  </thead>\n",
       "  <tbody>\n",
       "    <tr>\n",
       "      <th>2058</th>\n",
       "      <td>2059</td>\n",
       "      <td>biotin 1000 mcg</td>\n",
       "      <td>47</td>\n",
       "      <td>11</td>\n",
       "    </tr>\n",
       "    <tr>\n",
       "      <th>5455</th>\n",
       "      <td>5456</td>\n",
       "      <td>green tea with ginseng and honey</td>\n",
       "      <td>96</td>\n",
       "      <td>20</td>\n",
       "    </tr>\n",
       "    <tr>\n",
       "      <th>5558</th>\n",
       "      <td>5559</td>\n",
       "      <td>cream of mushroom soup</td>\n",
       "      <td>69</td>\n",
       "      <td>15</td>\n",
       "    </tr>\n",
       "    <tr>\n",
       "      <th>7558</th>\n",
       "      <td>7559</td>\n",
       "      <td>cinnamon rolls with icing</td>\n",
       "      <td>105</td>\n",
       "      <td>13</td>\n",
       "    </tr>\n",
       "    <tr>\n",
       "      <th>9037</th>\n",
       "      <td>9038</td>\n",
       "      <td>american cheese slices</td>\n",
       "      <td>21</td>\n",
       "      <td>16</td>\n",
       "    </tr>\n",
       "    <tr>\n",
       "      <th>...</th>\n",
       "      <td>...</td>\n",
       "      <td>...</td>\n",
       "      <td>...</td>\n",
       "      <td>...</td>\n",
       "    </tr>\n",
       "    <tr>\n",
       "      <th>49689</th>\n",
       "      <td>49690</td>\n",
       "      <td>high performance energy drink</td>\n",
       "      <td>64</td>\n",
       "      <td>7</td>\n",
       "    </tr>\n",
       "    <tr>\n",
       "      <th>49690</th>\n",
       "      <td>49691</td>\n",
       "      <td>original pancake &amp; waffle mix</td>\n",
       "      <td>130</td>\n",
       "      <td>14</td>\n",
       "    </tr>\n",
       "    <tr>\n",
       "      <th>49691</th>\n",
       "      <td>49692</td>\n",
       "      <td>organic instant oatmeal light maple brown sugar</td>\n",
       "      <td>130</td>\n",
       "      <td>14</td>\n",
       "    </tr>\n",
       "    <tr>\n",
       "      <th>49692</th>\n",
       "      <td>49693</td>\n",
       "      <td>spring water body wash</td>\n",
       "      <td>127</td>\n",
       "      <td>11</td>\n",
       "    </tr>\n",
       "    <tr>\n",
       "      <th>49693</th>\n",
       "      <td>49694</td>\n",
       "      <td>burrito- steak &amp; cheese</td>\n",
       "      <td>38</td>\n",
       "      <td>1</td>\n",
       "    </tr>\n",
       "  </tbody>\n",
       "</table>\n",
       "<p>104 rows × 4 columns</p>\n",
       "</div>"
      ],
      "text/plain": [
       "       product_id                                     product_name  aisle_id  \\\n",
       "2058         2059                                  biotin 1000 mcg        47   \n",
       "5455         5456                 green tea with ginseng and honey        96   \n",
       "5558         5559                           cream of mushroom soup        69   \n",
       "7558         7559                        cinnamon rolls with icing       105   \n",
       "9037         9038                           american cheese slices        21   \n",
       "...           ...                                              ...       ...   \n",
       "49689       49690                    high performance energy drink        64   \n",
       "49690       49691                    original pancake & waffle mix       130   \n",
       "49691       49692  organic instant oatmeal light maple brown sugar       130   \n",
       "49692       49693                           spring water body wash       127   \n",
       "49693       49694                          burrito- steak & cheese        38   \n",
       "\n",
       "       department_id  \n",
       "2058              11  \n",
       "5455              20  \n",
       "5558              15  \n",
       "7558              13  \n",
       "9037              16  \n",
       "...              ...  \n",
       "49689              7  \n",
       "49690             14  \n",
       "49691             14  \n",
       "49692             11  \n",
       "49693              1  \n",
       "\n",
       "[104 rows x 4 columns]"
      ]
     },
     "metadata": {},
     "output_type": "display_data"
    }
   ],
   "source": [
    "# Check for duplicate product names that aren't missing\n",
    "#dup_prod = display(df_products.duplicated(subset='product_name').notnull().sum())\n",
    "#print(dup_prod)\n",
    "df_products.info() #checking the structure\n",
    "\n",
    "duplicate_and_not_missing = df_products[(df_products['product_name'].str.lower().duplicated()) \n",
    "                                        & (df_products['product_name'].notnull())] #combining the two statements to get duplicated values then returning those that are not null\n",
    "\n",
    "display(duplicate_and_not_missing) #confirming this returns those items where product name is not missing\n"
   ]
  },
  {
   "cell_type": "markdown",
   "id": "374055a1",
   "metadata": {},
   "source": [
    "**`Comments`**\n",
    "\n",
    "Running notnull along with sum to get a count of those product names that are not 'blank'.\n",
    "\n",
    "With the count I can now check the difference to the count in code block #340 and match to the total rows."
   ]
  },
  {
   "cell_type": "markdown",
   "id": "60f30db1",
   "metadata": {},
   "source": [
    "`departments data frame`"
   ]
  },
  {
   "cell_type": "code",
   "execution_count": 18,
   "id": "fb410ad4-0fbf-4b80-bb09-23fdea79afe3",
   "metadata": {},
   "outputs": [
    {
     "data": {
      "text/plain": [
       "0"
      ]
     },
     "execution_count": 18,
     "metadata": {},
     "output_type": "execute_result"
    }
   ],
   "source": [
    "# missing instructions so I'm going to make the assumption that this is to 'Check for fully duplicate rows'\n",
    "\n",
    "df_departments.duplicated().sum()"
   ]
  },
  {
   "cell_type": "markdown",
   "id": "29897705",
   "metadata": {},
   "source": [
    "**`Comments`**\n",
    "\n",
    "Called duplicated + sum on the departments DataFrame found no duplicates.\n",
    "    "
   ]
  },
  {
   "cell_type": "code",
   "execution_count": 19,
   "id": "332b12bb",
   "metadata": {},
   "outputs": [
    {
     "name": "stdout",
     "output_type": "stream",
     "text": [
      "0\n",
      "0\n"
     ]
    }
   ],
   "source": [
    "# missing instructions so I'm going to make the assumption that this is to 'Double check for any other tricky duplicates'\n",
    "\n",
    "print(df_departments.duplicated(subset='department').sum())\n",
    "#print(df_departments.duplicated(subset='department').nunique()) #confirming there is only one unique value\n",
    "\n",
    "print(df_departments.duplicated(subset='department_id').sum())\n",
    "#print(df_departments.duplicated(subset='department_id').nunique()) #confirming there is only one unique value\n"
   ]
  },
  {
   "cell_type": "markdown",
   "id": "9890dbf0",
   "metadata": {},
   "source": [
    "**`Comments`**\n",
    "\n",
    "Using the same method as the prior code block but now with the two subset parameters (easier done here since there are only two columns.\n",
    "\n",
    "Also calling nunique to confirm that there is only one unique value in the column.\n",
    "    "
   ]
  },
  {
   "cell_type": "markdown",
   "id": "889349c1",
   "metadata": {},
   "source": [
    "`aisles data frame`"
   ]
  },
  {
   "cell_type": "code",
   "execution_count": 20,
   "id": "9da89fb9-4679-40f5-ad0d-c34df753a3f8",
   "metadata": {},
   "outputs": [
    {
     "data": {
      "text/plain": [
       "0"
      ]
     },
     "execution_count": 20,
     "metadata": {},
     "output_type": "execute_result"
    }
   ],
   "source": [
    "# missing instructions so I'm going to make the assumption that this is to 'Check for fully duplicate rows'\n",
    "\n",
    "df_aisles.duplicated().sum()"
   ]
  },
  {
   "cell_type": "markdown",
   "id": "7aef666a",
   "metadata": {},
   "source": [
    "**`Comments`**\n",
    "\n",
    "Same as above, called duplicated + sum on the departments DataFrame found no duplicates.\n",
    "    "
   ]
  },
  {
   "cell_type": "code",
   "execution_count": 21,
   "id": "da7c2822",
   "metadata": {},
   "outputs": [
    {
     "name": "stdout",
     "output_type": "stream",
     "text": [
      "0\n",
      "0\n"
     ]
    }
   ],
   "source": [
    "# missing instructions so I'm going to make the assumption that this is to 'Double check for any other tricky duplicates'\n",
    "\n",
    "print(df_aisles.duplicated(subset='aisle').sum())\n",
    "#print(df_aisles.duplicated(subset='aisle').nunique()) #confirming there is only one unique value\n",
    "\n",
    "\n",
    "print(df_aisles.duplicated(subset='aisle_id').sum()) \n",
    "#print(df_aisles.duplicated(subset='aisle_id').nunique()) #confirming there is only one unique value\n"
   ]
  },
  {
   "cell_type": "markdown",
   "id": "120d4ae2",
   "metadata": {},
   "source": [
    "**`Comments`**\n",
    "\n",
    "Using the same method as the prior code block but now with the two subset parameters (easier done here since there are only two columns.\n",
    "\n",
    "Also calling nunique to confirm that there is only one unique value in the column."
   ]
  },
  {
   "cell_type": "markdown",
   "id": "274cd06a",
   "metadata": {},
   "source": [
    "`order_products data frame`"
   ]
  },
  {
   "cell_type": "code",
   "execution_count": 22,
   "id": "52326689-84a8-4b8f-a881-7c68780f62c9",
   "metadata": {},
   "outputs": [
    {
     "data": {
      "text/plain": [
       "0"
      ]
     },
     "execution_count": 22,
     "metadata": {},
     "output_type": "execute_result"
    }
   ],
   "source": [
    "# Check for fullly duplicate rows\n",
    "\n",
    "df_order_products.duplicated().sum()"
   ]
  },
  {
   "cell_type": "code",
   "execution_count": 23,
   "id": "7b861391",
   "metadata": {},
   "outputs": [
    {
     "data": {
      "text/html": [
       "<div>\n",
       "<style scoped>\n",
       "    .dataframe tbody tr th:only-of-type {\n",
       "        vertical-align: middle;\n",
       "    }\n",
       "\n",
       "    .dataframe tbody tr th {\n",
       "        vertical-align: top;\n",
       "    }\n",
       "\n",
       "    .dataframe thead th {\n",
       "        text-align: right;\n",
       "    }\n",
       "</style>\n",
       "<table border=\"1\" class=\"dataframe\">\n",
       "  <thead>\n",
       "    <tr style=\"text-align: right;\">\n",
       "      <th></th>\n",
       "      <th>order_id</th>\n",
       "      <th>product_id</th>\n",
       "      <th>add_to_cart_order</th>\n",
       "      <th>reordered</th>\n",
       "    </tr>\n",
       "  </thead>\n",
       "  <tbody>\n",
       "    <tr>\n",
       "      <th>2834230</th>\n",
       "      <td>4</td>\n",
       "      <td>26434</td>\n",
       "      <td>2.0</td>\n",
       "      <td>1</td>\n",
       "    </tr>\n",
       "    <tr>\n",
       "      <th>1420535</th>\n",
       "      <td>4</td>\n",
       "      <td>10054</td>\n",
       "      <td>5.0</td>\n",
       "      <td>1</td>\n",
       "    </tr>\n",
       "    <tr>\n",
       "      <th>2507695</th>\n",
       "      <td>4</td>\n",
       "      <td>17616</td>\n",
       "      <td>10.0</td>\n",
       "      <td>1</td>\n",
       "    </tr>\n",
       "    <tr>\n",
       "      <th>1295279</th>\n",
       "      <td>4</td>\n",
       "      <td>39758</td>\n",
       "      <td>3.0</td>\n",
       "      <td>1</td>\n",
       "    </tr>\n",
       "    <tr>\n",
       "      <th>1299531</th>\n",
       "      <td>4</td>\n",
       "      <td>32645</td>\n",
       "      <td>12.0</td>\n",
       "      <td>1</td>\n",
       "    </tr>\n",
       "    <tr>\n",
       "      <th>...</th>\n",
       "      <td>...</td>\n",
       "      <td>...</td>\n",
       "      <td>...</td>\n",
       "      <td>...</td>\n",
       "    </tr>\n",
       "    <tr>\n",
       "      <th>1718460</th>\n",
       "      <td>3421071</td>\n",
       "      <td>21791</td>\n",
       "      <td>2.0</td>\n",
       "      <td>0</td>\n",
       "    </tr>\n",
       "    <tr>\n",
       "      <th>1692878</th>\n",
       "      <td>3421071</td>\n",
       "      <td>32293</td>\n",
       "      <td>4.0</td>\n",
       "      <td>1</td>\n",
       "    </tr>\n",
       "    <tr>\n",
       "      <th>1505667</th>\n",
       "      <td>3421077</td>\n",
       "      <td>27966</td>\n",
       "      <td>1.0</td>\n",
       "      <td>0</td>\n",
       "    </tr>\n",
       "    <tr>\n",
       "      <th>4417991</th>\n",
       "      <td>3421077</td>\n",
       "      <td>45007</td>\n",
       "      <td>2.0</td>\n",
       "      <td>0</td>\n",
       "    </tr>\n",
       "    <tr>\n",
       "      <th>4000108</th>\n",
       "      <td>3421077</td>\n",
       "      <td>27845</td>\n",
       "      <td>4.0</td>\n",
       "      <td>0</td>\n",
       "    </tr>\n",
       "  </tbody>\n",
       "</table>\n",
       "<p>4094961 rows × 4 columns</p>\n",
       "</div>"
      ],
      "text/plain": [
       "         order_id  product_id  add_to_cart_order  reordered\n",
       "2834230         4       26434                2.0          1\n",
       "1420535         4       10054                5.0          1\n",
       "2507695         4       17616               10.0          1\n",
       "1295279         4       39758                3.0          1\n",
       "1299531         4       32645               12.0          1\n",
       "...           ...         ...                ...        ...\n",
       "1718460   3421071       21791                2.0          0\n",
       "1692878   3421071       32293                4.0          1\n",
       "1505667   3421077       27966                1.0          0\n",
       "4417991   3421077       45007                2.0          0\n",
       "4000108   3421077       27845                4.0          0\n",
       "\n",
       "[4094961 rows x 4 columns]"
      ]
     },
     "metadata": {},
     "output_type": "display_data"
    },
    {
     "data": {
      "text/html": [
       "<div>\n",
       "<style scoped>\n",
       "    .dataframe tbody tr th:only-of-type {\n",
       "        vertical-align: middle;\n",
       "    }\n",
       "\n",
       "    .dataframe tbody tr th {\n",
       "        vertical-align: top;\n",
       "    }\n",
       "\n",
       "    .dataframe thead th {\n",
       "        text-align: right;\n",
       "    }\n",
       "</style>\n",
       "<table border=\"1\" class=\"dataframe\">\n",
       "  <thead>\n",
       "    <tr style=\"text-align: right;\">\n",
       "      <th></th>\n",
       "      <th>order_id</th>\n",
       "      <th>product_id</th>\n",
       "      <th>add_to_cart_order</th>\n",
       "      <th>reordered</th>\n",
       "    </tr>\n",
       "  </thead>\n",
       "  <tbody>\n",
       "    <tr>\n",
       "      <th>4266839</th>\n",
       "      <td>1983366</td>\n",
       "      <td>1</td>\n",
       "      <td>13.0</td>\n",
       "      <td>0</td>\n",
       "    </tr>\n",
       "    <tr>\n",
       "      <th>528900</th>\n",
       "      <td>1773146</td>\n",
       "      <td>1</td>\n",
       "      <td>6.0</td>\n",
       "      <td>1</td>\n",
       "    </tr>\n",
       "    <tr>\n",
       "      <th>3985558</th>\n",
       "      <td>1977647</td>\n",
       "      <td>1</td>\n",
       "      <td>1.0</td>\n",
       "      <td>1</td>\n",
       "    </tr>\n",
       "    <tr>\n",
       "      <th>4390924</th>\n",
       "      <td>161236</td>\n",
       "      <td>1</td>\n",
       "      <td>4.0</td>\n",
       "      <td>0</td>\n",
       "    </tr>\n",
       "    <tr>\n",
       "      <th>1113333</th>\n",
       "      <td>1484430</td>\n",
       "      <td>1</td>\n",
       "      <td>7.0</td>\n",
       "      <td>1</td>\n",
       "    </tr>\n",
       "    <tr>\n",
       "      <th>...</th>\n",
       "      <td>...</td>\n",
       "      <td>...</td>\n",
       "      <td>...</td>\n",
       "      <td>...</td>\n",
       "    </tr>\n",
       "    <tr>\n",
       "      <th>1285776</th>\n",
       "      <td>2077154</td>\n",
       "      <td>49694</td>\n",
       "      <td>12.0</td>\n",
       "      <td>0</td>\n",
       "    </tr>\n",
       "    <tr>\n",
       "      <th>407602</th>\n",
       "      <td>2059001</td>\n",
       "      <td>49694</td>\n",
       "      <td>2.0</td>\n",
       "      <td>1</td>\n",
       "    </tr>\n",
       "    <tr>\n",
       "      <th>724125</th>\n",
       "      <td>3034802</td>\n",
       "      <td>49694</td>\n",
       "      <td>10.0</td>\n",
       "      <td>0</td>\n",
       "    </tr>\n",
       "    <tr>\n",
       "      <th>547362</th>\n",
       "      <td>191729</td>\n",
       "      <td>49694</td>\n",
       "      <td>11.0</td>\n",
       "      <td>1</td>\n",
       "    </tr>\n",
       "    <tr>\n",
       "      <th>922157</th>\n",
       "      <td>3175081</td>\n",
       "      <td>49694</td>\n",
       "      <td>3.0</td>\n",
       "      <td>0</td>\n",
       "    </tr>\n",
       "  </tbody>\n",
       "</table>\n",
       "<p>4499434 rows × 4 columns</p>\n",
       "</div>"
      ],
      "text/plain": [
       "         order_id  product_id  add_to_cart_order  reordered\n",
       "4266839   1983366           1               13.0          0\n",
       "528900    1773146           1                6.0          1\n",
       "3985558   1977647           1                1.0          1\n",
       "4390924    161236           1                4.0          0\n",
       "1113333   1484430           1                7.0          1\n",
       "...           ...         ...                ...        ...\n",
       "1285776   2077154       49694               12.0          0\n",
       "407602    2059001       49694                2.0          1\n",
       "724125    3034802       49694               10.0          0\n",
       "547362     191729       49694               11.0          1\n",
       "922157    3175081       49694                3.0          0\n",
       "\n",
       "[4499434 rows x 4 columns]"
      ]
     },
     "metadata": {},
     "output_type": "display_data"
    }
   ],
   "source": [
    "# Double check for any other tricky duplicates\n",
    "#df_order_products.info()\n",
    "\n",
    "#print(df_order_products.duplicated(subset=['order_id']).sum())\n",
    "#print(df_order_products.duplicated(subset=['order_id']).nunique())\n",
    "order_duplicate_check = df_order_products[df_order_products.duplicated(subset=['order_id'])].sort_values('order_id')\n",
    "display(order_duplicate_check) #found duplicates by sorting the values\n",
    "\n",
    "#print(df_order_products.duplicated(subset=['product_id']).sum())\n",
    "#print(df_order_products.duplicated(subset=['product_id']).nunique())\n",
    "product_duplicate_check = df_order_products[df_order_products.duplicated(subset=['product_id'])].sort_values('product_id')\n",
    "display(product_duplicate_check) #found duplicates by sorting the values\n",
    "\n",
    "#print(df_order_products.duplicated(subset=['add_to_cart_order']).sum())\n",
    "#print(df_order_products.duplicated(subset=['add_to_cart_order']).nunique())\n",
    "#product_duplicate_check = df_order_products[df_order_products.duplicated(subset=['add_to_cart_order'])].sort_values('add_to_cart_order')\n",
    "#display(product_duplicate_check) #expected duplicates\n",
    "\n",
    "#print(df_order_products.duplicated(subset=['reordered']).sum())\n",
    "#print(df_order_products.duplicated(subset=['reordered']).nunique())\n",
    "#product_duplicate_check = df_order_products[df_order_products.duplicated(subset=['reordered'])].sort_values('reordered')\n",
    "#display(product_duplicate_check) #expected duplicates \n",
    "\n"
   ]
  },
  {
   "cell_type": "markdown",
   "id": "5e4efd6c",
   "metadata": {},
   "source": [
    "**`Comments`**\n",
    "\n",
    "Called duplicated on each subset of the DataFrame + sum/nunique to find the duplication and the number of unique values per column.\n"
   ]
  },
  {
   "cell_type": "code",
   "execution_count": 24,
   "id": "540ea553",
   "metadata": {},
   "outputs": [
    {
     "data": {
      "text/html": [
       "<div>\n",
       "<style scoped>\n",
       "    .dataframe tbody tr th:only-of-type {\n",
       "        vertical-align: middle;\n",
       "    }\n",
       "\n",
       "    .dataframe tbody tr th {\n",
       "        vertical-align: top;\n",
       "    }\n",
       "\n",
       "    .dataframe thead th {\n",
       "        text-align: right;\n",
       "    }\n",
       "</style>\n",
       "<table border=\"1\" class=\"dataframe\">\n",
       "  <thead>\n",
       "    <tr style=\"text-align: right;\">\n",
       "      <th></th>\n",
       "      <th>order_id</th>\n",
       "      <th>product_id</th>\n",
       "      <th>add_to_cart_order</th>\n",
       "      <th>reordered</th>\n",
       "    </tr>\n",
       "  </thead>\n",
       "  <tbody>\n",
       "  </tbody>\n",
       "</table>\n",
       "</div>"
      ],
      "text/plain": [
       "Empty DataFrame\n",
       "Columns: [order_id, product_id, add_to_cart_order, reordered]\n",
       "Index: []"
      ]
     },
     "execution_count": 24,
     "metadata": {},
     "output_type": "execute_result"
    }
   ],
   "source": [
    "# duplicate check\n",
    "\n",
    "df_order_products[df_order_products.duplicated(subset=['order_id', 'product_id'])]"
   ]
  },
  {
   "cell_type": "markdown",
   "id": "c0aebd78",
   "metadata": {},
   "source": [
    "`products data frame`"
   ]
  },
  {
   "cell_type": "code",
   "execution_count": 25,
   "id": "fe4a8b0f",
   "metadata": {},
   "outputs": [
    {
     "data": {
      "text/plain": [
       "product_name\n",
       "green tea with ginseng and honey                                        3\n",
       "carrot and celery sticks                                                2\n",
       "apricot energy bar                                                      2\n",
       "top the tater chive & onion sour cream                                  2\n",
       "proactive health indoor weight & hairball care with chicken cat food    2\n",
       "                                                                       ..\n",
       "all natural chicken apple sausage                                       1\n",
       "quartered artichoke hearts                                              1\n",
       "big eye ipa                                                             1\n",
       "unstopables lush                                                        1\n",
       "fresh foaming cleanser                                                  1\n",
       "Name: count, Length: 48332, dtype: int64"
      ]
     },
     "execution_count": 25,
     "metadata": {},
     "output_type": "execute_result"
    }
   ],
   "source": [
    "###no instructions so taking a guess here\n",
    "\n",
    "df_products['product_name'].value_counts()"
   ]
  },
  {
   "cell_type": "markdown",
   "id": "dc32f97c",
   "metadata": {},
   "source": [
    "**`Comments`**\n",
    "\n",
    "Found the empty/missing product name instance using value_counts on the specific column.\n",
    "\n",
    "1258 instances without a product name."
   ]
  },
  {
   "cell_type": "code",
   "execution_count": 26,
   "id": "e96167bc",
   "metadata": {},
   "outputs": [
    {
     "data": {
      "text/html": [
       "<div>\n",
       "<style scoped>\n",
       "    .dataframe tbody tr th:only-of-type {\n",
       "        vertical-align: middle;\n",
       "    }\n",
       "\n",
       "    .dataframe tbody tr th {\n",
       "        vertical-align: top;\n",
       "    }\n",
       "\n",
       "    .dataframe thead th {\n",
       "        text-align: right;\n",
       "    }\n",
       "</style>\n",
       "<table border=\"1\" class=\"dataframe\">\n",
       "  <thead>\n",
       "    <tr style=\"text-align: right;\">\n",
       "      <th></th>\n",
       "      <th>product_id</th>\n",
       "      <th>product_name</th>\n",
       "      <th>aisle_id</th>\n",
       "      <th>department_id</th>\n",
       "    </tr>\n",
       "  </thead>\n",
       "  <tbody>\n",
       "    <tr>\n",
       "      <th>37</th>\n",
       "      <td>38</td>\n",
       "      <td>NaN</td>\n",
       "      <td>100</td>\n",
       "      <td>21</td>\n",
       "    </tr>\n",
       "    <tr>\n",
       "      <th>71</th>\n",
       "      <td>72</td>\n",
       "      <td>NaN</td>\n",
       "      <td>100</td>\n",
       "      <td>21</td>\n",
       "    </tr>\n",
       "    <tr>\n",
       "      <th>109</th>\n",
       "      <td>110</td>\n",
       "      <td>NaN</td>\n",
       "      <td>100</td>\n",
       "      <td>21</td>\n",
       "    </tr>\n",
       "    <tr>\n",
       "      <th>296</th>\n",
       "      <td>297</td>\n",
       "      <td>NaN</td>\n",
       "      <td>100</td>\n",
       "      <td>21</td>\n",
       "    </tr>\n",
       "    <tr>\n",
       "      <th>416</th>\n",
       "      <td>417</td>\n",
       "      <td>NaN</td>\n",
       "      <td>100</td>\n",
       "      <td>21</td>\n",
       "    </tr>\n",
       "    <tr>\n",
       "      <th>...</th>\n",
       "      <td>...</td>\n",
       "      <td>...</td>\n",
       "      <td>...</td>\n",
       "      <td>...</td>\n",
       "    </tr>\n",
       "    <tr>\n",
       "      <th>49552</th>\n",
       "      <td>49553</td>\n",
       "      <td>NaN</td>\n",
       "      <td>100</td>\n",
       "      <td>21</td>\n",
       "    </tr>\n",
       "    <tr>\n",
       "      <th>49574</th>\n",
       "      <td>49575</td>\n",
       "      <td>NaN</td>\n",
       "      <td>100</td>\n",
       "      <td>21</td>\n",
       "    </tr>\n",
       "    <tr>\n",
       "      <th>49640</th>\n",
       "      <td>49641</td>\n",
       "      <td>NaN</td>\n",
       "      <td>100</td>\n",
       "      <td>21</td>\n",
       "    </tr>\n",
       "    <tr>\n",
       "      <th>49663</th>\n",
       "      <td>49664</td>\n",
       "      <td>NaN</td>\n",
       "      <td>100</td>\n",
       "      <td>21</td>\n",
       "    </tr>\n",
       "    <tr>\n",
       "      <th>49668</th>\n",
       "      <td>49669</td>\n",
       "      <td>NaN</td>\n",
       "      <td>100</td>\n",
       "      <td>21</td>\n",
       "    </tr>\n",
       "  </tbody>\n",
       "</table>\n",
       "<p>1258 rows × 4 columns</p>\n",
       "</div>"
      ],
      "text/plain": [
       "       product_id product_name  aisle_id  department_id\n",
       "37             38          NaN       100             21\n",
       "71             72          NaN       100             21\n",
       "109           110          NaN       100             21\n",
       "296           297          NaN       100             21\n",
       "416           417          NaN       100             21\n",
       "...           ...          ...       ...            ...\n",
       "49552       49553          NaN       100             21\n",
       "49574       49575          NaN       100             21\n",
       "49640       49641          NaN       100             21\n",
       "49663       49664          NaN       100             21\n",
       "49668       49669          NaN       100             21\n",
       "\n",
       "[1258 rows x 4 columns]"
      ]
     },
     "metadata": {},
     "output_type": "display_data"
    },
    {
     "data": {
      "text/html": [
       "<div>\n",
       "<style scoped>\n",
       "    .dataframe tbody tr th:only-of-type {\n",
       "        vertical-align: middle;\n",
       "    }\n",
       "\n",
       "    .dataframe tbody tr th {\n",
       "        vertical-align: top;\n",
       "    }\n",
       "\n",
       "    .dataframe thead th {\n",
       "        text-align: right;\n",
       "    }\n",
       "</style>\n",
       "<table border=\"1\" class=\"dataframe\">\n",
       "  <thead>\n",
       "    <tr style=\"text-align: right;\">\n",
       "      <th></th>\n",
       "      <th>product_id</th>\n",
       "      <th>product_name</th>\n",
       "      <th>aisle_id</th>\n",
       "      <th>department_id</th>\n",
       "    </tr>\n",
       "  </thead>\n",
       "  <tbody>\n",
       "  </tbody>\n",
       "</table>\n",
       "</div>"
      ],
      "text/plain": [
       "Empty DataFrame\n",
       "Columns: [product_id, product_name, aisle_id, department_id]\n",
       "Index: []"
      ]
     },
     "metadata": {},
     "output_type": "display_data"
    },
    {
     "data": {
      "text/html": [
       "<div>\n",
       "<style scoped>\n",
       "    .dataframe tbody tr th:only-of-type {\n",
       "        vertical-align: middle;\n",
       "    }\n",
       "\n",
       "    .dataframe tbody tr th {\n",
       "        vertical-align: top;\n",
       "    }\n",
       "\n",
       "    .dataframe thead th {\n",
       "        text-align: right;\n",
       "    }\n",
       "</style>\n",
       "<table border=\"1\" class=\"dataframe\">\n",
       "  <thead>\n",
       "    <tr style=\"text-align: right;\">\n",
       "      <th></th>\n",
       "      <th>product_id</th>\n",
       "      <th>product_name</th>\n",
       "      <th>aisle_id</th>\n",
       "      <th>department_id</th>\n",
       "    </tr>\n",
       "  </thead>\n",
       "  <tbody>\n",
       "    <tr>\n",
       "      <th>985</th>\n",
       "      <td>986</td>\n",
       "      <td>crushed pineapple in 100% juice</td>\n",
       "      <td>99</td>\n",
       "      <td>15</td>\n",
       "    </tr>\n",
       "    <tr>\n",
       "      <th>1122</th>\n",
       "      <td>1123</td>\n",
       "      <td>fruit vegetable mango fruit square</td>\n",
       "      <td>99</td>\n",
       "      <td>15</td>\n",
       "    </tr>\n",
       "    <tr>\n",
       "      <th>1140</th>\n",
       "      <td>1141</td>\n",
       "      <td>apple and pineapple</td>\n",
       "      <td>99</td>\n",
       "      <td>15</td>\n",
       "    </tr>\n",
       "    <tr>\n",
       "      <th>1192</th>\n",
       "      <td>1193</td>\n",
       "      <td>lite sliced pears in extra light syrup</td>\n",
       "      <td>99</td>\n",
       "      <td>15</td>\n",
       "    </tr>\n",
       "    <tr>\n",
       "      <th>1296</th>\n",
       "      <td>1297</td>\n",
       "      <td>strawberry apple sauce to go packs</td>\n",
       "      <td>99</td>\n",
       "      <td>15</td>\n",
       "    </tr>\n",
       "    <tr>\n",
       "      <th>...</th>\n",
       "      <td>...</td>\n",
       "      <td>...</td>\n",
       "      <td>...</td>\n",
       "      <td>...</td>\n",
       "    </tr>\n",
       "    <tr>\n",
       "      <th>48478</th>\n",
       "      <td>48479</td>\n",
       "      <td>strawberry apple sauce fruit pouches</td>\n",
       "      <td>99</td>\n",
       "      <td>15</td>\n",
       "    </tr>\n",
       "    <tr>\n",
       "      <th>48523</th>\n",
       "      <td>48524</td>\n",
       "      <td>apple cinnamon applesauce on the go</td>\n",
       "      <td>99</td>\n",
       "      <td>15</td>\n",
       "    </tr>\n",
       "    <tr>\n",
       "      <th>49109</th>\n",
       "      <td>49110</td>\n",
       "      <td>apple banana applesauce on the go pouches</td>\n",
       "      <td>99</td>\n",
       "      <td>15</td>\n",
       "    </tr>\n",
       "    <tr>\n",
       "      <th>49338</th>\n",
       "      <td>49339</td>\n",
       "      <td>organic unsweetened applesauce</td>\n",
       "      <td>99</td>\n",
       "      <td>15</td>\n",
       "    </tr>\n",
       "    <tr>\n",
       "      <th>49554</th>\n",
       "      <td>49555</td>\n",
       "      <td>apple apricot sauce</td>\n",
       "      <td>99</td>\n",
       "      <td>15</td>\n",
       "    </tr>\n",
       "  </tbody>\n",
       "</table>\n",
       "<p>243 rows × 4 columns</p>\n",
       "</div>"
      ],
      "text/plain": [
       "       product_id                               product_name  aisle_id  \\\n",
       "985           986            crushed pineapple in 100% juice        99   \n",
       "1122         1123         fruit vegetable mango fruit square        99   \n",
       "1140         1141                        apple and pineapple        99   \n",
       "1192         1193     lite sliced pears in extra light syrup        99   \n",
       "1296         1297         strawberry apple sauce to go packs        99   \n",
       "...           ...                                        ...       ...   \n",
       "48478       48479       strawberry apple sauce fruit pouches        99   \n",
       "48523       48524        apple cinnamon applesauce on the go        99   \n",
       "49109       49110  apple banana applesauce on the go pouches        99   \n",
       "49338       49339             organic unsweetened applesauce        99   \n",
       "49554       49555                        apple apricot sauce        99   \n",
       "\n",
       "       department_id  \n",
       "985               15  \n",
       "1122              15  \n",
       "1140              15  \n",
       "1192              15  \n",
       "1296              15  \n",
       "...              ...  \n",
       "48478             15  \n",
       "48523             15  \n",
       "49109             15  \n",
       "49338             15  \n",
       "49554             15  \n",
       "\n",
       "[243 rows x 4 columns]"
      ]
     },
     "metadata": {},
     "output_type": "display_data"
    }
   ],
   "source": [
    "# Are all of the missing product names associated with aisle ID 100?\n",
    "\n",
    "#combining the two asks to return where aisle_id equals to 100 along with missing product name values \n",
    "aisle100_and_not_missing = df_products[(df_products['aisle_id'] == 100) \n",
    "                                        & (df_products['product_name'].isna())] \n",
    "\n",
    "display(aisle100_and_not_missing) #confirming this is displaying the 1258 rows where all missing product names are associated to aisle ID 100\n",
    "\n",
    "###testing below###\n",
    "not_aisle100_and_not_missing = df_products[(df_products['aisle_id'] != 100) \n",
    "                                        & (df_products['product_name'].isna())] #test on aisle_id not equal to 100\n",
    "display(not_aisle100_and_not_missing) #displaying table\n",
    "\n",
    "aisle99_and_not_missing = df_products[(df_products['aisle_id'] == 99)] #test on aisle_id 99\n",
    "display(aisle99_and_not_missing) #test on a random aisle_id\n"
   ]
  },
  {
   "cell_type": "markdown",
   "id": "326be177",
   "metadata": {},
   "source": [
    "**`Comments`**\n",
    "    \n",
    "Called groupby on the DataFrame to get a specific view into the two columns in question and hone in on the aisle_id.\n",
    "\n",
    "Paired groupby with size to get the rows and compute group sizes.\n",
    "    \n",
    "I've ran two further tests where aisle_id is not 100 (which does not return a result) and a further test on a random aisle_id to cement this finding. There are no other aisle_ids that have a missing product name"
   ]
  },
  {
   "cell_type": "code",
   "execution_count": 27,
   "id": "8fd0a541",
   "metadata": {},
   "outputs": [
    {
     "data": {
      "text/html": [
       "<div>\n",
       "<style scoped>\n",
       "    .dataframe tbody tr th:only-of-type {\n",
       "        vertical-align: middle;\n",
       "    }\n",
       "\n",
       "    .dataframe tbody tr th {\n",
       "        vertical-align: top;\n",
       "    }\n",
       "\n",
       "    .dataframe thead th {\n",
       "        text-align: right;\n",
       "    }\n",
       "</style>\n",
       "<table border=\"1\" class=\"dataframe\">\n",
       "  <thead>\n",
       "    <tr style=\"text-align: right;\">\n",
       "      <th></th>\n",
       "      <th>product_id</th>\n",
       "      <th>product_name</th>\n",
       "      <th>aisle_id</th>\n",
       "      <th>department_id</th>\n",
       "    </tr>\n",
       "  </thead>\n",
       "  <tbody>\n",
       "    <tr>\n",
       "      <th>37</th>\n",
       "      <td>38</td>\n",
       "      <td>NaN</td>\n",
       "      <td>100</td>\n",
       "      <td>21</td>\n",
       "    </tr>\n",
       "    <tr>\n",
       "      <th>71</th>\n",
       "      <td>72</td>\n",
       "      <td>NaN</td>\n",
       "      <td>100</td>\n",
       "      <td>21</td>\n",
       "    </tr>\n",
       "    <tr>\n",
       "      <th>109</th>\n",
       "      <td>110</td>\n",
       "      <td>NaN</td>\n",
       "      <td>100</td>\n",
       "      <td>21</td>\n",
       "    </tr>\n",
       "    <tr>\n",
       "      <th>296</th>\n",
       "      <td>297</td>\n",
       "      <td>NaN</td>\n",
       "      <td>100</td>\n",
       "      <td>21</td>\n",
       "    </tr>\n",
       "    <tr>\n",
       "      <th>416</th>\n",
       "      <td>417</td>\n",
       "      <td>NaN</td>\n",
       "      <td>100</td>\n",
       "      <td>21</td>\n",
       "    </tr>\n",
       "    <tr>\n",
       "      <th>...</th>\n",
       "      <td>...</td>\n",
       "      <td>...</td>\n",
       "      <td>...</td>\n",
       "      <td>...</td>\n",
       "    </tr>\n",
       "    <tr>\n",
       "      <th>49552</th>\n",
       "      <td>49553</td>\n",
       "      <td>NaN</td>\n",
       "      <td>100</td>\n",
       "      <td>21</td>\n",
       "    </tr>\n",
       "    <tr>\n",
       "      <th>49574</th>\n",
       "      <td>49575</td>\n",
       "      <td>NaN</td>\n",
       "      <td>100</td>\n",
       "      <td>21</td>\n",
       "    </tr>\n",
       "    <tr>\n",
       "      <th>49640</th>\n",
       "      <td>49641</td>\n",
       "      <td>NaN</td>\n",
       "      <td>100</td>\n",
       "      <td>21</td>\n",
       "    </tr>\n",
       "    <tr>\n",
       "      <th>49663</th>\n",
       "      <td>49664</td>\n",
       "      <td>NaN</td>\n",
       "      <td>100</td>\n",
       "      <td>21</td>\n",
       "    </tr>\n",
       "    <tr>\n",
       "      <th>49668</th>\n",
       "      <td>49669</td>\n",
       "      <td>NaN</td>\n",
       "      <td>100</td>\n",
       "      <td>21</td>\n",
       "    </tr>\n",
       "  </tbody>\n",
       "</table>\n",
       "<p>1258 rows × 4 columns</p>\n",
       "</div>"
      ],
      "text/plain": [
       "       product_id product_name  aisle_id  department_id\n",
       "37             38          NaN       100             21\n",
       "71             72          NaN       100             21\n",
       "109           110          NaN       100             21\n",
       "296           297          NaN       100             21\n",
       "416           417          NaN       100             21\n",
       "...           ...          ...       ...            ...\n",
       "49552       49553          NaN       100             21\n",
       "49574       49575          NaN       100             21\n",
       "49640       49641          NaN       100             21\n",
       "49663       49664          NaN       100             21\n",
       "49668       49669          NaN       100             21\n",
       "\n",
       "[1258 rows x 4 columns]"
      ]
     },
     "metadata": {},
     "output_type": "display_data"
    },
    {
     "data": {
      "text/html": [
       "<div>\n",
       "<style scoped>\n",
       "    .dataframe tbody tr th:only-of-type {\n",
       "        vertical-align: middle;\n",
       "    }\n",
       "\n",
       "    .dataframe tbody tr th {\n",
       "        vertical-align: top;\n",
       "    }\n",
       "\n",
       "    .dataframe thead th {\n",
       "        text-align: right;\n",
       "    }\n",
       "</style>\n",
       "<table border=\"1\" class=\"dataframe\">\n",
       "  <thead>\n",
       "    <tr style=\"text-align: right;\">\n",
       "      <th></th>\n",
       "      <th>product_id</th>\n",
       "      <th>product_name</th>\n",
       "      <th>aisle_id</th>\n",
       "      <th>department_id</th>\n",
       "    </tr>\n",
       "  </thead>\n",
       "  <tbody>\n",
       "  </tbody>\n",
       "</table>\n",
       "</div>"
      ],
      "text/plain": [
       "Empty DataFrame\n",
       "Columns: [product_id, product_name, aisle_id, department_id]\n",
       "Index: []"
      ]
     },
     "metadata": {},
     "output_type": "display_data"
    },
    {
     "data": {
      "text/html": [
       "<div>\n",
       "<style scoped>\n",
       "    .dataframe tbody tr th:only-of-type {\n",
       "        vertical-align: middle;\n",
       "    }\n",
       "\n",
       "    .dataframe tbody tr th {\n",
       "        vertical-align: top;\n",
       "    }\n",
       "\n",
       "    .dataframe thead th {\n",
       "        text-align: right;\n",
       "    }\n",
       "</style>\n",
       "<table border=\"1\" class=\"dataframe\">\n",
       "  <thead>\n",
       "    <tr style=\"text-align: right;\">\n",
       "      <th></th>\n",
       "      <th>product_id</th>\n",
       "      <th>product_name</th>\n",
       "      <th>aisle_id</th>\n",
       "      <th>department_id</th>\n",
       "    </tr>\n",
       "  </thead>\n",
       "  <tbody>\n",
       "    <tr>\n",
       "      <th>1</th>\n",
       "      <td>2</td>\n",
       "      <td>all-seasons salt</td>\n",
       "      <td>104</td>\n",
       "      <td>13</td>\n",
       "    </tr>\n",
       "    <tr>\n",
       "      <th>4</th>\n",
       "      <td>5</td>\n",
       "      <td>green chile anytime sauce</td>\n",
       "      <td>5</td>\n",
       "      <td>13</td>\n",
       "    </tr>\n",
       "    <tr>\n",
       "      <th>49</th>\n",
       "      <td>50</td>\n",
       "      <td>pumpkin muffin mix</td>\n",
       "      <td>105</td>\n",
       "      <td>13</td>\n",
       "    </tr>\n",
       "    <tr>\n",
       "      <th>64</th>\n",
       "      <td>65</td>\n",
       "      <td>organic red wine &amp; olive oil dressing organic</td>\n",
       "      <td>89</td>\n",
       "      <td>13</td>\n",
       "    </tr>\n",
       "    <tr>\n",
       "      <th>66</th>\n",
       "      <td>67</td>\n",
       "      <td>jelly- blackberry</td>\n",
       "      <td>88</td>\n",
       "      <td>13</td>\n",
       "    </tr>\n",
       "    <tr>\n",
       "      <th>...</th>\n",
       "      <td>...</td>\n",
       "      <td>...</td>\n",
       "      <td>...</td>\n",
       "      <td>...</td>\n",
       "    </tr>\n",
       "    <tr>\n",
       "      <th>49642</th>\n",
       "      <td>49643</td>\n",
       "      <td>tomatillo salsa cranberry-mango</td>\n",
       "      <td>51</td>\n",
       "      <td>13</td>\n",
       "    </tr>\n",
       "    <tr>\n",
       "      <th>49653</th>\n",
       "      <td>49654</td>\n",
       "      <td>teriyaki sauce- sesame- original</td>\n",
       "      <td>5</td>\n",
       "      <td>13</td>\n",
       "    </tr>\n",
       "    <tr>\n",
       "      <th>49658</th>\n",
       "      <td>49659</td>\n",
       "      <td>organic creamed coconut</td>\n",
       "      <td>17</td>\n",
       "      <td>13</td>\n",
       "    </tr>\n",
       "    <tr>\n",
       "      <th>49679</th>\n",
       "      <td>49680</td>\n",
       "      <td>all natural creamy caesar dressing</td>\n",
       "      <td>89</td>\n",
       "      <td>13</td>\n",
       "    </tr>\n",
       "    <tr>\n",
       "      <th>49688</th>\n",
       "      <td>49689</td>\n",
       "      <td>fluffly vanilla marshmallow frosting</td>\n",
       "      <td>97</td>\n",
       "      <td>13</td>\n",
       "    </tr>\n",
       "  </tbody>\n",
       "</table>\n",
       "<p>5372 rows × 4 columns</p>\n",
       "</div>"
      ],
      "text/plain": [
       "       product_id                                   product_name  aisle_id  \\\n",
       "1               2                               all-seasons salt       104   \n",
       "4               5                      green chile anytime sauce         5   \n",
       "49             50                             pumpkin muffin mix       105   \n",
       "64             65  organic red wine & olive oil dressing organic        89   \n",
       "66             67                              jelly- blackberry        88   \n",
       "...           ...                                            ...       ...   \n",
       "49642       49643                tomatillo salsa cranberry-mango        51   \n",
       "49653       49654               teriyaki sauce- sesame- original         5   \n",
       "49658       49659                        organic creamed coconut        17   \n",
       "49679       49680             all natural creamy caesar dressing        89   \n",
       "49688       49689           fluffly vanilla marshmallow frosting        97   \n",
       "\n",
       "       department_id  \n",
       "1                 13  \n",
       "4                 13  \n",
       "49                13  \n",
       "64                13  \n",
       "66                13  \n",
       "...              ...  \n",
       "49642             13  \n",
       "49653             13  \n",
       "49658             13  \n",
       "49679             13  \n",
       "49688             13  \n",
       "\n",
       "[5372 rows x 4 columns]"
      ]
     },
     "metadata": {},
     "output_type": "display_data"
    }
   ],
   "source": [
    "# Are all of the missing product names associated with department ID 21?\n",
    "\n",
    "#df_products.groupby(['product_name', 'department_id']).size() #yes\n",
    "\n",
    "#combining the two asks to return where aisle_id equals to 100 along with missing product name values \n",
    "dep21_and_not_missing = df_products[(df_products['department_id'] == 21) \n",
    "                                        & (df_products['product_name'].isna())] \n",
    "\n",
    "display(dep21_and_not_missing) #confirming this is displaying the 1258 rows where all missing product names are associated to dept ID 21 (matches the above)\n",
    "\n",
    "###testing below###\n",
    "not_dep21_and_not_missing = df_products[(df_products['department_id'] != 21) \n",
    "                                        & (df_products['product_name'].isna())] #test on department_id not equal to 21\n",
    "display(not_dep21_and_not_missing) #displaying table\n",
    "\n",
    "dep13_and_not_missing = df_products[(df_products['department_id'] == 13)] #test on department_id 13\n",
    "display(dep13_and_not_missing) #test on a random aisle_id"
   ]
  },
  {
   "cell_type": "markdown",
   "id": "fdc36a8f",
   "metadata": {},
   "source": [
    "**`Comments`**\n",
    "\n",
    "Same process as above but now with a different column to compare against department_id 21.\n",
    "\n",
    "***Similar story as the above, tested when not dept id 21 and a random dept (13) to further cement conclusion. There is no other department_id with missing product_name***"
   ]
  },
  {
   "cell_type": "code",
   "execution_count": 28,
   "id": "325c3464",
   "metadata": {},
   "outputs": [
    {
     "name": "stdout",
     "output_type": "stream",
     "text": [
      "    aisle_id    aisle\n",
      "99       100  missing\n",
      "    department_id department\n",
      "20             21    missing\n"
     ]
    }
   ],
   "source": [
    "# What is this ailse and department?\n",
    "\n",
    "print(df_aisles[df_aisles['aisle_id'] == 100])\n",
    "\n",
    "print(df_departments[df_departments['department_id'] == 21])"
   ]
  },
  {
   "cell_type": "markdown",
   "id": "8e165de4",
   "metadata": {},
   "source": [
    "**`Comments`**\n",
    "\n",
    "Filtered for both the aisle_id and the department_id with a conditional. \n",
    "\n",
    "Both the aisle and department is 'missing' from the DataFrames.\n"
   ]
  },
  {
   "cell_type": "code",
   "execution_count": 29,
   "id": "6b295120",
   "metadata": {},
   "outputs": [
    {
     "data": {
      "text/plain": [
       "product_name\n",
       "Unknown                                                                 1258\n",
       "green tea with ginseng and honey                                           3\n",
       "carrot and celery sticks                                                   2\n",
       "apricot energy bar                                                         2\n",
       "proactive health indoor weight & hairball care with chicken cat food       2\n",
       "                                                                        ... \n",
       "all natural chicken apple sausage                                          1\n",
       "quartered artichoke hearts                                                 1\n",
       "big eye ipa                                                                1\n",
       "unstopables lush                                                           1\n",
       "fresh foaming cleanser                                                     1\n",
       "Name: count, Length: 48333, dtype: int64"
      ]
     },
     "metadata": {},
     "output_type": "display_data"
    }
   ],
   "source": [
    "# Fill missing product names with 'Unknown'\n",
    "\n",
    "df_products['product_name'] = df_products['product_name'].fillna('Unknown')\n",
    "display(df_products['product_name'].value_counts())"
   ]
  },
  {
   "cell_type": "markdown",
   "id": "fc70e5ad",
   "metadata": {},
   "source": [
    "**`Comments`**\n",
    "\n",
    "Called the fillna() method on the product_name since this is being treated as a string type column (from our conversion to lower_case in the earlier problem set).\n",
    "    "
   ]
  },
  {
   "cell_type": "markdown",
   "id": "7eb45c86",
   "metadata": {},
   "source": [
    "`orders data frame`"
   ]
  },
  {
   "cell_type": "code",
   "execution_count": 30,
   "id": "93e41d96",
   "metadata": {},
   "outputs": [
    {
     "data": {
      "text/plain": [
       "28817"
      ]
     },
     "execution_count": 30,
     "metadata": {},
     "output_type": "execute_result"
    }
   ],
   "source": [
    "###no instructions so taking a guess here\n",
    "\n",
    "df_orders['days_since_prior_order'].isna().sum()"
   ]
  },
  {
   "cell_type": "code",
   "execution_count": 31,
   "id": "166e5a86",
   "metadata": {},
   "outputs": [
    {
     "name": "stdout",
     "output_type": "stream",
     "text": [
      "<class 'pandas.core.frame.DataFrame'>\n",
      "Index: 478952 entries, 0 to 478966\n",
      "Data columns (total 6 columns):\n",
      " #   Column                  Non-Null Count   Dtype  \n",
      "---  ------                  --------------   -----  \n",
      " 0   order_id                478952 non-null  int64  \n",
      " 1   user_id                 478952 non-null  int64  \n",
      " 2   order_number            478952 non-null  int64  \n",
      " 3   order_dow               478952 non-null  int64  \n",
      " 4   order_hour_of_day       478952 non-null  int64  \n",
      " 5   days_since_prior_order  450135 non-null  float64\n",
      "dtypes: float64(1), int64(5)\n",
      "memory usage: 25.6 MB\n",
      "\n",
      "order_id                      0\n",
      "user_id                       0\n",
      "order_number                  0\n",
      "order_dow                     0\n",
      "order_hour_of_day             0\n",
      "days_since_prior_order    28817\n",
      "dtype: int64\n",
      "\n",
      "order_id                  0\n",
      "user_id                   0\n",
      "order_number              0\n",
      "order_dow                 0\n",
      "order_hour_of_day         0\n",
      "days_since_prior_order    0\n",
      "dtype: int64\n",
      "\n"
     ]
    }
   ],
   "source": [
    "# Are there any missing values where it's not a customer's first order?\n",
    "### \n",
    "df_orders.info()\n",
    "print()\n",
    "print(df_orders.isna().sum())\n",
    "print()\n",
    "missing_check = df_orders[df_orders['order_number'] != 1].isna().sum() #attempting to find missing values where order_number is not 1 (first order)\n",
    "print(missing_check)\n",
    "print()"
   ]
  },
  {
   "cell_type": "markdown",
   "id": "4e23d089",
   "metadata": {},
   "source": [
    "**`Comments`**\n",
    "\n",
    "Don't believe there are any missing values where it's not a customer's first order from the above checks."
   ]
  },
  {
   "cell_type": "markdown",
   "id": "69dc9ca4",
   "metadata": {},
   "source": [
    "`order_products data frame`"
   ]
  },
  {
   "cell_type": "code",
   "execution_count": 32,
   "id": "b8240253",
   "metadata": {},
   "outputs": [
    {
     "data": {
      "text/plain": [
       "order_id               0\n",
       "product_id             0\n",
       "add_to_cart_order    836\n",
       "reordered              0\n",
       "dtype: int64"
      ]
     },
     "execution_count": 32,
     "metadata": {},
     "output_type": "execute_result"
    }
   ],
   "source": [
    "###no instructions so taking a guess here\n",
    "\n",
    "df_order_products.isna().sum()"
   ]
  },
  {
   "cell_type": "code",
   "execution_count": 33,
   "id": "9a78e5ee",
   "metadata": {},
   "outputs": [
    {
     "name": "stdout",
     "output_type": "stream",
     "text": [
      "1.0\n",
      "\n",
      "64.0\n"
     ]
    }
   ],
   "source": [
    "# What are the min and max values in this column? ###not sure which column you're asking about so will be taking a guess here\n",
    "\n",
    "#print(df_order_products['add_to_cart_order'].describe()) #checking with describe to see if values needed actually contain decimals\n",
    "print(df_order_products['add_to_cart_order'].min())\n",
    "print()\n",
    "print(df_order_products['add_to_cart_order'].max())"
   ]
  },
  {
   "cell_type": "code",
   "execution_count": 34,
   "id": "ab9d0c2b",
   "metadata": {},
   "outputs": [
    {
     "data": {
      "text/html": [
       "<div>\n",
       "<style scoped>\n",
       "    .dataframe tbody tr th:only-of-type {\n",
       "        vertical-align: middle;\n",
       "    }\n",
       "\n",
       "    .dataframe tbody tr th {\n",
       "        vertical-align: top;\n",
       "    }\n",
       "\n",
       "    .dataframe thead th {\n",
       "        text-align: right;\n",
       "    }\n",
       "</style>\n",
       "<table border=\"1\" class=\"dataframe\">\n",
       "  <thead>\n",
       "    <tr style=\"text-align: right;\">\n",
       "      <th></th>\n",
       "      <th>order_id</th>\n",
       "      <th>product_id</th>\n",
       "      <th>add_to_cart_order</th>\n",
       "      <th>reordered</th>\n",
       "    </tr>\n",
       "  </thead>\n",
       "  <tbody>\n",
       "    <tr>\n",
       "      <th>737</th>\n",
       "      <td>2449164</td>\n",
       "      <td>5068</td>\n",
       "      <td>NaN</td>\n",
       "      <td>0</td>\n",
       "    </tr>\n",
       "    <tr>\n",
       "      <th>9926</th>\n",
       "      <td>1968313</td>\n",
       "      <td>43867</td>\n",
       "      <td>NaN</td>\n",
       "      <td>0</td>\n",
       "    </tr>\n",
       "    <tr>\n",
       "      <th>14394</th>\n",
       "      <td>2926893</td>\n",
       "      <td>11688</td>\n",
       "      <td>NaN</td>\n",
       "      <td>0</td>\n",
       "    </tr>\n",
       "    <tr>\n",
       "      <th>16418</th>\n",
       "      <td>1717990</td>\n",
       "      <td>4142</td>\n",
       "      <td>NaN</td>\n",
       "      <td>0</td>\n",
       "    </tr>\n",
       "    <tr>\n",
       "      <th>30114</th>\n",
       "      <td>1959075</td>\n",
       "      <td>42828</td>\n",
       "      <td>NaN</td>\n",
       "      <td>1</td>\n",
       "    </tr>\n",
       "    <tr>\n",
       "      <th>34183</th>\n",
       "      <td>844733</td>\n",
       "      <td>32717</td>\n",
       "      <td>NaN</td>\n",
       "      <td>0</td>\n",
       "    </tr>\n",
       "    <tr>\n",
       "      <th>57981</th>\n",
       "      <td>61355</td>\n",
       "      <td>5322</td>\n",
       "      <td>NaN</td>\n",
       "      <td>0</td>\n",
       "    </tr>\n",
       "    <tr>\n",
       "      <th>58228</th>\n",
       "      <td>936852</td>\n",
       "      <td>31373</td>\n",
       "      <td>NaN</td>\n",
       "      <td>1</td>\n",
       "    </tr>\n",
       "    <tr>\n",
       "      <th>62655</th>\n",
       "      <td>264710</td>\n",
       "      <td>40281</td>\n",
       "      <td>NaN</td>\n",
       "      <td>0</td>\n",
       "    </tr>\n",
       "    <tr>\n",
       "      <th>64336</th>\n",
       "      <td>1717990</td>\n",
       "      <td>39408</td>\n",
       "      <td>NaN</td>\n",
       "      <td>0</td>\n",
       "    </tr>\n",
       "    <tr>\n",
       "      <th>67655</th>\n",
       "      <td>1564093</td>\n",
       "      <td>6139</td>\n",
       "      <td>NaN</td>\n",
       "      <td>0</td>\n",
       "    </tr>\n",
       "    <tr>\n",
       "      <th>69773</th>\n",
       "      <td>129627</td>\n",
       "      <td>31372</td>\n",
       "      <td>NaN</td>\n",
       "      <td>0</td>\n",
       "    </tr>\n",
       "    <tr>\n",
       "      <th>70057</th>\n",
       "      <td>264710</td>\n",
       "      <td>41602</td>\n",
       "      <td>NaN</td>\n",
       "      <td>0</td>\n",
       "    </tr>\n",
       "    <tr>\n",
       "      <th>79239</th>\n",
       "      <td>293169</td>\n",
       "      <td>44628</td>\n",
       "      <td>NaN</td>\n",
       "      <td>0</td>\n",
       "    </tr>\n",
       "    <tr>\n",
       "      <th>86905</th>\n",
       "      <td>2849370</td>\n",
       "      <td>37131</td>\n",
       "      <td>NaN</td>\n",
       "      <td>0</td>\n",
       "    </tr>\n",
       "    <tr>\n",
       "      <th>94722</th>\n",
       "      <td>1386261</td>\n",
       "      <td>41007</td>\n",
       "      <td>NaN</td>\n",
       "      <td>0</td>\n",
       "    </tr>\n",
       "    <tr>\n",
       "      <th>98839</th>\n",
       "      <td>3308010</td>\n",
       "      <td>5438</td>\n",
       "      <td>NaN</td>\n",
       "      <td>1</td>\n",
       "    </tr>\n",
       "    <tr>\n",
       "      <th>102527</th>\n",
       "      <td>903110</td>\n",
       "      <td>41960</td>\n",
       "      <td>NaN</td>\n",
       "      <td>1</td>\n",
       "    </tr>\n",
       "    <tr>\n",
       "      <th>103410</th>\n",
       "      <td>2136777</td>\n",
       "      <td>46886</td>\n",
       "      <td>NaN</td>\n",
       "      <td>1</td>\n",
       "    </tr>\n",
       "    <tr>\n",
       "      <th>110274</th>\n",
       "      <td>3347453</td>\n",
       "      <td>47175</td>\n",
       "      <td>NaN</td>\n",
       "      <td>0</td>\n",
       "    </tr>\n",
       "  </tbody>\n",
       "</table>\n",
       "</div>"
      ],
      "text/plain": [
       "        order_id  product_id  add_to_cart_order  reordered\n",
       "737      2449164        5068                NaN          0\n",
       "9926     1968313       43867                NaN          0\n",
       "14394    2926893       11688                NaN          0\n",
       "16418    1717990        4142                NaN          0\n",
       "30114    1959075       42828                NaN          1\n",
       "34183     844733       32717                NaN          0\n",
       "57981      61355        5322                NaN          0\n",
       "58228     936852       31373                NaN          1\n",
       "62655     264710       40281                NaN          0\n",
       "64336    1717990       39408                NaN          0\n",
       "67655    1564093        6139                NaN          0\n",
       "69773     129627       31372                NaN          0\n",
       "70057     264710       41602                NaN          0\n",
       "79239     293169       44628                NaN          0\n",
       "86905    2849370       37131                NaN          0\n",
       "94722    1386261       41007                NaN          0\n",
       "98839    3308010        5438                NaN          1\n",
       "102527    903110       41960                NaN          1\n",
       "103410   2136777       46886                NaN          1\n",
       "110274   3347453       47175                NaN          0"
      ]
     },
     "metadata": {},
     "output_type": "display_data"
    }
   ],
   "source": [
    "# Save all order IDs with at least one missing value in 'add_to_cart_order'\n",
    "\n",
    "#df_order_products[['order_id','add_to_cart_order']].isna().sum()\n",
    "\n",
    "df_missing = df_order_products[df_order_products['add_to_cart_order'].isna()] #saving order IDs with missing value in add_to_cart_order\n",
    "display(df_missing.head(20))\n"
   ]
  },
  {
   "cell_type": "code",
   "execution_count": 35,
   "id": "54c31695",
   "metadata": {},
   "outputs": [
    {
     "data": {
      "text/html": [
       "<div>\n",
       "<style scoped>\n",
       "    .dataframe tbody tr th:only-of-type {\n",
       "        vertical-align: middle;\n",
       "    }\n",
       "\n",
       "    .dataframe tbody tr th {\n",
       "        vertical-align: top;\n",
       "    }\n",
       "\n",
       "    .dataframe thead th {\n",
       "        text-align: right;\n",
       "    }\n",
       "</style>\n",
       "<table border=\"1\" class=\"dataframe\">\n",
       "  <thead>\n",
       "    <tr style=\"text-align: right;\">\n",
       "      <th></th>\n",
       "      <th>product_id</th>\n",
       "      <th>add_to_cart_order</th>\n",
       "      <th>reordered</th>\n",
       "    </tr>\n",
       "    <tr>\n",
       "      <th>order_id</th>\n",
       "      <th></th>\n",
       "      <th></th>\n",
       "      <th></th>\n",
       "    </tr>\n",
       "  </thead>\n",
       "  <tbody>\n",
       "    <tr>\n",
       "      <th>9310</th>\n",
       "      <td>65</td>\n",
       "      <td>64</td>\n",
       "      <td>65</td>\n",
       "    </tr>\n",
       "    <tr>\n",
       "      <th>747668</th>\n",
       "      <td>65</td>\n",
       "      <td>64</td>\n",
       "      <td>65</td>\n",
       "    </tr>\n",
       "    <tr>\n",
       "      <th>1598369</th>\n",
       "      <td>65</td>\n",
       "      <td>64</td>\n",
       "      <td>65</td>\n",
       "    </tr>\n",
       "    <tr>\n",
       "      <th>1677118</th>\n",
       "      <td>65</td>\n",
       "      <td>64</td>\n",
       "      <td>65</td>\n",
       "    </tr>\n",
       "    <tr>\n",
       "      <th>2170451</th>\n",
       "      <td>65</td>\n",
       "      <td>64</td>\n",
       "      <td>65</td>\n",
       "    </tr>\n",
       "    <tr>\n",
       "      <th>...</th>\n",
       "      <td>...</td>\n",
       "      <td>...</td>\n",
       "      <td>...</td>\n",
       "    </tr>\n",
       "    <tr>\n",
       "      <th>1959075</th>\n",
       "      <td>98</td>\n",
       "      <td>64</td>\n",
       "      <td>98</td>\n",
       "    </tr>\n",
       "    <tr>\n",
       "      <th>171934</th>\n",
       "      <td>104</td>\n",
       "      <td>64</td>\n",
       "      <td>104</td>\n",
       "    </tr>\n",
       "    <tr>\n",
       "      <th>2136777</th>\n",
       "      <td>108</td>\n",
       "      <td>64</td>\n",
       "      <td>108</td>\n",
       "    </tr>\n",
       "    <tr>\n",
       "      <th>3308010</th>\n",
       "      <td>115</td>\n",
       "      <td>64</td>\n",
       "      <td>115</td>\n",
       "    </tr>\n",
       "    <tr>\n",
       "      <th>61355</th>\n",
       "      <td>127</td>\n",
       "      <td>64</td>\n",
       "      <td>127</td>\n",
       "    </tr>\n",
       "  </tbody>\n",
       "</table>\n",
       "<p>70 rows × 3 columns</p>\n",
       "</div>"
      ],
      "text/plain": [
       "          product_id  add_to_cart_order  reordered\n",
       "order_id                                          \n",
       "9310              65                 64         65\n",
       "747668            65                 64         65\n",
       "1598369           65                 64         65\n",
       "1677118           65                 64         65\n",
       "2170451           65                 64         65\n",
       "...              ...                ...        ...\n",
       "1959075           98                 64         98\n",
       "171934           104                 64        104\n",
       "2136777          108                 64        108\n",
       "3308010          115                 64        115\n",
       "61355            127                 64        127\n",
       "\n",
       "[70 rows x 3 columns]"
      ]
     },
     "metadata": {},
     "output_type": "display_data"
    }
   ],
   "source": [
    "# Do all orders with missing values have more than 64 products?\n",
    "\n",
    "#na_orders = df_order_products[df_order_products['add_to_cart_order'].isna()]\n",
    "#print(na_orders)\n",
    "\n",
    "#df_order_products.info(show_counts=True)\n",
    "\n",
    "#df_order_products.plot(kind='hist', y='product_id', x=na_orders, legend=None)\n",
    "\n",
    "#product_count = df_order_products[df_order_products['product_id'] >= 64]\n",
    "#print(product_count['na_orders'])\n",
    "\n",
    "\n",
    "#2nd attempt!\n",
    "\n",
    "#taking unique values from the list above where add_to_cart_order values are NaN\n",
    "unique_values = df_missing.order_id.unique() #70 unique order_IDs\n",
    "#isplay(unique_values)\n",
    "\n",
    "#finding rows where order_id is in prior list of uniques\n",
    "#unique_rows = df_missing.order_id.drop_duplicates(keep=False) #9 unique rows from list above\n",
    "#display(unique_rows)\n",
    "\n",
    "#grouping by order_id then counting\n",
    "#unique_group = df_missing.groupby('order_id').count() #a few cases where products are under 64!\n",
    "#display(unique_group)\n",
    "\n",
    "#rint(df_order_products[df_order_products['order_id'].isin(unique_values)].groupby('order_id').count())\n",
    "\n",
    "###fixing code!\n",
    "more_than_64 = df_order_products[df_order_products['order_id'].isin(unique_values)].groupby('order_id').count()\n",
    "display(more_than_64.sort_values('product_id')) #sorted values on a column after the count to get a sense of the actual product amounts"
   ]
  },
  {
   "cell_type": "code",
   "execution_count": 36,
   "id": "ad03c2bc",
   "metadata": {},
   "outputs": [
    {
     "data": {
      "text/html": [
       "<div>\n",
       "<style scoped>\n",
       "    .dataframe tbody tr th:only-of-type {\n",
       "        vertical-align: middle;\n",
       "    }\n",
       "\n",
       "    .dataframe tbody tr th {\n",
       "        vertical-align: top;\n",
       "    }\n",
       "\n",
       "    .dataframe thead th {\n",
       "        text-align: right;\n",
       "    }\n",
       "</style>\n",
       "<table border=\"1\" class=\"dataframe\">\n",
       "  <thead>\n",
       "    <tr style=\"text-align: right;\">\n",
       "      <th></th>\n",
       "      <th>order_id</th>\n",
       "      <th>product_id</th>\n",
       "      <th>add_to_cart_order</th>\n",
       "      <th>reordered</th>\n",
       "    </tr>\n",
       "  </thead>\n",
       "  <tbody>\n",
       "    <tr>\n",
       "      <th>267</th>\n",
       "      <td>2094761</td>\n",
       "      <td>31469</td>\n",
       "      <td>57.0</td>\n",
       "      <td>1</td>\n",
       "    </tr>\n",
       "    <tr>\n",
       "      <th>737</th>\n",
       "      <td>2449164</td>\n",
       "      <td>5068</td>\n",
       "      <td>NaN</td>\n",
       "      <td>0</td>\n",
       "    </tr>\n",
       "    <tr>\n",
       "      <th>1742</th>\n",
       "      <td>2997021</td>\n",
       "      <td>4920</td>\n",
       "      <td>37.0</td>\n",
       "      <td>0</td>\n",
       "    </tr>\n",
       "    <tr>\n",
       "      <th>3463</th>\n",
       "      <td>871281</td>\n",
       "      <td>40063</td>\n",
       "      <td>61.0</td>\n",
       "      <td>1</td>\n",
       "    </tr>\n",
       "    <tr>\n",
       "      <th>3535</th>\n",
       "      <td>171934</td>\n",
       "      <td>36397</td>\n",
       "      <td>7.0</td>\n",
       "      <td>0</td>\n",
       "    </tr>\n",
       "    <tr>\n",
       "      <th>...</th>\n",
       "      <td>...</td>\n",
       "      <td>...</td>\n",
       "      <td>...</td>\n",
       "      <td>...</td>\n",
       "    </tr>\n",
       "    <tr>\n",
       "      <th>4543519</th>\n",
       "      <td>2621907</td>\n",
       "      <td>32018</td>\n",
       "      <td>28.0</td>\n",
       "      <td>1</td>\n",
       "    </tr>\n",
       "    <tr>\n",
       "      <th>4544672</th>\n",
       "      <td>102236</td>\n",
       "      <td>34688</td>\n",
       "      <td>49.0</td>\n",
       "      <td>0</td>\n",
       "    </tr>\n",
       "    <tr>\n",
       "      <th>4544708</th>\n",
       "      <td>2256933</td>\n",
       "      <td>41544</td>\n",
       "      <td>21.0</td>\n",
       "      <td>0</td>\n",
       "    </tr>\n",
       "    <tr>\n",
       "      <th>4544771</th>\n",
       "      <td>180546</td>\n",
       "      <td>12741</td>\n",
       "      <td>46.0</td>\n",
       "      <td>1</td>\n",
       "    </tr>\n",
       "    <tr>\n",
       "      <th>4544810</th>\n",
       "      <td>2136777</td>\n",
       "      <td>20072</td>\n",
       "      <td>10.0</td>\n",
       "      <td>0</td>\n",
       "    </tr>\n",
       "  </tbody>\n",
       "</table>\n",
       "<p>5316 rows × 4 columns</p>\n",
       "</div>"
      ],
      "text/plain": [
       "         order_id  product_id  add_to_cart_order  reordered\n",
       "267       2094761       31469               57.0          1\n",
       "737       2449164        5068                NaN          0\n",
       "1742      2997021        4920               37.0          0\n",
       "3463       871281       40063               61.0          1\n",
       "3535       171934       36397                7.0          0\n",
       "...           ...         ...                ...        ...\n",
       "4543519   2621907       32018               28.0          1\n",
       "4544672    102236       34688               49.0          0\n",
       "4544708   2256933       41544               21.0          0\n",
       "4544771    180546       12741               46.0          1\n",
       "4544810   2136777       20072               10.0          0\n",
       "\n",
       "[5316 rows x 4 columns]"
      ]
     },
     "execution_count": 36,
     "metadata": {},
     "output_type": "execute_result"
    }
   ],
   "source": [
    "# Reviewer's code 2\n",
    "\n",
    "df_order_products[df_order_products['order_id'].isin(unique_values)]"
   ]
  },
  {
   "cell_type": "code",
   "execution_count": 37,
   "id": "7a987d08",
   "metadata": {},
   "outputs": [
    {
     "name": "stdout",
     "output_type": "stream",
     "text": [
      "<class 'pandas.core.frame.DataFrame'>\n",
      "RangeIndex: 4545007 entries, 0 to 4545006\n",
      "Data columns (total 4 columns):\n",
      " #   Column             Non-Null Count    Dtype  \n",
      "---  ------             --------------    -----  \n",
      " 0   order_id           4545007 non-null  int64  \n",
      " 1   product_id         4545007 non-null  int64  \n",
      " 2   add_to_cart_order  4545007 non-null  float64\n",
      " 3   reordered          4545007 non-null  int64  \n",
      "dtypes: float64(1), int64(3)\n",
      "memory usage: 138.7 MB\n"
     ]
    }
   ],
   "source": [
    "# Replace missing values with 999 and convert column to integer type\n",
    "\n",
    "df_order_products['add_to_cart_order'] = df_order_products['add_to_cart_order'].fillna(999)\n",
    "df_order_products.info(show_counts=True) #confirming that the NaN values in add_to_cart_order were 'filled in'\n",
    "\n",
    "#print(df_order_products['add_to_cart_order'] == 999)"
   ]
  },
  {
   "cell_type": "markdown",
   "id": "fea4bcc7",
   "metadata": {},
   "source": [
    "**`Comments`**\n",
    "\n",
    "Used fillna() on the column to fill in the missing values with 999 then ran a quick check to see if the total amount was populated via .info    "
   ]
  },
  {
   "cell_type": "markdown",
   "id": "turkish-kidney",
   "metadata": {},
   "source": [
    "# [A] Easy (must complete all to pass)"
   ]
  },
  {
   "cell_type": "markdown",
   "id": "short-capability",
   "metadata": {},
   "source": [
    "[A1] Verify that the `'order_hour_of_day'` and `'order_dow'` values in the `orders` tables are sensible (i.e. `'order_hour_of_day'` ranges from 0 to 23 and `'order_dow'` ranges from 0 to 6)"
   ]
  },
  {
   "cell_type": "code",
   "execution_count": 38,
   "id": "growing-fruit",
   "metadata": {},
   "outputs": [
    {
     "name": "stdout",
     "output_type": "stream",
     "text": [
      "[13 12 19 20 11  8 18 15 16  9 22 10  0 14 17  1  7  6  2 21  3 23  5  4]\n",
      "\n",
      "24\n"
     ]
    }
   ],
   "source": [
    "#print(df_orders['order_hour_of_day'].value_counts())\n",
    "\n",
    "print(df_orders['order_hour_of_day'].unique())\n",
    "print()\n",
    "print(df_orders['order_hour_of_day'].nunique())"
   ]
  },
  {
   "cell_type": "markdown",
   "id": "42bf8d34",
   "metadata": {},
   "source": [
    "**`Comments`**\n",
    "\n",
    "Printing multiple ways of finding the range of 0-23 for order_hour_of_day.\n",
    "\n",
    "nunique counting 0 as an unique value."
   ]
  },
  {
   "cell_type": "code",
   "execution_count": 39,
   "id": "accessory-malaysia",
   "metadata": {},
   "outputs": [
    {
     "name": "stdout",
     "output_type": "stream",
     "text": [
      "[6 5 0 4 3 1 2]\n",
      "\n",
      "7\n"
     ]
    }
   ],
   "source": [
    "#print(df_orders['order_dow'].value_counts())\n",
    "\n",
    "print(df_orders['order_dow'].unique())\n",
    "print()\n",
    "print(df_orders['order_dow'].nunique())"
   ]
  },
  {
   "cell_type": "markdown",
   "id": "df6f562e",
   "metadata": {},
   "source": [
    "**`Comments`**\n",
    "\n",
    "Similar to the above, printing multiple ways of finding the range of 0-6 for order_dow.\n",
    "\n",
    "nunique counting 0 as an unique value."
   ]
  },
  {
   "cell_type": "markdown",
   "id": "a6743a70",
   "metadata": {},
   "source": [
    "[A2] What time of day do people shop for groceries?"
   ]
  },
  {
   "cell_type": "code",
   "execution_count": 40,
   "id": "a36cca27",
   "metadata": {},
   "outputs": [
    {
     "data": {
      "image/png": "[encoded data removed]",
      "text/plain": [
       "<Figure size 1600x800 with 1 Axes>"
      ]
     },
     "metadata": {},
     "output_type": "display_data"
    }
   ],
   "source": [
    "#Create a plot that shows how many people place orders for each hour of the day.\n",
    "\n",
    "orders_subset = df_orders.groupby('order_hour_of_day').agg(['sum']).reset_index()\n",
    "\n",
    "orders_subset.plot(\n",
    "    x='order_hour_of_day',\n",
    "    y='order_number',\n",
    "    xlabel='Time of day',\n",
    "    ylabel='Order volume (thousands)',\n",
    "    title='Grocery shopping during the day; 24-hour notation',\n",
    "    figsize=[16,8],\n",
    "    kind='bar',\n",
    "    color='green',\n",
    "    rot=0,\n",
    "    legend=False\n",
    ")\n",
    "\n",
    "plt.tight_layout()\n",
    "plt.show()"
   ]
  },
  {
   "cell_type": "markdown",
   "id": "6f90e001",
   "metadata": {},
   "source": [
    "**`Comments`**\n",
    "\n",
    "Running out of steam trying to meet the deadline. Would amend the following if I had the time:\n",
    "\n",
    "Fix y_axis to read: 100k, 200k, etc. OR completely remove the y_axis relying on a good legend/data labels combo.\n",
    "Group time of day by Morning, Afternoon and Evening.\n",
    "    \n",
    "We can infer that people largely start their day by ordering food in the morning with a slight decrease in order volumn come 12 o'clock then another slight peak from 1pm to 4pm. Once 4pm comes around people start ordering less. \n",
    "\n",
    "\n",
    "- Another thing we can infer is that people tend to order in the morning to forget about grocery shopping and focusing on their day (usually because of work during the week). Delivery times can also play a role in this chart as the earlier you place an order the higher the guarantee that the order will be delivered that same day. \n",
    "\n",
    "    \n",
    "- Would also assume that as people end their day they're more focused on cooking the food that they ordered earlier in the day (as they get home from work).\n"
   ]
  },
  {
   "cell_type": "markdown",
   "id": "documented-command",
   "metadata": {},
   "source": [
    "[A3] What day of the week do people shop for groceries?"
   ]
  },
  {
   "cell_type": "code",
   "execution_count": 41,
   "id": "chief-digit",
   "metadata": {},
   "outputs": [
    {
     "data": {
      "image/png": "[encoded data removed]",
      "text/plain": [
       "<Figure size 1800x800 with 1 Axes>"
      ]
     },
     "metadata": {},
     "output_type": "display_data"
    }
   ],
   "source": [
    "#Create a plot that shows what day of the week people shop for groceries.\n",
    "\n",
    "orders_subset = df_orders.groupby('order_dow').agg(['sum']).reset_index()\n",
    "\n",
    "orders_subset.plot(\n",
    "    x='order_dow',\n",
    "    y='order_number',\n",
    "    xlabel='Day of the week',\n",
    "    ylabel='Order volume (millions)',\n",
    "    title='Grocery shopping during the week',\n",
    "    figsize=[18,8],\n",
    "    kind='bar',\n",
    "    color='blue',\n",
    "    rot=0,\n",
    "    legend=False\n",
    ")\n",
    "\n",
    "plt.tight_layout()\n",
    "plt.show()"
   ]
  },
  {
   "cell_type": "markdown",
   "id": "03097111",
   "metadata": {},
   "source": [
    "**`Comments`**\n",
    "\n",
    "Similar to the above, running out of steam trying to meet the deadline. Would amend the following if I had the time:\n",
    "\n",
    "Fix y_axis to read: 100m, 200m, etc. OR completely remove the y_axis relying on a good legend/data labels combo.\n",
    "\n",
    "Replace each value for Day of the week to read the actual Day of the week (Monday, Tuesday, etc..).\n",
    "\n",
    "Figure out if day of week 0 is actually Saturday, as I would assume people go buy groceries more often on Saturdays."
   ]
  },
  {
   "cell_type": "markdown",
   "id": "cutting-concert",
   "metadata": {},
   "source": [
    "### [A4] How long do people wait until placing another order?"
   ]
  },
  {
   "cell_type": "code",
   "execution_count": 42,
   "id": "c231f523",
   "metadata": {},
   "outputs": [
    {
     "data": {
      "image/png": "[encoded data removed]",
      "text/plain": [
       "<Figure size 1800x800 with 1 Axes>"
      ]
     },
     "metadata": {},
     "output_type": "display_data"
    }
   ],
   "source": [
    "#Create a plot that shows how long people wait until placing their next order, and comment on the minimum and maximum values.\n",
    "\n",
    "orders_subset = df_orders.groupby('days_since_prior_order').agg(['sum']).reset_index()\n",
    "\n",
    "orders_subset.plot(\n",
    "    x='days_since_prior_order',\n",
    "    y='order_number',\n",
    "    xlabel='Day of the week',\n",
    "    ylabel='Order volume (thousands)',\n",
    "    title='Number of days to next grocery order',\n",
    "    figsize=[18,8],\n",
    "    kind='bar',\n",
    "    color='red',\n",
    "    rot=0,\n",
    "    legend=False\n",
    ")\n",
    "\n",
    "plt.tight_layout()\n",
    "plt.show()"
   ]
  },
  {
   "cell_type": "markdown",
   "id": "abf25cb3",
   "metadata": {},
   "source": [
    "**`Comments`**\n",
    "\n",
    "Assumes that the 0 in Day of the week, is any order under 24 hours.\n",
    "\n",
    "Would rework the y_axis, add a 'sub x-axis' under days of the week grouping the days by 1st half vs 2nd half of the month. \n",
    "\n",
    "With bullets calling out that people tend to reorder groceries under a 7 day period with one slight deviation at day 30 (bulk buyers?).\n"
   ]
  },
  {
   "cell_type": "markdown",
   "id": "d0af7448",
   "metadata": {},
   "source": [
    "#Comment on the minimum and maximum values.\n",
    "\n",
    "**`Comments`**\n",
    "\n",
    "Minimum: Based on instacart data, people tend to reorder at a way lower frequency after the 1st half of the month. There is slight deviation at the obeserved day 30 which could be due to payday (not included in this data set - could be people being paid every month and placing their orders then). \n",
    "\n",
    "Maximum: Based on instacart data, people tend to reorder at the ~3 day mark followed by 7 days. This does not dive into order size though which could tell a better story. "
   ]
  },
  {
   "cell_type": "markdown",
   "id": "tight-staff",
   "metadata": {},
   "source": [
    "# [B] Medium (must complete all to pass)"
   ]
  },
  {
   "cell_type": "markdown",
   "id": "packed-classic",
   "metadata": {},
   "source": [
    "[B1] Is there a difference in `'order_hour_of_day'` distributions on Wednesdays and Saturdays? Plot the histograms for both days and describe the differences that you see."
   ]
  },
  {
   "cell_type": "code",
   "execution_count": 43,
   "id": "d324c27a",
   "metadata": {},
   "outputs": [],
   "source": [
    "###making the assumption that 0 in day of the week is Saturday since the days are uncertain\n",
    "\n",
    "import pylab\n",
    "from pylab import xticks\n"
   ]
  },
  {
   "cell_type": "code",
   "execution_count": 44,
   "id": "d8717937",
   "metadata": {},
   "outputs": [
    {
     "data": {
      "image/png": "[encoded data removed]",
      "text/plain": [
       "<Figure size 1600x800 with 1 Axes>"
      ]
     },
     "metadata": {},
     "output_type": "display_data"
    },
    {
     "data": {
      "image/png": "[encoded data removed]",
      "text/plain": [
       "<Figure size 1600x800 with 1 Axes>"
      ]
     },
     "metadata": {},
     "output_type": "display_data"
    },
    {
     "data": {
      "image/png": "[encoded data removed]",
      "text/plain": [
       "<Figure size 1600x800 with 1 Axes>"
      ]
     },
     "metadata": {},
     "output_type": "display_data"
    }
   ],
   "source": [
    "###changing this to a bar graph###\n",
    "\n",
    "#xticks(range(0,31))\n",
    "\n",
    "#chart 1\n",
    "\n",
    "df_orders[df_orders['order_dow']== 0]['order_hour_of_day'].value_counts().sort_index().plot(kind='bar',\n",
    "                                                                                            figsize= [16,8],\n",
    "                                                                                            color='c',\n",
    ")\n",
    "\n",
    "plt.xlabel('Hour of the Day', fontsize=12) #adding a specific label and increasing the font size for visibility\n",
    "plt.ylabel('Order Frequency (thousands)', fontsize=12) #adding a specific label and increasing the font size for visibility\n",
    "plt.legend(['Monday']) #labeling legend based on day assumptions, 0 = Mon / 3 = Thurs\n",
    "plt.title('Order Distribution per Hour')\n",
    "plt.xticks(rotation = 0);\n",
    "plt.show()\n",
    "\n",
    "\n",
    "#chart 2\n",
    "df_orders[df_orders['order_dow']== 3]['order_hour_of_day'].value_counts().sort_index().plot(kind='bar',\n",
    "                                                                                            figsize= [16,8],\n",
    "                                                                                            color='m'\n",
    ")\n",
    "\n",
    "plt.xlabel('Hour of the Day', fontsize=12) #adding a specific label and increasing the font size for visibility\n",
    "plt.ylabel('Order Frequency (thousands)', fontsize=12) #adding a specific label and increasing the font size for visibility\n",
    "plt.legend(['Thursday']) #labeling legend based on day assumptions, 0 = Mon / 3 = Thurs\n",
    "plt.title('Order Distribution per Hour')\n",
    "plt.xticks(rotation = 0)\n",
    "plt.show()\n",
    "\n",
    "#chart 3\n",
    "df_orders[df_orders['order_dow']== 0]['order_hour_of_day'].value_counts().sort_index().plot(kind='bar',\n",
    "                                                                                            figsize= [16,8],\n",
    "                                                                                            color='c',)\n",
    "df_orders[df_orders['order_dow']== 3]['order_hour_of_day'].value_counts().sort_index().plot(kind='bar',\n",
    "                                                                                            figsize= [16,8],\n",
    "                                                                                            color='m')\n",
    "plt.xlabel('Hour of the Day', fontsize=12) #adding a specific label and increasing the font size for visibility\n",
    "plt.ylabel('Order Frequency (thousands)', fontsize=12) #adding a specific label and increasing the font size for visibility\n",
    "plt.legend(['Monday','Thursday']) #labeling legend based on day assumptions, 0 = Mon / 3 = Thurs\n",
    "plt.title('Order Distribution per Hour')\n",
    "plt.xticks(rotation = 0)\n",
    "plt.show()"
   ]
  },
  {
   "cell_type": "markdown",
   "id": "7948a0aa",
   "metadata": {},
   "source": [
    "**`Comments`**\n",
    "\n",
    "Considerably higher frequency/distribution on Saturdays compared to Wednesdays. This looks to be especially true during the afternoons.\n",
    "\n",
    "Would assume this is due to people having more free time during the weekends and well, people like to prep their meals for the week ahead during the weekend. \n",
    "\n",
    "We can infer here that while the overall distribution of order for both days is similar in peak and down times, Monday's frequency vastly overtakes Thursday in the mid-late morning all the way up to 4pm. Outside of these specific horizons, distribution between the two isn't as noticeable.\n"
   ]
  },
  {
   "cell_type": "markdown",
   "id": "e3891143",
   "metadata": {},
   "source": [
    "[B2] What's the distribution for the number of orders per customer?"
   ]
  },
  {
   "cell_type": "code",
   "execution_count": 45,
   "id": "d8c26c23",
   "metadata": {},
   "outputs": [
    {
     "name": "stdout",
     "output_type": "stream",
     "text": [
      "user_id\n",
      "2         2\n",
      "4         2\n",
      "5         1\n",
      "6         2\n",
      "7         2\n",
      "         ..\n",
      "206203    1\n",
      "206206    7\n",
      "206207    5\n",
      "206208    9\n",
      "206209    2\n",
      "Name: order_number, Length: 157437, dtype: int64\n"
     ]
    },
    {
     "data": {
      "image/png": "[encoded data removed]",
      "text/plain": [
       "<Figure size 1800x1000 with 1 Axes>"
      ]
     },
     "metadata": {},
     "output_type": "display_data"
    }
   ],
   "source": [
    "#Plot the distribution for the number of orders that customers place (e.g. how many customers placed only 1 order, how many placed only 2, how many only 3, and so on…)\n",
    "\n",
    "order_per_cust = df_orders.groupby('user_id')['order_number'].count()\n",
    "print(order_per_cust)\n",
    "\n",
    "order_per_cust.plot(kind='hist',\n",
    "                    title='Number of orders per customer',\n",
    "                    figsize=[18,10]\n",
    ")\n",
    "\n",
    "plt.xlabel('Order volume', fontsize=14) #adding a specific label and increasing the font size for visibility\n",
    "plt.ylabel('Customer count (thousands)', fontsize=14) #adding a specific label and increasing the font size for visibility\n",
    "\n",
    "plt.show()"
   ]
  },
  {
   "cell_type": "markdown",
   "id": "3eb38644",
   "metadata": {},
   "source": [
    "**`Comments`**\n",
    "\n",
    "One could infer that people like to take advantage of the 7 to 14 day trial instacart constantly offers to new customers (which is a popular offering) then slowly start to phase out if not completely cancel their trial period."
   ]
  },
  {
   "cell_type": "markdown",
   "id": "54a0319c",
   "metadata": {},
   "source": [
    "[B3] What are the top 20 popular products (display their id and name)?"
   ]
  },
  {
   "cell_type": "code",
   "execution_count": 46,
   "id": "exterior-arizona",
   "metadata": {
    "scrolled": false
   },
   "outputs": [
    {
     "data": {
      "text/plain": [
       "product_id  product_name            \n",
       "24852       banana                      66050\n",
       "13176       bag of organic bananas      53297\n",
       "21137       organic strawberries        37039\n",
       "21903       organic baby spinach        33971\n",
       "47209       organic hass avocado        29773\n",
       "47766       organic avocado             24689\n",
       "47626       large lemon                 21495\n",
       "16797       strawberries                20018\n",
       "26209       limes                       19690\n",
       "27845       organic whole milk          19600\n",
       "27966       organic raspberries         19197\n",
       "22935       organic yellow onion        15898\n",
       "24964       organic garlic              15292\n",
       "45007       organic zucchini            14584\n",
       "39275       organic blueberries         13879\n",
       "49683       cucumber kirby              13675\n",
       "28204       organic fuji apple          12544\n",
       "5876        organic lemon               12232\n",
       "8277        apple honeycrisp organic    11993\n",
       "40706       organic grape tomatoes      11781\n",
       "Name: count, dtype: int64"
      ]
     },
     "metadata": {},
     "output_type": "display_data"
    }
   ],
   "source": [
    "###creating a new variable that is assigned the count with it's n largest passing in 20\n",
    "\n",
    "top_merge = df_order_products.merge(df_products, on='product_id')\n",
    "\n",
    "top_20 = top_merge[['product_id', 'product_name']].value_counts().nlargest(20)\n",
    "\n",
    "display(top_20)"
   ]
  },
  {
   "cell_type": "markdown",
   "id": "152ab1af",
   "metadata": {},
   "source": [
    "**`Comments`**\n",
    "\n",
    "It looks like the top product remains as 'Unknown' after we filled that in (was blank).\n",
    "\n",
    "Other items have a lower count of purchases. \n",
    "    \n",
    "Bananas are the most ordered/popular product!\n"
   ]
  },
  {
   "cell_type": "markdown",
   "metadata": {},
   "source": [
    "# [C] Hard (must complete at least two to pass)"
   ]
  },
  {
   "cell_type": "markdown",
   "id": "romantic-deposit",
   "metadata": {},
   "source": [
    "[C1] How many items do people typically buy in one order? What does the distribution look like?"
   ]
  },
  {
   "cell_type": "code",
   "execution_count": 47,
   "id": "virtual-punch",
   "metadata": {},
   "outputs": [
    {
     "data": {
      "text/plain": [
       "order_id\n",
       "4          7.0\n",
       "9          8.0\n",
       "11         3.0\n",
       "19         2.0\n",
       "20         4.5\n",
       "          ... \n",
       "3421034    9.0\n",
       "3421053    5.0\n",
       "3421071    3.0\n",
       "3421077    2.5\n",
       "3421079    1.0\n",
       "Name: add_to_cart_order, Length: 450046, dtype: float64"
      ]
     },
     "metadata": {},
     "output_type": "display_data"
    }
   ],
   "source": [
    "###assuming the DataFrames in question will be instacart_orders and order_products merged at order_id with add_to_cart_order and user_id as leveraged columns\n",
    "##need to get the mean/average for each order (mean/average of add_to_card_order??? or product_id???)\n",
    "##assuming add_to_cart_order contains the number of items that were checked out \n",
    "\n",
    "\n",
    "#print(df_order_products[(df_order_products['order_id'] == 3113005)].count()) #count check on a specific order_id to start\n",
    "#print(df_order_products[(df_order_products['order_id'] == 3113005)]['add_to_cart_order'].mean()) #mean check on a specific order_id to start\n",
    "\n",
    "df_order_merging = df_orders.merge(df_order_products, on='order_id')\n",
    "#print(df_order_merge) #checking the table merge\n",
    "\n",
    "display(df_order_merging.groupby('order_id')['add_to_cart_order'].mean())\n",
    "\n",
    "#df_order_merging['Average items per order'] = df_order_merging['add_to_cart_order'].mean()\n",
    "\n",
    "#print(df_order_merging[['add_to_cart_order','order_id']].value_counts().sample(n=5))\n",
    "\n",
    "#df_order_merging_pivot = df_order_merging.pivot_table(index='order_id',\n",
    "                                                #columns='product_id',\n",
    "                                                #values='add_to_cart_order',\n",
    "                                                #aggfunc='mean')\n",
    "\n",
    "#print(df_order_merging_pivot)"
   ]
  },
  {
   "cell_type": "code",
   "execution_count": 48,
   "id": "sensitive-breathing",
   "metadata": {},
   "outputs": [
    {
     "data": {
      "image/png": "[encoded data removed]",
      "text/plain": [
       "<Figure size 1800x800 with 1 Axes>"
      ]
     },
     "metadata": {},
     "output_type": "display_data"
    }
   ],
   "source": [
    "###second attempt with a different approach, yeah can't get it to work unfortunately\n",
    "\n",
    "item_frequency = df_order_products.groupby('order_id')['product_id'].count()\n",
    "item_frequency.value_counts().sort_index().plot(kind='bar', figsize= [18,8], color='mediumseagreen')\n",
    "\n",
    "plt.xlabel('Items Ordered', fontsize=12) #adding a specific label and increasing the font size for visibility\n",
    "plt.ylabel('Order Volume (thousands)', fontsize=12) #adding a specific label and increasing the font size for visibility\n",
    "plt.title('Items Purchased per Order')\n",
    "plt.xticks(rotation = 0)\n",
    "plt.show()"
   ]
  },
  {
   "cell_type": "markdown",
   "id": "47e9fabb",
   "metadata": {},
   "source": [
    "**`Comments`**\n",
    "\n",
    "We can infer from the graph that items peak from 4-8 items per order with a slow decline afterwards. People tend to order a smaller amount of items using the instacart app but does not mean it's the same with in-store shopping. 30,000 orders with 4-8 items / 30k to 25k with about 8-9 items and so forth. 5k orders with more than 20 items. Reinforces the thought that most people use instacart for easy purchases then later stop using it in favor or in-store shopping.\n",
    "    \n",
    "</div>"
   ]
  },
  {
   "cell_type": "markdown",
   "id": "5e6b5537",
   "metadata": {},
   "source": [
    "[C2] What are the top 20 items that are reordered most frequently (display their names and product IDs)?"
   ]
  },
  {
   "cell_type": "code",
   "execution_count": 49,
   "id": "9374e55a",
   "metadata": {},
   "outputs": [
    {
     "data": {
      "text/plain": [
       "product_id  product_name            \n",
       "24852       banana                      55763\n",
       "13176       bag of organic bananas      44450\n",
       "21137       organic strawberries        28639\n",
       "21903       organic baby spinach        26233\n",
       "47209       organic hass avocado        23629\n",
       "47766       organic avocado             18743\n",
       "27845       organic whole milk          16251\n",
       "47626       large lemon                 15044\n",
       "27966       organic raspberries         14748\n",
       "16797       strawberries                13945\n",
       "26209       limes                       13327\n",
       "22935       organic yellow onion        11145\n",
       "24964       organic garlic              10411\n",
       "45007       organic zucchini            10076\n",
       "49683       cucumber kirby               9538\n",
       "28204       organic fuji apple           8989\n",
       "8277        apple honeycrisp organic     8836\n",
       "39275       organic blueberries          8799\n",
       "5876        organic lemon                8412\n",
       "49235       organic half & half          8389\n",
       "dtype: int64"
      ]
     },
     "metadata": {},
     "output_type": "display_data"
    }
   ],
   "source": [
    "###creating a new variable that is assigned the count with it's n largest passing in 20\n",
    "##for the reordered column: 0 if the customer has never ordered this product before, 1 if they have\n",
    "#need to pair product name and id with each reorder, common denominator here is the *** product_id***\n",
    "\n",
    "#df_order_products['reordered'] = df_order_products['reordered'] == 1 #filtering the reorder column to only show those items that have been ordered before\n",
    "\n",
    "#print(df_order_products[(df_order_products['product_id'] == 24852) & df_order_products['reordered'] == 1].count()) #count check on bananas to start\n",
    "\n",
    "filtered_df = df_order_products[df_order_products['reordered'] == 1]\n",
    "\n",
    "df_product_merge = filtered_df.merge(df_products, on= 'product_id') #merging on common column\n",
    "\n",
    "top_20 = df_product_merge.groupby(['product_id','product_name']).size().sort_values(ascending=False)\n",
    "display(top_20.head(20))"
   ]
  },
  {
   "cell_type": "markdown",
   "id": "80e70c74",
   "metadata": {},
   "source": [
    "**`Comments`**\n",
    "\n",
    "Merged both DataFrames, joining them via the common column 'product_id' then ran a test for a banana which gave me the total count of reorders (if reorder = 1).\n",
    "\n",
    "Once that was tested, went into the merged DataFrames and called value counts along with the nlargest passing in 20. \n",
    "\n",
    "Breakast types of food are ordered the most (fruits, vegetables)."
   ]
  },
  {
   "cell_type": "markdown",
   "id": "9d312b14",
   "metadata": {},
   "source": [
    "[C3] For each product, what proportion of its orders are reorders?"
   ]
  },
  {
   "cell_type": "code",
   "execution_count": 50,
   "id": "8ae9f4b1",
   "metadata": {},
   "outputs": [
    {
     "data": {
      "text/plain": [
       "product_id  product_name                                     reordered\n",
       "1           chocolate sandwich cookies                       1            0.564286\n",
       "                                                             0            0.435714\n",
       "2           all-seasons salt                                 0            1.000000\n",
       "3           robust golden unsweetened oolong tea             1            0.738095\n",
       "                                                             0            0.261905\n",
       "                                                                            ...   \n",
       "49692       organic instant oatmeal light maple brown sugar  1            0.416667\n",
       "49693       spring water body wash                           0            0.560000\n",
       "                                                             1            0.440000\n",
       "49694       burrito- steak & cheese                          0            0.666667\n",
       "                                                             1            0.333333\n",
       "Length: 79992, dtype: float64"
      ]
     },
     "metadata": {},
     "output_type": "display_data"
    }
   ],
   "source": [
    "###need to get the split of each product for the reordered column 0 and 1\n",
    "##afterwards needs to take the total and divide by reorders\n",
    "##test: banana proportion should be ***~84%***\n",
    "\n",
    "#df_order_products['reordered'] = df_order_products['reordered'] = 1 #filtering the reorder column to only show those items that have been ordered before\n",
    "\n",
    "#print(df_order_products[(df_order_products['product_id'] == 24852) & df_order_products['reordered'] == 1].count()) #count check on bananas to start\n",
    "\n",
    "df_product_merge = df_order_products.merge(df_products, on= 'product_id') #merging on common column\n",
    "\n",
    "#total_reorder = df_product_merge['reordered'].value_counts()\n",
    "#reorder_1 = df_product_merge[df_product_merge['reordered'] == 1].value_counts()\n",
    "\n",
    "#df_product_merge['proportion'] = reorder_1 / total_reorder\n",
    "#print(df_product_merge[['product_name','proportion']])\n",
    "\n",
    "grp = df_product_merge.groupby(['product_id','product_name'])\n",
    "grp_mean = grp['reordered'].mean()\n",
    "#display(grp_mean)\n",
    "\n",
    "ncount = grp['reordered'].value_counts()\n",
    "#display(ncount)\n",
    "\n",
    "nlarge = grp['reordered'].count()\n",
    "#display(nlarge)\n",
    "\n",
    "product_proportion = ncount / nlarge\n",
    "display(product_proportion)\n",
    "\n",
    "##another try, nope - sucks to be this dumb..\n",
    "#test_1 = df_order_products[df_order_products['reordered'] == 1]['reordered'].value_counts()\n",
    "#test_0 = df_order_products[df_order_products['reordered'] == 0]['reordered'].value_counts()\n",
    "#test_sum = test_1 + test_0\n",
    "#print(test_1 / test_sum)\n",
    "\n",
    "#print(df_product_merge.groupby(['product_id','product_name'])['reordered'].value_counts())\n",
    "\n",
    "#reorder_y = df_product_merge[df_product_merge['reordered'] == 1].value_counts()\n",
    "#reorder_n = df_product_merge[df_product_merge['reordered'] == 0].value_counts()\n",
    "\n",
    "#df_product_merge['proportion'] = reorder_y / reorder_n\n",
    "\n",
    "#print(df_product_merge['proportion'])\n",
    "\n",
    "#print(df_product_merge[['product_name','product_id']].value_counts().nlargest(20))\n",
    "\n",
    "#top_20 = df_product_merge['reordered'].value_counts().nlargest(20)\n",
    "\n",
    "#print(top_20)\n"
   ]
  },
  {
   "cell_type": "markdown",
   "id": "subject-boxing",
   "metadata": {},
   "source": [
    "[C4] For each customer, what proportion of their products ordered are reorders?"
   ]
  },
  {
   "cell_type": "code",
   "execution_count": 51,
   "id": "8892e4b4",
   "metadata": {},
   "outputs": [
    {
     "data": {
      "text/plain": [
       "user_id\n",
       "2         0.038462\n",
       "4         0.000000\n",
       "5         0.666667\n",
       "6         0.000000\n",
       "7         0.928571\n",
       "            ...   \n",
       "206203    0.222222\n",
       "206206    0.714286\n",
       "206207    0.891304\n",
       "206208    0.696000\n",
       "206209    0.320000\n",
       "Name: reordered, Length: 149626, dtype: float64"
      ]
     },
     "execution_count": 51,
     "metadata": {},
     "output_type": "execute_result"
    }
   ],
   "source": [
    "df_merge2 = df_order_products.merge(df_orders)\n",
    "df_merge2.groupby('user_id')['reordered'].mean()\n"
   ]
  },
  {
   "cell_type": "markdown",
   "id": "92d35137",
   "metadata": {},
   "source": [
    "[C5] What are the top 20 items that people put in their carts first? "
   ]
  },
  {
   "cell_type": "code",
   "execution_count": 52,
   "id": "0ae57274",
   "metadata": {
    "scrolled": false
   },
   "outputs": [
    {
     "data": {
      "text/plain": [
       "product_id  product_name               \n",
       "24852       banana                         15562\n",
       "13176       bag of organic bananas         11026\n",
       "27845       organic whole milk              4363\n",
       "21137       organic strawberries            3946\n",
       "47209       organic hass avocado            3390\n",
       "21903       organic baby spinach            3336\n",
       "47766       organic avocado                 3044\n",
       "19660       spring water                    2336\n",
       "16797       strawberries                    2308\n",
       "27966       organic raspberries             2024\n",
       "44632       sparkling water grapefruit      1914\n",
       "49235       organic half & half             1797\n",
       "47626       large lemon                     1737\n",
       "196         soda                            1733\n",
       "38689       organic reduced fat milk        1397\n",
       "26209       limes                           1370\n",
       "12341       hass avocados                   1340\n",
       "5785        organic reduced fat 2% milk     1310\n",
       "27086       half & half                     1309\n",
       "22935       organic yellow onion            1246\n",
       "Name: count, dtype: int64"
      ]
     },
     "metadata": {},
     "output_type": "display_data"
    }
   ],
   "source": [
    "###need product_name to get the top 20 items\n",
    "##will most likely have to leverage the add_to_cart_order column\n",
    "\n",
    "\n",
    "top_20_merge = df_products.merge(df_order_products, on='product_id')\n",
    "\n",
    "row_filter = top_20_merge[top_20_merge['add_to_cart_order'] == 1]\n",
    "#row_filter.groupby(['product_id', 'product_name']).value_counts().nlargest(20)\n",
    "\n",
    "#top_20 = df_products['product_name'].value_counts().nlargest(20)\n",
    "\n",
    "#print(top_20)\n",
    "\n",
    "top_20 = row_filter.groupby(['product_id'])['product_name'].value_counts().nlargest(20)\n",
    "\n",
    "display(top_20)\n"
   ]
  },
  {
   "cell_type": "markdown",
   "id": "6ef90b76",
   "metadata": {
    "scrolled": true
   },
   "source": [
    "**`Comments`**\n",
    "\n",
    "It looks like bananas remain the top item which mirrors the story of top 20 items ordered."
   ]
  },
  {
   "cell_type": "markdown",
   "id": "4f12a29c",
   "metadata": {},
   "source": [
    "# Conclusions\n",
    "\n",
    "People like to place order to start the week, peaking early during the week with some continous drop off as the week goes by.\n",
    "    \n",
    "The same can be said about order time, we see heightened volume to start the morning into the mid-afternoon. With that said, the frequency of orders does not show you the story of the actual amount of items being purchased.\n",
    "\n",
    "Once you dive into that dataset, we see mostly smaller (<12 items) purchases making up the largest share of the volume. With bananas and breakfast type food leading the pack in terms of items ordered in aggregate.\n",
    "\n",
    "All in all, instacart seems to serve as a good introduction to online ordering to most customers who sign up for the app but with either tradition or just the sheer magnitude of grocery shopping people do (in the U.S.), they tend to leave the larger bulk purchases of groceries to actual in-store shopping where they can select their own items.\n",
    "                                                            \n",
    "It would be interesting to analyze this by age group given I could make the assumption that older people are less likely to use the app compared to younger ages. Another thing that would tell a better story would be analyzing the share of these orders placed that went through a trial period (which Instacart usually gives out like candy). Examining this together with the actual turnover (who actually decides to pay the instacart monthly or yearly fee and who doesn't) would tell a pretty good story of the app's ability to commercialize on its initiatives and/or flip people's choices.                                                            \n",
    "                                                           \n",
    "Last thing that would be extra interesting would be the % of people ordering and staying with the app who have a car vs those who don't. \n",
    "    \n",
    "</div>"
   ]
  }
 ],
 "metadata": {
  "kernelspec": {
   "display_name": "Python 3 (ipykernel)",
   "language": "python",
   "name": "python3"
  },
  "language_info": {
   "codemirror_mode": {
    "name": "ipython",
    "version": 3
   },
   "file_extension": ".py",
   "mimetype": "text/x-python",
   "name": "python",
   "nbconvert_exporter": "python",
   "pygments_lexer": "ipython3",
   "version": "3.11.6"
  },
  "toc": {
   "base_numbering": 1,
   "nav_menu": {},
   "number_sections": true,
   "sideBar": true,
   "skip_h1_title": true,
   "title_cell": "Table of Contents",
   "title_sidebar": "Contents",
   "toc_cell": false,
   "toc_position": {
    "height": "calc(100% - 180px)",
    "left": "10px",
    "top": "150px",
    "width": "246.933px"
   },
   "toc_section_display": true,
   "toc_window_display": true
  },
  "vscode": {
   "interpreter": {
    "hash": "01a7be9ec63e704a62cefc5fe7a4756944464ee731be31632bdf42a4cb4688cf"
   }
  }
 },
 "nbformat": 4,
 "nbformat_minor": 5
}
