{
 "cells": [
  {
   "attachments": {
    "image.png": {
     "image/png": "[encoded data removed]"
    }
   },
   "cell_type": "markdown",
   "metadata": {},
   "source": [
    "![image.png](attachment:image.png)"
   ]
  },
  {
   "cell_type": "markdown",
   "metadata": {},
   "source": [
    "**OilyGiant mining company is looking to find the best place for a new well.**\n",
    "\n",
    "The company provided steps to choose the location:\n",
    "\n",
    "> **Step 1:** Collect the oil well parameters in the selected region: oil quality and volume of reserves;\n",
    "\n",
    "> **Step 2:** Build a model for predicting the volume of reserves in the new wells;\n",
    "\n",
    "> **Step 3:** Pick the oil wells with the highest estimated values;\n",
    "\n",
    "> **Step 4:** Pick the region with the highest total profit for the selected oil wells.\n",
    "\n",
    "\n",
    "**`Conditions:`**\n",
    "\n",
    "- Only linear regression is suitable for model training (the rest are not sufficiently predictable).\n",
    "\n",
    "\n",
    "- When exploring the region, a study of 500 points is carried with picking the best 200 points for the profit calculation.\n",
    "\n",
    "\n",
    "- The budget for development of 200 oil wells is 100 USD million.\n",
    "\n",
    "\n",
    "- One barrel of raw materials brings 4.5 USD of revenue. The revenue from one unit of product is 4,500 dollars (volume of reserves is in thousand barrels).\n",
    "\n",
    "\n",
    "- After the risk evaluation, keep only the regions with the risk of losses lower than 2.5%. From the ones that fit the criteria, the region with the highest average profit should be selected.\n",
    "\n",
    "\n",
    "- The data is synthetic: contract details and well characteristics are not disclosed."
   ]
  },
  {
   "attachments": {
    "image.png": {
     "image/png": "[encoded data removed]"
    }
   },
   "cell_type": "markdown",
   "metadata": {},
   "source": [
    "![image.png](attachment:image.png)"
   ]
  },
  {
   "cell_type": "markdown",
   "metadata": {},
   "source": [
    "We have data on oil samples from three regions and the parameters of each oil well in the region are already known. \n",
    "\n",
    "- We are to build a model that will help to pick the region with the highest profit margin. \n",
    "\n",
    "\n",
    "- Afterwards, we will analyze potential profit and risks using the Bootstrapping technique."
   ]
  },
  {
   "cell_type": "markdown",
   "metadata": {},
   "source": [
    "**`Data Source and Features:`**"
   ]
  },
  {
   "cell_type": "markdown",
   "metadata": {},
   "source": [
    "Geological exploration data for the three regions are stored in files:\n",
    "- geo_data_0.csv\n",
    "- geo_data_1.csv\n",
    "- geo_data_2.csv\n",
    "\n",
    "Features:\n",
    "- id — unique oil well identifier\n",
    "- f0, f1, f2 — three features of points (their specific meaning is unimportant, but the features themselves are significant)\n",
    "- product — volume of reserves in the oil well (thousand barrels)"
   ]
  },
  {
   "attachments": {
    "image.png": {
     "image/png": "[encoded data removed]"
    }
   },
   "cell_type": "markdown",
   "metadata": {},
   "source": [
    "![image.png](attachment:image.png)"
   ]
  },
  {
   "cell_type": "markdown",
   "metadata": {},
   "source": [
    "**`Preprocessing:`**"
   ]
  },
  {
   "cell_type": "code",
   "execution_count": 1,
   "metadata": {},
   "outputs": [],
   "source": [
    "#library imports\n",
    "\n",
    "import pandas as pd\n",
    "import numpy as np\n",
    "from numpy.random import RandomState\n",
    "from math import floor, log\n",
    "from scipy import stats as st\n",
    "\n",
    "\n",
    "from sklearn.linear_model import LinearRegression\n",
    "from sklearn.metrics import explained_variance_score, mean_absolute_error, mean_squared_error, mean_absolute_percentage_error, r2_score\n",
    "from sklearn.metrics import coverage_error, label_ranking_average_precision_score, label_ranking_loss\n",
    "\n",
    "from sklearn.model_selection import check_cv, cross_validate, cross_val_predict, cross_val_score, learning_curve, validation_curve, train_test_split\n",
    "\n",
    "from sklearn.preprocessing import OneHotEncoder, StandardScaler\n",
    "\n",
    "import seaborn as sns"
   ]
  },
  {
   "cell_type": "code",
   "execution_count": 2,
   "metadata": {},
   "outputs": [],
   "source": [
    "#data download\n",
    "\n",
    "try:\n",
    "    \n",
    "    geo_data_0 = pd.read_csv('/Users/dani/Data Science/TripleTen Projects/Project Data/ML in Business/geo_data_0.csv')\n",
    "\n",
    "    geo_data_1 = pd.read_csv('/Users/dani/Data Science/TripleTen Projects/Project Data/ML in Business/geo_data_1.csv')\n",
    "\n",
    "    geo_data_2 = pd.read_csv('/Users/dani/Data Science/TripleTen Projects/Project Data/ML in Business/geo_data_2.csv')\n",
    "    \n",
    "except:\n",
    "    \n",
    "    print('There are issues with your data.')"
   ]
  },
  {
   "cell_type": "markdown",
   "metadata": {},
   "source": [
    "**`Exploration:`**"
   ]
  },
  {
   "cell_type": "code",
   "execution_count": 3,
   "metadata": {},
   "outputs": [
    {
     "name": "stdout",
     "output_type": "stream",
     "text": [
      "\u001b[1mGeography 0 - underlying information:\u001b[0m\n",
      "\n",
      "<class 'pandas.core.frame.DataFrame'>\n",
      "RangeIndex: 100000 entries, 0 to 99999\n",
      "Data columns (total 5 columns):\n",
      " #   Column   Non-Null Count   Dtype  \n",
      "---  ------   --------------   -----  \n",
      " 0   id       100000 non-null  object \n",
      " 1   f0       100000 non-null  float64\n",
      " 2   f1       100000 non-null  float64\n",
      " 3   f2       100000 non-null  float64\n",
      " 4   product  100000 non-null  float64\n",
      "dtypes: float64(4), object(1)\n",
      "memory usage: 3.8+ MB\n",
      "\n",
      "\u001b[1mGeography 1 - underlying information:\u001b[0m\n",
      "\n",
      "<class 'pandas.core.frame.DataFrame'>\n",
      "RangeIndex: 100000 entries, 0 to 99999\n",
      "Data columns (total 5 columns):\n",
      " #   Column   Non-Null Count   Dtype  \n",
      "---  ------   --------------   -----  \n",
      " 0   id       100000 non-null  object \n",
      " 1   f0       100000 non-null  float64\n",
      " 2   f1       100000 non-null  float64\n",
      " 3   f2       100000 non-null  float64\n",
      " 4   product  100000 non-null  float64\n",
      "dtypes: float64(4), object(1)\n",
      "memory usage: 3.8+ MB\n",
      "\n",
      "\u001b[1mGeography 2 - underlying information:\u001b[0m\n",
      "\n",
      "<class 'pandas.core.frame.DataFrame'>\n",
      "RangeIndex: 100000 entries, 0 to 99999\n",
      "Data columns (total 5 columns):\n",
      " #   Column   Non-Null Count   Dtype  \n",
      "---  ------   --------------   -----  \n",
      " 0   id       100000 non-null  object \n",
      " 1   f0       100000 non-null  float64\n",
      " 2   f1       100000 non-null  float64\n",
      " 3   f2       100000 non-null  float64\n",
      " 4   product  100000 non-null  float64\n",
      "dtypes: float64(4), object(1)\n",
      "memory usage: 3.8+ MB\n"
     ]
    }
   ],
   "source": [
    "#initializing data exploration\n",
    "\n",
    "print('\\x1B[1m' + 'Geography 0 - underlying information:'+ '\\x1B[0m')\n",
    "print('')\n",
    "geo_data_0.info()\n",
    "print('')\n",
    "\n",
    "print('\\x1B[1m' + 'Geography 1 - underlying information:'+ '\\x1B[0m')\n",
    "print('')\n",
    "geo_data_1.info()\n",
    "print('')\n",
    "\n",
    "print('\\x1B[1m' + 'Geography 2 - underlying information:'+ '\\x1B[0m')\n",
    "print('')\n",
    "geo_data_2.info()"
   ]
  },
  {
   "cell_type": "code",
   "execution_count": 4,
   "metadata": {},
   "outputs": [
    {
     "name": "stdout",
     "output_type": "stream",
     "text": [
      "\u001b[1mGeography 0 - underlying statistics:\u001b[0m\n"
     ]
    },
    {
     "data": {
      "text/html": [
       "<div>\n",
       "<style scoped>\n",
       "    .dataframe tbody tr th:only-of-type {\n",
       "        vertical-align: middle;\n",
       "    }\n",
       "\n",
       "    .dataframe tbody tr th {\n",
       "        vertical-align: top;\n",
       "    }\n",
       "\n",
       "    .dataframe thead th {\n",
       "        text-align: right;\n",
       "    }\n",
       "</style>\n",
       "<table border=\"1\" class=\"dataframe\">\n",
       "  <thead>\n",
       "    <tr style=\"text-align: right;\">\n",
       "      <th></th>\n",
       "      <th>f0</th>\n",
       "      <th>f1</th>\n",
       "      <th>f2</th>\n",
       "      <th>product</th>\n",
       "    </tr>\n",
       "  </thead>\n",
       "  <tbody>\n",
       "    <tr>\n",
       "      <th>count</th>\n",
       "      <td>100000.000000</td>\n",
       "      <td>100000.000000</td>\n",
       "      <td>100000.000000</td>\n",
       "      <td>100000.000000</td>\n",
       "    </tr>\n",
       "    <tr>\n",
       "      <th>mean</th>\n",
       "      <td>0.500419</td>\n",
       "      <td>0.250143</td>\n",
       "      <td>2.502647</td>\n",
       "      <td>92.500000</td>\n",
       "    </tr>\n",
       "    <tr>\n",
       "      <th>std</th>\n",
       "      <td>0.871832</td>\n",
       "      <td>0.504433</td>\n",
       "      <td>3.248248</td>\n",
       "      <td>44.288691</td>\n",
       "    </tr>\n",
       "    <tr>\n",
       "      <th>min</th>\n",
       "      <td>-1.408605</td>\n",
       "      <td>-0.848218</td>\n",
       "      <td>-12.088328</td>\n",
       "      <td>0.000000</td>\n",
       "    </tr>\n",
       "    <tr>\n",
       "      <th>25%</th>\n",
       "      <td>-0.072580</td>\n",
       "      <td>-0.200881</td>\n",
       "      <td>0.287748</td>\n",
       "      <td>56.497507</td>\n",
       "    </tr>\n",
       "    <tr>\n",
       "      <th>50%</th>\n",
       "      <td>0.502360</td>\n",
       "      <td>0.250252</td>\n",
       "      <td>2.515969</td>\n",
       "      <td>91.849972</td>\n",
       "    </tr>\n",
       "    <tr>\n",
       "      <th>75%</th>\n",
       "      <td>1.073581</td>\n",
       "      <td>0.700646</td>\n",
       "      <td>4.715088</td>\n",
       "      <td>128.564089</td>\n",
       "    </tr>\n",
       "    <tr>\n",
       "      <th>max</th>\n",
       "      <td>2.362331</td>\n",
       "      <td>1.343769</td>\n",
       "      <td>16.003790</td>\n",
       "      <td>185.364347</td>\n",
       "    </tr>\n",
       "  </tbody>\n",
       "</table>\n",
       "</div>"
      ],
      "text/plain": [
       "                  f0             f1             f2        product\n",
       "count  100000.000000  100000.000000  100000.000000  100000.000000\n",
       "mean        0.500419       0.250143       2.502647      92.500000\n",
       "std         0.871832       0.504433       3.248248      44.288691\n",
       "min        -1.408605      -0.848218     -12.088328       0.000000\n",
       "25%        -0.072580      -0.200881       0.287748      56.497507\n",
       "50%         0.502360       0.250252       2.515969      91.849972\n",
       "75%         1.073581       0.700646       4.715088     128.564089\n",
       "max         2.362331       1.343769      16.003790     185.364347"
      ]
     },
     "execution_count": 4,
     "metadata": {},
     "output_type": "execute_result"
    }
   ],
   "source": [
    "#initializing data statistics\n",
    "\n",
    "print('\\x1B[1m' + 'Geography 0 - underlying statistics:'+ '\\x1B[0m')\n",
    "geo_data_0.describe()"
   ]
  },
  {
   "cell_type": "code",
   "execution_count": 5,
   "metadata": {},
   "outputs": [
    {
     "name": "stdout",
     "output_type": "stream",
     "text": [
      "\u001b[1mGeography 1 - underlying statistics:\u001b[0m\n"
     ]
    },
    {
     "data": {
      "text/html": [
       "<div>\n",
       "<style scoped>\n",
       "    .dataframe tbody tr th:only-of-type {\n",
       "        vertical-align: middle;\n",
       "    }\n",
       "\n",
       "    .dataframe tbody tr th {\n",
       "        vertical-align: top;\n",
       "    }\n",
       "\n",
       "    .dataframe thead th {\n",
       "        text-align: right;\n",
       "    }\n",
       "</style>\n",
       "<table border=\"1\" class=\"dataframe\">\n",
       "  <thead>\n",
       "    <tr style=\"text-align: right;\">\n",
       "      <th></th>\n",
       "      <th>f0</th>\n",
       "      <th>f1</th>\n",
       "      <th>f2</th>\n",
       "      <th>product</th>\n",
       "    </tr>\n",
       "  </thead>\n",
       "  <tbody>\n",
       "    <tr>\n",
       "      <th>count</th>\n",
       "      <td>100000.000000</td>\n",
       "      <td>100000.000000</td>\n",
       "      <td>100000.000000</td>\n",
       "      <td>100000.000000</td>\n",
       "    </tr>\n",
       "    <tr>\n",
       "      <th>mean</th>\n",
       "      <td>1.141296</td>\n",
       "      <td>-4.796579</td>\n",
       "      <td>2.494541</td>\n",
       "      <td>68.825000</td>\n",
       "    </tr>\n",
       "    <tr>\n",
       "      <th>std</th>\n",
       "      <td>8.965932</td>\n",
       "      <td>5.119872</td>\n",
       "      <td>1.703572</td>\n",
       "      <td>45.944423</td>\n",
       "    </tr>\n",
       "    <tr>\n",
       "      <th>min</th>\n",
       "      <td>-31.609576</td>\n",
       "      <td>-26.358598</td>\n",
       "      <td>-0.018144</td>\n",
       "      <td>0.000000</td>\n",
       "    </tr>\n",
       "    <tr>\n",
       "      <th>25%</th>\n",
       "      <td>-6.298551</td>\n",
       "      <td>-8.267985</td>\n",
       "      <td>1.000021</td>\n",
       "      <td>26.953261</td>\n",
       "    </tr>\n",
       "    <tr>\n",
       "      <th>50%</th>\n",
       "      <td>1.153055</td>\n",
       "      <td>-4.813172</td>\n",
       "      <td>2.011479</td>\n",
       "      <td>57.085625</td>\n",
       "    </tr>\n",
       "    <tr>\n",
       "      <th>75%</th>\n",
       "      <td>8.621015</td>\n",
       "      <td>-1.332816</td>\n",
       "      <td>3.999904</td>\n",
       "      <td>107.813044</td>\n",
       "    </tr>\n",
       "    <tr>\n",
       "      <th>max</th>\n",
       "      <td>29.421755</td>\n",
       "      <td>18.734063</td>\n",
       "      <td>5.019721</td>\n",
       "      <td>137.945408</td>\n",
       "    </tr>\n",
       "  </tbody>\n",
       "</table>\n",
       "</div>"
      ],
      "text/plain": [
       "                  f0             f1             f2        product\n",
       "count  100000.000000  100000.000000  100000.000000  100000.000000\n",
       "mean        1.141296      -4.796579       2.494541      68.825000\n",
       "std         8.965932       5.119872       1.703572      45.944423\n",
       "min       -31.609576     -26.358598      -0.018144       0.000000\n",
       "25%        -6.298551      -8.267985       1.000021      26.953261\n",
       "50%         1.153055      -4.813172       2.011479      57.085625\n",
       "75%         8.621015      -1.332816       3.999904     107.813044\n",
       "max        29.421755      18.734063       5.019721     137.945408"
      ]
     },
     "execution_count": 5,
     "metadata": {},
     "output_type": "execute_result"
    }
   ],
   "source": [
    "print('\\x1B[1m' + 'Geography 1 - underlying statistics:'+ '\\x1B[0m')\n",
    "geo_data_1.describe()"
   ]
  },
  {
   "cell_type": "code",
   "execution_count": 6,
   "metadata": {},
   "outputs": [
    {
     "name": "stdout",
     "output_type": "stream",
     "text": [
      "\u001b[1mGeography 2 - underlying statistics:\u001b[0m\n"
     ]
    },
    {
     "data": {
      "text/html": [
       "<div>\n",
       "<style scoped>\n",
       "    .dataframe tbody tr th:only-of-type {\n",
       "        vertical-align: middle;\n",
       "    }\n",
       "\n",
       "    .dataframe tbody tr th {\n",
       "        vertical-align: top;\n",
       "    }\n",
       "\n",
       "    .dataframe thead th {\n",
       "        text-align: right;\n",
       "    }\n",
       "</style>\n",
       "<table border=\"1\" class=\"dataframe\">\n",
       "  <thead>\n",
       "    <tr style=\"text-align: right;\">\n",
       "      <th></th>\n",
       "      <th>f0</th>\n",
       "      <th>f1</th>\n",
       "      <th>f2</th>\n",
       "      <th>product</th>\n",
       "    </tr>\n",
       "  </thead>\n",
       "  <tbody>\n",
       "    <tr>\n",
       "      <th>count</th>\n",
       "      <td>100000.000000</td>\n",
       "      <td>100000.000000</td>\n",
       "      <td>100000.000000</td>\n",
       "      <td>100000.000000</td>\n",
       "    </tr>\n",
       "    <tr>\n",
       "      <th>mean</th>\n",
       "      <td>0.002023</td>\n",
       "      <td>-0.002081</td>\n",
       "      <td>2.495128</td>\n",
       "      <td>95.000000</td>\n",
       "    </tr>\n",
       "    <tr>\n",
       "      <th>std</th>\n",
       "      <td>1.732045</td>\n",
       "      <td>1.730417</td>\n",
       "      <td>3.473445</td>\n",
       "      <td>44.749921</td>\n",
       "    </tr>\n",
       "    <tr>\n",
       "      <th>min</th>\n",
       "      <td>-8.760004</td>\n",
       "      <td>-7.084020</td>\n",
       "      <td>-11.970335</td>\n",
       "      <td>0.000000</td>\n",
       "    </tr>\n",
       "    <tr>\n",
       "      <th>25%</th>\n",
       "      <td>-1.162288</td>\n",
       "      <td>-1.174820</td>\n",
       "      <td>0.130359</td>\n",
       "      <td>59.450441</td>\n",
       "    </tr>\n",
       "    <tr>\n",
       "      <th>50%</th>\n",
       "      <td>0.009424</td>\n",
       "      <td>-0.009482</td>\n",
       "      <td>2.484236</td>\n",
       "      <td>94.925613</td>\n",
       "    </tr>\n",
       "    <tr>\n",
       "      <th>75%</th>\n",
       "      <td>1.158535</td>\n",
       "      <td>1.163678</td>\n",
       "      <td>4.858794</td>\n",
       "      <td>130.595027</td>\n",
       "    </tr>\n",
       "    <tr>\n",
       "      <th>max</th>\n",
       "      <td>7.238262</td>\n",
       "      <td>7.844801</td>\n",
       "      <td>16.739402</td>\n",
       "      <td>190.029838</td>\n",
       "    </tr>\n",
       "  </tbody>\n",
       "</table>\n",
       "</div>"
      ],
      "text/plain": [
       "                  f0             f1             f2        product\n",
       "count  100000.000000  100000.000000  100000.000000  100000.000000\n",
       "mean        0.002023      -0.002081       2.495128      95.000000\n",
       "std         1.732045       1.730417       3.473445      44.749921\n",
       "min        -8.760004      -7.084020     -11.970335       0.000000\n",
       "25%        -1.162288      -1.174820       0.130359      59.450441\n",
       "50%         0.009424      -0.009482       2.484236      94.925613\n",
       "75%         1.158535       1.163678       4.858794     130.595027\n",
       "max         7.238262       7.844801      16.739402     190.029838"
      ]
     },
     "execution_count": 6,
     "metadata": {},
     "output_type": "execute_result"
    }
   ],
   "source": [
    "print('\\x1B[1m' + 'Geography 2 - underlying statistics:'+ '\\x1B[0m')\n",
    "geo_data_2.describe()"
   ]
  },
  {
   "cell_type": "markdown",
   "metadata": {},
   "source": [
    "**`Findings`**\n",
    "\n",
    "1. Imported the fundamental libraries to manipulate data if needed as well as the model selection, metrics available to us and preprocessing aid.\n",
    "    \n",
    "    \n",
    "2. The three data sets have the same amount of columns/entries and dtypes, no perceived NaN values. There's little reason to combine the data sets into one: they have different data distributions.\n",
    "    \n",
    "3. Can see variability off the bat when running `describe()` especially with the levels of magnitude for the values across the data sets (*oil quality*).\n",
    "    \n",
    "    \n",
    "4. There are no duplicate rows but there are instances of id duplication for each data set (*the numeric features aren't the same*)."
   ]
  },
  {
   "attachments": {
    "image.png": {
     "image/png": "[encoded data removed]"
    }
   },
   "cell_type": "markdown",
   "metadata": {},
   "source": [
    "![image.png](attachment:image.png)"
   ]
  },
  {
   "cell_type": "markdown",
   "metadata": {},
   "source": [
    "`geo_data_0`"
   ]
  },
  {
   "cell_type": "code",
   "execution_count": 7,
   "metadata": {},
   "outputs": [],
   "source": [
    "#splitting the data into a training and validation set\n",
    "\n",
    "features_0 = geo_data_0.drop(['id','product'], axis=1) # extracting features, removing redundant ('id')\n",
    "target_0 = geo_data_0['product'] # extracting target\n",
    "\n",
    "features_train_0, features_valid_0, target_train_0, target_valid_0 = train_test_split(features_0, target_0, \n",
    "                                                                              test_size=0.25, \n",
    "                                                                              random_state=12345)\n",
    "\n",
    "model = LinearRegression()\n",
    "model.fit(features_train_0, target_train_0) # training the model\n",
    "predicted_valid_0 = model.predict(features_valid_0) # collecting predictions\n"
   ]
  },
  {
   "cell_type": "code",
   "execution_count": 8,
   "metadata": {},
   "outputs": [
    {
     "name": "stdout",
     "output_type": "stream",
     "text": [
      "\u001b[1mLinear Regression:\u001b[0m\n",
      "MSE on validation set= 1412.2129364399243\n",
      "RMSE on validation set= 37.5794217150813\n"
     ]
    }
   ],
   "source": [
    "mse = mean_squared_error(target_valid_0, predicted_valid_0)\n",
    "\n",
    "print('\\x1B[1m' + 'Linear Regression:'+ '\\x1B[0m')\n",
    "print('MSE on validation set=', mse)\n",
    "print('RMSE on validation set=', mse ** 0.5)\n"
   ]
  },
  {
   "cell_type": "code",
   "execution_count": 9,
   "metadata": {},
   "outputs": [
    {
     "name": "stdout",
     "output_type": "stream",
     "text": [
      "\u001b[1mMean:\u001b[0m\n",
      "MSE = 1961.5678757223516\n",
      "RMSE = 44.289591053907365\n"
     ]
    }
   ],
   "source": [
    "#sanity check with a constant model\n",
    "#predicting the mean target value for each observation\n",
    "\n",
    "predicted_valid_0_constant = pd.Series(target_train_0.mean(), index = target_valid_0.index)\n",
    "mse = mean_squared_error(target_valid_0, predicted_valid_0_constant)\n",
    "\n",
    "print('\\x1B[1m' + 'Mean:'+ '\\x1B[0m')\n",
    "print('MSE =', mse)\n",
    "print('RMSE =', mse ** 0.5)\n",
    "\n",
    "#RMSE delta of ~7 points, oil reserve volume"
   ]
  },
  {
   "cell_type": "code",
   "execution_count": 10,
   "metadata": {},
   "outputs": [
    {
     "name": "stdout",
     "output_type": "stream",
     "text": [
      "\u001b[1mAverage Prediction of Oil Reserve Volume:\u001b[0m\n",
      "92.59256778438035\n"
     ]
    }
   ],
   "source": [
    "#average volume of predicted oil reserves\n",
    "\n",
    "print('\\x1B[1m' + 'Average Prediction of Oil Reserve Volume:'+ '\\x1B[0m')\n",
    "print(predicted_valid_0.mean()) #close to the value under our previous view into the data sets statistics"
   ]
  },
  {
   "cell_type": "code",
   "execution_count": 11,
   "metadata": {},
   "outputs": [
    {
     "name": "stdout",
     "output_type": "stream",
     "text": [
      "\u001b[1mR2 value starting point:\u001b[0m\n",
      "R2 = 0.27994321524487786\n",
      "\n",
      "\u001b[1mComparing R2 value across training and validation set:\u001b[0m\n",
      "R2 value on training set =  0.27423906493940775\n",
      "R2 value on validation set =  0.27994321524487786\n"
     ]
    }
   ],
   "source": [
    "#r2 metric\n",
    "#greater than zero is good\n",
    "#if metric increases, so does model quality\n",
    "\n",
    "#benchmark\n",
    "print('\\x1B[1m' + 'R2 value starting point:'+ '\\x1B[0m')\n",
    "print('R2 =', r2_score(target_valid_0, predicted_valid_0))\n",
    "print('')\n",
    "print('\\x1B[1m' + 'Comparing R2 value across training and validation set:'+ '\\x1B[0m')\n",
    "#r2 value on training set\n",
    "print(\"R2 value on training set = \", model.score(features_train_0, target_train_0))\n",
    "#r2 valu on validation set\n",
    "print(\"R2 value on validation set = \", model.score(features_valid_0, target_valid_0))\n",
    "\n",
    "#as expected, there is less possible overfitting/underfitting impact with the linear regression model"
   ]
  },
  {
   "cell_type": "code",
   "execution_count": 12,
   "metadata": {},
   "outputs": [
    {
     "name": "stdout",
     "output_type": "stream",
     "text": [
      "\u001b[1mMean error for each observation:\u001b[0m\n",
      "MAE =  30.919600777151324\n",
      "\n",
      "\u001b[1mComparing MAE value across training and validation set:\u001b[0m\n",
      "MAE value on training set =  31.079961075786308\n",
      "MAE value on validation set =  30.919600777151324\n"
     ]
    }
   ],
   "source": [
    "#mean absolute error\n",
    "\n",
    "\n",
    "print('\\x1B[1m' + 'Mean error for each observation:'+ '\\x1B[0m')\n",
    "print('MAE = ', mean_absolute_error(target_valid_0, predicted_valid_0))\n",
    "#print('\\x1B[1m' + 'Mean error for each observation in % terms:'+ '\\x1B[0m')\n",
    "#print('MAPE = ', mean_absolute_percentage_error(target_valid, predicted_valid))\n",
    "#mean error for each observation is ~30\n",
    "\n",
    "\n",
    "predicted_valid_0 = model.predict(features_valid_0)\n",
    "predicted_train_0 = model.predict(features_train_0)\n",
    "\n",
    "print('')\n",
    "print('\\x1B[1m' + 'Comparing MAE value across training and validation set:'+ '\\x1B[0m')\n",
    "#r2 value on training set\n",
    "print(\"MAE value on training set = \", mean_absolute_error(target_train_0, predicted_train_0))\n",
    "#r2 valu on validation set\n",
    "print(\"MAE value on validation set = \", mean_absolute_error(target_valid_0, predicted_valid_0))\n"
   ]
  },
  {
   "cell_type": "markdown",
   "metadata": {},
   "source": [
    "**`Findings`**\n",
    "\n",
    "1. Comparing our benchmark model vs our constant model per our sanity check procedure, we find a difference under our RMSE of ~7 points which is the delta in oil reserve volume.\n",
    "    \n",
    "    \n",
    "2. Our average predicted oil reserve volume comes out to about 92.59 which is very close to our initally inspected value using `describe()` in our earlier code block. Our average oil reserve was 92.50 in the data exploration phase.\n",
    "    \n",
    "    \n",
    "3. R2 scores weren't the highest but were still above 0. We run a comparison across the training and validation set to compare results which reinforces how LinearRegression is more impervious to overfitting/underfitting.\n",
    "    \n",
    "    \n",
    "4. Calculating MAE, we find ourselves with a mean error for each observation of about ~30 points with a similar story when comparing across the training and validation set (w/minimal deviation across both sets)."
   ]
  },
  {
   "cell_type": "code",
   "execution_count": 13,
   "metadata": {},
   "outputs": [
    {
     "name": "stdout",
     "output_type": "stream",
     "text": [
      "\u001b[1mAverage Prediction of Oil Reserve Volume:\u001b[0m\n",
      "93\n",
      "\u001b[1mAverage Breakeven Point:\u001b[0m\n",
      "111\n",
      "\u001b[1mDifference between Average Volume Prediction and Average Breakeven:\u001b[0m\n",
      "18\n"
     ]
    }
   ],
   "source": [
    "#average volume of predicted oil reserves\n",
    "\n",
    "print('\\x1B[1m' + 'Average Prediction of Oil Reserve Volume:'+ '\\x1B[0m')\n",
    "print(round(predicted_valid_0.mean())) #close to the value under our previous view into the data sets statistics\n",
    "\n",
    "#comparing the above to the breakeven point\n",
    "product_rev = 4500\n",
    "budget = 100000000\n",
    "breakeven = round(int(budget/product_rev)/200)\n",
    "print('\\x1B[1m' + 'Average Breakeven Point:'+ '\\x1B[0m')\n",
    "print(breakeven)\n",
    "\n",
    "\n",
    "print('\\x1B[1m' + 'Difference between Average Volume Prediction and Average Breakeven:'+ '\\x1B[0m')\n",
    "print(round(breakeven - predicted_valid_0.mean()))\n",
    "breakeven_0 = breakeven - predicted_valid_0.mean()"
   ]
  },
  {
   "cell_type": "code",
   "execution_count": 14,
   "metadata": {},
   "outputs": [],
   "source": [
    "#function to format numbers into more readable instances\n",
    "\n",
    "def revenue_format(number):\n",
    "    units = ['', 'K', 'M', 'B', 'T']\n",
    "    k = 1000.0\n",
    "    magnitude = int(floor(log(number, k)))\n",
    "    return '%.2f%s' % (number / k**magnitude, units[magnitude])\n"
   ]
  },
  {
   "cell_type": "markdown",
   "metadata": {},
   "source": [
    "`geo_data_1`"
   ]
  },
  {
   "cell_type": "code",
   "execution_count": 15,
   "metadata": {},
   "outputs": [],
   "source": [
    "#splitting the data into a training and validation set\n",
    "\n",
    "features_1 = geo_data_1.drop(['id','product'], axis=1) # extracting features, removing redundant ('id')\n",
    "target_1 = geo_data_1['product'] # extracting target\n",
    "\n",
    "features_train_1, features_valid_1, target_train_1, target_valid_1 = train_test_split(features_1, target_1, \n",
    "                                                                              test_size=0.25, \n",
    "                                                                              random_state=12345)\n",
    "model = LinearRegression()\n",
    "model.fit(features_train_1, target_train_1) # training the model\n",
    "predicted_valid_1 = model.predict(features_valid_1) # collecting predictions\n"
   ]
  },
  {
   "cell_type": "code",
   "execution_count": 16,
   "metadata": {},
   "outputs": [
    {
     "name": "stdout",
     "output_type": "stream",
     "text": [
      "\u001b[1mLinear Regression:\u001b[0m\n",
      "MSE on validation set= 0.7976263360391147\n",
      "RMSE on validation set= 0.8930992867756165\n"
     ]
    }
   ],
   "source": [
    "mse = mean_squared_error(target_valid_1, predicted_valid_1)\n",
    "\n",
    "print('\\x1B[1m' + 'Linear Regression:'+ '\\x1B[0m')\n",
    "print('MSE on validation set=', mse)\n",
    "print('RMSE on validation set=', mse ** 0.5)\n",
    "\n",
    "#MSE and RMSE come out as decimals, standard scaling helps but ->\n",
    "#have a feeling there is some sort of error here that eventually gets me to an R2 score of 0.99\n",
    "#perhaps has to do with some of the min values in thed data set being around -30 which makes me doubt the scaling\n",
    "#maybe normalizing does the trick instead?\n",
    "\n",
    "#***refreshing kernel gives me values like 0.79 and 0.89 but once I run this code block that changes...***"
   ]
  },
  {
   "cell_type": "code",
   "execution_count": 17,
   "metadata": {},
   "outputs": [
    {
     "name": "stdout",
     "output_type": "stream",
     "text": [
      "\u001b[1mMean:\u001b[0m\n",
      "MSE = 2117.9734309299147\n",
      "RMSE = 46.02144533725462\n"
     ]
    }
   ],
   "source": [
    "#sanity check with a constant model\n",
    "#predicting the mean target value for each observation\n",
    "\n",
    "predicted_valid_1_constant = pd.Series(target_train_1.mean(), index = target_valid_1.index)\n",
    "mse = mean_squared_error(target_valid_1, predicted_valid_1_constant)\n",
    "\n",
    "print('\\x1B[1m' + 'Mean:'+ '\\x1B[0m')\n",
    "print('MSE =', mse)\n",
    "print('RMSE =', mse ** 0.5)\n",
    "\n",
    "#RMSE delta of ~6 points, oil reserve volume"
   ]
  },
  {
   "cell_type": "code",
   "execution_count": 18,
   "metadata": {},
   "outputs": [
    {
     "name": "stdout",
     "output_type": "stream",
     "text": [
      "\u001b[1mAverage Prediction of Oil Reserve Volume:\u001b[0m\n",
      "68.728546895446\n"
     ]
    }
   ],
   "source": [
    "#average volume of predicted oil reserves\n",
    "\n",
    "print('\\x1B[1m' + 'Average Prediction of Oil Reserve Volume:'+ '\\x1B[0m')\n",
    "print(predicted_valid_1.mean()) #close to the value under our previous view into the data sets statistics"
   ]
  },
  {
   "cell_type": "code",
   "execution_count": 19,
   "metadata": {},
   "outputs": [
    {
     "name": "stdout",
     "output_type": "stream",
     "text": [
      "\u001b[1mR2 value starting point:\u001b[0m\n",
      "R2 = 0.9996233978805127\n",
      "\n",
      "\u001b[1mComparing R2 value across training and validation set:\u001b[0m\n",
      "R2 value on training set =  0.9996247760326118\n",
      "R2 value on validation set =  0.9996233978805127\n"
     ]
    }
   ],
   "source": [
    "#r2 metric\n",
    "#greater than zero is good\n",
    "#if metric increases, so does model quality\n",
    "\n",
    "#benchmark\n",
    "print('\\x1B[1m' + 'R2 value starting point:'+ '\\x1B[0m')\n",
    "print('R2 =', r2_score(target_valid_1, predicted_valid_1))\n",
    "print('')\n",
    "print('\\x1B[1m' + 'Comparing R2 value across training and validation set:'+ '\\x1B[0m')\n",
    "#r2 value on training set\n",
    "print(\"R2 value on training set = \", model.score(features_train_1, target_train_1))\n",
    "#r2 valu on validation set\n",
    "print(\"R2 value on validation set = \", model.score(features_valid_1, target_valid_1))\n"
   ]
  },
  {
   "cell_type": "code",
   "execution_count": 20,
   "metadata": {},
   "outputs": [
    {
     "name": "stdout",
     "output_type": "stream",
     "text": [
      "\u001b[1mMean error for each observation:\u001b[0m\n",
      "MAE =  0.7187662442124753\n",
      "\n",
      "\u001b[1mComparing MAE value across training and validation set:\u001b[0m\n",
      "MAE value on training set =  0.7168438837861943\n",
      "MAE value on validation set =  0.7187662442124753\n"
     ]
    }
   ],
   "source": [
    "#mean absolute error\n",
    "\n",
    "predicted_valid_1 = model.predict(features_valid_1)\n",
    "predicted_train_1 = model.predict(features_train_1)\n",
    "\n",
    "print('\\x1B[1m' + 'Mean error for each observation:'+ '\\x1B[0m')\n",
    "print('MAE = ', mean_absolute_error(target_valid_1, predicted_valid_1))\n",
    "\n",
    "#mean error for each observation is ~30\n",
    "\n",
    "print('')\n",
    "print('\\x1B[1m' + 'Comparing MAE value across training and validation set:'+ '\\x1B[0m')\n",
    "#r2 value on training set\n",
    "print(\"MAE value on training set = \", mean_absolute_error(target_train_1, predicted_train_1))\n",
    "#r2 valu on validation set\n",
    "print(\"MAE value on validation set = \", mean_absolute_error(target_valid_1, predicted_valid_1))"
   ]
  },
  {
   "cell_type": "code",
   "execution_count": 21,
   "metadata": {},
   "outputs": [
    {
     "name": "stdout",
     "output_type": "stream",
     "text": [
      "\u001b[1mAverage Prediction of Oil Reserve Volume:\u001b[0m\n",
      "69\n",
      "\u001b[1mAverage Breakeven Point:\u001b[0m\n",
      "111\n",
      "\u001b[1mDifference between Average Volume Prediction and Average Breakeven:\u001b[0m\n",
      "42\n"
     ]
    }
   ],
   "source": [
    "#average volume of predicted oil reserves\n",
    "\n",
    "print('\\x1B[1m' + 'Average Prediction of Oil Reserve Volume:'+ '\\x1B[0m')\n",
    "print(round(predicted_valid_1.mean())) #close to the value under our previous view into the data sets statistics\n",
    "\n",
    "#comparing the above to the breakeven point\n",
    "product_rev = 4500\n",
    "budget = 100000000\n",
    "breakeven = round(int(budget/product_rev)/200)\n",
    "print('\\x1B[1m' + 'Average Breakeven Point:'+ '\\x1B[0m')\n",
    "print(breakeven)\n",
    "\n",
    "\n",
    "print('\\x1B[1m' + 'Difference between Average Volume Prediction and Average Breakeven:'+ '\\x1B[0m')\n",
    "print(round(breakeven - predicted_valid_1.mean()))\n",
    "breakeven_1 = breakeven - predicted_valid_1.mean()"
   ]
  },
  {
   "cell_type": "markdown",
   "metadata": {},
   "source": [
    "`geo_data_2`"
   ]
  },
  {
   "cell_type": "code",
   "execution_count": 22,
   "metadata": {},
   "outputs": [],
   "source": [
    "#splitting the data into a training and validation set\n",
    "\n",
    "features_2 = geo_data_2.drop(['id','product'], axis=1) # extracting features, removing redundant ('id')\n",
    "target_2 = geo_data_2['product'] # extracting target\n",
    "\n",
    "features_train_2, features_valid_2, target_train_2, target_valid_2 = train_test_split(features_2, target_2, \n",
    "                                                                              test_size=0.25, \n",
    "                                                                              random_state=12345)\n",
    "model = LinearRegression()\n",
    "model.fit(features_train_2, target_train_2) # training the model\n",
    "predicted_valid_2 = model.predict(features_valid_2) # collecting predictions\n"
   ]
  },
  {
   "cell_type": "code",
   "execution_count": 23,
   "metadata": {},
   "outputs": [
    {
     "name": "stdout",
     "output_type": "stream",
     "text": [
      "\u001b[1mLinear Regression:\u001b[0m\n",
      "MSE on validation set= 1602.3775813236196\n",
      "RMSE on validation set= 40.02970873393434\n"
     ]
    }
   ],
   "source": [
    "mse = mean_squared_error(target_valid_2, predicted_valid_2)\n",
    "\n",
    "print('\\x1B[1m' + 'Linear Regression:'+ '\\x1B[0m')\n",
    "print('MSE on validation set=', mse)\n",
    "print('RMSE on validation set=', mse ** 0.5)\n",
    "\n",
    "#same values here compared to geo_data_1, not sure why but I guess it's a possibility"
   ]
  },
  {
   "cell_type": "code",
   "execution_count": 24,
   "metadata": {},
   "outputs": [
    {
     "name": "stdout",
     "output_type": "stream",
     "text": [
      "\u001b[1mMean:\u001b[0m\n",
      "MSE = 2016.2210072435087\n",
      "RMSE = 44.90234968510566\n"
     ]
    }
   ],
   "source": [
    "#sanity check with a constant model\n",
    "#predicting the mean target value for each observation\n",
    "\n",
    "predicted_valid_2_constant = pd.Series(target_train_2.mean(), index = target_valid_2.index)\n",
    "mse = mean_squared_error(target_valid_2, predicted_valid_2_constant)\n",
    "\n",
    "print('\\x1B[1m' + 'Mean:'+ '\\x1B[0m')\n",
    "print('MSE =', mse)\n",
    "print('RMSE =', mse ** 0.5)\n",
    "\n",
    "#RMSE delta of ~4 points, oil reserve volume"
   ]
  },
  {
   "cell_type": "code",
   "execution_count": 25,
   "metadata": {},
   "outputs": [
    {
     "name": "stdout",
     "output_type": "stream",
     "text": [
      "\u001b[1mAverage Prediction of Oil Reserve Volume:\u001b[0m\n",
      "94.96504596800492\n"
     ]
    }
   ],
   "source": [
    "#average volume of predicted oil reserves\n",
    "\n",
    "print('\\x1B[1m' + 'Average Prediction of Oil Reserve Volume:'+ '\\x1B[0m')\n",
    "print(predicted_valid_2.mean()) #close to the value under our previous view into the data sets statistics"
   ]
  },
  {
   "cell_type": "code",
   "execution_count": 26,
   "metadata": {},
   "outputs": [
    {
     "name": "stdout",
     "output_type": "stream",
     "text": [
      "\u001b[1mR2 value starting point:\u001b[0m\n",
      "R2 = 0.20524758386040443\n",
      "\n",
      "\u001b[1mComparing R2 value across training and validation set:\u001b[0m\n",
      "R2 value on training set =  0.19661432867329998\n",
      "R2 value on validation set =  0.20524758386040443\n"
     ]
    }
   ],
   "source": [
    "#r2 metric\n",
    "#greater than zero is good\n",
    "#if metric increases, so does model quality\n",
    "\n",
    "#benchmark\n",
    "print('\\x1B[1m' + 'R2 value starting point:'+ '\\x1B[0m')\n",
    "print('R2 =', r2_score(target_valid_2, predicted_valid_2))\n",
    "print('')\n",
    "print('\\x1B[1m' + 'Comparing R2 value across training and validation set:'+ '\\x1B[0m')\n",
    "#r2 value on training set\n",
    "print(\"R2 value on training set = \", model.score(features_train_2, target_train_2))\n",
    "#r2 valu on validation set\n",
    "print(\"R2 value on validation set = \", model.score(features_valid_2, target_valid_2))\n"
   ]
  },
  {
   "cell_type": "code",
   "execution_count": 27,
   "metadata": {},
   "outputs": [
    {
     "name": "stdout",
     "output_type": "stream",
     "text": [
      "\u001b[1mMean error for each observation:\u001b[0m\n",
      "MAE =  32.79265210548182\n",
      "\n",
      "\u001b[1mComparing MAE value across training and validation set:\u001b[0m\n",
      "MAE value on training set =  32.83941121639209\n",
      "MAE value on validation set =  32.79265210548182\n"
     ]
    }
   ],
   "source": [
    "#mean absolute error\n",
    "\n",
    "predicted_valid_2 = model.predict(features_valid_2)\n",
    "predicted_train_2 = model.predict(features_train_2)\n",
    "\n",
    "print('\\x1B[1m' + 'Mean error for each observation:'+ '\\x1B[0m')\n",
    "print('MAE = ', mean_absolute_error(target_valid_2, predicted_valid_2))\n",
    "\n",
    "#mean error for each observation is ~30\n",
    "\n",
    "print('')\n",
    "print('\\x1B[1m' + 'Comparing MAE value across training and validation set:'+ '\\x1B[0m')\n",
    "#r2 value on training set\n",
    "print(\"MAE value on training set = \", mean_absolute_error(target_train_2, predicted_train_2))\n",
    "#r2 valu on validation set\n",
    "print(\"MAE value on validation set = \", mean_absolute_error(target_valid_2, predicted_valid_2))"
   ]
  },
  {
   "cell_type": "markdown",
   "metadata": {},
   "source": [
    "**`Findings`**\n",
    "\n",
    "1. When comparing the RMSE, we see the lowest delta out of the regions with a ~4 point difference in oil reserve volume vs the constant model.\n",
    "    \n",
    "    \n",
    "2. Average prediction for oil well volume is quite aligned to our initial observation when exploring the data. This value is higher than Region 0's average predicted volume.\n",
    "    \n",
    "    \n",
    "3. R2 scores and MAE observations are somewhat similar to those under Region 0."
   ]
  },
  {
   "cell_type": "code",
   "execution_count": 28,
   "metadata": {},
   "outputs": [
    {
     "name": "stdout",
     "output_type": "stream",
     "text": [
      "\u001b[1mAverage Prediction of Oil Reserve Volume:\u001b[0m\n",
      "95\n",
      "\u001b[1mAverage Breakeven Point:\u001b[0m\n",
      "111\n",
      "\u001b[1mDifference between Average Volume Prediction and Average Breakeven:\u001b[0m\n",
      "16\n"
     ]
    }
   ],
   "source": [
    "#average volume of predicted oil reserves\n",
    "\n",
    "print('\\x1B[1m' + 'Average Prediction of Oil Reserve Volume:'+ '\\x1B[0m')\n",
    "print(round(predicted_valid_2.mean())) #close to the value under our previous view into the data sets statistics\n",
    "\n",
    "#comparing the above to the breakeven point\n",
    "product_rev = 4500\n",
    "budget = 100000000\n",
    "breakeven = round(int(budget/product_rev)/200)\n",
    "print('\\x1B[1m' + 'Average Breakeven Point:'+ '\\x1B[0m')\n",
    "print(breakeven)\n",
    "\n",
    "\n",
    "print('\\x1B[1m' + 'Difference between Average Volume Prediction and Average Breakeven:'+ '\\x1B[0m')\n",
    "print(round(breakeven - predicted_valid_2.mean()))\n",
    "breakeven_2 = breakeven - predicted_valid_2.mean()"
   ]
  },
  {
   "cell_type": "markdown",
   "metadata": {},
   "source": [
    "**`Findings`**\n",
    "\n",
    "1. Conclusion from the breakeven analysis is that we are set to lose money in all Regions since breakeven is above ***all*** predicted volume amounts, w/o any bootstrapping or the selection of tops predictions. Meaning that as of right now, the model isn't very helpful, yet."
   ]
  },
  {
   "attachments": {
    "image.png": {
     "image/png": "[encoded data removed]"
    }
   },
   "cell_type": "markdown",
   "metadata": {},
   "source": [
    "![image.png](attachment:image.png)"
   ]
  },
  {
   "cell_type": "markdown",
   "metadata": {},
   "source": [
    "`Profit and Risk Calculation`"
   ]
  },
  {
   "cell_type": "code",
   "execution_count": 29,
   "metadata": {},
   "outputs": [],
   "source": [
    "#creating a function to calculate profit from a set of selected oil wells and model predictions\n",
    "#need to pick the wells with the highest values of predictions\n",
    "\n",
    "def refined_profit_calc(target, predictions, count):\n",
    "    pred_sorted = predictions.sort_values(ascending=False)\n",
    "    selected = target[pred_sorted.index][:count]\n",
    "    budget = 100000000\n",
    "    product_rev = 4500\n",
    "    return (selected.sum() * product_rev) - budget"
   ]
  },
  {
   "cell_type": "code",
   "execution_count": 30,
   "metadata": {
    "scrolled": true
   },
   "outputs": [
    {
     "name": "stdout",
     "output_type": "stream",
     "text": [
      "\u001b[1mTotal Profit per Region (Top 200 Predictions - Oil Wells):\u001b[0m\n",
      "Region 0: 33.21M\n",
      "\n",
      "Region 1: 24.15M\n",
      "\n",
      "Region 2: 27.10M\n",
      "\n",
      "\u001b[1mTarget Volume of Reserves (Top 200 Predictions - Oil Wells):\u001b[0m\n",
      "Region 0: 18.18K\n",
      "\n",
      "Region 1: 13.35K\n",
      "\n",
      "Region 2: 18.92K\n",
      "\n"
     ]
    }
   ],
   "source": [
    "#region 0\n",
    "predicted_valid_0 = pd.Series(predicted_valid_0).reset_index(drop=True)\n",
    "target_valid_0 = pd.Series(target_valid_0).reset_index(drop=True)  \n",
    "#region 1\n",
    "predicted_valid_1 = pd.Series(predicted_valid_1).reset_index(drop=True)\n",
    "target_valid_1 = pd.Series(target_valid_1).reset_index(drop=True)   \n",
    "#region 2\n",
    "predicted_valid_2 = pd.Series(predicted_valid_2).reset_index(drop=True)\n",
    "target_valid_2 = pd.Series(target_valid_2).reset_index(drop=True)   \n",
    "\n",
    "    \n",
    "print('\\x1B[1m' + 'Total Profit per Region (Top 200 Predictions - Oil Wells):'+ '\\x1B[0m')\n",
    "print('Region 0:', revenue_format(refined_profit_calc(target_valid_0, predicted_valid_0, 200)))\n",
    "print('')\n",
    "print('Region 1:', revenue_format(refined_profit_calc(target_valid_1, predicted_valid_1, 200)))\n",
    "print('')\n",
    "print('Region 2:', revenue_format(refined_profit_calc(target_valid_2, predicted_valid_2, 200)))\n",
    "print('')\n",
    "\n",
    "print('\\x1B[1m' + 'Target Volume of Reserves (Top 200 Predictions - Oil Wells):'+ '\\x1B[0m')\n",
    "print('Region 0:', revenue_format(target_valid_0[predicted_valid_0.index][:200].sum()))\n",
    "print('')\n",
    "print('Region 1:', revenue_format(target_valid_1[predicted_valid_1.index][:200].sum()))\n",
    "print('')\n",
    "print('Region 2:', revenue_format(target_valid_2[predicted_valid_2.index][:200].sum()))\n",
    "print('')"
   ]
  },
  {
   "cell_type": "markdown",
   "metadata": {},
   "source": [
    "**`Findings`**\n",
    "    \n",
    "1. Region 0 brings in the most revenue taking into account cost which is a profit of $33M ($7M more than the next region). Target reserve volume varies across the regions with Region 2 having the highest overall target volume followed by Region 0.\n",
    "    \n",
    "\n",
    "2. If we are to pick the highest estimated values/highest profit from the predictions - the suggestion would be to focus on Region 0. While this region has a slightly higher delta between average prediction and the average breakeven point compared Region 2 (lower MAE however), it is predicted to bring a higher overall revenue when prediction the top 200 oil wells in our model.\n",
    "\n",
    "3. The values are maximum profit values ***if*** we're lucky enough that all top 200 wells in the respective regions are contained in the small samples of 500 random locations."
   ]
  },
  {
   "attachments": {
    "image-2.png": {
     "image/png": "[encoded data removed]"
    }
   },
   "cell_type": "markdown",
   "metadata": {},
   "source": [
    "![image-2.png](attachment:image-2.png)"
   ]
  },
  {
   "cell_type": "code",
   "execution_count": 31,
   "metadata": {},
   "outputs": [],
   "source": [
    "def bootstrap(target, predictions, count):\n",
    "    pred_sorted = predictions.reset_index(drop=True).sort_values(ascending=False)\n",
    "    selected = target.reset_index(drop=True)[pred_sorted.index][:count]\n",
    "    budget = 100000000\n",
    "    product_rev = 4500\n",
    "    return (selected.sum() * product_rev) - budget"
   ]
  },
  {
   "cell_type": "markdown",
   "metadata": {},
   "source": [
    "`Distribution and Average Profit:`"
   ]
  },
  {
   "cell_type": "code",
   "execution_count": 38,
   "metadata": {},
   "outputs": [
    {
     "name": "stdout",
     "output_type": "stream",
     "text": [
      "\n",
      "\u001b[1mLower Quantile:\u001b[0m -1112155.4589049604\n",
      "\u001b[1mUpper Quantile:\u001b[0m 9097669.41553423\n",
      "\u001b[1mMean:\u001b[0m 3961649.8480237117\n",
      "\u001b[1m95% confidence interval:\u001b[0m (3796203.1514797257, 4127096.5445676977)\n",
      "\n",
      "\u001b[1mAverage Profit for Region 0:\u001b[0m\n",
      "3.96M\n",
      "\n",
      "\u001b[1mProfit Distribution for Region 0:\u001b[0m\n"
     ]
    },
    {
     "data": {
      "text/plain": [
       "<seaborn.axisgrid.FacetGrid at 0x1688b4710>"
      ]
     },
     "execution_count": 38,
     "metadata": {},
     "output_type": "execute_result"
    },
    {
     "data": {
      "image/png": "[encoded data removed]",
      "text/plain": [
       "<Figure size 1600x800 with 1 Axes>"
      ]
     },
     "metadata": {},
     "output_type": "display_data"
    }
   ],
   "source": [
    "#confidence intervals/quantiles\n",
    "state = np.random.RandomState(12345)\n",
    "\n",
    "profit_0 = []\n",
    "for i in range(1000):\n",
    "    target_subsample_0 = target_valid_0.sample(n=500,replace=True, random_state=state)\n",
    "    pred_subsample_0 = predicted_valid_0[target_subsample_0.index]\n",
    "    #print(pred_subsample)\n",
    "    profit_0.append(bootstrap(target_subsample_0, pred_subsample_0, 200))\n",
    "\n",
    "profit_0 = pd.Series(profit_0)\n",
    "neg_profit_0 = profit_0.where(profit_0 < 0).count()\n",
    "\n",
    "#confidence interval target\n",
    "confidence_interval = st.t.interval(confidence=0.95, df=len(profit_0)-1, loc=profit_0.mean(), scale=profit_0.sem())\n",
    "\n",
    "#quantile view\n",
    "lower = profit_0.quantile(0.025)\n",
    "upper = profit_0.quantile(0.975)\n",
    "print('')\n",
    "print('\\x1B[1m' + 'Lower Quantile:'+ '\\x1B[0m', lower)\n",
    "print('\\x1B[1m' + 'Upper Quantile:'+ '\\x1B[0m', upper)\n",
    "print('\\x1B[1m' + 'Mean:'+ '\\x1B[0m', profit_0.mean())\n",
    "print('\\x1B[1m' + '95% confidence interval:'+ '\\x1B[0m', confidence_interval)\n",
    "\n",
    "\n",
    "print('')\n",
    "average_profit_0 = profit_0.mean()\n",
    "print('\\x1B[1m' + 'Average Profit for Region 0:'+ '\\x1B[0m')\n",
    "print(revenue_format(average_profit_0))\n",
    "print('')\n",
    "\n",
    "print('\\x1B[1m' + 'Profit Distribution for Region 0:'+ '\\x1B[0m')\n",
    "sns.displot(profit_0, color=\"darkcyan\", height=8, aspect=2)"
   ]
  },
  {
   "cell_type": "code",
   "execution_count": 39,
   "metadata": {},
   "outputs": [
    {
     "name": "stdout",
     "output_type": "stream",
     "text": [
      "\n",
      "\u001b[1mLower Quantile:\u001b[0m 338205.0939898458\n",
      "\u001b[1mUpper Quantile:\u001b[0m 8522894.538660347\n",
      "\u001b[1mMean:\u001b[0m 4560451.057866608\n",
      "\u001b[1m95% confidence interval:\u001b[0m (4431472.486639005, 4689429.62909421)\n",
      "\n",
      "\u001b[1mAverage Profit for Region 1:\u001b[0m\n",
      "4.56M\n",
      "\n",
      "\u001b[1mProfit Distribution for Region 1:\u001b[0m\n"
     ]
    },
    {
     "data": {
      "text/plain": [
       "<seaborn.axisgrid.FacetGrid at 0x1694c56d0>"
      ]
     },
     "execution_count": 39,
     "metadata": {},
     "output_type": "execute_result"
    },
    {
     "data": {
      "image/png": "[encoded data removed]",
      "text/plain": [
       "<Figure size 1600x800 with 1 Axes>"
      ]
     },
     "metadata": {},
     "output_type": "display_data"
    }
   ],
   "source": [
    "#confidence intervals/quantiles\n",
    "state = np.random.RandomState(12345)\n",
    "\n",
    "profit_1 = []\n",
    "for i in range(1000):\n",
    "    target_subsample_1 = target_valid_1.sample(n=500,replace=True, random_state=state)\n",
    "    pred_subsample_1 = predicted_valid_1[target_subsample_1.index]\n",
    "    #print(pred_subsample)\n",
    "    profit_1.append(bootstrap(target_subsample_1, pred_subsample_1, 200))\n",
    "\n",
    "profit_1 = pd.Series(profit_1)\n",
    "neg_profit_1 = profit_1.where(profit_1 < 0).count()\n",
    "\n",
    "#confidence interval target\n",
    "confidence_interval = st.t.interval(confidence=0.95, df=len(profit_1)-1, loc=profit_1.mean(), scale=profit_1.sem())\n",
    "\n",
    "#quantile view\n",
    "lower = profit_1.quantile(0.025)\n",
    "upper = profit_1.quantile(0.975)\n",
    "print('')\n",
    "print('\\x1B[1m' + 'Lower Quantile:'+ '\\x1B[0m', lower)\n",
    "print('\\x1B[1m' + 'Upper Quantile:'+ '\\x1B[0m', upper)\n",
    "print('\\x1B[1m' + 'Mean:'+ '\\x1B[0m', profit_1.mean())\n",
    "print('\\x1B[1m' + '95% confidence interval:'+ '\\x1B[0m', confidence_interval)\n",
    "\n",
    "\n",
    "print('')\n",
    "average_profit_1 = profit_1.mean()\n",
    "print('\\x1B[1m' + 'Average Profit for Region 1:'+ '\\x1B[0m')\n",
    "print(revenue_format(average_profit_1))\n",
    "print('')\n",
    "\n",
    "print('\\x1B[1m' + 'Profit Distribution for Region 1:'+ '\\x1B[0m')\n",
    "sns.displot(profit_1, color=\"darkblue\", height=8, aspect=2)"
   ]
  },
  {
   "cell_type": "code",
   "execution_count": 40,
   "metadata": {},
   "outputs": [
    {
     "name": "stdout",
     "output_type": "stream",
     "text": [
      "\n",
      "\u001b[1mLower Quantile:\u001b[0m -1633504.1339559986\n",
      "\u001b[1mUpper Quantile:\u001b[0m 9503595.749237997\n",
      "\u001b[1mMean:\u001b[0m 4044038.665683568\n",
      "\u001b[1m95% confidence interval:\u001b[0m (3874457.974712804, 4213619.356654332)\n",
      "\n",
      "\u001b[1mAverage Profit for Region 2:\u001b[0m\n",
      "4.04M\n",
      "\n",
      "\u001b[1mProfit Distribution for Region 2:\u001b[0m\n"
     ]
    },
    {
     "data": {
      "text/plain": [
       "<seaborn.axisgrid.FacetGrid at 0x169482e10>"
      ]
     },
     "execution_count": 40,
     "metadata": {},
     "output_type": "execute_result"
    },
    {
     "data": {
      "image/png": "[encoded data removed]",
      "text/plain": [
       "<Figure size 1600x800 with 1 Axes>"
      ]
     },
     "metadata": {},
     "output_type": "display_data"
    }
   ],
   "source": [
    "#confidence intervals/quantiles\n",
    "state = np.random.RandomState(12345)\n",
    "\n",
    "neg_pred_profit = (predicted_valid_2 < 0).sum().sum()\n",
    "\n",
    "profit_2 = []\n",
    "for i in range(1000):\n",
    "    target_subsample_2 = target_valid_2.sample(n=500, replace=True, random_state=state)\n",
    "    pred_subsample_2 = predicted_valid_2[target_subsample_2.index]\n",
    "    profit_2.append(bootstrap(target_subsample_2, pred_subsample_2, 200))\n",
    "\n",
    "profit_2 = pd.Series(profit_2)\n",
    "neg_profit_2 = profit_2.where(profit_2 < 0).count()\n",
    "\n",
    "#confidence interval target\n",
    "confidence_interval = st.t.interval(confidence=0.95, df=len(profit_2)-1, loc=profit_2.mean(), scale=profit_2.sem())\n",
    "\n",
    "#quantile view\n",
    "lower = profit_2.quantile(0.025)\n",
    "upper = profit_2.quantile(0.975)\n",
    "print('')\n",
    "print('\\x1B[1m' + 'Lower Quantile:'+ '\\x1B[0m', lower)\n",
    "print('\\x1B[1m' + 'Upper Quantile:'+ '\\x1B[0m', upper)\n",
    "print('\\x1B[1m' + 'Mean:'+ '\\x1B[0m', profit_2.mean())\n",
    "print('\\x1B[1m' + '95% confidence interval:'+ '\\x1B[0m', confidence_interval)\n",
    "\n",
    "\n",
    "print('')\n",
    "average_profit_2 = profit_2.mean()\n",
    "print('\\x1B[1m' + 'Average Profit for Region 2:'+ '\\x1B[0m')\n",
    "print(revenue_format(average_profit_2))\n",
    "print('')\n",
    "\n",
    "print('\\x1B[1m' + 'Profit Distribution for Region 2:'+ '\\x1B[0m')\n",
    "sns.displot(profit_2, color=\"darkred\", height=8, aspect=2)"
   ]
  },
  {
   "cell_type": "markdown",
   "metadata": {},
   "source": [
    "**`Risk of Losses:`**"
   ]
  },
  {
   "cell_type": "code",
   "execution_count": 41,
   "metadata": {},
   "outputs": [
    {
     "name": "stdout",
     "output_type": "stream",
     "text": [
      "Risk of Losses for Region 0: 6.9%\n",
      "Risk of Losses for Region 1: 1.5%\n",
      "Risk of Losses for Region 2: 7.6%\n"
     ]
    }
   ],
   "source": [
    "#Loss = negative profit, calculate it as a probability and then express as a percentage.\n",
    "\n",
    "print(f\"Risk of Losses for Region 0: {(neg_profit_0/len(profit_0))*100}%\")\n",
    "\n",
    "print(f\"Risk of Losses for Region 1: {(neg_profit_1/len(profit_1))*100}%\")\n",
    "\n",
    "print(f\"Risk of Losses for Region 2: {(neg_profit_2/len(profit_2))*100}%\")\n",
    "\n",
    "#select regions with the risk of losses lower than 2.5%"
   ]
  },
  {
   "attachments": {
    "image.png": {
     "image/png": "[encoded data removed]"
    }
   },
   "cell_type": "markdown",
   "metadata": {},
   "source": [
    "![image.png](attachment:image.png)"
   ]
  },
  {
   "cell_type": "markdown",
   "metadata": {},
   "source": [
    "**`Findings and Oil Well Region Suggestion`**\n",
    "\n",
    "1. Initial findings suggested the selection of Region 0 based on preliminary predictions and taking a look into the top 200 oil wells (by predictions). Region 0 was predicted to bring in the most revenue followed by Region 2 then Region 1 at the very end (a ~9M difference between 1st and last). Target reserve volume followed a slightly different path with Region 2 having the highest values followed by Region 0 then lastly, Region 1. \n",
    "    \n",
    "    \n",
    "2. Utilizing the bootstrapping technique, we see a shift in the story where Region 1 is predicted to bring in the highhest average revenue out of the three Regions. Region 0 shows us the lowest mean value out of the 3 with a average profit of 3.96M, while Region 1 is the highest at 4.56M (4.04M for Region 2). Region 1's average profit falls neatly in between a 95% confidence internal that's less 'spread out' compared to the other 2 regions. It is also the only region without a negative lower quantile.\n",
    "\n",
    "    \n",
    "3. Finally, the Region 1 'shift' from our intial observations is strengthed based on risk of loss probability condition that we should not be selecting anything higher than a 2.5% risk of loss percentage where Region 1 is the only region with the probability of losses being under our prescribed threshold. \n",
    "\n",
    "    \n",
    "</div>"
   ]
  }
 ],
 "metadata": {
  "kernelspec": {
   "display_name": "Python 3 (ipykernel)",
   "language": "python",
   "name": "python3"
  },
  "language_info": {
   "codemirror_mode": {
    "name": "ipython",
    "version": 3
   },
   "file_extension": ".py",
   "mimetype": "text/x-python",
   "name": "python",
   "nbconvert_exporter": "python",
   "pygments_lexer": "ipython3",
   "version": "3.11.6"
  },
  "toc": {
   "base_numbering": 1,
   "nav_menu": {},
   "number_sections": true,
   "sideBar": true,
   "skip_h1_title": true,
   "title_cell": "Table of Contents",
   "title_sidebar": "Contents",
   "toc_cell": false,
   "toc_position": {},
   "toc_section_display": true,
   "toc_window_display": false
  }
 },
 "nbformat": 4,
 "nbformat_minor": 2
}
