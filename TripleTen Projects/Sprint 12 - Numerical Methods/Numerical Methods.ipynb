{
 "cells": [
  {
   "cell_type": "markdown",
   "metadata": {},
   "source": [
    "# Project description\n",
    "\n",
    "Rusty Bargain used car sales service is developing an app to attract new customers. In that app, you can quickly find out the market value of your car. You have access to historical data: technical specifications, trim versions, and prices. You need to build the model to determine the value. \n",
    "\n",
    "Rusty Bargain is interested in:\n",
    "\n",
    "1. the quality of the prediction;\n",
    "\n",
    "2. the speed of the prediction;\n",
    "\n",
    "3. the time required for training"
   ]
  },
  {
   "cell_type": "markdown",
   "metadata": {},
   "source": [
    "## Data preparation"
   ]
  },
  {
   "cell_type": "markdown",
   "metadata": {},
   "source": [
    "`libraries`"
   ]
  },
  {
   "cell_type": "code",
   "execution_count": 130,
   "metadata": {},
   "outputs": [],
   "source": [
    "import pandas as pd\n",
    "import numpy as np\n",
    "import matplotlib.pyplot as plt\n",
    "import seaborn as sns\n",
    "import plotly.express as px\n",
    "import math\n",
    "\n",
    "# Models\n",
    "from sklearn.ensemble import RandomForestRegressor\n",
    "from sklearn.tree import DecisionTreeRegressor\n",
    "from sklearn.linear_model import LinearRegression, SGDRegressor\n",
    "from sklearn import linear_model\n",
    "\n",
    "from sklearn.model_selection import train_test_split, RandomizedSearchCV\n",
    "from sklearn.metrics import mean_squared_error, confusion_matrix, classification_report, accuracy_score\n",
    "from sklearn.preprocessing import LabelEncoder\n",
    "from scipy.stats import randint as sp_randint\n",
    "\n",
    "\n",
    "# Boosting\n",
    "import lightgbm as lgb\n",
    "from lightgbm import LGBMClassifier\n",
    "from xgboost import XGBClassifier, XGBRegressor\n",
    "from catboost import CatBoostRegressor, Pool, metrics, cv\n",
    "import xgboost as xgb\n",
    "\n",
    "\n",
    "import warnings\n",
    "\n",
    "\n",
    "warnings.filterwarnings(\"ignore\")"
   ]
  },
  {
   "cell_type": "markdown",
   "metadata": {},
   "source": [
    "`data import`"
   ]
  },
  {
   "cell_type": "code",
   "execution_count": 131,
   "metadata": {},
   "outputs": [],
   "source": [
    "try:\n",
    "    df = pd.read_csv('/Users/dani/Data Science/TripleTen Projects/Project Data/Numerical Methods/car_data.csv')\n",
    "except:\n",
    "    print('Something is wrong with your data.')\n"
   ]
  },
  {
   "cell_type": "markdown",
   "metadata": {},
   "source": [
    "`data review`"
   ]
  },
  {
   "cell_type": "code",
   "execution_count": 132,
   "metadata": {},
   "outputs": [
    {
     "data": {
      "text/html": [
       "<div>\n",
       "<style scoped>\n",
       "    .dataframe tbody tr th:only-of-type {\n",
       "        vertical-align: middle;\n",
       "    }\n",
       "\n",
       "    .dataframe tbody tr th {\n",
       "        vertical-align: top;\n",
       "    }\n",
       "\n",
       "    .dataframe thead th {\n",
       "        text-align: right;\n",
       "    }\n",
       "</style>\n",
       "<table border=\"1\" class=\"dataframe\">\n",
       "  <thead>\n",
       "    <tr style=\"text-align: right;\">\n",
       "      <th></th>\n",
       "      <th>DateCrawled</th>\n",
       "      <th>Price</th>\n",
       "      <th>VehicleType</th>\n",
       "      <th>RegistrationYear</th>\n",
       "      <th>Gearbox</th>\n",
       "      <th>Power</th>\n",
       "      <th>Model</th>\n",
       "      <th>Mileage</th>\n",
       "      <th>RegistrationMonth</th>\n",
       "      <th>FuelType</th>\n",
       "      <th>Brand</th>\n",
       "      <th>NotRepaired</th>\n",
       "      <th>DateCreated</th>\n",
       "      <th>NumberOfPictures</th>\n",
       "      <th>PostalCode</th>\n",
       "      <th>LastSeen</th>\n",
       "    </tr>\n",
       "  </thead>\n",
       "  <tbody>\n",
       "    <tr>\n",
       "      <th>0</th>\n",
       "      <td>24/03/2016 11:52</td>\n",
       "      <td>480</td>\n",
       "      <td>NaN</td>\n",
       "      <td>1993</td>\n",
       "      <td>manual</td>\n",
       "      <td>0</td>\n",
       "      <td>golf</td>\n",
       "      <td>150000</td>\n",
       "      <td>0</td>\n",
       "      <td>petrol</td>\n",
       "      <td>volkswagen</td>\n",
       "      <td>NaN</td>\n",
       "      <td>24/03/2016 00:00</td>\n",
       "      <td>0</td>\n",
       "      <td>70435</td>\n",
       "      <td>07/04/2016 03:16</td>\n",
       "    </tr>\n",
       "    <tr>\n",
       "      <th>1</th>\n",
       "      <td>24/03/2016 10:58</td>\n",
       "      <td>18300</td>\n",
       "      <td>coupe</td>\n",
       "      <td>2011</td>\n",
       "      <td>manual</td>\n",
       "      <td>190</td>\n",
       "      <td>NaN</td>\n",
       "      <td>125000</td>\n",
       "      <td>5</td>\n",
       "      <td>gasoline</td>\n",
       "      <td>audi</td>\n",
       "      <td>yes</td>\n",
       "      <td>24/03/2016 00:00</td>\n",
       "      <td>0</td>\n",
       "      <td>66954</td>\n",
       "      <td>07/04/2016 01:46</td>\n",
       "    </tr>\n",
       "    <tr>\n",
       "      <th>2</th>\n",
       "      <td>14/03/2016 12:52</td>\n",
       "      <td>9800</td>\n",
       "      <td>suv</td>\n",
       "      <td>2004</td>\n",
       "      <td>auto</td>\n",
       "      <td>163</td>\n",
       "      <td>grand</td>\n",
       "      <td>125000</td>\n",
       "      <td>8</td>\n",
       "      <td>gasoline</td>\n",
       "      <td>jeep</td>\n",
       "      <td>NaN</td>\n",
       "      <td>14/03/2016 00:00</td>\n",
       "      <td>0</td>\n",
       "      <td>90480</td>\n",
       "      <td>05/04/2016 12:47</td>\n",
       "    </tr>\n",
       "    <tr>\n",
       "      <th>3</th>\n",
       "      <td>17/03/2016 16:54</td>\n",
       "      <td>1500</td>\n",
       "      <td>small</td>\n",
       "      <td>2001</td>\n",
       "      <td>manual</td>\n",
       "      <td>75</td>\n",
       "      <td>golf</td>\n",
       "      <td>150000</td>\n",
       "      <td>6</td>\n",
       "      <td>petrol</td>\n",
       "      <td>volkswagen</td>\n",
       "      <td>no</td>\n",
       "      <td>17/03/2016 00:00</td>\n",
       "      <td>0</td>\n",
       "      <td>91074</td>\n",
       "      <td>17/03/2016 17:40</td>\n",
       "    </tr>\n",
       "    <tr>\n",
       "      <th>4</th>\n",
       "      <td>31/03/2016 17:25</td>\n",
       "      <td>3600</td>\n",
       "      <td>small</td>\n",
       "      <td>2008</td>\n",
       "      <td>manual</td>\n",
       "      <td>69</td>\n",
       "      <td>fabia</td>\n",
       "      <td>90000</td>\n",
       "      <td>7</td>\n",
       "      <td>gasoline</td>\n",
       "      <td>skoda</td>\n",
       "      <td>no</td>\n",
       "      <td>31/03/2016 00:00</td>\n",
       "      <td>0</td>\n",
       "      <td>60437</td>\n",
       "      <td>06/04/2016 10:17</td>\n",
       "    </tr>\n",
       "  </tbody>\n",
       "</table>\n",
       "</div>"
      ],
      "text/plain": [
       "        DateCrawled  Price VehicleType  RegistrationYear Gearbox  Power  \\\n",
       "0  24/03/2016 11:52    480         NaN              1993  manual      0   \n",
       "1  24/03/2016 10:58  18300       coupe              2011  manual    190   \n",
       "2  14/03/2016 12:52   9800         suv              2004    auto    163   \n",
       "3  17/03/2016 16:54   1500       small              2001  manual     75   \n",
       "4  31/03/2016 17:25   3600       small              2008  manual     69   \n",
       "\n",
       "   Model  Mileage  RegistrationMonth  FuelType       Brand NotRepaired  \\\n",
       "0   golf   150000                  0    petrol  volkswagen         NaN   \n",
       "1    NaN   125000                  5  gasoline        audi         yes   \n",
       "2  grand   125000                  8  gasoline        jeep         NaN   \n",
       "3   golf   150000                  6    petrol  volkswagen          no   \n",
       "4  fabia    90000                  7  gasoline       skoda          no   \n",
       "\n",
       "        DateCreated  NumberOfPictures  PostalCode          LastSeen  \n",
       "0  24/03/2016 00:00                 0       70435  07/04/2016 03:16  \n",
       "1  24/03/2016 00:00                 0       66954  07/04/2016 01:46  \n",
       "2  14/03/2016 00:00                 0       90480  05/04/2016 12:47  \n",
       "3  17/03/2016 00:00                 0       91074  17/03/2016 17:40  \n",
       "4  31/03/2016 00:00                 0       60437  06/04/2016 10:17  "
      ]
     },
     "metadata": {},
     "output_type": "display_data"
    }
   ],
   "source": [
    "display(df.head())"
   ]
  },
  {
   "cell_type": "code",
   "execution_count": 133,
   "metadata": {},
   "outputs": [
    {
     "name": "stdout",
     "output_type": "stream",
     "text": [
      "<class 'pandas.core.frame.DataFrame'>\n",
      "RangeIndex: 354369 entries, 0 to 354368\n",
      "Data columns (total 16 columns):\n",
      " #   Column             Non-Null Count   Dtype \n",
      "---  ------             --------------   ----- \n",
      " 0   DateCrawled        354369 non-null  object\n",
      " 1   Price              354369 non-null  int64 \n",
      " 2   VehicleType        316879 non-null  object\n",
      " 3   RegistrationYear   354369 non-null  int64 \n",
      " 4   Gearbox            334536 non-null  object\n",
      " 5   Power              354369 non-null  int64 \n",
      " 6   Model              334664 non-null  object\n",
      " 7   Mileage            354369 non-null  int64 \n",
      " 8   RegistrationMonth  354369 non-null  int64 \n",
      " 9   FuelType           321474 non-null  object\n",
      " 10  Brand              354369 non-null  object\n",
      " 11  NotRepaired        283215 non-null  object\n",
      " 12  DateCreated        354369 non-null  object\n",
      " 13  NumberOfPictures   354369 non-null  int64 \n",
      " 14  PostalCode         354369 non-null  int64 \n",
      " 15  LastSeen           354369 non-null  object\n",
      "dtypes: int64(7), object(9)\n",
      "memory usage: 43.3+ MB\n"
     ]
    }
   ],
   "source": [
    "df.info()"
   ]
  },
  {
   "cell_type": "code",
   "execution_count": 134,
   "metadata": {},
   "outputs": [
    {
     "data": {
      "text/html": [
       "<div>\n",
       "<style scoped>\n",
       "    .dataframe tbody tr th:only-of-type {\n",
       "        vertical-align: middle;\n",
       "    }\n",
       "\n",
       "    .dataframe tbody tr th {\n",
       "        vertical-align: top;\n",
       "    }\n",
       "\n",
       "    .dataframe thead th {\n",
       "        text-align: right;\n",
       "    }\n",
       "</style>\n",
       "<table border=\"1\" class=\"dataframe\">\n",
       "  <thead>\n",
       "    <tr style=\"text-align: right;\">\n",
       "      <th></th>\n",
       "      <th>Price</th>\n",
       "      <th>RegistrationYear</th>\n",
       "      <th>Power</th>\n",
       "      <th>Mileage</th>\n",
       "      <th>RegistrationMonth</th>\n",
       "      <th>NumberOfPictures</th>\n",
       "      <th>PostalCode</th>\n",
       "    </tr>\n",
       "  </thead>\n",
       "  <tbody>\n",
       "    <tr>\n",
       "      <th>count</th>\n",
       "      <td>354369.000000</td>\n",
       "      <td>354369.000000</td>\n",
       "      <td>354369.000000</td>\n",
       "      <td>354369.000000</td>\n",
       "      <td>354369.000000</td>\n",
       "      <td>354369.0</td>\n",
       "      <td>354369.000000</td>\n",
       "    </tr>\n",
       "    <tr>\n",
       "      <th>mean</th>\n",
       "      <td>4416.656776</td>\n",
       "      <td>2004.234448</td>\n",
       "      <td>110.094337</td>\n",
       "      <td>128211.172535</td>\n",
       "      <td>5.714645</td>\n",
       "      <td>0.0</td>\n",
       "      <td>50508.689087</td>\n",
       "    </tr>\n",
       "    <tr>\n",
       "      <th>std</th>\n",
       "      <td>4514.158514</td>\n",
       "      <td>90.227958</td>\n",
       "      <td>189.850405</td>\n",
       "      <td>37905.341530</td>\n",
       "      <td>3.726421</td>\n",
       "      <td>0.0</td>\n",
       "      <td>25783.096248</td>\n",
       "    </tr>\n",
       "    <tr>\n",
       "      <th>min</th>\n",
       "      <td>0.000000</td>\n",
       "      <td>1000.000000</td>\n",
       "      <td>0.000000</td>\n",
       "      <td>5000.000000</td>\n",
       "      <td>0.000000</td>\n",
       "      <td>0.0</td>\n",
       "      <td>1067.000000</td>\n",
       "    </tr>\n",
       "    <tr>\n",
       "      <th>25%</th>\n",
       "      <td>1050.000000</td>\n",
       "      <td>1999.000000</td>\n",
       "      <td>69.000000</td>\n",
       "      <td>125000.000000</td>\n",
       "      <td>3.000000</td>\n",
       "      <td>0.0</td>\n",
       "      <td>30165.000000</td>\n",
       "    </tr>\n",
       "    <tr>\n",
       "      <th>50%</th>\n",
       "      <td>2700.000000</td>\n",
       "      <td>2003.000000</td>\n",
       "      <td>105.000000</td>\n",
       "      <td>150000.000000</td>\n",
       "      <td>6.000000</td>\n",
       "      <td>0.0</td>\n",
       "      <td>49413.000000</td>\n",
       "    </tr>\n",
       "    <tr>\n",
       "      <th>75%</th>\n",
       "      <td>6400.000000</td>\n",
       "      <td>2008.000000</td>\n",
       "      <td>143.000000</td>\n",
       "      <td>150000.000000</td>\n",
       "      <td>9.000000</td>\n",
       "      <td>0.0</td>\n",
       "      <td>71083.000000</td>\n",
       "    </tr>\n",
       "    <tr>\n",
       "      <th>max</th>\n",
       "      <td>20000.000000</td>\n",
       "      <td>9999.000000</td>\n",
       "      <td>20000.000000</td>\n",
       "      <td>150000.000000</td>\n",
       "      <td>12.000000</td>\n",
       "      <td>0.0</td>\n",
       "      <td>99998.000000</td>\n",
       "    </tr>\n",
       "  </tbody>\n",
       "</table>\n",
       "</div>"
      ],
      "text/plain": [
       "               Price  RegistrationYear          Power        Mileage  \\\n",
       "count  354369.000000     354369.000000  354369.000000  354369.000000   \n",
       "mean     4416.656776       2004.234448     110.094337  128211.172535   \n",
       "std      4514.158514         90.227958     189.850405   37905.341530   \n",
       "min         0.000000       1000.000000       0.000000    5000.000000   \n",
       "25%      1050.000000       1999.000000      69.000000  125000.000000   \n",
       "50%      2700.000000       2003.000000     105.000000  150000.000000   \n",
       "75%      6400.000000       2008.000000     143.000000  150000.000000   \n",
       "max     20000.000000       9999.000000   20000.000000  150000.000000   \n",
       "\n",
       "       RegistrationMonth  NumberOfPictures     PostalCode  \n",
       "count      354369.000000          354369.0  354369.000000  \n",
       "mean            5.714645               0.0   50508.689087  \n",
       "std             3.726421               0.0   25783.096248  \n",
       "min             0.000000               0.0    1067.000000  \n",
       "25%             3.000000               0.0   30165.000000  \n",
       "50%             6.000000               0.0   49413.000000  \n",
       "75%             9.000000               0.0   71083.000000  \n",
       "max            12.000000               0.0   99998.000000  "
      ]
     },
     "execution_count": 134,
     "metadata": {},
     "output_type": "execute_result"
    }
   ],
   "source": [
    "pd.options.display.max_columns = None\n",
    "df.describe()"
   ]
  },
  {
   "cell_type": "code",
   "execution_count": 135,
   "metadata": {},
   "outputs": [
    {
     "data": {
      "image/png": "[encoded data removed]",
      "text/plain": [
       "<Figure size 1000x800 with 1 Axes>"
      ]
     },
     "metadata": {},
     "output_type": "display_data"
    }
   ],
   "source": [
    "sns.set_context(\"notebook\", font_scale=.85)\n",
    "\n",
    "fig, ax = plt.subplots(figsize=(10, 8))\n",
    "g = sns.countplot(data=df,\n",
    "                  x='VehicleType',\n",
    "                  hue='Gearbox',\n",
    "                  color= '#d0bbff',\n",
    "                  #palette=\"dark:#5A9_r\",\n",
    "                  ax=ax,\n",
    "                  dodge=False,\n",
    "                  edgecolor = \"white\"\n",
    "                  )\n",
    "\n",
    "ax.set(xlabel=\"Category Type\", ylabel='Count (#)')\n",
    "bottoms = {}\n",
    "for bars in ax.containers:\n",
    "    for bar in bars:\n",
    "        x, y = bar.get_xy()\n",
    "        h = bar.get_height()\n",
    "        if x in bottoms:\n",
    "            bar.set_y(bottoms[x])\n",
    "            bottoms[x] += h\n",
    "        else:\n",
    "            bottoms[x] = h\n",
    "\n",
    "for c in ax.containers:\n",
    "    labels = [f'{round((v.get_height())):,}' for v in c]\n",
    "    ax.bar_label(c, labels=labels, label_type='center', color='white')\n",
    "\n",
    "ax.relim()  # the plot limits need to be updated with the moved bars\n",
    "ax.autoscale()\n",
    "ax.text(x=0.5, y=1.1, s='Vehicle types', fontsize=16, weight='bold', ha='center', va='bottom', transform=ax.transAxes)\n",
    "ax.text(x=0.5, y=1.05, s='Gearbox mix analysis', fontsize=8, alpha=0.75, ha='center', va='bottom', transform=ax.transAxes)\n",
    "# sns.despine(offset=10, trim=True)\n",
    "\n",
    "# if we need to move legend around\n",
    "# h,l = ax.get_legend_handles_labels()\n",
    "# ax.legend(h[:4],l[:4], bbox_to_anchor=(1.05, 1), loc=2)\n",
    "\n",
    "plt.show()"
   ]
  },
  {
   "cell_type": "code",
   "execution_count": 136,
   "metadata": {},
   "outputs": [
    {
     "data": {
      "image/png": "[encoded data removed]",
      "text/plain": [
       "<Figure size 1600x800 with 1 Axes>"
      ]
     },
     "metadata": {},
     "output_type": "display_data"
    }
   ],
   "source": [
    "sns.set_context(\"notebook\", font_scale=.85)\n",
    "\n",
    "# fig, ax = plt.subplots(figsize=(10, 8))\n",
    "g = sns.catplot(data=df,\n",
    "                  x='FuelType',\n",
    "                  y='Price',\n",
    "                  hue='FuelType',\n",
    "                  #color= '#29AB87',\n",
    "                  palette=\"flare\",\n",
    "                  height=8,\n",
    "                  aspect=2,\n",
    "                  ax=ax,\n",
    "                  kind='box',\n",
    "                  legend=None,\n",
    "                  native_scale=True\n",
    "                  )\n",
    "\n",
    "g.set(xlabel=\"Fuel Type\", ylabel='Price')\n",
    "plt.title('Price to Fuel Type', x=0.5, y=1.1, fontsize=16, weight='bold', ha='center', va='bottom')\n",
    "g.fig.suptitle('Categorical boxplot analysis', x=0.52, y=1.05, fontsize=8, alpha=0.75, ha='center', va='bottom')\n",
    "# g.fig.suptitle('Categorical boxplot analysis', x=0.5, y=1.05, fontsize=8, alpha=0.75, ha='center', va='bottom')\n",
    "# sns.despine(offset=10, trim=True)\n",
    "\n",
    "# if we need to move legend around\n",
    "# h,l = ax.get_legend_handles_labels()\n",
    "# ax.legend(h[:4],l[:4], bbox_to_anchor=(1.05, 1), loc=2)\n",
    "\n",
    "plt.show()"
   ]
  },
  {
   "cell_type": "markdown",
   "metadata": {},
   "source": [
    "#### Findings"
   ]
  },
  {
   "cell_type": "markdown",
   "metadata": {},
   "source": [
    "**`Findings`**\n",
    "\n",
    "\n",
    "Features that should be removed / should have no material impact on analysis\n",
    "    \n",
    "   - DateCrawled\n",
    "   \n",
    "   - DateCreated\n",
    "    \n",
    "   - NumberOfPictures\n",
    "    \n",
    "   - LastSeen\n",
    "    \n",
    "   - RegistrationMonth / PostalCode are two others to tentitatively think about removing\n",
    "    \n",
    "NaN values for features like VehicleType or Model may need to be removed after checking overall impact\n",
    "    \n",
    "   - If needed, something worth exploring is filling in these values with values that are far away from any of their distributions so the model identifies them as 'outliers'. The null values in categorical features may be filled in with something like 'Unknown'.\n",
    "\n",
    "Features with dtype `object` will have to be encoded for regular training using LabelEncoding then we may need to use specific methods for Gradient Boosting (attempting to run both LightGBM/CatBoost with our already encoded data)\n",
    "\n",
    "    \n",
    "Possible normalization/standardization needed *[placeholder to come back to if needed]*"
   ]
  },
  {
   "cell_type": "code",
   "execution_count": 137,
   "metadata": {},
   "outputs": [],
   "source": [
    "df.drop(['DateCrawled', 'DateCreated', 'NumberOfPictures', 'LastSeen', 'PostalCode', 'RegistrationMonth'], axis=1, inplace=True)"
   ]
  },
  {
   "cell_type": "markdown",
   "metadata": {},
   "source": [
    "`null value statistics`"
   ]
  },
  {
   "cell_type": "code",
   "execution_count": 138,
   "metadata": {},
   "outputs": [
    {
     "data": {
      "text/html": [
       "<div>\n",
       "<style scoped>\n",
       "    .dataframe tbody tr th:only-of-type {\n",
       "        vertical-align: middle;\n",
       "    }\n",
       "\n",
       "    .dataframe tbody tr th {\n",
       "        vertical-align: top;\n",
       "    }\n",
       "\n",
       "    .dataframe thead th {\n",
       "        text-align: right;\n",
       "    }\n",
       "</style>\n",
       "<table border=\"1\" class=\"dataframe\">\n",
       "  <thead>\n",
       "    <tr style=\"text-align: right;\">\n",
       "      <th></th>\n",
       "      <th>Price</th>\n",
       "      <th>Power</th>\n",
       "      <th>Mileage</th>\n",
       "      <th>RegistrationYear</th>\n",
       "    </tr>\n",
       "  </thead>\n",
       "  <tbody>\n",
       "    <tr>\n",
       "      <th>Price</th>\n",
       "      <td>1.000000</td>\n",
       "      <td>0.158872</td>\n",
       "      <td>-0.333199</td>\n",
       "      <td>0.026916</td>\n",
       "    </tr>\n",
       "    <tr>\n",
       "      <th>Power</th>\n",
       "      <td>0.158872</td>\n",
       "      <td>1.000000</td>\n",
       "      <td>0.024002</td>\n",
       "      <td>-0.000828</td>\n",
       "    </tr>\n",
       "    <tr>\n",
       "      <th>Mileage</th>\n",
       "      <td>-0.333199</td>\n",
       "      <td>0.024002</td>\n",
       "      <td>1.000000</td>\n",
       "      <td>-0.053447</td>\n",
       "    </tr>\n",
       "    <tr>\n",
       "      <th>RegistrationYear</th>\n",
       "      <td>0.026916</td>\n",
       "      <td>-0.000828</td>\n",
       "      <td>-0.053447</td>\n",
       "      <td>1.000000</td>\n",
       "    </tr>\n",
       "  </tbody>\n",
       "</table>\n",
       "</div>"
      ],
      "text/plain": [
       "                     Price     Power   Mileage  RegistrationYear\n",
       "Price             1.000000  0.158872 -0.333199          0.026916\n",
       "Power             0.158872  1.000000  0.024002         -0.000828\n",
       "Mileage          -0.333199  0.024002  1.000000         -0.053447\n",
       "RegistrationYear  0.026916 -0.000828 -0.053447          1.000000"
      ]
     },
     "execution_count": 138,
     "metadata": {},
     "output_type": "execute_result"
    }
   ],
   "source": [
    "correlation_filter = ['Price', 'Power', 'Mileage','RegistrationYear']\n",
    "\n",
    "df[correlation_filter].corr()"
   ]
  },
  {
   "cell_type": "code",
   "execution_count": 139,
   "metadata": {},
   "outputs": [
    {
     "data": {
      "image/png": "[encoded data removed]",
      "text/plain": [
       "<Figure size 1000x500 with 1 Axes>"
      ]
     },
     "metadata": {},
     "output_type": "display_data"
    }
   ],
   "source": [
    "df_na = (df.isnull().sum() / len(df)) * 100\n",
    "df_na = df_na.drop(df_na[df_na == 0].index).sort_values(ascending=False)[:30]\n",
    "missing_data = pd.DataFrame({'Missing Ratio' :df_na})\n",
    "missing_data.head(10)\n",
    "\n",
    "sns.set_context(\"notebook\", font_scale=.85)\n",
    "\n",
    "g = sns.catplot(data=missing_data,\n",
    "            x=missing_data.index,\n",
    "            y='Missing Ratio',\n",
    "            kind='bar',\n",
    "            hue='Missing Ratio',\n",
    "            height=5,\n",
    "            aspect=2,\n",
    "            legend=None,\n",
    "            #color= '#d0bbff',\n",
    "            ax=ax\n",
    "            )\n",
    "\n",
    "ax = g.facet_axis(0, 0)\n",
    "for c in ax.containers:\n",
    "    labels = [f'{(v.get_height()):.2f}%' for v in c]\n",
    "    ax.bar_label(c, labels=labels, label_type='center', color='white')\n",
    "\n",
    "g.set(xlabel='DataFrame Feature', ylabel='Null Proportion (%)')\n",
    "\n",
    "ax.autoscale()\n",
    "ax.text(x=0.5, y=1.1, s='% of missing values', fontsize=16, weight='bold', ha='center', va='bottom', transform=ax.transAxes)\n",
    "ax.text(x=0.5, y=1.05, s='Selected feature analysis', fontsize=8, alpha=0.75, ha='center', va='bottom', transform=ax.transAxes)\n",
    "\n",
    "from matplotlib.patches import Rectangle\n",
    "\n",
    "ax.add_patch(Rectangle((-.41, 0), .81, 20.25, fill=False, edgecolor='#9999CC', lw=4))\n",
    "ax.text(0.42, 8.5, \"Feature w/the most missing values\", fontsize = 10, color = \"#9999CC\", rotation = -90)\n",
    "# ax.text(-.55, 21)\n",
    "plt.show()"
   ]
  },
  {
   "cell_type": "code",
   "execution_count": 140,
   "metadata": {},
   "outputs": [
    {
     "data": {
      "text/plain": [
       "VehicleType    37490\n",
       "Gearbox        19833\n",
       "Model          19705\n",
       "FuelType       32895\n",
       "NotRepaired    71154\n",
       "dtype: int64"
      ]
     },
     "execution_count": 140,
     "metadata": {},
     "output_type": "execute_result"
    }
   ],
   "source": [
    "# Debating if we should fill in the missing values with a value\n",
    "\n",
    "null_value_stats = df.isnull().sum(axis=0)\n",
    "null_value_stats[null_value_stats != 0]"
   ]
  },
  {
   "cell_type": "markdown",
   "metadata": {},
   "source": [
    "`encoding`"
   ]
  },
  {
   "cell_type": "code",
   "execution_count": 141,
   "metadata": {},
   "outputs": [],
   "source": [
    "class MultiColumnLabelEncoder: #OrdinalEncoder as a 2nd option\n",
    "    def __init__(self,columns = None):\n",
    "        self.columns = columns\n",
    "\n",
    "    def fit(self,X,y=None):\n",
    "        return self\n",
    "\n",
    "    def transform(self,X):\n",
    "        output = X.copy()\n",
    "        if self.columns is not None:\n",
    "            for col in self.columns:\n",
    "                output[col] = LabelEncoder().fit_transform(output[col])\n",
    "        else:\n",
    "            for colname,col in output.iteritems():\n",
    "                output[colname] = LabelEncoder().fit_transform(col)\n",
    "        return output\n",
    "\n",
    "    def fit_transform(self,X,y=None):\n",
    "        return self.fit(X,y).transform(X)\n",
    "\n",
    "cat_columns = ['VehicleType', 'Gearbox', 'Model', 'FuelType', 'Brand', 'NotRepaired'] \n",
    "df_clean = MultiColumnLabelEncoder(columns = cat_columns).fit_transform(df)\n",
    "#display(df_clean)"
   ]
  },
  {
   "cell_type": "markdown",
   "metadata": {},
   "source": [
    "## Data Modeling"
   ]
  },
  {
   "cell_type": "markdown",
   "metadata": {},
   "source": [
    "`data splitting`"
   ]
  },
  {
   "cell_type": "code",
   "execution_count": 142,
   "metadata": {},
   "outputs": [],
   "source": [
    "features, target = df_clean.drop('Price', axis=1), df_clean.Price\n",
    "\n",
    "# Split\n",
    "# Expand to Validation set if needed\n",
    "features_train, features_test, target_train, target_test = train_test_split(features,\n",
    "                                                                            target,\n",
    "                                                                            test_size=0.30,\n",
    "                                                                            random_state=12345)"
   ]
  },
  {
   "cell_type": "markdown",
   "metadata": {},
   "source": [
    "`tree and regression models`"
   ]
  },
  {
   "cell_type": "code",
   "execution_count": 143,
   "metadata": {},
   "outputs": [
    {
     "name": "stdout",
     "output_type": "stream",
     "text": [
      "Best Params:\n",
      " {'max_depth': 20, 'max_features': 6, 'splitter': 'best'}\n",
      "\n",
      "\n",
      "Runtime:\n",
      "CPU times: user 4.98 s, sys: 194 ms, total: 5.17 s\n",
      "Wall time: 5.38 s\n"
     ]
    }
   ],
   "source": [
    "%%time\n",
    "tree_model = DecisionTreeRegressor(random_state=12345)\n",
    "tree_parameters = [{'max_depth': [1, 20],\n",
    "                    \"splitter\": ['best', 'random'],\n",
    "                    'max_features': sp_randint(1, 10)}]\n",
    "\n",
    "tree_clf = RandomizedSearchCV(tree_model, tree_parameters, cv=5)\n",
    "tree_clf.fit(features_train, target_train)\n",
    "print('Best Params:\\n', tree_clf.best_params_)\n",
    "print('')\n",
    "\n",
    "print('')\n",
    "print('Runtime:')"
   ]
  },
  {
   "cell_type": "code",
   "execution_count": 144,
   "metadata": {},
   "outputs": [
    {
     "name": "stdout",
     "output_type": "stream",
     "text": [
      "Prediction Time:\n",
      "CPU times: user 23 ms, sys: 2.95 ms, total: 26 ms\n",
      "Wall time: 24.7 ms\n"
     ]
    }
   ],
   "source": [
    "%%time\n",
    "tree_prediction = tree_clf.predict(features_test)\n",
    "print('Prediction Time:')"
   ]
  },
  {
   "cell_type": "code",
   "execution_count": 145,
   "metadata": {},
   "outputs": [
    {
     "name": "stdout",
     "output_type": "stream",
     "text": [
      "Decision Tree RMSE:\n",
      " 2169.230503059895\n"
     ]
    }
   ],
   "source": [
    "#print('Decision Tree MSE:\\n', mean_squared_error(target_test, tree_prediction))\n",
    "print('Decision Tree RMSE:\\n', math.sqrt(mean_squared_error(target_test, tree_prediction)))"
   ]
  },
  {
   "cell_type": "code",
   "execution_count": 146,
   "metadata": {},
   "outputs": [
    {
     "name": "stdout",
     "output_type": "stream",
     "text": [
      "Feature Importance:\n"
     ]
    },
    {
     "data": {
      "text/plain": [
       "{'RegistrationYear': 0.4297613245646207,\n",
       " 'Power': 0.27992276063663274,\n",
       " 'VehicleType': 0.09382344869666408,\n",
       " 'Mileage': 0.06755290330935255,\n",
       " 'Brand': 0.04406696254019353,\n",
       " 'Model': 0.041411185608961835,\n",
       " 'NotRepaired': 0.01895425269434896,\n",
       " 'FuelType': 0.013780070452941481,\n",
       " 'Gearbox': 0.010727091496284013}"
      ]
     },
     "execution_count": 146,
     "metadata": {},
     "output_type": "execute_result"
    }
   ],
   "source": [
    "print('Feature Importance:')\n",
    "{k: v for k, v in sorted(zip(tree_clf.best_estimator_.feature_names_in_, tree_clf.best_estimator_.feature_importances_), key= lambda x: x[1], reverse=True)}"
   ]
  },
  {
   "cell_type": "code",
   "execution_count": 147,
   "metadata": {},
   "outputs": [
    {
     "name": "stdout",
     "output_type": "stream",
     "text": [
      "Best Params:\n",
      " {'max_depth': 10, 'max_features': 6}\n",
      "\n",
      "Runtime:\n",
      "CPU times: user 4min 16s, sys: 1.3 s, total: 4min 17s\n",
      "Wall time: 4min 20s\n"
     ]
    }
   ],
   "source": [
    "%%time\n",
    "forest_model = RandomForestRegressor(random_state=12345)\n",
    "forest_parameters = [{'max_depth': [2, 10],\n",
    "                      'max_features': sp_randint(1, 9)}]\n",
    "\n",
    "forest_clf = RandomizedSearchCV(forest_model, forest_parameters, cv=5)\n",
    "forest_clf.fit(features_train, target_train)\n",
    "print('Best Params:\\n', forest_clf.best_params_)\n",
    "\n",
    "print('')\n",
    "print('Runtime:')"
   ]
  },
  {
   "cell_type": "code",
   "execution_count": 148,
   "metadata": {},
   "outputs": [
    {
     "name": "stdout",
     "output_type": "stream",
     "text": [
      "Prediction Time:\n",
      "CPU times: user 540 ms, sys: 18.7 ms, total: 559 ms\n",
      "Wall time: 672 ms\n"
     ]
    }
   ],
   "source": [
    "%%time\n",
    "forest_prediction = forest_clf.predict(features_test)\n",
    "print('Prediction Time:')"
   ]
  },
  {
   "cell_type": "code",
   "execution_count": 149,
   "metadata": {},
   "outputs": [
    {
     "name": "stdout",
     "output_type": "stream",
     "text": [
      "Random Forest RMSE:\n",
      " 1987.0975972290366\n"
     ]
    }
   ],
   "source": [
    "#print('Random Forest MSE:\\n', mean_squared_error(target_test, forest_prediction))\n",
    "print('Random Forest RMSE:\\n', math.sqrt(mean_squared_error(target_test, forest_prediction)))"
   ]
  },
  {
   "cell_type": "code",
   "execution_count": 150,
   "metadata": {},
   "outputs": [
    {
     "name": "stdout",
     "output_type": "stream",
     "text": [
      "Feature Importance:\n"
     ]
    },
    {
     "data": {
      "text/plain": [
       "{'RegistrationYear': 0.47753999709088685,\n",
       " 'Power': 0.3144239251984383,\n",
       " 'VehicleType': 0.07748124939656151,\n",
       " 'Mileage': 0.06789285725083287,\n",
       " 'Brand': 0.020997341288702252,\n",
       " 'NotRepaired': 0.01720371202805936,\n",
       " 'Model': 0.009681431276654206,\n",
       " 'FuelType': 0.007881253636895449,\n",
       " 'Gearbox': 0.006898232832969224}"
      ]
     },
     "execution_count": 150,
     "metadata": {},
     "output_type": "execute_result"
    }
   ],
   "source": [
    "print('Feature Importance:')\n",
    "{k: v for k, v in sorted(zip(forest_clf.best_estimator_.feature_names_in_, forest_clf.best_estimator_.feature_importances_), key= lambda x: x[1], reverse=True)}"
   ]
  },
  {
   "cell_type": "code",
   "execution_count": 151,
   "metadata": {},
   "outputs": [
    {
     "name": "stdout",
     "output_type": "stream",
     "text": [
      "Best Params:\n",
      " {'positive': False, 'n_jobs': 8, 'fit_intercept': True}\n",
      "\n",
      "Runtime:\n",
      "CPU times: user 13.4 s, sys: 1.21 s, total: 14.6 s\n",
      "Wall time: 2.16 s\n"
     ]
    }
   ],
   "source": [
    "%%time\n",
    "linear_model = LinearRegression()\n",
    "linear_parameters = [{\"positive\": [True, False],\n",
    "                      \"fit_intercept\": [True, False],\n",
    "                      \"n_jobs\": list(range(1,9))}]\n",
    "\n",
    "linear_clf = RandomizedSearchCV(linear_model, linear_parameters, cv=5)\n",
    "linear_clf.fit(features_train, target_train)\n",
    "print('Best Params:\\n', linear_clf.best_params_)\n",
    "\n",
    "print('')\n",
    "print('Runtime:')"
   ]
  },
  {
   "cell_type": "code",
   "execution_count": 152,
   "metadata": {},
   "outputs": [
    {
     "name": "stdout",
     "output_type": "stream",
     "text": [
      "Prediction Time:\n",
      "CPU times: user 45 ms, sys: 57.6 ms, total: 103 ms\n",
      "Wall time: 15.7 ms\n"
     ]
    }
   ],
   "source": [
    "%%time\n",
    "linear_prediction = linear_clf.predict(features_test)\n",
    "print('Prediction Time:')"
   ]
  },
  {
   "cell_type": "code",
   "execution_count": 153,
   "metadata": {},
   "outputs": [
    {
     "name": "stdout",
     "output_type": "stream",
     "text": [
      "Linear Regression RMSE:\n",
      " 3649.711819628952\n"
     ]
    }
   ],
   "source": [
    "#print('Linear Regression MSE:\\n', mean_squared_error(target_test, linear_prediction))\n",
    "print('Linear Regression RMSE:\\n', math.sqrt(mean_squared_error(target_test, linear_prediction)))"
   ]
  },
  {
   "cell_type": "markdown",
   "metadata": {},
   "source": [
    "### Speed and Quality results"
   ]
  },
  {
   "cell_type": "markdown",
   "metadata": {},
   "source": [
    "**`speed rankings`**\n",
    "\n",
    "CPU Times\n",
    "\n",
    "1. LinearRegression\n",
    "\n",
    "2. DecisionTree\n",
    "\n",
    "3. RandomForest\n",
    "\n",
    "\n",
    "Wall Times\n",
    "\n",
    "1. LinearRegression\n",
    "\n",
    "2. DecisionTree\n",
    "\n",
    "3. RandomForest    "
   ]
  },
  {
   "cell_type": "markdown",
   "metadata": {},
   "source": [
    "**`quality rankings`**\n",
    "\n",
    "RMSE\n",
    "1. RandomForest\n",
    "\n",
    "2. DecisionTree\n",
    "\n",
    "3. LinearRegression"
   ]
  },
  {
   "cell_type": "markdown",
   "metadata": {},
   "source": [
    "`boosting models`"
   ]
  },
  {
   "cell_type": "markdown",
   "metadata": {},
   "source": [
    "Gradient Boosting\n",
    "\n",
    "- LightGBM grows leaf-wise while XGBoost grows level-wise\n",
    "\n",
    "- LightGBM expects categorical features converted to integer"
   ]
  },
  {
   "cell_type": "code",
   "execution_count": 154,
   "metadata": {
    "scrolled": true
   },
   "outputs": [
    {
     "name": "stdout",
     "output_type": "stream",
     "text": [
      "\n",
      "Runtime:\n",
      "CPU times: user 115 ms, sys: 21.2 ms, total: 136 ms\n",
      "Wall time: 57.2 ms\n"
     ]
    }
   ],
   "source": [
    "%%time\n",
    "## Test #1\n",
    "x_train, y_train = features_train.values, target_train.values\n",
    "x_test, y_test = features_test.values, target_test.values\n",
    "\n",
    "\n",
    "lgb_features = df_clean[['RegistrationYear', 'Power', 'Mileage']]\n",
    "lgb_categorical_features = df_clean[['VehicleType', 'Gearbox', 'Model', 'FuelType', 'Brand', 'NotRepaired']]\n",
    "\n",
    "lgb_train = lgb.Dataset(x_train, \n",
    "                        y_train, \n",
    "                        feature_name = lgb_features, \n",
    "                        categorical_feature = lgb_categorical_features)\n",
    "print('')\n",
    "print('Runtime:')"
   ]
  },
  {
   "cell_type": "code",
   "execution_count": 155,
   "metadata": {},
   "outputs": [
    {
     "name": "stdout",
     "output_type": "stream",
     "text": [
      "[LightGBM] [Info] Auto-choosing row-wise multi-threading, the overhead of testing was 0.003255 seconds.\n",
      "You can set `force_row_wise=true` to remove the overhead.\n",
      "And if memory is not enough, you can set `force_col_wise=true`.\n",
      "[LightGBM] [Info] Total Bins 679\n",
      "[LightGBM] [Info] Number of data points in the train set: 248058, number of used features: 9\n",
      "[LightGBM] [Info] Start training from score 4414.500871\n",
      "[LightGBM] [Warning] No further splits with positive gain, best gain: -inf\n",
      "[LightGBM] [Warning] No further splits with positive gain, best gain: -inf\n",
      "[LightGBM] [Warning] No further splits with positive gain, best gain: -inf\n",
      "\n",
      "Runtime:\n",
      "CPU times: user 3.34 s, sys: 2.22 s, total: 5.56 s\n",
      "Wall time: 2.18 s\n"
     ]
    }
   ],
   "source": [
    "%%time\n",
    "lgb_parameters = {\n",
    "'task': 'train'    \n",
    ", 'learning_rate': '0.1'\n",
    ", 'boosting_type': 'gbdt'\n",
    ", 'random_state': 12345\n",
    ", 'n_estimators': 150\n",
    ", 'max_depth': 10\n",
    ", 'num_leaves': 100\n",
    "}\n",
    " \n",
    "gbm = lgb.LGBMRegressor(**lgb_parameters)\n",
    "\n",
    "gbm.fit(x_train, y_train,\n",
    "        eval_set=[(x_test, y_test)],\n",
    "        eval_metric='l1',\n",
    "        #early_stopping_rounds=150\n",
    "        )\n",
    "\n",
    "print('')\n",
    "print('Runtime:')"
   ]
  },
  {
   "cell_type": "code",
   "execution_count": 156,
   "metadata": {},
   "outputs": [
    {
     "name": "stdout",
     "output_type": "stream",
     "text": [
      "Prediction Time:\n",
      "CPU times: user 1.31 s, sys: 6.19 ms, total: 1.32 s\n",
      "Wall time: 225 ms\n"
     ]
    }
   ],
   "source": [
    "%%time\n",
    "lgb_prediction = gbm.predict(x_test, num_iteration = gbm.best_iteration_)\n",
    "print('Prediction Time:')"
   ]
  },
  {
   "cell_type": "code",
   "execution_count": 157,
   "metadata": {},
   "outputs": [
    {
     "name": "stdout",
     "output_type": "stream",
     "text": [
      "LGBM Regression RMSE:\n",
      " 1744.1493198780586\n"
     ]
    }
   ],
   "source": [
    "print('LGBM Regression RMSE:\\n', math.sqrt(mean_squared_error(target_test, lgb_prediction)))"
   ]
  },
  {
   "cell_type": "markdown",
   "metadata": {},
   "source": [
    "`Alternate LightGBM model`"
   ]
  },
  {
   "cell_type": "code",
   "execution_count": 158,
   "metadata": {},
   "outputs": [
    {
     "name": "stdout",
     "output_type": "stream",
     "text": [
      "[LightGBM] [Info] Auto-choosing row-wise multi-threading, the overhead of testing was 0.003058 seconds.\n",
      "You can set `force_row_wise=true` to remove the overhead.\n",
      "And if memory is not enough, you can set `force_col_wise=true`.\n",
      "[LightGBM] [Info] Total Bins 683\n",
      "[LightGBM] [Info] Number of data points in the train set: 248058, number of used features: 9\n",
      "[LightGBM] [Info] Start training from score 4414.500871\n",
      "\n",
      "Runtime:\n",
      "CPU times: user 1.08 s, sys: 538 ms, total: 1.62 s\n",
      "Wall time: 604 ms\n"
     ]
    }
   ],
   "source": [
    "%%time\n",
    "## Test #2\n",
    "lgbm_model = lgb.LGBMRegressor()\n",
    "lgbm_model.fit(features_train, target_train)\n",
    "print('')\n",
    "print('Runtime:')"
   ]
  },
  {
   "cell_type": "code",
   "execution_count": 159,
   "metadata": {},
   "outputs": [
    {
     "name": "stdout",
     "output_type": "stream",
     "text": [
      "Prediction Time:\n",
      "CPU times: user 716 ms, sys: 4.89 ms, total: 720 ms\n",
      "Wall time: 129 ms\n"
     ]
    }
   ],
   "source": [
    "%%time\n",
    "lgbm_prediction = lgbm_model.predict(features_test)\n",
    "print('Prediction Time:')"
   ]
  },
  {
   "cell_type": "code",
   "execution_count": 160,
   "metadata": {},
   "outputs": [
    {
     "name": "stdout",
     "output_type": "stream",
     "text": [
      "LGBM Regression RMSE v2:\n",
      " 1854.5291137206434\n"
     ]
    }
   ],
   "source": [
    "print('LGBM Regression RMSE v2:\\n', math.sqrt(mean_squared_error(target_test, lgbm_prediction)))"
   ]
  },
  {
   "cell_type": "markdown",
   "metadata": {},
   "source": [
    "`CatBoost`"
   ]
  },
  {
   "cell_type": "code",
   "execution_count": 161,
   "metadata": {},
   "outputs": [],
   "source": [
    "#print(cat_features.dtypes)\n",
    "\n",
    "categorical_features_indices = np.where(features.dtypes != float)[0]\n",
    "\n",
    "#print(categorical_features_indices)"
   ]
  },
  {
   "cell_type": "code",
   "execution_count": 162,
   "metadata": {},
   "outputs": [
    {
     "name": "stdout",
     "output_type": "stream",
     "text": [
      "\n",
      "Runtime:\n",
      "CPU times: user 100 µs, sys: 788 µs, total: 888 µs\n",
      "Wall time: 4.6 ms\n"
     ]
    }
   ],
   "source": [
    "%%time\n",
    "cat_model = CatBoostRegressor(\n",
    "    loss_function='RMSE',\n",
    "    learning_rate=0.1,\n",
    "    random_seed=12345,\n",
    "    logging_level='Silent'\n",
    ")\n",
    "print('')\n",
    "print('Runtime:')"
   ]
  },
  {
   "cell_type": "code",
   "execution_count": 163,
   "metadata": {},
   "outputs": [
    {
     "data": {
      "application/vnd.jupyter.widget-view+json": {
       "model_id": "b17d06a51ae34a528a14424b3a5fa2d3",
       "version_major": 2,
       "version_minor": 0
      },
      "text/plain": [
       "MetricVisualizer(layout=Layout(align_self='stretch', height='500px'))"
      ]
     },
     "metadata": {},
     "output_type": "display_data"
    },
    {
     "name": "stdout",
     "output_type": "stream",
     "text": [
      "\n",
      "Runtime:\n",
      "CPU times: user 5min 41s, sys: 11 s, total: 5min 52s\n",
      "Wall time: 57.3 s\n"
     ]
    }
   ],
   "source": [
    "%%time\n",
    "cat_model.fit(\n",
    "    features_train, target_train,\n",
    "    cat_features = categorical_features_indices,\n",
    "    eval_set = (features_test, target_test),\n",
    "    plot = True\n",
    ");\n",
    "\n",
    "print('')\n",
    "print('Runtime:')"
   ]
  },
  {
   "cell_type": "code",
   "execution_count": 164,
   "metadata": {},
   "outputs": [
    {
     "name": "stdout",
     "output_type": "stream",
     "text": [
      "CatBoost # of Trees:\n",
      " 1000\n",
      "\n",
      "CatBoost Best Score\n",
      " {'learn': {'RMSE': 1745.3986035884266}, 'validation': {'RMSE': 1787.6356729143824}}\n",
      "\n",
      "CatBoost Best Iteration\n",
      " 999\n"
     ]
    }
   ],
   "source": [
    "# cat_model_predict = cat_model.predict(features_test)\n",
    "\n",
    "print('CatBoost # of Trees:\\n', cat_model.tree_count_)\n",
    "print('')\n",
    "print('CatBoost Best Score\\n', cat_model.best_score_)\n",
    "print('')\n",
    "print('CatBoost Best Iteration\\n', cat_model.best_iteration_)"
   ]
  },
  {
   "cell_type": "markdown",
   "metadata": {},
   "source": [
    "`XGBoost`"
   ]
  },
  {
   "cell_type": "markdown",
   "metadata": {},
   "source": [
    "Regression Matrices\n",
    "\n",
    "- `enable_categorical` set to True in order to enable automatic encoding"
   ]
  },
  {
   "cell_type": "code",
   "execution_count": 165,
   "metadata": {},
   "outputs": [
    {
     "data": {
      "text/plain": [
       "VehicleType         category\n",
       "RegistrationYear       int64\n",
       "Gearbox             category\n",
       "Power                  int64\n",
       "Model               category\n",
       "Mileage                int64\n",
       "FuelType            category\n",
       "Brand               category\n",
       "NotRepaired         category\n",
       "dtype: object"
      ]
     },
     "execution_count": 165,
     "metadata": {},
     "output_type": "execute_result"
    }
   ],
   "source": [
    "xg_features, xg_target = df.drop('Price', axis=1), df.Price\n",
    "\n",
    "cats = xg_features.select_dtypes(exclude=np.number).columns.tolist()\n",
    "\n",
    "for col in cats:\n",
    "    xg_features[col] = xg_features[col].astype('category')\n",
    "\n",
    "xg_features.dtypes"
   ]
  },
  {
   "cell_type": "code",
   "execution_count": 166,
   "metadata": {},
   "outputs": [],
   "source": [
    "xg_features_train, xg_features_test, xg_target_train, xg_target_test = train_test_split(xg_features,\n",
    "                                                                            xg_target,\n",
    "                                                                            test_size=0.30,\n",
    "                                                                            random_state=12345)"
   ]
  },
  {
   "cell_type": "code",
   "execution_count": 167,
   "metadata": {},
   "outputs": [],
   "source": [
    "train_reg = xgb.DMatrix(xg_features_train, xg_target_train, enable_categorical=True)\n",
    "test_reg = xgb.DMatrix(xg_features_test, xg_target_test, enable_categorical=True)"
   ]
  },
  {
   "cell_type": "code",
   "execution_count": 168,
   "metadata": {},
   "outputs": [
    {
     "name": "stdout",
     "output_type": "stream",
     "text": [
      "[0]\tvalidation-rmse:3565.17784\ttrain-rmse:3564.07713\n",
      "[50]\tvalidation-rmse:1769.39274\ttrain-rmse:1646.31562\n",
      "[100]\tvalidation-rmse:1743.36519\ttrain-rmse:1567.68305\n",
      "[150]\tvalidation-rmse:1731.61214\ttrain-rmse:1518.91904\n",
      "[200]\tvalidation-rmse:1727.69418\ttrain-rmse:1484.78806\n",
      "[250]\tvalidation-rmse:1725.54360\ttrain-rmse:1457.67458\n",
      "[300]\tvalidation-rmse:1722.82048\ttrain-rmse:1432.61493\n",
      "[350]\tvalidation-rmse:1721.62929\ttrain-rmse:1415.01014\n",
      "[400]\tvalidation-rmse:1721.36798\ttrain-rmse:1397.45673\n",
      "[450]\tvalidation-rmse:1722.56378\ttrain-rmse:1382.16856\n",
      "[500]\tvalidation-rmse:1724.45110\ttrain-rmse:1370.70399\n",
      "[550]\tvalidation-rmse:1726.03583\ttrain-rmse:1358.72930\n",
      "[600]\tvalidation-rmse:1725.66822\ttrain-rmse:1346.56491\n",
      "[650]\tvalidation-rmse:1726.22957\ttrain-rmse:1335.82350\n",
      "[700]\tvalidation-rmse:1726.66076\ttrain-rmse:1324.99066\n",
      "[750]\tvalidation-rmse:1726.38087\ttrain-rmse:1314.32339\n",
      "[800]\tvalidation-rmse:1727.09273\ttrain-rmse:1305.44453\n",
      "[850]\tvalidation-rmse:1727.37955\ttrain-rmse:1297.58103\n",
      "[900]\tvalidation-rmse:1728.73815\ttrain-rmse:1291.00437\n",
      "[950]\tvalidation-rmse:1729.87267\ttrain-rmse:1283.48335\n",
      "[999]\tvalidation-rmse:1730.15568\ttrain-rmse:1276.38047\n",
      "\n",
      "Runtime:\n",
      "CPU times: user 1min 10s, sys: 15.9 s, total: 1min 26s\n",
      "Wall time: 12 s\n"
     ]
    }
   ],
   "source": [
    "%%time\n",
    "xg_parameters = {\"objective\": \"reg:squarederror\",\n",
    "                 \"tree_method\": \"hist\"}\n",
    "\n",
    "n = 1000\n",
    "\n",
    "evals = [(test_reg, \"validation\"), (train_reg, \"train\")]\n",
    "\n",
    "xg_model = xgb.train(\n",
    "   params=xg_parameters,\n",
    "   evals=evals, \n",
    "   dtrain=train_reg,\n",
    "   num_boost_round=n,\n",
    "   verbose_eval=50,\n",
    "   early_stopping_rounds=50\n",
    ")\n",
    "print('')\n",
    "print('Runtime:')"
   ]
  },
  {
   "cell_type": "code",
   "execution_count": 169,
   "metadata": {},
   "outputs": [
    {
     "name": "stdout",
     "output_type": "stream",
     "text": [
      "Prediction Time:\n",
      "CPU times: user 7.11 s, sys: 57.9 ms, total: 7.17 s\n",
      "Wall time: 990 ms\n"
     ]
    }
   ],
   "source": [
    "%%time\n",
    "xg_prediction = xg_model.predict(test_reg)\n",
    "print('Prediction Time:')"
   ]
  },
  {
   "cell_type": "code",
   "execution_count": 170,
   "metadata": {},
   "outputs": [
    {
     "name": "stdout",
     "output_type": "stream",
     "text": [
      "XGBoost RMSE:\n",
      " 1730.1556842679684\n"
     ]
    }
   ],
   "source": [
    "print('XGBoost RMSE:\\n', math.sqrt(mean_squared_error(xg_target_test, xg_prediction)))"
   ]
  },
  {
   "cell_type": "markdown",
   "metadata": {},
   "source": [
    "## Conclusions"
   ]
  },
  {
   "cell_type": "markdown",
   "metadata": {},
   "source": [
    "\n",
    "1. Based on our initial analysis, the initial model with the best quality will be our RandomForest model with an RMSE of ~1,985 (considerably better than our LinearRegression model benchmark with an RMSE of ~3,649.\n",
    "\n",
    "    - With that said, when it comes to speed, our RandomForest model is the worst performing with a time of about 6 minutes compared to our DecisionTree and LinearRegression models with times in the seconds.\n",
    "    \n",
    "    - Rusty Bargain will have to come to some sort of compromise/decision when it comes to our quality vs speed metrics.\n",
    "    \n",
    "    \n",
    "2. Once Gradient Boosting is introduced, we see our RMSE values improve as both the LightGBM and CatBoost boosting techniques yield a scores of the range of ~1,700-1,800. Speed for both boosting methods are in the seconds or near the minute mark.\n",
    "\n",
    "\n",
    "3. Leveraging XGBoost, our RMSE value is slightly higher than LGBM/CatBoost but more or less pretty similar.                             \n",
    "    \n",
    "\n",
    "4. Lastly, when it comes to boosting, the speed rankings are as follows: a) LightGBM, b) XGBoost and c) CatBoost while the quality rankings are the following: a) LightGBM, b) CatBoost and c) XGBoost.\n",
    "\n",
    " "
   ]
  }
 ],
 "metadata": {
  "kernelspec": {
   "display_name": "Python 3 (ipykernel)",
   "language": "python",
   "name": "python3"
  },
  "language_info": {
   "codemirror_mode": {
    "name": "ipython",
    "version": 3
   },
   "file_extension": ".py",
   "mimetype": "text/x-python",
   "name": "python",
   "nbconvert_exporter": "python",
   "pygments_lexer": "ipython3",
   "version": "3.11.6"
  },
  "toc": {
   "base_numbering": 1,
   "nav_menu": {},
   "number_sections": true,
   "sideBar": true,
   "skip_h1_title": true,
   "title_cell": "Table of Contents",
   "title_sidebar": "Contents",
   "toc_cell": false,
   "toc_position": {},
   "toc_section_display": true,
   "toc_window_display": false
  }
 },
 "nbformat": 4,
 "nbformat_minor": 2
}
