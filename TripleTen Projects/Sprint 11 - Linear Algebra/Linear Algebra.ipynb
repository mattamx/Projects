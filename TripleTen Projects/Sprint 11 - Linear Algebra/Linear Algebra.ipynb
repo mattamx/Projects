{
 "cells": [
  {
   "cell_type": "markdown",
   "metadata": {},
   "source": [
    "# Project Statement"
   ]
  },
  {
   "cell_type": "markdown",
   "metadata": {},
   "source": [
    "The Sure Tomorrow insurance company wants to solve several tasks with the help of Machine Learning and you are asked to evaluate that possibility.\n",
    "\n",
    "# Task 1: #\n",
    "Find customers who are similar to a given customer. This will help the company's agents with marketing.\n",
    "\n",
    "\n",
    "# Task 2: #\n",
    "Predict whether a new customer is likely to receive an insurance benefit. Can a prediction model do better than a dummy model?\n",
    "\n",
    "\n",
    "# Task 3: #\n",
    "Predict the number of insurance benefits a new customer is likely to receive using a linear regression model.\n",
    "\n",
    "\n",
    "# Task 4: #\n",
    "Protect clients' personal data without breaking the model from the previous task. It's necessary to develop a data transformation algorithm that would make it hard to recover personal information if the data fell into the wrong hands. This is called data masking, or data obfuscation. But the data should be protected in such a way that the quality of machine learning models doesn't suffer. You don't need to pick the best model, just prove that the algorithm works correctly.\n"
   ]
  },
  {
   "cell_type": "markdown",
   "metadata": {},
   "source": [
    "# Data Preprocessing & Exploration\n",
    "\n",
    "`Initialization`"
   ]
  },
  {
   "cell_type": "code",
   "execution_count": 281,
   "metadata": {},
   "outputs": [],
   "source": [
    "import numpy as np\n",
    "import pandas as pd\n",
    "\n",
    "import seaborn as sns\n",
    "import matplotlib.pyplot as plt\n",
    "import plotly.express as px\n",
    "import plotly.graph_objects as go\n",
    "from plotly.subplots import make_subplots\n",
    "import pygwalker as pyg # removed for now\n",
    "\n",
    "from sklearn.linear_model import Lasso\n",
    "import sklearn.metrics\n",
    "import sklearn.neighbors\n",
    "from sklearn.neighbors import NearestNeighbors, KNeighborsClassifier\n",
    "import sklearn.preprocessing\n",
    "from sklearn.preprocessing import MinMaxScaler, MaxAbsScaler\n",
    "\n",
    "from scipy.spatial import distance\n",
    "from scipy.sparse import csc_matrix\n",
    "\n",
    "from sklearn.model_selection import train_test_split\n",
    "\n",
    "from IPython.display import display"
   ]
  },
  {
   "cell_type": "markdown",
   "metadata": {},
   "source": [
    "`data import`"
   ]
  },
  {
   "cell_type": "markdown",
   "metadata": {},
   "source": [
    "Loading data and conducting a basic check that it's free from obvious issues."
   ]
  },
  {
   "cell_type": "code",
   "execution_count": 282,
   "metadata": {},
   "outputs": [
    {
     "data": {
      "text/html": [
       "<div>\n",
       "<style scoped>\n",
       "    .dataframe tbody tr th:only-of-type {\n",
       "        vertical-align: middle;\n",
       "    }\n",
       "\n",
       "    .dataframe tbody tr th {\n",
       "        vertical-align: top;\n",
       "    }\n",
       "\n",
       "    .dataframe thead th {\n",
       "        text-align: right;\n",
       "    }\n",
       "</style>\n",
       "<table border=\"1\" class=\"dataframe\">\n",
       "  <thead>\n",
       "    <tr style=\"text-align: right;\">\n",
       "      <th></th>\n",
       "      <th>Gender</th>\n",
       "      <th>Age</th>\n",
       "      <th>Salary</th>\n",
       "      <th>Family members</th>\n",
       "      <th>Insurance benefits</th>\n",
       "    </tr>\n",
       "  </thead>\n",
       "  <tbody>\n",
       "    <tr>\n",
       "      <th>0</th>\n",
       "      <td>1</td>\n",
       "      <td>41.0</td>\n",
       "      <td>49600.0</td>\n",
       "      <td>1</td>\n",
       "      <td>0</td>\n",
       "    </tr>\n",
       "    <tr>\n",
       "      <th>1</th>\n",
       "      <td>0</td>\n",
       "      <td>46.0</td>\n",
       "      <td>38000.0</td>\n",
       "      <td>1</td>\n",
       "      <td>1</td>\n",
       "    </tr>\n",
       "    <tr>\n",
       "      <th>2</th>\n",
       "      <td>0</td>\n",
       "      <td>29.0</td>\n",
       "      <td>21000.0</td>\n",
       "      <td>0</td>\n",
       "      <td>0</td>\n",
       "    </tr>\n",
       "    <tr>\n",
       "      <th>3</th>\n",
       "      <td>0</td>\n",
       "      <td>21.0</td>\n",
       "      <td>41700.0</td>\n",
       "      <td>2</td>\n",
       "      <td>0</td>\n",
       "    </tr>\n",
       "    <tr>\n",
       "      <th>4</th>\n",
       "      <td>1</td>\n",
       "      <td>28.0</td>\n",
       "      <td>26100.0</td>\n",
       "      <td>0</td>\n",
       "      <td>0</td>\n",
       "    </tr>\n",
       "    <tr>\n",
       "      <th>...</th>\n",
       "      <td>...</td>\n",
       "      <td>...</td>\n",
       "      <td>...</td>\n",
       "      <td>...</td>\n",
       "      <td>...</td>\n",
       "    </tr>\n",
       "    <tr>\n",
       "      <th>4995</th>\n",
       "      <td>0</td>\n",
       "      <td>28.0</td>\n",
       "      <td>35700.0</td>\n",
       "      <td>2</td>\n",
       "      <td>0</td>\n",
       "    </tr>\n",
       "    <tr>\n",
       "      <th>4996</th>\n",
       "      <td>0</td>\n",
       "      <td>34.0</td>\n",
       "      <td>52400.0</td>\n",
       "      <td>1</td>\n",
       "      <td>0</td>\n",
       "    </tr>\n",
       "    <tr>\n",
       "      <th>4997</th>\n",
       "      <td>0</td>\n",
       "      <td>20.0</td>\n",
       "      <td>33900.0</td>\n",
       "      <td>2</td>\n",
       "      <td>0</td>\n",
       "    </tr>\n",
       "    <tr>\n",
       "      <th>4998</th>\n",
       "      <td>1</td>\n",
       "      <td>22.0</td>\n",
       "      <td>32700.0</td>\n",
       "      <td>3</td>\n",
       "      <td>0</td>\n",
       "    </tr>\n",
       "    <tr>\n",
       "      <th>4999</th>\n",
       "      <td>1</td>\n",
       "      <td>28.0</td>\n",
       "      <td>40600.0</td>\n",
       "      <td>1</td>\n",
       "      <td>0</td>\n",
       "    </tr>\n",
       "  </tbody>\n",
       "</table>\n",
       "<p>5000 rows × 5 columns</p>\n",
       "</div>"
      ],
      "text/plain": [
       "      Gender   Age   Salary  Family members  Insurance benefits\n",
       "0          1  41.0  49600.0               1                   0\n",
       "1          0  46.0  38000.0               1                   1\n",
       "2          0  29.0  21000.0               0                   0\n",
       "3          0  21.0  41700.0               2                   0\n",
       "4          1  28.0  26100.0               0                   0\n",
       "...      ...   ...      ...             ...                 ...\n",
       "4995       0  28.0  35700.0               2                   0\n",
       "4996       0  34.0  52400.0               1                   0\n",
       "4997       0  20.0  33900.0               2                   0\n",
       "4998       1  22.0  32700.0               3                   0\n",
       "4999       1  28.0  40600.0               1                   0\n",
       "\n",
       "[5000 rows x 5 columns]"
      ]
     },
     "metadata": {},
     "output_type": "display_data"
    }
   ],
   "source": [
    "df = pd.read_csv('/Users/dani/Data Science/TripleTen Projects/Project Data/Linear Algebra/insurance_us.csv')\n",
    "\n",
    "display(df)"
   ]
  },
  {
   "cell_type": "markdown",
   "metadata": {},
   "source": [
    "Renaming the colums to make the code look more consistent with its style."
   ]
  },
  {
   "cell_type": "code",
   "execution_count": 283,
   "metadata": {},
   "outputs": [],
   "source": [
    "df = df.rename(columns={'Gender': 'gender', 'Age': 'age', 'Salary': 'income', 'Family members': 'family_members', 'Insurance benefits': 'insurance_benefits'})"
   ]
  },
  {
   "cell_type": "code",
   "execution_count": 284,
   "metadata": {},
   "outputs": [
    {
     "data": {
      "text/html": [
       "<div>\n",
       "<style scoped>\n",
       "    .dataframe tbody tr th:only-of-type {\n",
       "        vertical-align: middle;\n",
       "    }\n",
       "\n",
       "    .dataframe tbody tr th {\n",
       "        vertical-align: top;\n",
       "    }\n",
       "\n",
       "    .dataframe thead th {\n",
       "        text-align: right;\n",
       "    }\n",
       "</style>\n",
       "<table border=\"1\" class=\"dataframe\">\n",
       "  <thead>\n",
       "    <tr style=\"text-align: right;\">\n",
       "      <th></th>\n",
       "      <th>gender</th>\n",
       "      <th>age</th>\n",
       "      <th>income</th>\n",
       "      <th>family_members</th>\n",
       "      <th>insurance_benefits</th>\n",
       "    </tr>\n",
       "  </thead>\n",
       "  <tbody>\n",
       "    <tr>\n",
       "      <th>4943</th>\n",
       "      <td>1</td>\n",
       "      <td>41.0</td>\n",
       "      <td>44100.0</td>\n",
       "      <td>0</td>\n",
       "      <td>0</td>\n",
       "    </tr>\n",
       "    <tr>\n",
       "      <th>1070</th>\n",
       "      <td>0</td>\n",
       "      <td>28.0</td>\n",
       "      <td>42300.0</td>\n",
       "      <td>0</td>\n",
       "      <td>0</td>\n",
       "    </tr>\n",
       "    <tr>\n",
       "      <th>207</th>\n",
       "      <td>0</td>\n",
       "      <td>34.0</td>\n",
       "      <td>55900.0</td>\n",
       "      <td>2</td>\n",
       "      <td>0</td>\n",
       "    </tr>\n",
       "    <tr>\n",
       "      <th>2302</th>\n",
       "      <td>0</td>\n",
       "      <td>27.0</td>\n",
       "      <td>42400.0</td>\n",
       "      <td>1</td>\n",
       "      <td>0</td>\n",
       "    </tr>\n",
       "    <tr>\n",
       "      <th>3276</th>\n",
       "      <td>1</td>\n",
       "      <td>28.0</td>\n",
       "      <td>35600.0</td>\n",
       "      <td>3</td>\n",
       "      <td>0</td>\n",
       "    </tr>\n",
       "    <tr>\n",
       "      <th>3180</th>\n",
       "      <td>1</td>\n",
       "      <td>33.0</td>\n",
       "      <td>44600.0</td>\n",
       "      <td>2</td>\n",
       "      <td>0</td>\n",
       "    </tr>\n",
       "    <tr>\n",
       "      <th>4008</th>\n",
       "      <td>1</td>\n",
       "      <td>22.0</td>\n",
       "      <td>28700.0</td>\n",
       "      <td>1</td>\n",
       "      <td>0</td>\n",
       "    </tr>\n",
       "    <tr>\n",
       "      <th>3465</th>\n",
       "      <td>0</td>\n",
       "      <td>33.0</td>\n",
       "      <td>50000.0</td>\n",
       "      <td>2</td>\n",
       "      <td>0</td>\n",
       "    </tr>\n",
       "    <tr>\n",
       "      <th>1130</th>\n",
       "      <td>1</td>\n",
       "      <td>38.0</td>\n",
       "      <td>50200.0</td>\n",
       "      <td>2</td>\n",
       "      <td>0</td>\n",
       "    </tr>\n",
       "    <tr>\n",
       "      <th>4156</th>\n",
       "      <td>0</td>\n",
       "      <td>28.0</td>\n",
       "      <td>40800.0</td>\n",
       "      <td>0</td>\n",
       "      <td>0</td>\n",
       "    </tr>\n",
       "  </tbody>\n",
       "</table>\n",
       "</div>"
      ],
      "text/plain": [
       "      gender   age   income  family_members  insurance_benefits\n",
       "4943       1  41.0  44100.0               0                   0\n",
       "1070       0  28.0  42300.0               0                   0\n",
       "207        0  34.0  55900.0               2                   0\n",
       "2302       0  27.0  42400.0               1                   0\n",
       "3276       1  28.0  35600.0               3                   0\n",
       "3180       1  33.0  44600.0               2                   0\n",
       "4008       1  22.0  28700.0               1                   0\n",
       "3465       0  33.0  50000.0               2                   0\n",
       "1130       1  38.0  50200.0               2                   0\n",
       "4156       0  28.0  40800.0               0                   0"
      ]
     },
     "execution_count": 284,
     "metadata": {},
     "output_type": "execute_result"
    }
   ],
   "source": [
    "df.sample(10)"
   ]
  },
  {
   "cell_type": "code",
   "execution_count": 285,
   "metadata": {},
   "outputs": [
    {
     "name": "stdout",
     "output_type": "stream",
     "text": [
      "<class 'pandas.core.frame.DataFrame'>\n",
      "RangeIndex: 5000 entries, 0 to 4999\n",
      "Data columns (total 5 columns):\n",
      " #   Column              Non-Null Count  Dtype  \n",
      "---  ------              --------------  -----  \n",
      " 0   gender              5000 non-null   int64  \n",
      " 1   age                 5000 non-null   float64\n",
      " 2   income              5000 non-null   float64\n",
      " 3   family_members      5000 non-null   int64  \n",
      " 4   insurance_benefits  5000 non-null   int64  \n",
      "dtypes: float64(2), int64(3)\n",
      "memory usage: 195.4 KB\n"
     ]
    }
   ],
   "source": [
    "df.info()"
   ]
  },
  {
   "cell_type": "code",
   "execution_count": 286,
   "metadata": {},
   "outputs": [
    {
     "data": {
      "text/plain": [
       "(5000, 5)"
      ]
     },
     "execution_count": 286,
     "metadata": {},
     "output_type": "execute_result"
    }
   ],
   "source": [
    "df.shape"
   ]
  },
  {
   "cell_type": "code",
   "execution_count": 287,
   "metadata": {},
   "outputs": [],
   "source": [
    "# we may want to fix the age type (from float to int) though this is not critical\n",
    "\n",
    "# write your conversion here if you choose:\n",
    "df['age'] = df['age'].astype('string').str.split('.').str[0]\n",
    "df['age'] = df['age'].apply(np.int64)"
   ]
  },
  {
   "cell_type": "code",
   "execution_count": 288,
   "metadata": {},
   "outputs": [
    {
     "name": "stdout",
     "output_type": "stream",
     "text": [
      "<class 'pandas.core.frame.DataFrame'>\n",
      "RangeIndex: 5000 entries, 0 to 4999\n",
      "Data columns (total 5 columns):\n",
      " #   Column              Non-Null Count  Dtype  \n",
      "---  ------              --------------  -----  \n",
      " 0   gender              5000 non-null   int64  \n",
      " 1   age                 5000 non-null   int64  \n",
      " 2   income              5000 non-null   float64\n",
      " 3   family_members      5000 non-null   int64  \n",
      " 4   insurance_benefits  5000 non-null   int64  \n",
      "dtypes: float64(1), int64(4)\n",
      "memory usage: 195.4 KB\n"
     ]
    }
   ],
   "source": [
    "# check to see that the conversion was successful\n",
    "df.info()"
   ]
  },
  {
   "cell_type": "code",
   "execution_count": 289,
   "metadata": {},
   "outputs": [
    {
     "data": {
      "text/html": [
       "<div>\n",
       "<style scoped>\n",
       "    .dataframe tbody tr th:only-of-type {\n",
       "        vertical-align: middle;\n",
       "    }\n",
       "\n",
       "    .dataframe tbody tr th {\n",
       "        vertical-align: top;\n",
       "    }\n",
       "\n",
       "    .dataframe thead th {\n",
       "        text-align: right;\n",
       "    }\n",
       "</style>\n",
       "<table border=\"1\" class=\"dataframe\">\n",
       "  <thead>\n",
       "    <tr style=\"text-align: right;\">\n",
       "      <th></th>\n",
       "      <th>count</th>\n",
       "      <th>mean</th>\n",
       "      <th>std</th>\n",
       "      <th>min</th>\n",
       "      <th>25%</th>\n",
       "      <th>50%</th>\n",
       "      <th>75%</th>\n",
       "      <th>max</th>\n",
       "    </tr>\n",
       "  </thead>\n",
       "  <tbody>\n",
       "    <tr>\n",
       "      <th>gender</th>\n",
       "      <td>5000.0</td>\n",
       "      <td>0.4990</td>\n",
       "      <td>0.500049</td>\n",
       "      <td>0.0</td>\n",
       "      <td>0.0</td>\n",
       "      <td>0.0</td>\n",
       "      <td>1.0</td>\n",
       "      <td>1.0</td>\n",
       "    </tr>\n",
       "    <tr>\n",
       "      <th>age</th>\n",
       "      <td>5000.0</td>\n",
       "      <td>30.9528</td>\n",
       "      <td>8.440807</td>\n",
       "      <td>18.0</td>\n",
       "      <td>24.0</td>\n",
       "      <td>30.0</td>\n",
       "      <td>37.0</td>\n",
       "      <td>65.0</td>\n",
       "    </tr>\n",
       "    <tr>\n",
       "      <th>income</th>\n",
       "      <td>5000.0</td>\n",
       "      <td>39916.3600</td>\n",
       "      <td>9900.083569</td>\n",
       "      <td>5300.0</td>\n",
       "      <td>33300.0</td>\n",
       "      <td>40200.0</td>\n",
       "      <td>46600.0</td>\n",
       "      <td>79000.0</td>\n",
       "    </tr>\n",
       "    <tr>\n",
       "      <th>family_members</th>\n",
       "      <td>5000.0</td>\n",
       "      <td>1.1942</td>\n",
       "      <td>1.091387</td>\n",
       "      <td>0.0</td>\n",
       "      <td>0.0</td>\n",
       "      <td>1.0</td>\n",
       "      <td>2.0</td>\n",
       "      <td>6.0</td>\n",
       "    </tr>\n",
       "    <tr>\n",
       "      <th>insurance_benefits</th>\n",
       "      <td>5000.0</td>\n",
       "      <td>0.1480</td>\n",
       "      <td>0.463183</td>\n",
       "      <td>0.0</td>\n",
       "      <td>0.0</td>\n",
       "      <td>0.0</td>\n",
       "      <td>0.0</td>\n",
       "      <td>5.0</td>\n",
       "    </tr>\n",
       "  </tbody>\n",
       "</table>\n",
       "</div>"
      ],
      "text/plain": [
       "                     count        mean          std     min      25%      50%  \\\n",
       "gender              5000.0      0.4990     0.500049     0.0      0.0      0.0   \n",
       "age                 5000.0     30.9528     8.440807    18.0     24.0     30.0   \n",
       "income              5000.0  39916.3600  9900.083569  5300.0  33300.0  40200.0   \n",
       "family_members      5000.0      1.1942     1.091387     0.0      0.0      1.0   \n",
       "insurance_benefits  5000.0      0.1480     0.463183     0.0      0.0      0.0   \n",
       "\n",
       "                        75%      max  \n",
       "gender                  1.0      1.0  \n",
       "age                    37.0     65.0  \n",
       "income              46600.0  79000.0  \n",
       "family_members          2.0      6.0  \n",
       "insurance_benefits      0.0      5.0  "
      ]
     },
     "execution_count": 289,
     "metadata": {},
     "output_type": "execute_result"
    }
   ],
   "source": [
    "# now have a look at the data's descriptive statistics. \n",
    "df.describe().T\n",
    "# Does everything look okay?"
   ]
  },
  {
   "cell_type": "code",
   "execution_count": 290,
   "metadata": {},
   "outputs": [],
   "source": [
    "## individually:\n",
    "## gender 0-1 looks ok\n",
    "## age looks fine with the range of 18-65\n",
    "## income follows the path of age (older/more money)\n",
    "## family_members have a range of 0-6 which looks fine\n",
    "## insurance_benefits also looks fine, 0 = no claims - 5 = 5 claims\n",
    "\n",
    "## collectively:\n",
    "## scaling differences in the values which needs to be taken into account (specially the magnitude of income)"
   ]
  },
  {
   "cell_type": "code",
   "execution_count": 291,
   "metadata": {},
   "outputs": [],
   "source": [
    "## other:\n",
    "## could convert last two columns into categorical column, 0-1 for 'siblings' and 0-1 for 'claim'"
   ]
  },
  {
   "cell_type": "markdown",
   "metadata": {},
   "source": [
    "## EDA"
   ]
  },
  {
   "cell_type": "markdown",
   "metadata": {},
   "source": [
    "Checking whether there are certain groups of customers by looking at the pair plot."
   ]
  },
  {
   "cell_type": "code",
   "execution_count": 292,
   "metadata": {},
   "outputs": [
    {
     "data": {
      "image/png": "[encoded data removed]",
      "text/plain": [
       "<Figure size 1300x1300 with 30 Axes>"
      ]
     },
     "metadata": {},
     "output_type": "display_data"
    }
   ],
   "source": [
    "sns.set_theme()\n",
    "g = sns.pairplot(df, kind='hist')\n",
    "g.fig.set_size_inches(13, 13)"
   ]
  },
  {
   "cell_type": "markdown",
   "metadata": {},
   "source": [
    "Ok, it is a bit difficult to spot obvious groups (clusters) as it is difficult to combine several variables simultaneously (to analyze multivariate distributions). That's where LA and ML can be quite handy."
   ]
  },
  {
   "cell_type": "code",
   "execution_count": 293,
   "metadata": {},
   "outputs": [
    {
     "data": {
      "text/html": [
       "<div>\n",
       "<style scoped>\n",
       "    .dataframe tbody tr th:only-of-type {\n",
       "        vertical-align: middle;\n",
       "    }\n",
       "\n",
       "    .dataframe tbody tr th {\n",
       "        vertical-align: top;\n",
       "    }\n",
       "\n",
       "    .dataframe thead th {\n",
       "        text-align: right;\n",
       "    }\n",
       "</style>\n",
       "<table border=\"1\" class=\"dataframe\">\n",
       "  <thead>\n",
       "    <tr style=\"text-align: right;\">\n",
       "      <th></th>\n",
       "      <th>gender</th>\n",
       "      <th>age</th>\n",
       "      <th>income</th>\n",
       "      <th>family_members</th>\n",
       "      <th>insurance_benefits</th>\n",
       "    </tr>\n",
       "  </thead>\n",
       "  <tbody>\n",
       "    <tr>\n",
       "      <th>gender</th>\n",
       "      <td>1.000000</td>\n",
       "      <td>0.002074</td>\n",
       "      <td>0.014910</td>\n",
       "      <td>-0.008991</td>\n",
       "      <td>0.010140</td>\n",
       "    </tr>\n",
       "    <tr>\n",
       "      <th>age</th>\n",
       "      <td>0.002074</td>\n",
       "      <td>1.000000</td>\n",
       "      <td>-0.019093</td>\n",
       "      <td>-0.006692</td>\n",
       "      <td>0.651030</td>\n",
       "    </tr>\n",
       "    <tr>\n",
       "      <th>income</th>\n",
       "      <td>0.014910</td>\n",
       "      <td>-0.019093</td>\n",
       "      <td>1.000000</td>\n",
       "      <td>-0.030296</td>\n",
       "      <td>-0.014963</td>\n",
       "    </tr>\n",
       "    <tr>\n",
       "      <th>family_members</th>\n",
       "      <td>-0.008991</td>\n",
       "      <td>-0.006692</td>\n",
       "      <td>-0.030296</td>\n",
       "      <td>1.000000</td>\n",
       "      <td>-0.036290</td>\n",
       "    </tr>\n",
       "    <tr>\n",
       "      <th>insurance_benefits</th>\n",
       "      <td>0.010140</td>\n",
       "      <td>0.651030</td>\n",
       "      <td>-0.014963</td>\n",
       "      <td>-0.036290</td>\n",
       "      <td>1.000000</td>\n",
       "    </tr>\n",
       "  </tbody>\n",
       "</table>\n",
       "</div>"
      ],
      "text/plain": [
       "                      gender       age    income  family_members  \\\n",
       "gender              1.000000  0.002074  0.014910       -0.008991   \n",
       "age                 0.002074  1.000000 -0.019093       -0.006692   \n",
       "income              0.014910 -0.019093  1.000000       -0.030296   \n",
       "family_members     -0.008991 -0.006692 -0.030296        1.000000   \n",
       "insurance_benefits  0.010140  0.651030 -0.014963       -0.036290   \n",
       "\n",
       "                    insurance_benefits  \n",
       "gender                        0.010140  \n",
       "age                           0.651030  \n",
       "income                       -0.014963  \n",
       "family_members               -0.036290  \n",
       "insurance_benefits            1.000000  "
      ]
     },
     "execution_count": 293,
     "metadata": {},
     "output_type": "execute_result"
    }
   ],
   "source": [
    "df.corr()"
   ]
  },
  {
   "cell_type": "code",
   "execution_count": 294,
   "metadata": {},
   "outputs": [
    {
     "data": {
      "text/plain": [
       "gender                  2\n",
       "age                    46\n",
       "income                524\n",
       "family_members          7\n",
       "insurance_benefits      6\n",
       "dtype: int64"
      ]
     },
     "execution_count": 294,
     "metadata": {},
     "output_type": "execute_result"
    }
   ],
   "source": [
    "df.nunique()"
   ]
  },
  {
   "cell_type": "code",
   "execution_count": 295,
   "metadata": {},
   "outputs": [
    {
     "data": {
      "text/plain": [
       "153"
      ]
     },
     "execution_count": 295,
     "metadata": {},
     "output_type": "execute_result"
    }
   ],
   "source": [
    "df.duplicated().sum()"
   ]
  },
  {
   "cell_type": "code",
   "execution_count": 296,
   "metadata": {},
   "outputs": [
    {
     "data": {
      "text/plain": [
       "gender                0\n",
       "age                   0\n",
       "income                0\n",
       "family_members        0\n",
       "insurance_benefits    0\n",
       "dtype: int64"
      ]
     },
     "execution_count": 296,
     "metadata": {},
     "output_type": "execute_result"
    }
   ],
   "source": [
    "df.isnull().sum()"
   ]
  },
  {
   "cell_type": "code",
   "execution_count": 297,
   "metadata": {},
   "outputs": [
    {
     "name": "stdout",
     "output_type": "stream",
     "text": [
      "gender\n",
      "0    2505\n",
      "1    2495\n",
      "Name: count, dtype: int64\n",
      "\n",
      "age\n",
      "19    223\n",
      "25    214\n",
      "31    212\n",
      "26    211\n",
      "22    209\n",
      "27    209\n",
      "32    206\n",
      "28    204\n",
      "29    203\n",
      "30    202\n",
      "23    202\n",
      "21    200\n",
      "20    195\n",
      "36    193\n",
      "33    191\n",
      "24    182\n",
      "35    179\n",
      "34    177\n",
      "37    147\n",
      "39    141\n",
      "38    139\n",
      "41    129\n",
      "18    117\n",
      "40    114\n",
      "42     93\n",
      "43     77\n",
      "44     74\n",
      "45     73\n",
      "46     60\n",
      "47     47\n",
      "49     37\n",
      "50     27\n",
      "48     26\n",
      "52     22\n",
      "51     21\n",
      "53     11\n",
      "55      9\n",
      "54      7\n",
      "56      5\n",
      "59      3\n",
      "57      2\n",
      "58      2\n",
      "60      2\n",
      "61      1\n",
      "65      1\n",
      "62      1\n",
      "Name: count, dtype: int64\n",
      "\n",
      "income\n",
      "45800.0    29\n",
      "37100.0    28\n",
      "41500.0    27\n",
      "43200.0    27\n",
      "46800.0    26\n",
      "           ..\n",
      "17700.0     1\n",
      "70600.0     1\n",
      "18100.0     1\n",
      "13000.0     1\n",
      "56800.0     1\n",
      "Name: count, Length: 524, dtype: int64\n",
      "\n",
      "family_members\n",
      "1    1814\n",
      "0    1513\n",
      "2    1071\n",
      "3     439\n",
      "4     124\n",
      "5      32\n",
      "6       7\n",
      "Name: count, dtype: int64\n",
      "\n",
      "insurance_benefits\n",
      "0    4436\n",
      "1     423\n",
      "2     115\n",
      "3      18\n",
      "4       7\n",
      "5       1\n",
      "Name: count, dtype: int64\n",
      "\n"
     ]
    }
   ],
   "source": [
    "for i in df:\n",
    "    #print(i, ':')\n",
    "    print(df[i].value_counts())\n",
    "    print()"
   ]
  },
  {
   "cell_type": "code",
   "execution_count": 298,
   "metadata": {},
   "outputs": [
    {
     "data": {
      "image/png": "[encoded data removed]",
      "text/plain": [
       "<Figure size 1500x600 with 1 Axes>"
      ]
     },
     "metadata": {},
     "output_type": "display_data"
    },
    {
     "data": {
      "image/png": "[encoded data removed]",
      "text/plain": [
       "<Figure size 1500x600 with 1 Axes>"
      ]
     },
     "metadata": {},
     "output_type": "display_data"
    },
    {
     "data": {
      "image/png": "[encoded data removed]",
      "text/plain": [
       "<Figure size 1500x600 with 1 Axes>"
      ]
     },
     "metadata": {},
     "output_type": "display_data"
    },
    {
     "data": {
      "image/png": "[encoded data removed]",
      "text/plain": [
       "<Figure size 1500x600 with 1 Axes>"
      ]
     },
     "metadata": {},
     "output_type": "display_data"
    },
    {
     "data": {
      "image/png": "[encoded data removed]",
      "text/plain": [
       "<Figure size 1500x600 with 1 Axes>"
      ]
     },
     "metadata": {},
     "output_type": "display_data"
    }
   ],
   "source": [
    "for i in df:\n",
    "    plt.figure(figsize=(15, 6))\n",
    "    sns.countplot(x=i, data=df, palette='magma', hue=i, legend=None)\n",
    "    plt.xticks(rotation = None)\n",
    "    plt.title('Value Count Analysis')\n",
    "    plt.ylabel('Count (#)')\n",
    "    plt.show()"
   ]
  },
  {
   "cell_type": "markdown",
   "metadata": {},
   "source": [
    "Lasso for feature selection"
   ]
  },
  {
   "cell_type": "code",
   "execution_count": 299,
   "metadata": {},
   "outputs": [
    {
     "data": {
      "image/png": "[encoded data removed]",
      "text/plain": [
       "<Figure size 1000x500 with 1 Axes>"
      ]
     },
     "metadata": {},
     "output_type": "display_data"
    }
   ],
   "source": [
    "sns.set(style=\"white\", color_codes=True)\n",
    "plt.rcParams['axes.linewidth'] = 0.1\n",
    "fig, ax = plt.subplots(figsize = (10,5))\n",
    "\n",
    "features_lasso = df.drop('insurance_benefits', axis=1)\n",
    "target_lasso = df.insurance_benefits\n",
    "names = df.drop('insurance_benefits', axis=1).columns\n",
    "\n",
    "lasso = Lasso(alpha=0.1)\n",
    "lasso_coef = lasso.fit(features_lasso, target_lasso).coef_\n",
    "\n",
    "sns.barplot(x=names, y=lasso_coef, hue=names, ax=ax)\n",
    "\n",
    "plt.title('Feature Selection Based on Lasso - Full Dataset', fontsize=10)\n",
    "ax.set_xlabel('Feature', fontsize=10)\n",
    "ax.set_ylabel('Importance',fontsize=10)\n",
    "\n",
    "ax.tick_params(color='gray', labelcolor='gray')\n",
    "for spine in ax.spines.values():\n",
    "    spine.set_edgecolor('gray')\n",
    "\n",
    "\n",
    "plt.xticks(rotation=0)\n",
    "plt.show()"
   ]
  },
  {
   "cell_type": "markdown",
   "metadata": {},
   "source": [
    "# Task 1. Similar Customers"
   ]
  },
  {
   "cell_type": "markdown",
   "metadata": {},
   "source": [
    "In the language of ML, it is necessary to develop a procedure that returns k nearest neighbors (objects) for a given object based on the distance between the objects.\n",
    "\n",
    "You may want to review the following lessons (chapter -> lesson)\n",
    "- Distance Between Vectors -> Euclidean Distance\n",
    "- Distance Between Vectors -> Manhattan Distance\n",
    "\n",
    "To solve the task, we can try different distance metrics."
   ]
  },
  {
   "cell_type": "markdown",
   "metadata": {},
   "source": [
    "Write a function that returns k nearest neighbors for an $n^{th}$ object based on a specified distance metric. The number of received insurance benefits should not be taken into account for this task. \n",
    "\n",
    "You can use a ready implementation of the kNN algorithm from scikit-learn (check [the link](https://scikit-learn.org/stable/modules/generated/sklearn.neighbors.NearestNeighbors.html#sklearn.neighbors.NearestNeighbors)) or use your own.\n",
    "\n",
    "Test it for four combination of two cases\n",
    "- Scaling\n",
    "  - the data is not scaled\n",
    "  - the data is scaled with the [MaxAbsScaler](https://scikit-learn.org/stable/modules/generated/sklearn.preprocessing.MaxAbsScaler.html) scaler\n",
    "- Distance Metrics\n",
    "  - Euclidean\n",
    "  - Manhattan\n",
    "\n",
    "Questions to answer:\n",
    "- Does the data being not scaled affect the kNN algorithm? If so, how does that appear?\n",
    "\n",
    "- How similar are the results using the Manhattan distance metric (regardless of the scaling)?"
   ]
  },
  {
   "cell_type": "code",
   "execution_count": 300,
   "metadata": {},
   "outputs": [],
   "source": [
    "feature_names = ['gender', 'age', 'income', 'family_members']"
   ]
  },
  {
   "cell_type": "code",
   "execution_count": 301,
   "metadata": {},
   "outputs": [],
   "source": [
    "def get_knn(df, n, k, metric):\n",
    "    \n",
    "    \"\"\"\n",
    "    Returns k nearest neighbors\n",
    "\n",
    "    :param df: pandas DataFrame used to find similar objects within\n",
    "    :param n: object no for which the nearest neighbours are looked for\n",
    "    :param k: the number of the nearest neighbours to return\n",
    "    :param metric: name of distance metric\n",
    "    \"\"\"\n",
    "    nbrs = NearestNeighbors(metric=metric).fit(df)\n",
    "    nbrs_distances, nbrs_indices = nbrs.kneighbors([df.iloc[n][feature_names]], k, return_distance=True)\n",
    "    \n",
    "    df_res = pd.concat([\n",
    "        df.iloc[nbrs_indices[0]], \n",
    "        pd.DataFrame(nbrs_distances.T, index=nbrs_indices[0], columns=['distance'])\n",
    "        ], axis=1)\n",
    "    \n",
    "    return df_res"
   ]
  },
  {
   "cell_type": "markdown",
   "metadata": {},
   "source": [
    "`data scaling`"
   ]
  },
  {
   "cell_type": "code",
   "execution_count": 302,
   "metadata": {},
   "outputs": [],
   "source": [
    "feature_names = ['gender', 'age', 'income', 'family_members']\n",
    "\n",
    "transformer_mas = sklearn.preprocessing.MaxAbsScaler().fit(df[feature_names].to_numpy())\n",
    "\n",
    "df_scaled = df.copy()\n",
    "df_scaled.loc[:, feature_names] = transformer_mas.transform(df[feature_names].to_numpy())"
   ]
  },
  {
   "cell_type": "code",
   "execution_count": 303,
   "metadata": {},
   "outputs": [],
   "source": [
    "df_scaled.sample(5)\n",
    "df_scaled = df_scaled.drop('insurance_benefits', axis=1)\n",
    "\n",
    "## df.iloc[1][feature_names]\n",
    "#print(df_scaled)"
   ]
  },
  {
   "cell_type": "code",
   "execution_count": 304,
   "metadata": {},
   "outputs": [],
   "source": [
    "df_not_scaled = df.copy()\n",
    "df_not_scaled.loc[:, feature_names] = df[feature_names].to_numpy()\n",
    "df_not_scaled = df_not_scaled.drop('insurance_benefits', axis=1)"
   ]
  },
  {
   "cell_type": "markdown",
   "metadata": {},
   "source": [
    "Similar records for a given one for every combination"
   ]
  },
  {
   "cell_type": "code",
   "execution_count": 305,
   "metadata": {},
   "outputs": [
    {
     "name": "stdout",
     "output_type": "stream",
     "text": [
      "Scaled dataset - Euclidean Distance\n"
     ]
    },
    {
     "name": "stderr",
     "output_type": "stream",
     "text": [
      "/opt/homebrew/lib/python3.11/site-packages/sklearn/base.py:465: UserWarning: X does not have valid feature names, but NearestNeighbors was fitted with feature names\n",
      "  warnings.warn(\n"
     ]
    },
    {
     "data": {
      "text/html": [
       "<div>\n",
       "<style scoped>\n",
       "    .dataframe tbody tr th:only-of-type {\n",
       "        vertical-align: middle;\n",
       "    }\n",
       "\n",
       "    .dataframe tbody tr th {\n",
       "        vertical-align: top;\n",
       "    }\n",
       "\n",
       "    .dataframe thead th {\n",
       "        text-align: right;\n",
       "    }\n",
       "</style>\n",
       "<table border=\"1\" class=\"dataframe\">\n",
       "  <thead>\n",
       "    <tr style=\"text-align: right;\">\n",
       "      <th></th>\n",
       "      <th>gender</th>\n",
       "      <th>age</th>\n",
       "      <th>income</th>\n",
       "      <th>family_members</th>\n",
       "      <th>distance</th>\n",
       "    </tr>\n",
       "  </thead>\n",
       "  <tbody>\n",
       "    <tr>\n",
       "      <th>10</th>\n",
       "      <td>1</td>\n",
       "      <td>0.384615</td>\n",
       "      <td>0.463291</td>\n",
       "      <td>0.166667</td>\n",
       "      <td>0.000000</td>\n",
       "    </tr>\n",
       "    <tr>\n",
       "      <th>4377</th>\n",
       "      <td>1</td>\n",
       "      <td>0.384615</td>\n",
       "      <td>0.473418</td>\n",
       "      <td>0.166667</td>\n",
       "      <td>0.010127</td>\n",
       "    </tr>\n",
       "    <tr>\n",
       "      <th>1389</th>\n",
       "      <td>1</td>\n",
       "      <td>0.369231</td>\n",
       "      <td>0.464557</td>\n",
       "      <td>0.166667</td>\n",
       "      <td>0.015437</td>\n",
       "    </tr>\n",
       "    <tr>\n",
       "      <th>760</th>\n",
       "      <td>1</td>\n",
       "      <td>0.369231</td>\n",
       "      <td>0.462025</td>\n",
       "      <td>0.166667</td>\n",
       "      <td>0.015437</td>\n",
       "    </tr>\n",
       "    <tr>\n",
       "      <th>2254</th>\n",
       "      <td>1</td>\n",
       "      <td>0.400000</td>\n",
       "      <td>0.455696</td>\n",
       "      <td>0.166667</td>\n",
       "      <td>0.017157</td>\n",
       "    </tr>\n",
       "    <tr>\n",
       "      <th>...</th>\n",
       "      <td>...</td>\n",
       "      <td>...</td>\n",
       "      <td>...</td>\n",
       "      <td>...</td>\n",
       "      <td>...</td>\n",
       "    </tr>\n",
       "    <tr>\n",
       "      <th>3681</th>\n",
       "      <td>1</td>\n",
       "      <td>0.415385</td>\n",
       "      <td>0.520253</td>\n",
       "      <td>0.166667</td>\n",
       "      <td>0.064741</td>\n",
       "    </tr>\n",
       "    <tr>\n",
       "      <th>2359</th>\n",
       "      <td>1</td>\n",
       "      <td>0.353846</td>\n",
       "      <td>0.406329</td>\n",
       "      <td>0.166667</td>\n",
       "      <td>0.064741</td>\n",
       "    </tr>\n",
       "    <tr>\n",
       "      <th>2754</th>\n",
       "      <td>1</td>\n",
       "      <td>0.430769</td>\n",
       "      <td>0.417722</td>\n",
       "      <td>0.166667</td>\n",
       "      <td>0.064860</td>\n",
       "    </tr>\n",
       "    <tr>\n",
       "      <th>2104</th>\n",
       "      <td>1</td>\n",
       "      <td>0.323077</td>\n",
       "      <td>0.439241</td>\n",
       "      <td>0.166667</td>\n",
       "      <td>0.066071</td>\n",
       "    </tr>\n",
       "    <tr>\n",
       "      <th>3902</th>\n",
       "      <td>1</td>\n",
       "      <td>0.323077</td>\n",
       "      <td>0.488608</td>\n",
       "      <td>0.166667</td>\n",
       "      <td>0.066543</td>\n",
       "    </tr>\n",
       "  </tbody>\n",
       "</table>\n",
       "<p>100 rows × 5 columns</p>\n",
       "</div>"
      ],
      "text/plain": [
       "      gender       age    income  family_members  distance\n",
       "10         1  0.384615  0.463291        0.166667  0.000000\n",
       "4377       1  0.384615  0.473418        0.166667  0.010127\n",
       "1389       1  0.369231  0.464557        0.166667  0.015437\n",
       "760        1  0.369231  0.462025        0.166667  0.015437\n",
       "2254       1  0.400000  0.455696        0.166667  0.017157\n",
       "...      ...       ...       ...             ...       ...\n",
       "3681       1  0.415385  0.520253        0.166667  0.064741\n",
       "2359       1  0.353846  0.406329        0.166667  0.064741\n",
       "2754       1  0.430769  0.417722        0.166667  0.064860\n",
       "2104       1  0.323077  0.439241        0.166667  0.066071\n",
       "3902       1  0.323077  0.488608        0.166667  0.066543\n",
       "\n",
       "[100 rows x 5 columns]"
      ]
     },
     "metadata": {},
     "output_type": "display_data"
    }
   ],
   "source": [
    "print('Scaled dataset - Euclidean Distance')\n",
    "display(get_knn(df_scaled, 10, 100, 'euclidean'))"
   ]
  },
  {
   "cell_type": "code",
   "execution_count": 306,
   "metadata": {},
   "outputs": [
    {
     "name": "stdout",
     "output_type": "stream",
     "text": [
      "No scaling dataset - Euclidean Distance\n"
     ]
    },
    {
     "name": "stderr",
     "output_type": "stream",
     "text": [
      "/opt/homebrew/lib/python3.11/site-packages/sklearn/base.py:465: UserWarning: X does not have valid feature names, but NearestNeighbors was fitted with feature names\n",
      "  warnings.warn(\n"
     ]
    },
    {
     "data": {
      "text/html": [
       "<div>\n",
       "<style scoped>\n",
       "    .dataframe tbody tr th:only-of-type {\n",
       "        vertical-align: middle;\n",
       "    }\n",
       "\n",
       "    .dataframe tbody tr th {\n",
       "        vertical-align: top;\n",
       "    }\n",
       "\n",
       "    .dataframe thead th {\n",
       "        text-align: right;\n",
       "    }\n",
       "</style>\n",
       "<table border=\"1\" class=\"dataframe\">\n",
       "  <thead>\n",
       "    <tr style=\"text-align: right;\">\n",
       "      <th></th>\n",
       "      <th>gender</th>\n",
       "      <th>age</th>\n",
       "      <th>income</th>\n",
       "      <th>family_members</th>\n",
       "      <th>distance</th>\n",
       "    </tr>\n",
       "  </thead>\n",
       "  <tbody>\n",
       "    <tr>\n",
       "      <th>10</th>\n",
       "      <td>1</td>\n",
       "      <td>25</td>\n",
       "      <td>36600.0</td>\n",
       "      <td>1</td>\n",
       "      <td>0.000000</td>\n",
       "    </tr>\n",
       "    <tr>\n",
       "      <th>4039</th>\n",
       "      <td>1</td>\n",
       "      <td>25</td>\n",
       "      <td>36600.0</td>\n",
       "      <td>2</td>\n",
       "      <td>1.000000</td>\n",
       "    </tr>\n",
       "    <tr>\n",
       "      <th>2037</th>\n",
       "      <td>1</td>\n",
       "      <td>26</td>\n",
       "      <td>36600.0</td>\n",
       "      <td>0</td>\n",
       "      <td>1.414214</td>\n",
       "    </tr>\n",
       "    <tr>\n",
       "      <th>3247</th>\n",
       "      <td>1</td>\n",
       "      <td>26</td>\n",
       "      <td>36600.0</td>\n",
       "      <td>2</td>\n",
       "      <td>1.414214</td>\n",
       "    </tr>\n",
       "    <tr>\n",
       "      <th>1508</th>\n",
       "      <td>0</td>\n",
       "      <td>26</td>\n",
       "      <td>36600.0</td>\n",
       "      <td>0</td>\n",
       "      <td>1.732051</td>\n",
       "    </tr>\n",
       "    <tr>\n",
       "      <th>...</th>\n",
       "      <td>...</td>\n",
       "      <td>...</td>\n",
       "      <td>...</td>\n",
       "      <td>...</td>\n",
       "      <td>...</td>\n",
       "    </tr>\n",
       "    <tr>\n",
       "      <th>426</th>\n",
       "      <td>0</td>\n",
       "      <td>23</td>\n",
       "      <td>36900.0</td>\n",
       "      <td>1</td>\n",
       "      <td>300.008333</td>\n",
       "    </tr>\n",
       "    <tr>\n",
       "      <th>3122</th>\n",
       "      <td>0</td>\n",
       "      <td>27</td>\n",
       "      <td>36300.0</td>\n",
       "      <td>0</td>\n",
       "      <td>300.010000</td>\n",
       "    </tr>\n",
       "    <tr>\n",
       "      <th>303</th>\n",
       "      <td>1</td>\n",
       "      <td>28</td>\n",
       "      <td>36900.0</td>\n",
       "      <td>1</td>\n",
       "      <td>300.015000</td>\n",
       "    </tr>\n",
       "    <tr>\n",
       "      <th>2020</th>\n",
       "      <td>0</td>\n",
       "      <td>22</td>\n",
       "      <td>36900.0</td>\n",
       "      <td>1</td>\n",
       "      <td>300.016666</td>\n",
       "    </tr>\n",
       "    <tr>\n",
       "      <th>417</th>\n",
       "      <td>1</td>\n",
       "      <td>28</td>\n",
       "      <td>36900.0</td>\n",
       "      <td>0</td>\n",
       "      <td>300.016666</td>\n",
       "    </tr>\n",
       "  </tbody>\n",
       "</table>\n",
       "<p>100 rows × 5 columns</p>\n",
       "</div>"
      ],
      "text/plain": [
       "      gender  age   income  family_members    distance\n",
       "10         1   25  36600.0               1    0.000000\n",
       "4039       1   25  36600.0               2    1.000000\n",
       "2037       1   26  36600.0               0    1.414214\n",
       "3247       1   26  36600.0               2    1.414214\n",
       "1508       0   26  36600.0               0    1.732051\n",
       "...      ...  ...      ...             ...         ...\n",
       "426        0   23  36900.0               1  300.008333\n",
       "3122       0   27  36300.0               0  300.010000\n",
       "303        1   28  36900.0               1  300.015000\n",
       "2020       0   22  36900.0               1  300.016666\n",
       "417        1   28  36900.0               0  300.016666\n",
       "\n",
       "[100 rows x 5 columns]"
      ]
     },
     "metadata": {},
     "output_type": "display_data"
    }
   ],
   "source": [
    "print('No scaling dataset - Euclidean Distance')\n",
    "display(get_knn(df_not_scaled, 10, 100, 'euclidean'))"
   ]
  },
  {
   "cell_type": "code",
   "execution_count": 307,
   "metadata": {},
   "outputs": [
    {
     "name": "stdout",
     "output_type": "stream",
     "text": [
      "Scaled dataset - Manhattan Distance\n"
     ]
    },
    {
     "name": "stderr",
     "output_type": "stream",
     "text": [
      "/opt/homebrew/lib/python3.11/site-packages/sklearn/base.py:465: UserWarning: X does not have valid feature names, but NearestNeighbors was fitted with feature names\n",
      "  warnings.warn(\n"
     ]
    },
    {
     "data": {
      "text/html": [
       "<div>\n",
       "<style scoped>\n",
       "    .dataframe tbody tr th:only-of-type {\n",
       "        vertical-align: middle;\n",
       "    }\n",
       "\n",
       "    .dataframe tbody tr th {\n",
       "        vertical-align: top;\n",
       "    }\n",
       "\n",
       "    .dataframe thead th {\n",
       "        text-align: right;\n",
       "    }\n",
       "</style>\n",
       "<table border=\"1\" class=\"dataframe\">\n",
       "  <thead>\n",
       "    <tr style=\"text-align: right;\">\n",
       "      <th></th>\n",
       "      <th>gender</th>\n",
       "      <th>age</th>\n",
       "      <th>income</th>\n",
       "      <th>family_members</th>\n",
       "      <th>distance</th>\n",
       "    </tr>\n",
       "  </thead>\n",
       "  <tbody>\n",
       "    <tr>\n",
       "      <th>10</th>\n",
       "      <td>1</td>\n",
       "      <td>0.384615</td>\n",
       "      <td>0.463291</td>\n",
       "      <td>0.166667</td>\n",
       "      <td>0.000000</td>\n",
       "    </tr>\n",
       "    <tr>\n",
       "      <th>4377</th>\n",
       "      <td>1</td>\n",
       "      <td>0.384615</td>\n",
       "      <td>0.473418</td>\n",
       "      <td>0.166667</td>\n",
       "      <td>0.010127</td>\n",
       "    </tr>\n",
       "    <tr>\n",
       "      <th>1389</th>\n",
       "      <td>1</td>\n",
       "      <td>0.369231</td>\n",
       "      <td>0.464557</td>\n",
       "      <td>0.166667</td>\n",
       "      <td>0.016650</td>\n",
       "    </tr>\n",
       "    <tr>\n",
       "      <th>760</th>\n",
       "      <td>1</td>\n",
       "      <td>0.369231</td>\n",
       "      <td>0.462025</td>\n",
       "      <td>0.166667</td>\n",
       "      <td>0.016650</td>\n",
       "    </tr>\n",
       "    <tr>\n",
       "      <th>2254</th>\n",
       "      <td>1</td>\n",
       "      <td>0.400000</td>\n",
       "      <td>0.455696</td>\n",
       "      <td>0.166667</td>\n",
       "      <td>0.022980</td>\n",
       "    </tr>\n",
       "    <tr>\n",
       "      <th>26</th>\n",
       "      <td>1</td>\n",
       "      <td>0.384615</td>\n",
       "      <td>0.437975</td>\n",
       "      <td>0.166667</td>\n",
       "      <td>0.025316</td>\n",
       "    </tr>\n",
       "    <tr>\n",
       "      <th>3261</th>\n",
       "      <td>1</td>\n",
       "      <td>0.400000</td>\n",
       "      <td>0.473418</td>\n",
       "      <td>0.166667</td>\n",
       "      <td>0.025511</td>\n",
       "    </tr>\n",
       "    <tr>\n",
       "      <th>4241</th>\n",
       "      <td>1</td>\n",
       "      <td>0.369231</td>\n",
       "      <td>0.446835</td>\n",
       "      <td>0.166667</td>\n",
       "      <td>0.031840</td>\n",
       "    </tr>\n",
       "    <tr>\n",
       "      <th>4201</th>\n",
       "      <td>1</td>\n",
       "      <td>0.400000</td>\n",
       "      <td>0.446835</td>\n",
       "      <td>0.166667</td>\n",
       "      <td>0.031840</td>\n",
       "    </tr>\n",
       "    <tr>\n",
       "      <th>4128</th>\n",
       "      <td>1</td>\n",
       "      <td>0.384615</td>\n",
       "      <td>0.430380</td>\n",
       "      <td>0.166667</td>\n",
       "      <td>0.032911</td>\n",
       "    </tr>\n",
       "    <tr>\n",
       "      <th>1528</th>\n",
       "      <td>1</td>\n",
       "      <td>0.415385</td>\n",
       "      <td>0.465823</td>\n",
       "      <td>0.166667</td>\n",
       "      <td>0.033301</td>\n",
       "    </tr>\n",
       "    <tr>\n",
       "      <th>575</th>\n",
       "      <td>1</td>\n",
       "      <td>0.353846</td>\n",
       "      <td>0.460759</td>\n",
       "      <td>0.166667</td>\n",
       "      <td>0.033301</td>\n",
       "    </tr>\n",
       "    <tr>\n",
       "      <th>2609</th>\n",
       "      <td>1</td>\n",
       "      <td>0.400000</td>\n",
       "      <td>0.444304</td>\n",
       "      <td>0.166667</td>\n",
       "      <td>0.034372</td>\n",
       "    </tr>\n",
       "    <tr>\n",
       "      <th>2809</th>\n",
       "      <td>1</td>\n",
       "      <td>0.415385</td>\n",
       "      <td>0.467089</td>\n",
       "      <td>0.166667</td>\n",
       "      <td>0.034567</td>\n",
       "    </tr>\n",
       "    <tr>\n",
       "      <th>3444</th>\n",
       "      <td>1</td>\n",
       "      <td>0.369231</td>\n",
       "      <td>0.440506</td>\n",
       "      <td>0.166667</td>\n",
       "      <td>0.038169</td>\n",
       "    </tr>\n",
       "    <tr>\n",
       "      <th>4351</th>\n",
       "      <td>1</td>\n",
       "      <td>0.384615</td>\n",
       "      <td>0.422785</td>\n",
       "      <td>0.166667</td>\n",
       "      <td>0.040506</td>\n",
       "    </tr>\n",
       "    <tr>\n",
       "      <th>896</th>\n",
       "      <td>1</td>\n",
       "      <td>0.384615</td>\n",
       "      <td>0.422785</td>\n",
       "      <td>0.166667</td>\n",
       "      <td>0.040506</td>\n",
       "    </tr>\n",
       "    <tr>\n",
       "      <th>491</th>\n",
       "      <td>1</td>\n",
       "      <td>0.369231</td>\n",
       "      <td>0.437975</td>\n",
       "      <td>0.166667</td>\n",
       "      <td>0.040701</td>\n",
       "    </tr>\n",
       "    <tr>\n",
       "      <th>2849</th>\n",
       "      <td>1</td>\n",
       "      <td>0.400000</td>\n",
       "      <td>0.491139</td>\n",
       "      <td>0.166667</td>\n",
       "      <td>0.043233</td>\n",
       "    </tr>\n",
       "    <tr>\n",
       "      <th>4475</th>\n",
       "      <td>1</td>\n",
       "      <td>0.369231</td>\n",
       "      <td>0.491139</td>\n",
       "      <td>0.166667</td>\n",
       "      <td>0.043233</td>\n",
       "    </tr>\n",
       "  </tbody>\n",
       "</table>\n",
       "</div>"
      ],
      "text/plain": [
       "      gender       age    income  family_members  distance\n",
       "10         1  0.384615  0.463291        0.166667  0.000000\n",
       "4377       1  0.384615  0.473418        0.166667  0.010127\n",
       "1389       1  0.369231  0.464557        0.166667  0.016650\n",
       "760        1  0.369231  0.462025        0.166667  0.016650\n",
       "2254       1  0.400000  0.455696        0.166667  0.022980\n",
       "26         1  0.384615  0.437975        0.166667  0.025316\n",
       "3261       1  0.400000  0.473418        0.166667  0.025511\n",
       "4241       1  0.369231  0.446835        0.166667  0.031840\n",
       "4201       1  0.400000  0.446835        0.166667  0.031840\n",
       "4128       1  0.384615  0.430380        0.166667  0.032911\n",
       "1528       1  0.415385  0.465823        0.166667  0.033301\n",
       "575        1  0.353846  0.460759        0.166667  0.033301\n",
       "2609       1  0.400000  0.444304        0.166667  0.034372\n",
       "2809       1  0.415385  0.467089        0.166667  0.034567\n",
       "3444       1  0.369231  0.440506        0.166667  0.038169\n",
       "4351       1  0.384615  0.422785        0.166667  0.040506\n",
       "896        1  0.384615  0.422785        0.166667  0.040506\n",
       "491        1  0.369231  0.437975        0.166667  0.040701\n",
       "2849       1  0.400000  0.491139        0.166667  0.043233\n",
       "4475       1  0.369231  0.491139        0.166667  0.043233"
      ]
     },
     "metadata": {},
     "output_type": "display_data"
    }
   ],
   "source": [
    "print('Scaled dataset - Manhattan Distance')\n",
    "display(get_knn(df_scaled, 10, 20, 'manhattan'))"
   ]
  },
  {
   "cell_type": "code",
   "execution_count": 308,
   "metadata": {},
   "outputs": [
    {
     "name": "stdout",
     "output_type": "stream",
     "text": [
      "No scaling dataset - Manhattan Distance\n"
     ]
    },
    {
     "name": "stderr",
     "output_type": "stream",
     "text": [
      "/opt/homebrew/lib/python3.11/site-packages/sklearn/base.py:465: UserWarning: X does not have valid feature names, but NearestNeighbors was fitted with feature names\n",
      "  warnings.warn(\n"
     ]
    },
    {
     "data": {
      "text/html": [
       "<div>\n",
       "<style scoped>\n",
       "    .dataframe tbody tr th:only-of-type {\n",
       "        vertical-align: middle;\n",
       "    }\n",
       "\n",
       "    .dataframe tbody tr th {\n",
       "        vertical-align: top;\n",
       "    }\n",
       "\n",
       "    .dataframe thead th {\n",
       "        text-align: right;\n",
       "    }\n",
       "</style>\n",
       "<table border=\"1\" class=\"dataframe\">\n",
       "  <thead>\n",
       "    <tr style=\"text-align: right;\">\n",
       "      <th></th>\n",
       "      <th>gender</th>\n",
       "      <th>age</th>\n",
       "      <th>income</th>\n",
       "      <th>family_members</th>\n",
       "      <th>distance</th>\n",
       "    </tr>\n",
       "  </thead>\n",
       "  <tbody>\n",
       "    <tr>\n",
       "      <th>10</th>\n",
       "      <td>1</td>\n",
       "      <td>25</td>\n",
       "      <td>36600.0</td>\n",
       "      <td>1</td>\n",
       "      <td>0.0</td>\n",
       "    </tr>\n",
       "    <tr>\n",
       "      <th>4039</th>\n",
       "      <td>1</td>\n",
       "      <td>25</td>\n",
       "      <td>36600.0</td>\n",
       "      <td>2</td>\n",
       "      <td>1.0</td>\n",
       "    </tr>\n",
       "    <tr>\n",
       "      <th>3247</th>\n",
       "      <td>1</td>\n",
       "      <td>26</td>\n",
       "      <td>36600.0</td>\n",
       "      <td>2</td>\n",
       "      <td>2.0</td>\n",
       "    </tr>\n",
       "    <tr>\n",
       "      <th>2037</th>\n",
       "      <td>1</td>\n",
       "      <td>26</td>\n",
       "      <td>36600.0</td>\n",
       "      <td>0</td>\n",
       "      <td>2.0</td>\n",
       "    </tr>\n",
       "    <tr>\n",
       "      <th>1949</th>\n",
       "      <td>0</td>\n",
       "      <td>24</td>\n",
       "      <td>36600.0</td>\n",
       "      <td>0</td>\n",
       "      <td>3.0</td>\n",
       "    </tr>\n",
       "    <tr>\n",
       "      <th>1508</th>\n",
       "      <td>0</td>\n",
       "      <td>26</td>\n",
       "      <td>36600.0</td>\n",
       "      <td>0</td>\n",
       "      <td>3.0</td>\n",
       "    </tr>\n",
       "    <tr>\n",
       "      <th>49</th>\n",
       "      <td>0</td>\n",
       "      <td>28</td>\n",
       "      <td>36600.0</td>\n",
       "      <td>1</td>\n",
       "      <td>4.0</td>\n",
       "    </tr>\n",
       "    <tr>\n",
       "      <th>2890</th>\n",
       "      <td>0</td>\n",
       "      <td>23</td>\n",
       "      <td>36600.0</td>\n",
       "      <td>0</td>\n",
       "      <td>4.0</td>\n",
       "    </tr>\n",
       "    <tr>\n",
       "      <th>1573</th>\n",
       "      <td>0</td>\n",
       "      <td>27</td>\n",
       "      <td>36600.0</td>\n",
       "      <td>2</td>\n",
       "      <td>4.0</td>\n",
       "    </tr>\n",
       "    <tr>\n",
       "      <th>4797</th>\n",
       "      <td>1</td>\n",
       "      <td>29</td>\n",
       "      <td>36600.0</td>\n",
       "      <td>2</td>\n",
       "      <td>5.0</td>\n",
       "    </tr>\n",
       "    <tr>\n",
       "      <th>3242</th>\n",
       "      <td>0</td>\n",
       "      <td>30</td>\n",
       "      <td>36600.0</td>\n",
       "      <td>1</td>\n",
       "      <td>6.0</td>\n",
       "    </tr>\n",
       "    <tr>\n",
       "      <th>3060</th>\n",
       "      <td>0</td>\n",
       "      <td>20</td>\n",
       "      <td>36600.0</td>\n",
       "      <td>1</td>\n",
       "      <td>6.0</td>\n",
       "    </tr>\n",
       "    <tr>\n",
       "      <th>3664</th>\n",
       "      <td>1</td>\n",
       "      <td>32</td>\n",
       "      <td>36600.0</td>\n",
       "      <td>1</td>\n",
       "      <td>7.0</td>\n",
       "    </tr>\n",
       "    <tr>\n",
       "      <th>1945</th>\n",
       "      <td>1</td>\n",
       "      <td>31</td>\n",
       "      <td>36600.0</td>\n",
       "      <td>3</td>\n",
       "      <td>8.0</td>\n",
       "    </tr>\n",
       "    <tr>\n",
       "      <th>3024</th>\n",
       "      <td>0</td>\n",
       "      <td>31</td>\n",
       "      <td>36600.0</td>\n",
       "      <td>2</td>\n",
       "      <td>8.0</td>\n",
       "    </tr>\n",
       "    <tr>\n",
       "      <th>194</th>\n",
       "      <td>1</td>\n",
       "      <td>34</td>\n",
       "      <td>36600.0</td>\n",
       "      <td>1</td>\n",
       "      <td>9.0</td>\n",
       "    </tr>\n",
       "    <tr>\n",
       "      <th>3890</th>\n",
       "      <td>0</td>\n",
       "      <td>36</td>\n",
       "      <td>36600.0</td>\n",
       "      <td>1</td>\n",
       "      <td>12.0</td>\n",
       "    </tr>\n",
       "    <tr>\n",
       "      <th>2913</th>\n",
       "      <td>0</td>\n",
       "      <td>37</td>\n",
       "      <td>36600.0</td>\n",
       "      <td>1</td>\n",
       "      <td>13.0</td>\n",
       "    </tr>\n",
       "    <tr>\n",
       "      <th>110</th>\n",
       "      <td>1</td>\n",
       "      <td>39</td>\n",
       "      <td>36600.0</td>\n",
       "      <td>1</td>\n",
       "      <td>14.0</td>\n",
       "    </tr>\n",
       "    <tr>\n",
       "      <th>472</th>\n",
       "      <td>1</td>\n",
       "      <td>38</td>\n",
       "      <td>36600.0</td>\n",
       "      <td>0</td>\n",
       "      <td>14.0</td>\n",
       "    </tr>\n",
       "  </tbody>\n",
       "</table>\n",
       "</div>"
      ],
      "text/plain": [
       "      gender  age   income  family_members  distance\n",
       "10         1   25  36600.0               1       0.0\n",
       "4039       1   25  36600.0               2       1.0\n",
       "3247       1   26  36600.0               2       2.0\n",
       "2037       1   26  36600.0               0       2.0\n",
       "1949       0   24  36600.0               0       3.0\n",
       "1508       0   26  36600.0               0       3.0\n",
       "49         0   28  36600.0               1       4.0\n",
       "2890       0   23  36600.0               0       4.0\n",
       "1573       0   27  36600.0               2       4.0\n",
       "4797       1   29  36600.0               2       5.0\n",
       "3242       0   30  36600.0               1       6.0\n",
       "3060       0   20  36600.0               1       6.0\n",
       "3664       1   32  36600.0               1       7.0\n",
       "1945       1   31  36600.0               3       8.0\n",
       "3024       0   31  36600.0               2       8.0\n",
       "194        1   34  36600.0               1       9.0\n",
       "3890       0   36  36600.0               1      12.0\n",
       "2913       0   37  36600.0               1      13.0\n",
       "110        1   39  36600.0               1      14.0\n",
       "472        1   38  36600.0               0      14.0"
      ]
     },
     "metadata": {},
     "output_type": "display_data"
    }
   ],
   "source": [
    "print('No scaling dataset - Manhattan Distance')\n",
    "display(get_knn(df_not_scaled, 10, 20, 'manhattan'))"
   ]
  },
  {
   "cell_type": "markdown",
   "metadata": {},
   "source": [
    "`Answers to the questions`"
   ]
  },
  {
   "cell_type": "markdown",
   "metadata": {},
   "source": [
    "**Does the data being not scaled affect the kNN algorithm? If so, how does that appear?** \n",
    "\n",
    "It does affects the output. For non-scaled data, the distance values are much too 'spread out' by the magnitude differentials from both the age and income column (especially telling once expanding k to +100 and seeing a larget set of the table). We also see different neighboring customers due to the data not being scaled and/or the features not being representative to each other."
   ]
  },
  {
   "cell_type": "markdown",
   "metadata": {},
   "source": [
    "**How similar are the results using the Manhattan distance metric (regardless of the scaling)?** \n",
    "\n",
    "Comparing the two tables which leverage the Manhattan distance, we see some similarity in the distance observations. But the list of neighbors differs between the two. For example, where data is scaled we see the higher frequency of `gender=1` closest to our `n object` which is `10` compared to the non-scaled evaluation. This type of difference becomes much wider as `k` is increased."
   ]
  },
  {
   "cell_type": "markdown",
   "metadata": {},
   "source": [
    "# Task 2. Is Customer Likely to Receive Insurance Benefit?"
   ]
  },
  {
   "cell_type": "markdown",
   "metadata": {},
   "source": [
    "In terms of machine learning we can look at this like a binary classification task."
   ]
  },
  {
   "cell_type": "markdown",
   "metadata": {},
   "source": [
    "With `insurance_benefits` being more than zero as the target, evaluate whether the kNN classification approach can do better than a dummy model.\n",
    "\n",
    "Instructions:\n",
    "- Build a KNN-based classifier and measure its quality with the F1 metric for k=1..10 for both the original data and the scaled one. That'd be interesting to see how k may influece the evaluation metric, and whether scaling the data makes any difference. You can use a ready implemention of the kNN classification algorithm from scikit-learn (check [the link](https://scikit-learn.org/stable/modules/generated/sklearn.neighbors.KNeighborsClassifier.html)) or use your own.\n",
    "- Build the dummy model which is just random for this case. It should return \"1\" with some probability. Let's test the model with four probability values: 0, the probability of paying any insurance benefit, 0.5, 1.\n",
    "\n",
    "The probability of paying any insurance benefit can be defined as\n",
    "\n",
    "$$\n",
    "P\\{\\text{insurance benefit received}\\}=\\frac{\\text{number of clients received any insurance benefit}}{\\text{total number of clients}}.\n",
    "$$\n",
    "\n",
    "Split the whole data in the 70:30 proportion for the training/testing parts."
   ]
  },
  {
   "cell_type": "code",
   "execution_count": 309,
   "metadata": {},
   "outputs": [],
   "source": [
    "# calculate the target\n",
    "\n",
    "df['insurance_benefits_received'] = df['insurance_benefits'] > 0\n",
    "#print(df['insurance_benefits_received'])\n",
    "\n",
    "insurance_benefits = df['insurance_benefits_received'].values\n",
    "#print(insurance_benefits)\n",
    "\n",
    "insurance_benefits_all = df.query(\"insurance_benefits_received > 0\").values\n",
    "#print(insurance_benefits_all)"
   ]
  },
  {
   "cell_type": "code",
   "execution_count": 310,
   "metadata": {},
   "outputs": [
    {
     "data": {
      "text/plain": [
       "<Axes: title={'center': 'count (target)'}, xlabel='insurance_benefits_received'>"
      ]
     },
     "execution_count": 310,
     "metadata": {},
     "output_type": "execute_result"
    },
    {
     "data": {
      "image/png": "[encoded data removed]",
      "text/plain": [
       "<Figure size 1000x500 with 1 Axes>"
      ]
     },
     "metadata": {},
     "output_type": "display_data"
    }
   ],
   "source": [
    "# check for the class imbalance with value_counts()\n",
    "\n",
    "sns.set(style=\"white\", color_codes=True)\n",
    "plt.rcParams['axes.linewidth'] = 0.1\n",
    "fig, ax = plt.subplots(figsize = (10,5))\n",
    "\n",
    "df['insurance_benefits_received'].value_counts().plot(kind='bar', title='count (target)')"
   ]
  },
  {
   "cell_type": "code",
   "execution_count": 311,
   "metadata": {},
   "outputs": [],
   "source": [
    "def eval_classifier(y_true, y_pred):\n",
    "    \n",
    "    f1_score = sklearn.metrics.f1_score(y_true, y_pred)\n",
    "    print(f'F1: {f1_score:.2f}')\n",
    "    \n",
    "    cm = sklearn.metrics.confusion_matrix(y_true, y_pred, normalize='all')\n",
    "    print('Confusion Matrix')\n",
    "    print(cm)"
   ]
  },
  {
   "cell_type": "code",
   "execution_count": 312,
   "metadata": {},
   "outputs": [],
   "source": [
    "# generating output of a random model\n",
    "\n",
    "def rnd_model_predict(P, size, seed=42):\n",
    "\n",
    "    rng = np.random.default_rng(seed=seed)\n",
    "    return rng.binomial(n=1, p=P, size=size)"
   ]
  },
  {
   "cell_type": "code",
   "execution_count": 313,
   "metadata": {},
   "outputs": [
    {
     "name": "stdout",
     "output_type": "stream",
     "text": [
      "The probability: 0.00\n",
      "F1: 0.00\n",
      "Confusion Matrix\n",
      "[[0.8872 0.    ]\n",
      " [0.1128 0.    ]]\n",
      "\n",
      "The probability: 0.11\n",
      "F1: 0.12\n",
      "Confusion Matrix\n",
      "[[0.7914 0.0958]\n",
      " [0.0994 0.0134]]\n",
      "\n",
      "The probability: 0.50\n",
      "F1: 0.20\n",
      "Confusion Matrix\n",
      "[[0.456  0.4312]\n",
      " [0.053  0.0598]]\n",
      "\n",
      "The probability: 1.00\n",
      "F1: 0.20\n",
      "Confusion Matrix\n",
      "[[0.     0.8872]\n",
      " [0.     0.1128]]\n",
      "\n"
     ]
    }
   ],
   "source": [
    "for P in [0, df['insurance_benefits_received'].sum() / len(df), 0.5, 1]:\n",
    "\n",
    "    print(f'The probability: {P:.2f}')\n",
    "    y_pred_rnd = rnd_model_predict(P, len(insurance_benefits), seed=42)  \n",
    "    \n",
    "    eval_classifier(insurance_benefits, y_pred_rnd)\n",
    "    \n",
    "    print()"
   ]
  },
  {
   "cell_type": "code",
   "execution_count": 314,
   "metadata": {},
   "outputs": [
    {
     "name": "stdout",
     "output_type": "stream",
     "text": [
      "F1: 0.61\n",
      "Confusion Matrix\n",
      "[[0.87133333 0.02      ]\n",
      " [0.05266667 0.056     ]]\n",
      "\n",
      "F1: 0.41\n",
      "Confusion Matrix\n",
      "[[0.88733333 0.004     ]\n",
      " [0.08       0.02866667]]\n",
      "\n",
      "F1: 0.41\n",
      "Confusion Matrix\n",
      "[[0.87933333 0.012     ]\n",
      " [0.078      0.03066667]]\n",
      "\n",
      "F1: 0.28\n",
      "Confusion Matrix\n",
      "[[0.88866667 0.00266667]\n",
      " [0.09066667 0.018     ]]\n",
      "\n",
      "F1: 0.27\n",
      "Confusion Matrix\n",
      "[[0.88533333 0.006     ]\n",
      " [0.09066667 0.018     ]]\n",
      "\n",
      "F1: 0.11\n",
      "Confusion Matrix\n",
      "[[0.89       0.00133333]\n",
      " [0.102      0.00666667]]\n",
      "\n",
      "F1: 0.11\n",
      "Confusion Matrix\n",
      "[[0.88866667 0.00266667]\n",
      " [0.102      0.00666667]]\n",
      "\n",
      "F1: 0.07\n",
      "Confusion Matrix\n",
      "[[0.89133333 0.        ]\n",
      " [0.10466667 0.004     ]]\n",
      "\n",
      "F1: 0.08\n",
      "Confusion Matrix\n",
      "[[0.89133333 0.        ]\n",
      " [0.104      0.00466667]]\n",
      "\n",
      "F1: 0.00\n",
      "Confusion Matrix\n",
      "[[0.89133333 0.        ]\n",
      " [0.10866667 0.        ]]\n",
      "\n"
     ]
    }
   ],
   "source": [
    "# orig. data\n",
    "\n",
    "y_orig = df['insurance_benefits'].to_numpy()\n",
    "X = df[['age', 'gender', 'income', 'family_members']].to_numpy()\n",
    "y = df['insurance_benefits_received'].to_numpy()\n",
    "\n",
    "X_train, X_test, y_train, y_test = train_test_split(X, \n",
    "                                                    y, \n",
    "                                                    test_size=0.3, \n",
    "                                                    random_state=12345)\n",
    "\n",
    "for n in range(1,11):\n",
    "    knn = KNeighborsClassifier(n_neighbors=n)\n",
    "    knn.fit(X_train, y_train)\n",
    "    prediction_test = knn.predict(X_test)\n",
    "    eval_classifier(y_test, prediction_test)\n",
    "    print('')"
   ]
  },
  {
   "cell_type": "code",
   "execution_count": 315,
   "metadata": {},
   "outputs": [
    {
     "name": "stdout",
     "output_type": "stream",
     "text": [
      "F1: 0.97\n",
      "Confusion Matrix\n",
      "[[0.88866667 0.00266667]\n",
      " [0.00466667 0.104     ]]\n",
      "\n",
      "F1: 0.93\n",
      "Confusion Matrix\n",
      "[[8.90666667e-01 6.66666667e-04]\n",
      " [1.40000000e-02 9.46666667e-02]]\n",
      "\n",
      "F1: 0.95\n",
      "Confusion Matrix\n",
      "[[0.88933333 0.002     ]\n",
      " [0.00866667 0.1       ]]\n",
      "\n",
      "F1: 0.91\n",
      "Confusion Matrix\n",
      "[[0.88933333 0.002     ]\n",
      " [0.01666667 0.092     ]]\n",
      "\n",
      "F1: 0.92\n",
      "Confusion Matrix\n",
      "[[0.88666667 0.00466667]\n",
      " [0.01133333 0.09733333]]\n",
      "\n",
      "F1: 0.90\n",
      "Confusion Matrix\n",
      "[[0.89       0.00133333]\n",
      " [0.018      0.09066667]]\n",
      "\n",
      "F1: 0.92\n",
      "Confusion Matrix\n",
      "[[0.88733333 0.004     ]\n",
      " [0.01266667 0.096     ]]\n",
      "\n",
      "F1: 0.90\n",
      "Confusion Matrix\n",
      "[[0.88866667 0.00266667]\n",
      " [0.01733333 0.09133333]]\n",
      "\n",
      "F1: 0.92\n",
      "Confusion Matrix\n",
      "[[0.88866667 0.00266667]\n",
      " [0.01466667 0.094     ]]\n",
      "\n",
      "F1: 0.88\n",
      "Confusion Matrix\n",
      "[[0.88866667 0.00266667]\n",
      " [0.02133333 0.08733333]]\n",
      "\n"
     ]
    }
   ],
   "source": [
    "# scaled data (df_scaled)\n",
    "\n",
    "features_train, features_test, target_train, target_test = train_test_split(X,\n",
    "                                                                            y, \n",
    "                                                                            test_size=0.3, \n",
    "                                                                            random_state=12345)\n",
    "scaler = MaxAbsScaler()\n",
    "scaler.fit(features_train)\n",
    "features_train = scaler.transform(features_train)\n",
    "features_test = scaler.transform(features_test)\n",
    "\n",
    "for n in range(1,11):\n",
    "    knn = KNeighborsClassifier(n_neighbors=n)\n",
    "    knn.fit(features_train, target_train)\n",
    "    prediction_test = knn.predict(features_test)\n",
    "    eval_classifier(target_test, prediction_test)\n",
    "    print('')"
   ]
  },
  {
   "cell_type": "markdown",
   "metadata": {},
   "source": [
    "**Build a KNN-based classifier and measure its quality with the F1 metric for k=1..10 for both the original data and the scaled one. That'd be interesting to see how k may influece the evaluation metric, and whether scaling the data makes any difference.**\n",
    "\n",
    "\n",
    "Scaling makes a big difference here. For scaled data and as K increases, F1 slightly diminishes but starts at a much higher point overall compared to the non-scaled/original dataset (where F1 starts at .61 and quickly goes to zero). Scaled data is overall consistenly higher for all `k` iterations."
   ]
  },
  {
   "cell_type": "markdown",
   "metadata": {},
   "source": [
    "# Task 3. Regression (with Linear Regression)"
   ]
  },
  {
   "cell_type": "markdown",
   "metadata": {},
   "source": [
    "With `insurance_benefits` as the target, evaluate what RMSE would be for a Linear Regression model."
   ]
  },
  {
   "cell_type": "markdown",
   "metadata": {},
   "source": [
    "Build your own implementation of LR. For that, recall how the linear regression task's solution is formulated in terms of LA. Check RMSE for both the original data and the scaled one. Can you see any difference in RMSE between these two cases?\n",
    "\n",
    "Let's denote\n",
    "- $X$ — feature matrix, each row is a case, each column is a feature, the first column consists of unities\n",
    "- $y$ — target (a vector)\n",
    "- $\\hat{y}$ — estimated tagret (a vector)\n",
    "- $w$ — weight vector\n",
    "\n",
    "The task of linear regression in the language of matrices can be formulated as\n",
    "\n",
    "$$\n",
    "y = Xw\n",
    "$$\n",
    "\n",
    "The training objective then is to find such $w$ that it would minimize the L2-distance (MSE) between $Xw$ and $y$:\n",
    "\n",
    "$$\n",
    "\\min_w d_2(Xw, y) \\quad \\text{or} \\quad \\min_w \\text{MSE}(Xw, y)\n",
    "$$\n",
    "\n",
    "It appears that there is analytical solution for the above:\n",
    "\n",
    "$$\n",
    "w = (X^T X)^{-1} X^T y\n",
    "$$\n",
    "\n",
    "The formula above can be used to find the weights $w$ and the latter can be used to calculate predicted values\n",
    "\n",
    "$$\n",
    "\\hat{y} = X_{val}w\n",
    "$$"
   ]
  },
  {
   "cell_type": "markdown",
   "metadata": {},
   "source": [
    "Split the whole data in the 70:30 proportion for the training/validation parts. Use the RMSE metric for the model evaluation."
   ]
  },
  {
   "cell_type": "code",
   "execution_count": 316,
   "metadata": {},
   "outputs": [],
   "source": [
    "import math\n",
    "\n",
    "class MyLinearRegression:\n",
    "    \n",
    "    def __init__(self):\n",
    "        \n",
    "        self.weights = None\n",
    "    \n",
    "    def fit(self, X, y):\n",
    "        \n",
    "        # adding the unities\n",
    "        X2 = np.append(np.ones([len(X), 1]), X, axis=1)\n",
    "        self.weights = np.linalg.inv(X2.T.dot(X2)).dot(X2.T).dot(y)\n",
    "\n",
    "    def predict(self, X):\n",
    "        \n",
    "        # adding the unities\n",
    "        X2 = np.append(np.ones([len(X), 1]), X, axis=1)\n",
    "        y_pred = X2.dot(self.weights)\n",
    "        \n",
    "        return y_pred"
   ]
  },
  {
   "cell_type": "code",
   "execution_count": 317,
   "metadata": {},
   "outputs": [],
   "source": [
    "def eval_regressor(y_true, y_pred):\n",
    "    \n",
    "    rmse = math.sqrt(sklearn.metrics.mean_squared_error(y_true, y_pred))\n",
    "    print(f'RMSE: {rmse:.2f}')\n",
    "    \n",
    "    r2_score = math.sqrt(sklearn.metrics.r2_score(y_true, y_pred))\n",
    "    print(f'R2: {r2_score:.2f}')    "
   ]
  },
  {
   "cell_type": "markdown",
   "metadata": {},
   "source": [
    "`base data`"
   ]
  },
  {
   "cell_type": "code",
   "execution_count": 318,
   "metadata": {},
   "outputs": [
    {
     "name": "stdout",
     "output_type": "stream",
     "text": [
      "lr weights: [-9.43539012e-01  3.57495491e-02  1.64272726e-02 -2.60743659e-07\n",
      " -1.16902127e-02]\n",
      "\n",
      "RMSE: 0.34\n",
      "R2: 0.66\n"
     ]
    }
   ],
   "source": [
    "X = df[['age', 'gender', 'income', 'family_members']].to_numpy()\n",
    "y = df['insurance_benefits'].to_numpy()\n",
    "\n",
    "X_train, X_test, y_train, y_test = train_test_split(X, y, test_size=0.3, random_state=12345)\n",
    "\n",
    "lr = MyLinearRegression()\n",
    "\n",
    "lr.fit(X_train, y_train)\n",
    "print('lr weights:', lr.weights)\n",
    "print('')\n",
    "y_test_pred = lr.predict(X_test)\n",
    "eval_regressor(y_test, y_test_pred)"
   ]
  },
  {
   "cell_type": "markdown",
   "metadata": {},
   "source": [
    "`Scaled Data - MaxAbsScaler()`"
   ]
  },
  {
   "cell_type": "code",
   "execution_count": 319,
   "metadata": {},
   "outputs": [
    {
     "name": "stdout",
     "output_type": "stream",
     "text": [
      "lr weights: [-0.94353901  0.01642727  2.32372069 -0.02059875 -0.07014128]\n",
      "\n",
      "RMSE: 0.34\n",
      "R2: 0.66\n"
     ]
    }
   ],
   "source": [
    "scaled_X_train, scaled_X_test, scaled_y_train, scaled_y_test = train_test_split(df_scaled, y, test_size=0.3, random_state=12345)\n",
    "\n",
    "lr = MyLinearRegression()\n",
    "\n",
    "lr.fit(scaled_X_train, scaled_y_train)\n",
    "print('lr weights:', lr.weights)\n",
    "print('')\n",
    "scaled_y_test_pred = lr.predict(scaled_X_test)\n",
    "eval_regressor(scaled_y_test, scaled_y_test_pred)"
   ]
  },
  {
   "cell_type": "markdown",
   "metadata": {},
   "source": [
    "***Can you see any difference in RMSE between these two cases?***\n",
    "\n",
    "From our observations, the RMSE values don't differ, even if weights are different. Scaling may make a difference for linear regression if we apply L1/L2 regularization or train the model using stochastic gradient descent."
   ]
  },
  {
   "cell_type": "markdown",
   "metadata": {},
   "source": [
    "# Task 4. Obfuscating Data"
   ]
  },
  {
   "cell_type": "markdown",
   "metadata": {},
   "source": [
    "It best to obfuscate data by multiplying the numerical features (remember, they can be seen as the matrix $X$) by an invertible matrix $P$. \n",
    "\n",
    "$$\n",
    "X' = X \\times P\n",
    "$$\n",
    "\n",
    "Try to do that and check how the features' values will look like after the transformation. By the way, the intertible property is important here so make sure that $P$ is indeed invertible.\n",
    "\n",
    "You may want to review the 'Matrices and Matrix Operations -> Matrix Multiplication' lesson to recall the rule of matrix multiplication and its implementation with NumPy."
   ]
  },
  {
   "cell_type": "code",
   "execution_count": 320,
   "metadata": {},
   "outputs": [],
   "source": [
    "personal_info_column_list = ['gender', 'age', 'income', 'family_members']\n",
    "df_pn = df[personal_info_column_list]\n",
    "#display(df_pn)"
   ]
  },
  {
   "cell_type": "code",
   "execution_count": 321,
   "metadata": {},
   "outputs": [
    {
     "name": "stdout",
     "output_type": "stream",
     "text": [
      "[[1.00e+00 4.10e+01 4.96e+04 1.00e+00]\n",
      " [0.00e+00 4.60e+01 3.80e+04 1.00e+00]\n",
      " [0.00e+00 2.90e+01 2.10e+04 0.00e+00]\n",
      " ...\n",
      " [0.00e+00 2.00e+01 3.39e+04 2.00e+00]\n",
      " [1.00e+00 2.20e+01 3.27e+04 3.00e+00]\n",
      " [1.00e+00 2.80e+01 4.06e+04 1.00e+00]]\n"
     ]
    }
   ],
   "source": [
    "X = df_pn.to_numpy()\n",
    "print(X)"
   ]
  },
  {
   "cell_type": "markdown",
   "metadata": {},
   "source": [
    "Generating a random matrix $P$."
   ]
  },
  {
   "cell_type": "code",
   "execution_count": 322,
   "metadata": {},
   "outputs": [],
   "source": [
    "rng = np.random.default_rng(seed=42)\n",
    "P = rng.random(size=(X.shape[1], X.shape[1]))"
   ]
  },
  {
   "cell_type": "markdown",
   "metadata": {},
   "source": [
    "Checking the matrix $P$ is invertible"
   ]
  },
  {
   "cell_type": "code",
   "execution_count": 323,
   "metadata": {},
   "outputs": [
    {
     "name": "stdout",
     "output_type": "stream",
     "text": [
      "X @ P - Transformed Matrix\n",
      "\n",
      "[[ 6359.71527314 22380.40467609 18424.09074184 46000.69669016]\n",
      " [ 4873.29406479 17160.36702982 14125.78076133 35253.45577301]\n",
      " [ 2693.11742928  9486.397744    7808.83156024 19484.86063067]\n",
      " ...\n",
      " [ 4346.2234249  15289.24126492 12586.16264392 31433.50888552]\n",
      " [ 4194.09324155 14751.9910242  12144.02930637 30323.88763426]\n",
      " [ 5205.46827354 18314.24814446 15077.01370762 37649.59295455]]\n",
      "\n",
      "P Inverse\n",
      "\n",
      "[[0.77395605 0.43887844 0.85859792 0.69736803]\n",
      " [0.09417735 0.97562235 0.7611397  0.78606431]\n",
      " [0.12811363 0.45038594 0.37079802 0.92676499]\n",
      " [0.64386512 0.82276161 0.4434142  0.22723872]]\n",
      "\n"
     ]
    }
   ],
   "source": [
    "print('X @ P - Transformed Matrix\\n')\n",
    "transformation = X @ P\n",
    "print(transformation)\n",
    "\n",
    "#print(X @ P.T)\n",
    "#print(P @ X.T)\n",
    "#print(P @ P) \n",
    "print('')\n",
    "print('P Inverse\\n')\n",
    "P_inverse = np.linalg.inv(P)\n",
    "print(P)\n",
    "print('')\n",
    "# print('P_inverse\\n')\n",
    "# print(P_inverse)\n",
    "# print('')\n",
    "# print('P.dot(P_inverse)\\n')\n",
    "# print(P.dot(P_inverse))\n",
    "# print('')\n",
    "# print('P_inverse.dot(P)\\n')\n",
    "# print(P_inverse.dot(P))\n",
    "# invertible\n",
    "\n",
    "# print('')\n",
    "# print('P.T.dot(X.T) - Similar valus to `X @ P`\\n')\n",
    "# print(P.T.dot(X.T)) # backing into the transformation values"
   ]
  },
  {
   "cell_type": "markdown",
   "metadata": {},
   "source": [
    "**Can you guess the customers' ages or income after the transformation?**"
   ]
  },
  {
   "cell_type": "markdown",
   "metadata": {},
   "source": [
    "One cannot guess the customer's age or income, you can however, see some directional movement with those two columns which follows the path/format of the original dataset (behaving similarly to the original data)."
   ]
  },
  {
   "cell_type": "code",
   "execution_count": 324,
   "metadata": {},
   "outputs": [
    {
     "data": {
      "text/html": [
       "<div>\n",
       "<style scoped>\n",
       "    .dataframe tbody tr th:only-of-type {\n",
       "        vertical-align: middle;\n",
       "    }\n",
       "\n",
       "    .dataframe tbody tr th {\n",
       "        vertical-align: top;\n",
       "    }\n",
       "\n",
       "    .dataframe thead th {\n",
       "        text-align: right;\n",
       "    }\n",
       "</style>\n",
       "<table border=\"1\" class=\"dataframe\">\n",
       "  <thead>\n",
       "    <tr style=\"text-align: right;\">\n",
       "      <th></th>\n",
       "      <th>gender</th>\n",
       "      <th>age</th>\n",
       "      <th>income</th>\n",
       "      <th>family_members</th>\n",
       "    </tr>\n",
       "  </thead>\n",
       "  <tbody>\n",
       "    <tr>\n",
       "      <th>0</th>\n",
       "      <td>1</td>\n",
       "      <td>41</td>\n",
       "      <td>49600.0</td>\n",
       "      <td>1</td>\n",
       "    </tr>\n",
       "    <tr>\n",
       "      <th>1</th>\n",
       "      <td>0</td>\n",
       "      <td>46</td>\n",
       "      <td>38000.0</td>\n",
       "      <td>1</td>\n",
       "    </tr>\n",
       "    <tr>\n",
       "      <th>2</th>\n",
       "      <td>0</td>\n",
       "      <td>29</td>\n",
       "      <td>21000.0</td>\n",
       "      <td>0</td>\n",
       "    </tr>\n",
       "    <tr>\n",
       "      <th>3</th>\n",
       "      <td>0</td>\n",
       "      <td>21</td>\n",
       "      <td>41700.0</td>\n",
       "      <td>2</td>\n",
       "    </tr>\n",
       "    <tr>\n",
       "      <th>4</th>\n",
       "      <td>1</td>\n",
       "      <td>28</td>\n",
       "      <td>26100.0</td>\n",
       "      <td>0</td>\n",
       "    </tr>\n",
       "    <tr>\n",
       "      <th>...</th>\n",
       "      <td>...</td>\n",
       "      <td>...</td>\n",
       "      <td>...</td>\n",
       "      <td>...</td>\n",
       "    </tr>\n",
       "    <tr>\n",
       "      <th>4995</th>\n",
       "      <td>0</td>\n",
       "      <td>28</td>\n",
       "      <td>35700.0</td>\n",
       "      <td>2</td>\n",
       "    </tr>\n",
       "    <tr>\n",
       "      <th>4996</th>\n",
       "      <td>0</td>\n",
       "      <td>34</td>\n",
       "      <td>52400.0</td>\n",
       "      <td>1</td>\n",
       "    </tr>\n",
       "    <tr>\n",
       "      <th>4997</th>\n",
       "      <td>0</td>\n",
       "      <td>20</td>\n",
       "      <td>33900.0</td>\n",
       "      <td>2</td>\n",
       "    </tr>\n",
       "    <tr>\n",
       "      <th>4998</th>\n",
       "      <td>1</td>\n",
       "      <td>22</td>\n",
       "      <td>32700.0</td>\n",
       "      <td>3</td>\n",
       "    </tr>\n",
       "    <tr>\n",
       "      <th>4999</th>\n",
       "      <td>1</td>\n",
       "      <td>28</td>\n",
       "      <td>40600.0</td>\n",
       "      <td>1</td>\n",
       "    </tr>\n",
       "  </tbody>\n",
       "</table>\n",
       "<p>5000 rows × 4 columns</p>\n",
       "</div>"
      ],
      "text/plain": [
       "      gender  age   income  family_members\n",
       "0          1   41  49600.0               1\n",
       "1          0   46  38000.0               1\n",
       "2          0   29  21000.0               0\n",
       "3          0   21  41700.0               2\n",
       "4          1   28  26100.0               0\n",
       "...      ...  ...      ...             ...\n",
       "4995       0   28  35700.0               2\n",
       "4996       0   34  52400.0               1\n",
       "4997       0   20  33900.0               2\n",
       "4998       1   22  32700.0               3\n",
       "4999       1   28  40600.0               1\n",
       "\n",
       "[5000 rows x 4 columns]"
      ]
     },
     "metadata": {},
     "output_type": "display_data"
    },
    {
     "data": {
      "text/html": [
       "<div>\n",
       "<style scoped>\n",
       "    .dataframe tbody tr th:only-of-type {\n",
       "        vertical-align: middle;\n",
       "    }\n",
       "\n",
       "    .dataframe tbody tr th {\n",
       "        vertical-align: top;\n",
       "    }\n",
       "\n",
       "    .dataframe thead th {\n",
       "        text-align: right;\n",
       "    }\n",
       "</style>\n",
       "<table border=\"1\" class=\"dataframe\">\n",
       "  <thead>\n",
       "    <tr style=\"text-align: right;\">\n",
       "      <th></th>\n",
       "      <th>gender</th>\n",
       "      <th>age</th>\n",
       "      <th>income</th>\n",
       "      <th>family_members</th>\n",
       "    </tr>\n",
       "  </thead>\n",
       "  <tbody>\n",
       "    <tr>\n",
       "      <th>0</th>\n",
       "      <td>6359.715273</td>\n",
       "      <td>22380.404676</td>\n",
       "      <td>18424.090742</td>\n",
       "      <td>46000.696690</td>\n",
       "    </tr>\n",
       "    <tr>\n",
       "      <th>1</th>\n",
       "      <td>4873.294065</td>\n",
       "      <td>17160.367030</td>\n",
       "      <td>14125.780761</td>\n",
       "      <td>35253.455773</td>\n",
       "    </tr>\n",
       "    <tr>\n",
       "      <th>2</th>\n",
       "      <td>2693.117429</td>\n",
       "      <td>9486.397744</td>\n",
       "      <td>7808.831560</td>\n",
       "      <td>19484.860631</td>\n",
       "    </tr>\n",
       "    <tr>\n",
       "      <th>3</th>\n",
       "      <td>5345.603937</td>\n",
       "      <td>18803.227203</td>\n",
       "      <td>15479.148373</td>\n",
       "      <td>38663.061863</td>\n",
       "    </tr>\n",
       "    <tr>\n",
       "      <th>4</th>\n",
       "      <td>3347.176735</td>\n",
       "      <td>11782.829283</td>\n",
       "      <td>9699.998942</td>\n",
       "      <td>24211.273378</td>\n",
       "    </tr>\n",
       "    <tr>\n",
       "      <th>...</th>\n",
       "      <td>...</td>\n",
       "      <td>...</td>\n",
       "      <td>...</td>\n",
       "      <td>...</td>\n",
       "    </tr>\n",
       "    <tr>\n",
       "      <th>4995</th>\n",
       "      <td>4577.581382</td>\n",
       "      <td>16107.740932</td>\n",
       "      <td>13259.688205</td>\n",
       "      <td>33107.974380</td>\n",
       "    </tr>\n",
       "    <tr>\n",
       "      <th>4996</th>\n",
       "      <td>6717.000247</td>\n",
       "      <td>23634.217067</td>\n",
       "      <td>19456.138634</td>\n",
       "      <td>48589.438841</td>\n",
       "    </tr>\n",
       "    <tr>\n",
       "      <th>4997</th>\n",
       "      <td>4346.223425</td>\n",
       "      <td>15289.241265</td>\n",
       "      <td>12586.162644</td>\n",
       "      <td>31433.508886</td>\n",
       "    </tr>\n",
       "    <tr>\n",
       "      <th>4998</th>\n",
       "      <td>4194.093242</td>\n",
       "      <td>14751.991024</td>\n",
       "      <td>12144.029306</td>\n",
       "      <td>30323.887634</td>\n",
       "    </tr>\n",
       "    <tr>\n",
       "      <th>4999</th>\n",
       "      <td>5205.468274</td>\n",
       "      <td>18314.248144</td>\n",
       "      <td>15077.013708</td>\n",
       "      <td>37649.592955</td>\n",
       "    </tr>\n",
       "  </tbody>\n",
       "</table>\n",
       "<p>5000 rows × 4 columns</p>\n",
       "</div>"
      ],
      "text/plain": [
       "           gender           age        income  family_members\n",
       "0     6359.715273  22380.404676  18424.090742    46000.696690\n",
       "1     4873.294065  17160.367030  14125.780761    35253.455773\n",
       "2     2693.117429   9486.397744   7808.831560    19484.860631\n",
       "3     5345.603937  18803.227203  15479.148373    38663.061863\n",
       "4     3347.176735  11782.829283   9699.998942    24211.273378\n",
       "...           ...           ...           ...             ...\n",
       "4995  4577.581382  16107.740932  13259.688205    33107.974380\n",
       "4996  6717.000247  23634.217067  19456.138634    48589.438841\n",
       "4997  4346.223425  15289.241265  12586.162644    31433.508886\n",
       "4998  4194.093242  14751.991024  12144.029306    30323.887634\n",
       "4999  5205.468274  18314.248144  15077.013708    37649.592955\n",
       "\n",
       "[5000 rows x 4 columns]"
      ]
     },
     "metadata": {},
     "output_type": "display_data"
    }
   ],
   "source": [
    "display(df_pn)\n",
    "display(pd.DataFrame(transformation, columns=personal_info_column_list))"
   ]
  },
  {
   "cell_type": "markdown",
   "metadata": {},
   "source": [
    "**Can you recover the original data from $X'$ if you know $P$? Try to check that with calculations by moving $P$ from the right side of the formula above to the left one. The rules of matrix multiplcation are really helpful here.**"
   ]
  },
  {
   "cell_type": "markdown",
   "metadata": {},
   "source": [
    "Making the assumption this data recovery is achieved through multiplying the transformed data by the inverse of P."
   ]
  },
  {
   "cell_type": "code",
   "execution_count": 325,
   "metadata": {},
   "outputs": [
    {
     "name": "stdout",
     "output_type": "stream",
     "text": [
      "Recovered\n",
      "\n",
      "[[1.00000000e+00 4.10000000e+01 4.96000000e+04 1.00000000e+00]\n",
      " [1.64503537e-12 4.60000000e+01 3.80000000e+04 1.00000000e+00]\n",
      " [9.25561194e-13 2.90000000e+01 2.10000000e+04 1.41940791e-12]\n",
      " ...\n",
      " [3.87221815e-12 2.00000000e+01 3.39000000e+04 2.00000000e+00]\n",
      " [1.00000000e+00 2.20000000e+01 3.27000000e+04 3.00000000e+00]\n",
      " [1.00000000e+00 2.80000000e+01 4.06000000e+04 1.00000000e+00]]\n",
      "\n"
     ]
    }
   ],
   "source": [
    "# 𝑋′ is the transpose matrix\n",
    "\n",
    "# print('Original\\n')\n",
    "# print(X)\n",
    "# print('')\n",
    "# print('Transformed\\n')\n",
    "# print(transformation)\n",
    "# print('')\n",
    "print('Recovered\\n')\n",
    "recovered = transformation.dot(P_inverse)\n",
    "print(recovered)\n",
    "print('')"
   ]
  },
  {
   "cell_type": "markdown",
   "metadata": {},
   "source": [
    "Print all three cases for a few customers\n",
    "- The original data\n",
    "- The transformed one\n",
    "- The reversed (recovered) one"
   ]
  },
  {
   "cell_type": "code",
   "execution_count": 326,
   "metadata": {},
   "outputs": [
    {
     "name": "stdout",
     "output_type": "stream",
     "text": [
      "The original data:\n"
     ]
    },
    {
     "data": {
      "text/html": [
       "<div>\n",
       "<style scoped>\n",
       "    .dataframe tbody tr th:only-of-type {\n",
       "        vertical-align: middle;\n",
       "    }\n",
       "\n",
       "    .dataframe tbody tr th {\n",
       "        vertical-align: top;\n",
       "    }\n",
       "\n",
       "    .dataframe thead th {\n",
       "        text-align: right;\n",
       "    }\n",
       "</style>\n",
       "<table border=\"1\" class=\"dataframe\">\n",
       "  <thead>\n",
       "    <tr style=\"text-align: right;\">\n",
       "      <th></th>\n",
       "      <th>gender</th>\n",
       "      <th>age</th>\n",
       "      <th>income</th>\n",
       "      <th>family_members</th>\n",
       "    </tr>\n",
       "  </thead>\n",
       "  <tbody>\n",
       "    <tr>\n",
       "      <th>0</th>\n",
       "      <td>1.0</td>\n",
       "      <td>41.0</td>\n",
       "      <td>49600.0</td>\n",
       "      <td>1.0</td>\n",
       "    </tr>\n",
       "    <tr>\n",
       "      <th>1</th>\n",
       "      <td>0.0</td>\n",
       "      <td>46.0</td>\n",
       "      <td>38000.0</td>\n",
       "      <td>1.0</td>\n",
       "    </tr>\n",
       "    <tr>\n",
       "      <th>2</th>\n",
       "      <td>0.0</td>\n",
       "      <td>29.0</td>\n",
       "      <td>21000.0</td>\n",
       "      <td>0.0</td>\n",
       "    </tr>\n",
       "  </tbody>\n",
       "</table>\n",
       "</div>"
      ],
      "text/plain": [
       "   gender   age   income  family_members\n",
       "0     1.0  41.0  49600.0             1.0\n",
       "1     0.0  46.0  38000.0             1.0\n",
       "2     0.0  29.0  21000.0             0.0"
      ]
     },
     "metadata": {},
     "output_type": "display_data"
    },
    {
     "name": "stdout",
     "output_type": "stream",
     "text": [
      "\n",
      "The transformed one:\n"
     ]
    },
    {
     "data": {
      "text/html": [
       "<div>\n",
       "<style scoped>\n",
       "    .dataframe tbody tr th:only-of-type {\n",
       "        vertical-align: middle;\n",
       "    }\n",
       "\n",
       "    .dataframe tbody tr th {\n",
       "        vertical-align: top;\n",
       "    }\n",
       "\n",
       "    .dataframe thead th {\n",
       "        text-align: right;\n",
       "    }\n",
       "</style>\n",
       "<table border=\"1\" class=\"dataframe\">\n",
       "  <thead>\n",
       "    <tr style=\"text-align: right;\">\n",
       "      <th></th>\n",
       "      <th>gender</th>\n",
       "      <th>age</th>\n",
       "      <th>income</th>\n",
       "      <th>family_members</th>\n",
       "    </tr>\n",
       "  </thead>\n",
       "  <tbody>\n",
       "    <tr>\n",
       "      <th>0</th>\n",
       "      <td>6359.715273</td>\n",
       "      <td>22380.404676</td>\n",
       "      <td>18424.090742</td>\n",
       "      <td>46000.696690</td>\n",
       "    </tr>\n",
       "    <tr>\n",
       "      <th>1</th>\n",
       "      <td>4873.294065</td>\n",
       "      <td>17160.367030</td>\n",
       "      <td>14125.780761</td>\n",
       "      <td>35253.455773</td>\n",
       "    </tr>\n",
       "    <tr>\n",
       "      <th>2</th>\n",
       "      <td>2693.117429</td>\n",
       "      <td>9486.397744</td>\n",
       "      <td>7808.831560</td>\n",
       "      <td>19484.860631</td>\n",
       "    </tr>\n",
       "  </tbody>\n",
       "</table>\n",
       "</div>"
      ],
      "text/plain": [
       "        gender           age        income  family_members\n",
       "0  6359.715273  22380.404676  18424.090742    46000.696690\n",
       "1  4873.294065  17160.367030  14125.780761    35253.455773\n",
       "2  2693.117429   9486.397744   7808.831560    19484.860631"
      ]
     },
     "metadata": {},
     "output_type": "display_data"
    },
    {
     "name": "stdout",
     "output_type": "stream",
     "text": [
      "\n",
      "The reversed (recovered) one:\n"
     ]
    },
    {
     "data": {
      "text/html": [
       "<div>\n",
       "<style scoped>\n",
       "    .dataframe tbody tr th:only-of-type {\n",
       "        vertical-align: middle;\n",
       "    }\n",
       "\n",
       "    .dataframe tbody tr th {\n",
       "        vertical-align: top;\n",
       "    }\n",
       "\n",
       "    .dataframe thead th {\n",
       "        text-align: right;\n",
       "    }\n",
       "</style>\n",
       "<table border=\"1\" class=\"dataframe\">\n",
       "  <thead>\n",
       "    <tr style=\"text-align: right;\">\n",
       "      <th></th>\n",
       "      <th>gender</th>\n",
       "      <th>age</th>\n",
       "      <th>income</th>\n",
       "      <th>family_members</th>\n",
       "    </tr>\n",
       "  </thead>\n",
       "  <tbody>\n",
       "    <tr>\n",
       "      <th>0</th>\n",
       "      <td>1.000000e+00</td>\n",
       "      <td>41.0</td>\n",
       "      <td>49600.0</td>\n",
       "      <td>1.000000e+00</td>\n",
       "    </tr>\n",
       "    <tr>\n",
       "      <th>1</th>\n",
       "      <td>1.645035e-12</td>\n",
       "      <td>46.0</td>\n",
       "      <td>38000.0</td>\n",
       "      <td>1.000000e+00</td>\n",
       "    </tr>\n",
       "    <tr>\n",
       "      <th>2</th>\n",
       "      <td>9.255612e-13</td>\n",
       "      <td>29.0</td>\n",
       "      <td>21000.0</td>\n",
       "      <td>1.419408e-12</td>\n",
       "    </tr>\n",
       "  </tbody>\n",
       "</table>\n",
       "</div>"
      ],
      "text/plain": [
       "         gender   age   income  family_members\n",
       "0  1.000000e+00  41.0  49600.0    1.000000e+00\n",
       "1  1.645035e-12  46.0  38000.0    1.000000e+00\n",
       "2  9.255612e-13  29.0  21000.0    1.419408e-12"
      ]
     },
     "metadata": {},
     "output_type": "display_data"
    },
    {
     "name": "stdout",
     "output_type": "stream",
     "text": [
      "\n"
     ]
    }
   ],
   "source": [
    "print('The original data:')\n",
    "display(pd.DataFrame(X, columns=personal_info_column_list).head(3))\n",
    "print('')\n",
    "print('The transformed one:')\n",
    "display(pd.DataFrame(transformation, columns=personal_info_column_list).head(3))\n",
    "print('')\n",
    "print('The reversed (recovered) one:')\n",
    "display(pd.DataFrame(recovered, columns=personal_info_column_list).head(3))\n",
    "print('')"
   ]
  },
  {
   "cell_type": "markdown",
   "metadata": {},
   "source": [
    "**You can probably see that some values are not exactly the same as they are in the original data. What might be the reason for that?**"
   ]
  },
  {
   "cell_type": "markdown",
   "metadata": {},
   "source": [
    "Would assume it is due to the overall process of obfuscatiing of the data, like the application of float numbers during transformation (from int)."
   ]
  },
  {
   "cell_type": "markdown",
   "metadata": {},
   "source": [
    "## Proof That Data Obfuscation Can Work with LR"
   ]
  },
  {
   "cell_type": "markdown",
   "metadata": {},
   "source": [
    "The regression task has been solved with linear regression in this project. Your next task is to prove _analytically_ that the given obfuscation method won't affect linear regression in terms of predicted values i.e. their values will remain the same. Can you believe that? Well, you don't have to, you should prove it!"
   ]
  },
  {
   "cell_type": "markdown",
   "metadata": {},
   "source": [
    "So, the data is obfuscated and there is $X \\times P$ instead of just $X$ now. Consequently, there are other weights $w_P$ as\n",
    "$$\n",
    "w = (X^T X)^{-1} X^T y \\quad \\Rightarrow \\quad w_P = [(XP)^T XP]^{-1} (XP)^T y\n",
    "$$\n",
    "\n",
    "How would $w$ and $w_P$ be linked if you simplify the formula for $w_P$ above? \n",
    "\n",
    "What would be predicted values with $w_P$? \n",
    "\n",
    "What does that mean for the quality of linear regression if you measure it with RMSE?\n",
    "\n",
    "Check Appendix B Properties of Matrices in the end of the notebook. There are useful formulas in there!\n",
    "\n",
    "No code is necessary in this section, only analytical explanation!"
   ]
  },
  {
   "cell_type": "markdown",
   "metadata": {},
   "source": [
    "**Answer**"
   ]
  },
  {
   "cell_type": "markdown",
   "metadata": {},
   "source": [
    "***How would  𝑤 and  𝑤𝑃 be linked if you simplify the formula for  𝑤𝑃 above?***\n",
    "\n",
    "- Based off of the condensed/manipulated result:\n",
    "<tr>\n",
    "<td></td><td>$w_P = P^{-1}\\cdot w$</td><td></td>\n",
    "</tr>\n",
    "\n",
    "\n",
    "***What would be predicted values with 𝑤𝑃?***\n",
    "\n",
    "- Same as the values before the obsfucation. We can get back to the original formula using the multiplicative identity property:\n",
    "\n",
    "<table>\n",
    "<tr>\n",
    "<td>replacing 𝑤 with 𝑤𝑃</td><td>$\\hat{y_P} = X_{val}P \\cdot w_P$</td>\n",
    "</tr>\n",
    "<tr>\n",
    "<td>Multiplicative identity</td><td>$\\hat{y_P} = X_{val}P \\cdot P^{-1}w$</td>\n",
    "</tr>\n",
    "<tr>\n",
    "<td>Multiplicative identity</td><td>$\\hat{y_P} = X_{val} P \\cdot I \\cdot w$</td>\n",
    "</tr>\n",
    "<tr>\n",
    "<td>Multiplicative identity</td><td>$\\hat{y_P} = X_{val}w$</td>\n",
    "</tr>\n",
    "<tr>\n",
    "<td></td><td>$\\hat{y_P} = \\hat{y}$</td>\n",
    "</tr>\n",
    "</table>\n",
    "\n",
    "***What does that mean for the quality of linear regression if you measure it with RMSE?***\n",
    "\n",
    "- RMSE is not expected to change given equality."
   ]
  },
  {
   "cell_type": "markdown",
   "metadata": {},
   "source": [
    "**Analytical proof**"
   ]
  },
  {
   "cell_type": "markdown",
   "metadata": {},
   "source": [
    "1. Formula is condesed as things get removed or cancelled out (one by one; manupulation)\n",
    "2. Masking does not affect linear regression itself\n",
    "\n",
    "\n",
    "<table>\n",
    "<tr>\n",
    "<td></td><td>$w_P = [(XP)^T XP]^{-1} (XP)^T y$</td>\n",
    "</tr>\n",
    "<tr>\n",
    "<td>Reversivity</td><td>$w_P = [(P^TX^T XP]^{-1} P^TX^T y$</td>\n",
    "</tr>\n",
    "<tr>\n",
    "<td>Associative property</td><td>$w_P = [(P^T(X^TX)P]^{-1} P^TX^T y$</td>\n",
    "</tr>\n",
    "<tr>\n",
    "<td>Multiplicative identity</td><td>$w_P = P^{-1}(X^TX)^{-1}(P^{-1}) P^TX^T y$</td>\n",
    "</tr>\n",
    "<tr>\n",
    "<td>Associative property</td><td>$w_P = P^{-1}(X^TX)^{-1}[(P^{-1}) P^T]X^T y$</td>\n",
    "</tr>\n",
    "<tr>\n",
    "<td>Multiplicative identity</td><td>$w_P = P^{-1}(X^TX)^{-1}I \\cdot X^T y$</td>\n",
    "</tr>\n",
    "<tr>\n",
    "<td></td><td>$w_P = P^{-1}(X^TX)^{-1}X^T y$</td>\n",
    "</tr>\n",
    "<tr>\n",
    "<td></td><td>$w_P = P^{-1}\\cdot w$</td><td></td>\n",
    "</tr>\n",
    "</table>"
   ]
  },
  {
   "cell_type": "markdown",
   "metadata": {},
   "source": [
    "## Test Linear Regression With Data Obfuscation"
   ]
  },
  {
   "cell_type": "markdown",
   "metadata": {},
   "source": [
    "Now, let's prove Linear Regression can work computationally with the chosen obfuscation transformation.\n",
    "\n",
    "Build a procedure or a class that runs Linear Regression optionally with the obfuscation. You can use either a ready implementation of Linear Regression from sciki-learn or your own.\n",
    "\n",
    "Run Linear Regression for the original data and the obfuscated one, compare the predicted values and the RMSE, $R^2$ metric values. Is there any difference?"
   ]
  },
  {
   "cell_type": "markdown",
   "metadata": {},
   "source": [
    "**Procedure**\n",
    "\n",
    "- Create a square matrix $P$ of random numbers.\n",
    "- Check that it is invertible. If not, repeat the first point until we get an invertible matrix.\n",
    "- <! your comment here !>\n",
    "- Use $XP$ as the new feature matrix"
   ]
  },
  {
   "cell_type": "code",
   "execution_count": 327,
   "metadata": {},
   "outputs": [
    {
     "name": "stdout",
     "output_type": "stream",
     "text": [
      "RMSE: 0.34\n",
      "R2: 0.66\n"
     ]
    }
   ],
   "source": [
    "# original data\n",
    "\n",
    "X_train, X_test, y_train, y_test = train_test_split(X, y, test_size=0.3, random_state=12345)\n",
    "\n",
    "lr = MyLinearRegression()\n",
    "\n",
    "lr.fit(X_train, y_train)\n",
    "y_test_pred = lr.predict(X_test) # metrics were similar leveraging the training dataset\n",
    "eval_regressor(y_test, y_test_pred) # metrics were similar leveraging the training dataset"
   ]
  },
  {
   "cell_type": "markdown",
   "metadata": {},
   "source": [
    "Checking feature importance"
   ]
  },
  {
   "cell_type": "code",
   "execution_count": 328,
   "metadata": {},
   "outputs": [
    {
     "data": {
      "image/png": "[encoded data removed]",
      "text/plain": [
       "<Figure size 1000x500 with 1 Axes>"
      ]
     },
     "metadata": {},
     "output_type": "display_data"
    }
   ],
   "source": [
    "sns.set(style=\"white\", color_codes=True)\n",
    "plt.rcParams['axes.linewidth'] = 0.1\n",
    "fig, ax = plt.subplots(figsize = (10,5))\n",
    "\n",
    "# calling the model with the best parameter\n",
    "lasso1 = Lasso(alpha=0.1)\n",
    "lasso1.fit(X_train, y_train)\n",
    "\n",
    "# Using np.abs() to make coefficients positive.  \n",
    "lasso1_coef = np.abs(lasso1.coef_)\n",
    "\n",
    "# plotting the Column Names and Importance of Columns. \n",
    "sns.barplot(x=names, y=lasso1_coef, hue=names)\n",
    "plt.xticks(rotation=0)\n",
    "plt.grid()\n",
    "plt.title(\"Feature Selection Based on Lasso - Split Dataset\")\n",
    "plt.xlabel(\"Features\")\n",
    "plt.ylabel(\"Importance\")\n",
    "plt.ylim(0, 0.15)\n",
    "plt.show()"
   ]
  },
  {
   "cell_type": "code",
   "execution_count": 329,
   "metadata": {},
   "outputs": [
    {
     "name": "stdout",
     "output_type": "stream",
     "text": [
      "RMSE: 0.34\n",
      "R2: 0.66\n"
     ]
    }
   ],
   "source": [
    "# obfuscation transformation\n",
    "\n",
    "X_train, X_test, y_train, y_test = train_test_split(transformation, y, test_size=0.3, random_state=12345)\n",
    "\n",
    "lr = MyLinearRegression()\n",
    "\n",
    "lr.fit(X_train, y_train)\n",
    "y_test_pred = lr.predict(X_test) # metrics were similar leveraging the training dataset\n",
    "eval_regressor(y_test, y_test_pred) # metrics were similar leveraging the training dataset"
   ]
  },
  {
   "cell_type": "markdown",
   "metadata": {},
   "source": [
    "# Conclusions"
   ]
  },
  {
   "cell_type": "markdown",
   "metadata": {},
   "source": [
    "`Scaling and imbalancing - output improvement after normalizing/standardizing across features`\n",
    "    \n",
    "- Through the analysis, we see how data which isn't scaled can affect the output for distance values. As features \n",
    "feature larger variability or magnitude the distance output itself becomes more and more spread out (more easily seen when we expand `k` above `100`). We may also see these differences by utilizing the same distance method across scaled and non-scaled data for it to tell us what are the actual variations in output and how deep the variability truly is.\n",
    "\n",
    "    \n",
    "- Scaling makes a big difference when it comes to scores. For scaled data and as K increases, we see downturn shifts with F1 score (higher starting point overall compared to the non-scaled/original dataset). Under our non-scaled data, F1 score starts at .61 and quickly goes to zero at the 10th iteration of `k` while scaled data is overall consistent for the same value of`k` iterations (hovers right around the .90 mark with 10 iterations).\n",
    "\n",
    "    \n",
    "`Data obfuscating - proving that obsfucating our data can work with LR models without affecting certain outputs`\n",
    "    \n",
    "- While going through the process of transformation, we concluded that there is enough proof (both qualitative and quantiative proof) that data masking does not affect our RMSE metrics (*under this specific modeling scenario with these specific parameters*). With that said, if our transformation matrix is known there's a likely chance that our original data may be 'backed into' or 'recovered' but to a certain degree (will never be able to fully guess the original dataset). \n"
   ]
  },
  {
   "cell_type": "markdown",
   "metadata": {},
   "source": [
    "# Appendices \n",
    "\n",
    "## Appendix A: Writing Formulas in Jupyter Notebooks"
   ]
  },
  {
   "cell_type": "markdown",
   "metadata": {},
   "source": [
    "You can write formulas in your Jupyter Notebook in a markup language provided by a high-quality publishing system called $\\LaTeX$ (pronounced \"Lah-tech\"), and they will look like formulas in textbooks.\n",
    "\n",
    "To put a formula in a text, put the dollar sign (\\\\$) before and after the formula's text e.g. $\\frac{1}{2} \\times \\frac{3}{2} = \\frac{3}{4}$ or $y = x^2, x \\ge 1$.\n",
    "\n",
    "If a formula should be in its own paragraph, put the double dollar sign (\\\\$\\\\$) before and after the formula text e.g.\n",
    "\n",
    "$$\n",
    "\\bar{x} = \\frac{1}{n}\\sum_{i=1}^{n} x_i.\n",
    "$$\n",
    "\n",
    "The markup language of [LaTeX](https://en.wikipedia.org/wiki/LaTeX) is very popular among people who use formulas in their articles, books and texts. It can be complex but its basics are easy. Check this two page [cheatsheet](http://tug.ctan.org/info/undergradmath/undergradmath.pdf) for learning how to compose the most common formulas."
   ]
  },
  {
   "cell_type": "markdown",
   "metadata": {},
   "source": [
    "## Appendix B: Properties of Matrices"
   ]
  },
  {
   "cell_type": "markdown",
   "metadata": {},
   "source": [
    "Matrices have many properties in Linear Algebra. A few of them are listed here which can help with the analytical proof in this project."
   ]
  },
  {
   "cell_type": "markdown",
   "metadata": {},
   "source": [
    "<table>\n",
    "<tr>\n",
    "<td>Distributivity</td><td>$A(B+C)=AB+AC$</td>\n",
    "</tr>\n",
    "<tr>\n",
    "<td>Non-commutativity</td><td>$AB \\neq BA$</td>\n",
    "</tr>\n",
    "<tr>\n",
    "<td>Associative property of multiplication</td><td>$(AB)C = A(BC)$</td>\n",
    "</tr>\n",
    "<tr>\n",
    "<td>Multiplicative identity property</td><td>$IA = AI = A$</td>\n",
    "</tr>\n",
    "<tr>\n",
    "<td></td><td>$A^{-1}A = AA^{-1} = I$\n",
    "</td>\n",
    "</tr>    \n",
    "<tr>\n",
    "<td></td><td>$(AB)^{-1} = B^{-1}A^{-1}$</td>\n",
    "</tr>    \n",
    "<tr>\n",
    "<td>Reversivity of the transpose of a product of matrices,</td><td>$(AB)^T = B^TA^T$</td>\n",
    "</tr>    \n",
    "</table>"
   ]
  }
 ],
 "metadata": {
  "celltoolbar": "Raw Cell Format",
  "kernelspec": {
   "display_name": "Python 3 (ipykernel)",
   "language": "python",
   "name": "python3"
  },
  "language_info": {
   "codemirror_mode": {
    "name": "ipython",
    "version": 3
   },
   "file_extension": ".py",
   "mimetype": "text/x-python",
   "name": "python",
   "nbconvert_exporter": "python",
   "pygments_lexer": "ipython3",
   "version": "3.11.6"
  },
  "toc": {
   "base_numbering": 1,
   "nav_menu": {},
   "number_sections": true,
   "sideBar": true,
   "skip_h1_title": true,
   "title_cell": "Table of Contents",
   "title_sidebar": "Contents",
   "toc_cell": false,
   "toc_position": {},
   "toc_section_display": true,
   "toc_window_display": false
  }
 },
 "nbformat": 4,
 "nbformat_minor": 4
}
