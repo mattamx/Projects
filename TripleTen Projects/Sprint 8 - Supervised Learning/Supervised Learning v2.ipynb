{
 "cells": [
  {
   "cell_type": "markdown",
   "metadata": {},
   "source": [
    "# Brief [To be updated]\n",
    "Beta Bank customers are leaving: little by little, chipping away every month. Bankers have figured out it’s cheaper to save the existing customers rather than to attract new ones.\n",
    "\n",
    "\n",
    "# Data\n",
    "\n",
    "- `RowNumber`: data string index\n",
    "\n",
    "\n",
    "- `CustomerId`: unique customer identifier\n",
    "\n",
    "\n",
    "- `Surname`: surname\n",
    "\n",
    "\n",
    "- `CreditScore`: credit score\n",
    "\n",
    "\n",
    "- `Geography`: country of residence\n",
    "\n",
    "\n",
    "- `Gender`: gender\n",
    "\n",
    "\n",
    "- `Age`: age\n",
    "\n",
    "\n",
    "- `Tenure`: period of maturation for a customer’s fixed deposit (years)\n",
    "\n",
    "\n",
    "- `Balance`: account balance\n",
    "\n",
    "\n",
    "- `NumOfProducts`: number of banking products used by the customer\n",
    "\n",
    "\n",
    "- `HasCrCard`: customer has a credit card\n",
    "\n",
    "\n",
    "- `IsActiveMember`: customer’s activeness\n",
    "\n",
    "\n",
    "- `EstimatedSalary`: estimated salary\n",
    "\n",
    "\n",
    "- `Exited`: сustomer has left, \"yes\" — 1, \"no\" — 0\n",
    "\n",
    "# Task\n",
    "\n",
    "Build a model with the maximum possible F1 score to predict whether a customer will leave the bank soon. Our target F1 score of at least 0.59.\n",
    "\n",
    "   - Additionally, measure the ROC-AUC metric and compare it with the F1."
   ]
  },
  {
   "cell_type": "markdown",
   "metadata": {},
   "source": [
    "**Libraries**"
   ]
  },
  {
   "cell_type": "markdown",
   "source": [
    "Common"
   ],
   "metadata": {
    "collapsed": false
   }
  },
  {
   "cell_type": "code",
   "execution_count": 1345,
   "metadata": {
    "ExecuteTime": {
     "end_time": "2024-02-10T02:37:16.137023Z",
     "start_time": "2024-02-10T02:37:15.979502Z"
    }
   },
   "outputs": [],
   "source": [
    "import warnings\n",
    "warnings.simplefilter(action='ignore', category=FutureWarning)\n",
    "\n",
    "import pandas as pd\n",
    "import numpy as np\n",
    "import matplotlib.pyplot as plt\n",
    "import seaborn as sns"
   ]
  },
  {
   "cell_type": "markdown",
   "source": [
    "Sklearn"
   ],
   "metadata": {
    "collapsed": false
   }
  },
  {
   "cell_type": "code",
   "outputs": [],
   "source": [
    "from sklearn.metrics import accuracy_score, auc, f1_score, confusion_matrix, ConfusionMatrixDisplay, classification_report, precision_recall_curve, precision_score, recall_score, roc_auc_score, roc_curve\n",
    "from sklearn.model_selection import train_test_split, RandomizedSearchCV, RepeatedStratifiedKFold, cross_val_score\n",
    "from sklearn.preprocessing import StandardScaler, LabelEncoder\n",
    "from sklearn.ensemble import RandomForestClassifier, VotingClassifier, BaggingClassifier, AdaBoostClassifier, GradientBoostingClassifier\n",
    "from sklearn.tree import DecisionTreeClassifier"
   ],
   "metadata": {
    "collapsed": false,
    "ExecuteTime": {
     "end_time": "2024-02-10T02:37:16.147178Z",
     "start_time": "2024-02-10T02:37:16.140206Z"
    }
   },
   "execution_count": 1346
  },
  {
   "cell_type": "markdown",
   "source": [
    "Other"
   ],
   "metadata": {
    "collapsed": false
   }
  },
  {
   "cell_type": "code",
   "outputs": [],
   "source": [
    "from collections import Counter\n",
    "from imblearn.over_sampling import SMOTE"
   ],
   "metadata": {
    "collapsed": false,
    "ExecuteTime": {
     "end_time": "2024-02-10T02:37:16.183982Z",
     "start_time": "2024-02-10T02:37:16.148723Z"
    }
   },
   "execution_count": 1347
  },
  {
   "cell_type": "markdown",
   "source": [
    "**Data**"
   ],
   "metadata": {
    "collapsed": false
   }
  },
  {
   "cell_type": "code",
   "execution_count": 1348,
   "metadata": {
    "ExecuteTime": {
     "end_time": "2024-02-10T02:37:16.195343Z",
     "start_time": "2024-02-10T02:37:16.170709Z"
    }
   },
   "outputs": [],
   "source": [
    "try: \n",
    "    df = pd.read_csv('/Users/dani/Data Science/TripleTen Projects/Project Data/Supervised Learning/Churn.csv')\n",
    "except:\n",
    "    print('There is an error with your path.')"
   ]
  },
  {
   "cell_type": "markdown",
   "metadata": {},
   "source": [
    "Dtypes"
   ]
  },
  {
   "cell_type": "code",
   "execution_count": 1349,
   "metadata": {
    "ExecuteTime": {
     "end_time": "2024-02-10T02:37:16.213786Z",
     "start_time": "2024-02-10T02:37:16.196807Z"
    }
   },
   "outputs": [
    {
     "name": "stdout",
     "output_type": "stream",
     "text": [
      "The DataFrame's structure:\n",
      "\n",
      "<class 'pandas.core.frame.DataFrame'>\n",
      "RangeIndex: 10000 entries, 0 to 9999\n",
      "Data columns (total 14 columns):\n",
      " #   Column           Non-Null Count  Dtype  \n",
      "---  ------           --------------  -----  \n",
      " 0   RowNumber        10000 non-null  int64  \n",
      " 1   CustomerId       10000 non-null  int64  \n",
      " 2   Surname          10000 non-null  object \n",
      " 3   CreditScore      10000 non-null  int64  \n",
      " 4   Geography        10000 non-null  object \n",
      " 5   Gender           10000 non-null  object \n",
      " 6   Age              10000 non-null  int64  \n",
      " 7   Tenure           9091 non-null   float64\n",
      " 8   Balance          10000 non-null  float64\n",
      " 9   NumOfProducts    10000 non-null  int64  \n",
      " 10  HasCrCard        10000 non-null  int64  \n",
      " 11  IsActiveMember   10000 non-null  int64  \n",
      " 12  EstimatedSalary  10000 non-null  float64\n",
      " 13  Exited           10000 non-null  int64  \n",
      "dtypes: float64(3), int64(8), object(3)\n",
      "memory usage: 1.1+ MB\n"
     ]
    }
   ],
   "source": [
    "print(\"The DataFrame's structure:\")\n",
    "print('')\n",
    "df.info()"
   ]
  },
  {
   "cell_type": "markdown",
   "metadata": {},
   "source": [
    "`Findings`\n",
    "\n",
    "- Data types seem largely okay. Floats, excluding EstimatedSalary, can be converted to Integers and both Geography/Gender can be converted to Category type. \n",
    "\n",
    "\n",
    "- We notice missing values from our Tenure feature, depending on the proportion we will either remove or impute."
   ]
  },
  {
   "cell_type": "code",
   "outputs": [
    {
     "data": {
      "text/plain": "RowNumber            0\nCustomerId           0\nSurname              0\nCreditScore          0\nGeography            0\nGender               0\nAge                  0\nTenure             909\nBalance              0\nNumOfProducts        0\nHasCrCard            0\nIsActiveMember       0\nEstimatedSalary      0\nExited               0\ndtype: int64"
     },
     "execution_count": 1350,
     "metadata": {},
     "output_type": "execute_result"
    }
   ],
   "source": [
    "df.isna().sum()"
   ],
   "metadata": {
    "collapsed": false,
    "ExecuteTime": {
     "end_time": "2024-02-10T02:37:16.214528Z",
     "start_time": "2024-02-10T02:37:16.204002Z"
    }
   },
   "execution_count": 1350
  },
  {
   "cell_type": "code",
   "execution_count": 1351,
   "metadata": {
    "ExecuteTime": {
     "end_time": "2024-02-10T02:37:16.248854Z",
     "start_time": "2024-02-10T02:37:16.215776Z"
    }
   },
   "outputs": [
    {
     "data": {
      "text/plain": "0"
     },
     "execution_count": 1351,
     "metadata": {},
     "output_type": "execute_result"
    }
   ],
   "source": [
    "df.duplicated().sum()"
   ]
  },
  {
   "cell_type": "code",
   "execution_count": 1352,
   "metadata": {
    "ExecuteTime": {
     "end_time": "2024-02-10T02:37:16.249695Z",
     "start_time": "2024-02-10T02:37:16.221999Z"
    }
   },
   "outputs": [
    {
     "data": {
      "text/plain": "RowNumber          10000\nCustomerId         10000\nEstimatedSalary     9999\nBalance             6382\nSurname             2932\nCreditScore          460\nAge                   70\nTenure                11\nNumOfProducts          4\nGeography              3\nGender                 2\nHasCrCard              2\nIsActiveMember         2\nExited                 2\ndtype: int64"
     },
     "execution_count": 1352,
     "metadata": {},
     "output_type": "execute_result"
    }
   ],
   "source": [
    "df.nunique().sort_values(ascending=False)"
   ]
  },
  {
   "cell_type": "code",
   "execution_count": 1353,
   "metadata": {
    "ExecuteTime": {
     "end_time": "2024-02-10T02:37:16.264975Z",
     "start_time": "2024-02-10T02:37:16.255941Z"
    }
   },
   "outputs": [
    {
     "data": {
      "text/plain": "        Missing Ratio\nTenure           9.09",
      "text/html": "<div>\n<style scoped>\n    .dataframe tbody tr th:only-of-type {\n        vertical-align: middle;\n    }\n\n    .dataframe tbody tr th {\n        vertical-align: top;\n    }\n\n    .dataframe thead th {\n        text-align: right;\n    }\n</style>\n<table border=\"1\" class=\"dataframe\">\n  <thead>\n    <tr style=\"text-align: right;\">\n      <th></th>\n      <th>Missing Ratio</th>\n    </tr>\n  </thead>\n  <tbody>\n    <tr>\n      <th>Tenure</th>\n      <td>9.09</td>\n    </tr>\n  </tbody>\n</table>\n</div>"
     },
     "execution_count": 1353,
     "metadata": {},
     "output_type": "execute_result"
    }
   ],
   "source": [
    "df_miss = (df.isnull().sum() / len(df)) * 100\n",
    "df_miss = df_miss.drop(df_miss[df_miss == 0].index).sort_values(ascending=False)[:30]\n",
    "missing_data = pd.DataFrame({'Missing Ratio' :df_miss})\n",
    "missing_data.head(10)"
   ]
  },
  {
   "cell_type": "code",
   "execution_count": 1354,
   "metadata": {
    "ExecuteTime": {
     "end_time": "2024-02-10T02:37:16.282767Z",
     "start_time": "2024-02-10T02:37:16.265092Z"
    }
   },
   "outputs": [
    {
     "data": {
      "text/plain": "RowNumber            0\nCustomerId           0\nSurname              0\nCreditScore          0\nGeography            0\nGender               0\nAge                  0\nTenure             909\nBalance              0\nNumOfProducts        0\nHasCrCard            0\nIsActiveMember       0\nEstimatedSalary      0\nExited               0\ndtype: int64"
     },
     "execution_count": 1354,
     "metadata": {},
     "output_type": "execute_result"
    }
   ],
   "source": [
    "df.isnull().sum()"
   ]
  },
  {
   "cell_type": "code",
   "execution_count": 1355,
   "metadata": {
    "ExecuteTime": {
     "end_time": "2024-02-10T02:37:16.343665Z",
     "start_time": "2024-02-10T02:37:16.283436Z"
    }
   },
   "outputs": [
    {
     "name": "stdout",
     "output_type": "stream",
     "text": [
      "The DataFrame's statistical data:\n"
     ]
    },
    {
     "data": {
      "text/plain": "         RowNumber    CustomerId   CreditScore           Age       Tenure  \\\ncount  10000.00000  1.000000e+04  10000.000000  10000.000000  9091.000000   \nmean    5000.50000  1.569094e+07    650.528800     38.921800     4.997690   \nstd     2886.89568  7.193619e+04     96.653299     10.487806     2.894723   \nmin        1.00000  1.556570e+07    350.000000     18.000000     0.000000   \n25%     2500.75000  1.562853e+07    584.000000     32.000000     2.000000   \n50%     5000.50000  1.569074e+07    652.000000     37.000000     5.000000   \n75%     7500.25000  1.575323e+07    718.000000     44.000000     7.000000   \nmax    10000.00000  1.581569e+07    850.000000     92.000000    10.000000   \n\n             Balance  NumOfProducts    HasCrCard  IsActiveMember  \\\ncount   10000.000000   10000.000000  10000.00000    10000.000000   \nmean    76485.889288       1.530200      0.70550        0.515100   \nstd     62397.405202       0.581654      0.45584        0.499797   \nmin         0.000000       1.000000      0.00000        0.000000   \n25%         0.000000       1.000000      0.00000        0.000000   \n50%     97198.540000       1.000000      1.00000        1.000000   \n75%    127644.240000       2.000000      1.00000        1.000000   \nmax    250898.090000       4.000000      1.00000        1.000000   \n\n       EstimatedSalary        Exited  \ncount     10000.000000  10000.000000  \nmean     100090.239881      0.203700  \nstd       57510.492818      0.402769  \nmin          11.580000      0.000000  \n25%       51002.110000      0.000000  \n50%      100193.915000      0.000000  \n75%      149388.247500      0.000000  \nmax      199992.480000      1.000000  ",
      "text/html": "<div>\n<style scoped>\n    .dataframe tbody tr th:only-of-type {\n        vertical-align: middle;\n    }\n\n    .dataframe tbody tr th {\n        vertical-align: top;\n    }\n\n    .dataframe thead th {\n        text-align: right;\n    }\n</style>\n<table border=\"1\" class=\"dataframe\">\n  <thead>\n    <tr style=\"text-align: right;\">\n      <th></th>\n      <th>RowNumber</th>\n      <th>CustomerId</th>\n      <th>CreditScore</th>\n      <th>Age</th>\n      <th>Tenure</th>\n      <th>Balance</th>\n      <th>NumOfProducts</th>\n      <th>HasCrCard</th>\n      <th>IsActiveMember</th>\n      <th>EstimatedSalary</th>\n      <th>Exited</th>\n    </tr>\n  </thead>\n  <tbody>\n    <tr>\n      <th>count</th>\n      <td>10000.00000</td>\n      <td>1.000000e+04</td>\n      <td>10000.000000</td>\n      <td>10000.000000</td>\n      <td>9091.000000</td>\n      <td>10000.000000</td>\n      <td>10000.000000</td>\n      <td>10000.00000</td>\n      <td>10000.000000</td>\n      <td>10000.000000</td>\n      <td>10000.000000</td>\n    </tr>\n    <tr>\n      <th>mean</th>\n      <td>5000.50000</td>\n      <td>1.569094e+07</td>\n      <td>650.528800</td>\n      <td>38.921800</td>\n      <td>4.997690</td>\n      <td>76485.889288</td>\n      <td>1.530200</td>\n      <td>0.70550</td>\n      <td>0.515100</td>\n      <td>100090.239881</td>\n      <td>0.203700</td>\n    </tr>\n    <tr>\n      <th>std</th>\n      <td>2886.89568</td>\n      <td>7.193619e+04</td>\n      <td>96.653299</td>\n      <td>10.487806</td>\n      <td>2.894723</td>\n      <td>62397.405202</td>\n      <td>0.581654</td>\n      <td>0.45584</td>\n      <td>0.499797</td>\n      <td>57510.492818</td>\n      <td>0.402769</td>\n    </tr>\n    <tr>\n      <th>min</th>\n      <td>1.00000</td>\n      <td>1.556570e+07</td>\n      <td>350.000000</td>\n      <td>18.000000</td>\n      <td>0.000000</td>\n      <td>0.000000</td>\n      <td>1.000000</td>\n      <td>0.00000</td>\n      <td>0.000000</td>\n      <td>11.580000</td>\n      <td>0.000000</td>\n    </tr>\n    <tr>\n      <th>25%</th>\n      <td>2500.75000</td>\n      <td>1.562853e+07</td>\n      <td>584.000000</td>\n      <td>32.000000</td>\n      <td>2.000000</td>\n      <td>0.000000</td>\n      <td>1.000000</td>\n      <td>0.00000</td>\n      <td>0.000000</td>\n      <td>51002.110000</td>\n      <td>0.000000</td>\n    </tr>\n    <tr>\n      <th>50%</th>\n      <td>5000.50000</td>\n      <td>1.569074e+07</td>\n      <td>652.000000</td>\n      <td>37.000000</td>\n      <td>5.000000</td>\n      <td>97198.540000</td>\n      <td>1.000000</td>\n      <td>1.00000</td>\n      <td>1.000000</td>\n      <td>100193.915000</td>\n      <td>0.000000</td>\n    </tr>\n    <tr>\n      <th>75%</th>\n      <td>7500.25000</td>\n      <td>1.575323e+07</td>\n      <td>718.000000</td>\n      <td>44.000000</td>\n      <td>7.000000</td>\n      <td>127644.240000</td>\n      <td>2.000000</td>\n      <td>1.00000</td>\n      <td>1.000000</td>\n      <td>149388.247500</td>\n      <td>0.000000</td>\n    </tr>\n    <tr>\n      <th>max</th>\n      <td>10000.00000</td>\n      <td>1.581569e+07</td>\n      <td>850.000000</td>\n      <td>92.000000</td>\n      <td>10.000000</td>\n      <td>250898.090000</td>\n      <td>4.000000</td>\n      <td>1.00000</td>\n      <td>1.000000</td>\n      <td>199992.480000</td>\n      <td>1.000000</td>\n    </tr>\n  </tbody>\n</table>\n</div>"
     },
     "execution_count": 1355,
     "metadata": {},
     "output_type": "execute_result"
    }
   ],
   "source": [
    "print(\"The DataFrame's statistical data:\")\n",
    "df.describe()"
   ]
  },
  {
   "cell_type": "code",
   "execution_count": 1356,
   "metadata": {
    "ExecuteTime": {
     "end_time": "2024-02-10T02:37:16.426641Z",
     "start_time": "2024-02-10T02:37:16.334565Z"
    }
   },
   "outputs": [
    {
     "data": {
      "text/plain": "      RowNumber  CustomerId     Surname  CreditScore Geography  Gender  Age  \\\n4260       4261    15664555      Hughes          587    France    Male   40   \n5296       5297    15702462  Fiorentini          619     Spain  Female   44   \n4691       4692    15758050     Madukwe          622     Spain    Male   37   \n8348       8349    15796230      Morley          642   Germany  Female   36   \n2848       2849    15713608        Tuan          850    France  Female   41   \n1457       1458    15590320     Shelton          850    France    Male   66   \n8396       8397    15655082        Pape          607    France  Female   48   \n9200       9201    15567923      Barese          739    France  Female   30   \n2400       2401    15607827  Nebechukwu          711   Germany    Male   34   \n1578       1579    15585047    Onyemere          715    France    Male   28   \n\n      Tenure    Balance  NumOfProducts  HasCrCard  IsActiveMember  \\\n4260     NaN       0.00              4          0               1   \n5296     6.0   52831.13              1          1               1   \n4691     4.0       0.00              2          1               0   \n8348     2.0  124495.98              3          1               1   \n2848     5.0       0.00              2          1               1   \n1457     4.0       0.00              2          0               1   \n8396     4.0  112070.86              3          1               0   \n9200     6.0       0.00              1          0               0   \n2400     4.0  133467.77              2          1               1   \n1578     7.0  160376.61              1          0               0   \n\n      EstimatedSalary  Exited  \n4260        106174.70       1  \n5296        112649.22       1  \n4691          4459.50       0  \n8348         57904.22       1  \n2848         34827.43       0  \n1457         64350.80       0  \n8396        173568.30       1  \n9200        122604.44       0  \n2400         42976.64       0  \n1578        196853.11       0  ",
      "text/html": "<div>\n<style scoped>\n    .dataframe tbody tr th:only-of-type {\n        vertical-align: middle;\n    }\n\n    .dataframe tbody tr th {\n        vertical-align: top;\n    }\n\n    .dataframe thead th {\n        text-align: right;\n    }\n</style>\n<table border=\"1\" class=\"dataframe\">\n  <thead>\n    <tr style=\"text-align: right;\">\n      <th></th>\n      <th>RowNumber</th>\n      <th>CustomerId</th>\n      <th>Surname</th>\n      <th>CreditScore</th>\n      <th>Geography</th>\n      <th>Gender</th>\n      <th>Age</th>\n      <th>Tenure</th>\n      <th>Balance</th>\n      <th>NumOfProducts</th>\n      <th>HasCrCard</th>\n      <th>IsActiveMember</th>\n      <th>EstimatedSalary</th>\n      <th>Exited</th>\n    </tr>\n  </thead>\n  <tbody>\n    <tr>\n      <th>4260</th>\n      <td>4261</td>\n      <td>15664555</td>\n      <td>Hughes</td>\n      <td>587</td>\n      <td>France</td>\n      <td>Male</td>\n      <td>40</td>\n      <td>NaN</td>\n      <td>0.00</td>\n      <td>4</td>\n      <td>0</td>\n      <td>1</td>\n      <td>106174.70</td>\n      <td>1</td>\n    </tr>\n    <tr>\n      <th>5296</th>\n      <td>5297</td>\n      <td>15702462</td>\n      <td>Fiorentini</td>\n      <td>619</td>\n      <td>Spain</td>\n      <td>Female</td>\n      <td>44</td>\n      <td>6.0</td>\n      <td>52831.13</td>\n      <td>1</td>\n      <td>1</td>\n      <td>1</td>\n      <td>112649.22</td>\n      <td>1</td>\n    </tr>\n    <tr>\n      <th>4691</th>\n      <td>4692</td>\n      <td>15758050</td>\n      <td>Madukwe</td>\n      <td>622</td>\n      <td>Spain</td>\n      <td>Male</td>\n      <td>37</td>\n      <td>4.0</td>\n      <td>0.00</td>\n      <td>2</td>\n      <td>1</td>\n      <td>0</td>\n      <td>4459.50</td>\n      <td>0</td>\n    </tr>\n    <tr>\n      <th>8348</th>\n      <td>8349</td>\n      <td>15796230</td>\n      <td>Morley</td>\n      <td>642</td>\n      <td>Germany</td>\n      <td>Female</td>\n      <td>36</td>\n      <td>2.0</td>\n      <td>124495.98</td>\n      <td>3</td>\n      <td>1</td>\n      <td>1</td>\n      <td>57904.22</td>\n      <td>1</td>\n    </tr>\n    <tr>\n      <th>2848</th>\n      <td>2849</td>\n      <td>15713608</td>\n      <td>Tuan</td>\n      <td>850</td>\n      <td>France</td>\n      <td>Female</td>\n      <td>41</td>\n      <td>5.0</td>\n      <td>0.00</td>\n      <td>2</td>\n      <td>1</td>\n      <td>1</td>\n      <td>34827.43</td>\n      <td>0</td>\n    </tr>\n    <tr>\n      <th>1457</th>\n      <td>1458</td>\n      <td>15590320</td>\n      <td>Shelton</td>\n      <td>850</td>\n      <td>France</td>\n      <td>Male</td>\n      <td>66</td>\n      <td>4.0</td>\n      <td>0.00</td>\n      <td>2</td>\n      <td>0</td>\n      <td>1</td>\n      <td>64350.80</td>\n      <td>0</td>\n    </tr>\n    <tr>\n      <th>8396</th>\n      <td>8397</td>\n      <td>15655082</td>\n      <td>Pape</td>\n      <td>607</td>\n      <td>France</td>\n      <td>Female</td>\n      <td>48</td>\n      <td>4.0</td>\n      <td>112070.86</td>\n      <td>3</td>\n      <td>1</td>\n      <td>0</td>\n      <td>173568.30</td>\n      <td>1</td>\n    </tr>\n    <tr>\n      <th>9200</th>\n      <td>9201</td>\n      <td>15567923</td>\n      <td>Barese</td>\n      <td>739</td>\n      <td>France</td>\n      <td>Female</td>\n      <td>30</td>\n      <td>6.0</td>\n      <td>0.00</td>\n      <td>1</td>\n      <td>0</td>\n      <td>0</td>\n      <td>122604.44</td>\n      <td>0</td>\n    </tr>\n    <tr>\n      <th>2400</th>\n      <td>2401</td>\n      <td>15607827</td>\n      <td>Nebechukwu</td>\n      <td>711</td>\n      <td>Germany</td>\n      <td>Male</td>\n      <td>34</td>\n      <td>4.0</td>\n      <td>133467.77</td>\n      <td>2</td>\n      <td>1</td>\n      <td>1</td>\n      <td>42976.64</td>\n      <td>0</td>\n    </tr>\n    <tr>\n      <th>1578</th>\n      <td>1579</td>\n      <td>15585047</td>\n      <td>Onyemere</td>\n      <td>715</td>\n      <td>France</td>\n      <td>Male</td>\n      <td>28</td>\n      <td>7.0</td>\n      <td>160376.61</td>\n      <td>1</td>\n      <td>0</td>\n      <td>0</td>\n      <td>196853.11</td>\n      <td>0</td>\n    </tr>\n  </tbody>\n</table>\n</div>"
     },
     "metadata": {},
     "output_type": "display_data"
    }
   ],
   "source": [
    "display(df.sample(10))"
   ]
  },
  {
   "cell_type": "markdown",
   "source": [
    "Feature Review"
   ],
   "metadata": {
    "collapsed": false
   }
  },
  {
   "cell_type": "code",
   "execution_count": 1357,
   "metadata": {
    "ExecuteTime": {
     "end_time": "2024-02-10T02:37:16.431004Z",
     "start_time": "2024-02-10T02:37:16.348692Z"
    }
   },
   "outputs": [],
   "source": [
    "# function to classify features\n",
    "def classify_features(df):\n",
    "    \"\"\"Feature classification function.\n",
    "    Assigns features to certain variables to review categorization across the dataset's features.\n",
    "    \"\"\"\n",
    "    categorical_features = []\n",
    "    non_categorical_features = []\n",
    "    discrete_features = []\n",
    "    continuous_features = []\n",
    "\n",
    "    for column in df.columns:\n",
    "        if df[column].dtype in ['object', 'bool', 'category']: \n",
    "            if df[column].nunique() < 15:\n",
    "                categorical_features.append(column)\n",
    "            else: \n",
    "                non_categorical_features.append(column)\n",
    "        elif df[column].dtype in ['int64', 'float64']:\n",
    "            if df[column].nunique() < 10:\n",
    "                discrete_features.append(column)\n",
    "            else: \n",
    "                continuous_features.append(column)\n",
    "    return categorical_features, non_categorical_features, discrete_features, continuous_features"
   ]
  },
  {
   "cell_type": "code",
   "execution_count": 1358,
   "metadata": {
    "ExecuteTime": {
     "end_time": "2024-02-10T02:37:16.490215Z",
     "start_time": "2024-02-10T02:37:16.433917Z"
    }
   },
   "outputs": [],
   "source": [
    "categorical, non_categorical, discrete, continuous = classify_features(df)"
   ]
  },
  {
   "cell_type": "code",
   "execution_count": 1359,
   "metadata": {
    "ExecuteTime": {
     "end_time": "2024-02-10T02:37:16.531084Z",
     "start_time": "2024-02-10T02:37:16.477493Z"
    }
   },
   "outputs": [
    {
     "name": "stdout",
     "output_type": "stream",
     "text": [
      "Categorical Features: ['Geography', 'Gender']\n",
      "Non-Categorical Features: ['Surname']\n",
      "Discrete Features: ['NumOfProducts', 'HasCrCard', 'IsActiveMember', 'Exited']\n",
      "Continuous Features: ['RowNumber', 'CustomerId', 'CreditScore', 'Age', 'Tenure', 'Balance', 'EstimatedSalary']\n"
     ]
    }
   ],
   "source": [
    "print(\"Categorical Features:\", categorical)\n",
    "print(\"Non-Categorical Features:\", non_categorical)\n",
    "print(\"Discrete Features:\", discrete)\n",
    "print(\"Continuous Features:\", continuous)"
   ]
  },
  {
   "cell_type": "code",
   "execution_count": 1360,
   "metadata": {
    "ExecuteTime": {
     "end_time": "2024-02-10T02:37:16.578182Z",
     "start_time": "2024-02-10T02:37:16.536132Z"
    }
   },
   "outputs": [
    {
     "name": "stdout",
     "output_type": "stream",
     "text": [
      "Geography\n",
      "France     5014\n",
      "Germany    2509\n",
      "Spain      2477\n",
      "Name: count, dtype: int64\n",
      "\n",
      "Gender\n",
      "Male      5457\n",
      "Female    4543\n",
      "Name: count, dtype: int64\n"
     ]
    }
   ],
   "source": [
    "for i in categorical:\n",
    "    #print(i, ':')\n",
    "    print(df[i].value_counts())\n",
    "    print()"
   ]
  },
  {
   "cell_type": "code",
   "execution_count": 1361,
   "metadata": {
    "ExecuteTime": {
     "end_time": "2024-02-10T02:37:16.955374Z",
     "start_time": "2024-02-10T02:37:16.578997Z"
    }
   },
   "outputs": [
    {
     "data": {
      "text/plain": "<Figure size 1500x600 with 1 Axes>",
      "image/png": "[encoded data removed]"
     },
     "metadata": {},
     "output_type": "display_data"
    },
    {
     "data": {
      "text/plain": "<Figure size 1500x600 with 1 Axes>",
      "image/png": "[encoded data removed]"
     },
     "metadata": {},
     "output_type": "display_data"
    }
   ],
   "source": [
    "sns.set(style=\"white\", color_codes=True)\n",
    "plt.rcParams['axes.linewidth'] = 0.1\n",
    "\n",
    "for i in categorical:\n",
    "    fig, ax = plt.subplots(figsize=(15, 6))\n",
    "    sns.countplot(x=i, data=df, palette=\"ch:s=.25,rot=-.25\", hue=i, ax=ax)\n",
    "    ax.relim()  # the plot limits need to be updated with the moved bars\n",
    "    ax.autoscale()\n",
    "    ax.text(x=0.5, y=1.1, s='Categorical Features', fontsize=16, weight='bold', ha='center', va='bottom', transform=ax.transAxes)\n",
    "    ax.text(x=0.5, y=1.05, s='Value Count Analysis', fontsize=8, alpha=0.75, ha='center', va='bottom', transform=ax.transAxes)\n",
    "    ax.set(ylabel='Count (#)')\n",
    "    plt.xticks(rotation = None)\n",
    "    bottoms = {}\n",
    "    for bars in ax.containers:\n",
    "        for bar in bars:\n",
    "            x, y = bar.get_xy()\n",
    "            h = bar.get_height()\n",
    "            if x in bottoms:\n",
    "                bar.set_y(bottoms[x])\n",
    "                bottoms[x] += h\n",
    "            else:\n",
    "                bottoms[x] = h\n",
    "\n",
    "    for c in ax.containers:\n",
    "        labels = [f'{round((v.get_height())):,}' for v in c]\n",
    "        ax.bar_label(c, labels=labels, label_type='center', color='white')\n",
    "\n",
    "    plt.show()"
   ]
  },
  {
   "cell_type": "code",
   "execution_count": 1362,
   "metadata": {
    "ExecuteTime": {
     "end_time": "2024-02-10T02:37:16.967867Z",
     "start_time": "2024-02-10T02:37:16.954658Z"
    }
   },
   "outputs": [
    {
     "name": "stdout",
     "output_type": "stream",
     "text": [
      "Surname\n",
      "Smith       32\n",
      "Scott       29\n",
      "Martin      29\n",
      "Walker      28\n",
      "Brown       26\n",
      "            ..\n",
      "Izmailov     1\n",
      "Bold         1\n",
      "Bonham       1\n",
      "Poninski     1\n",
      "Burbidge     1\n",
      "Name: count, Length: 2932, dtype: int64\n"
     ]
    }
   ],
   "source": [
    "for i in non_categorical:\n",
    "    #print(i, ':')\n",
    "    print(df[i].value_counts())\n",
    "    print()"
   ]
  },
  {
   "cell_type": "code",
   "execution_count": 1363,
   "metadata": {
    "ExecuteTime": {
     "end_time": "2024-02-10T02:37:17.013454Z",
     "start_time": "2024-02-10T02:37:16.966424Z"
    }
   },
   "outputs": [
    {
     "name": "stdout",
     "output_type": "stream",
     "text": [
      "NumOfProducts\n",
      "1    5084\n",
      "2    4590\n",
      "3     266\n",
      "4      60\n",
      "Name: count, dtype: int64\n",
      "\n",
      "HasCrCard\n",
      "1    7055\n",
      "0    2945\n",
      "Name: count, dtype: int64\n",
      "\n",
      "IsActiveMember\n",
      "1    5151\n",
      "0    4849\n",
      "Name: count, dtype: int64\n",
      "\n",
      "Exited\n",
      "0    7963\n",
      "1    2037\n",
      "Name: count, dtype: int64\n"
     ]
    }
   ],
   "source": [
    "for i in discrete:\n",
    "    #print(i, ':')\n",
    "    print(df[i].value_counts())\n",
    "    print()"
   ]
  },
  {
   "cell_type": "code",
   "execution_count": 1364,
   "metadata": {
    "ExecuteTime": {
     "end_time": "2024-02-10T02:37:17.481239Z",
     "start_time": "2024-02-10T02:37:16.984921Z"
    }
   },
   "outputs": [
    {
     "data": {
      "text/plain": "<Figure size 1500x600 with 1 Axes>",
      "image/png": "[encoded data removed]"
     },
     "metadata": {},
     "output_type": "display_data"
    },
    {
     "data": {
      "text/plain": "<Figure size 1500x600 with 1 Axes>",
      "image/png": "[encoded data removed]"
     },
     "metadata": {},
     "output_type": "display_data"
    },
    {
     "data": {
      "text/plain": "<Figure size 1500x600 with 1 Axes>",
      "image/png": "[encoded data removed]"
     },
     "metadata": {},
     "output_type": "display_data"
    },
    {
     "data": {
      "text/plain": "<Figure size 1500x600 with 1 Axes>",
      "image/png": "[encoded data removed]"
     },
     "metadata": {},
     "output_type": "display_data"
    }
   ],
   "source": [
    "sns.set(style=\"white\", color_codes=True)\n",
    "plt.rcParams['axes.linewidth'] = 0.1\n",
    "\n",
    "for i in discrete:\n",
    "    fig, ax = plt.subplots(figsize=(15, 6))\n",
    "    sns.countplot(x=i, data=df, palette=\"ch:s=.25,rot=-.25\", hue=i, ax=ax, legend=None)\n",
    "    ax.relim()  # the plot limits need to be updated with the moved bars\n",
    "    ax.autoscale()\n",
    "    ax.text(x=0.5, y=1.1, s='Discrete Features', fontsize=16, weight='bold', ha='center', va='bottom', transform=ax.transAxes)\n",
    "    ax.text(x=0.5, y=1.05, s='Value Count Analysis', fontsize=8, alpha=0.75, ha='center', va='bottom', transform=ax.transAxes)\n",
    "    ax.set(ylabel='Count (#)')\n",
    "    plt.xticks(rotation = None)\n",
    "    bottoms = {}\n",
    "    for bars in ax.containers:\n",
    "        for bar in bars:\n",
    "            x, y = bar.get_xy()\n",
    "            h = bar.get_height()\n",
    "            if x in bottoms:\n",
    "                bar.set_y(bottoms[x])\n",
    "                bottoms[x] += h\n",
    "            else:\n",
    "                bottoms[x] = h\n",
    "\n",
    "    for c in ax.containers:\n",
    "        labels = [f'{round((v.get_height())):,}' for v in c]\n",
    "        ax.bar_label(c, labels=labels, label_type='center', color='white')\n",
    "\n",
    "    plt.show()"
   ]
  },
  {
   "cell_type": "markdown",
   "source": [
    "Grouping Insights"
   ],
   "metadata": {
    "collapsed": false
   }
  },
  {
   "cell_type": "code",
   "outputs": [
    {
     "data": {
      "text/plain": "                  HasCrCard  CreditScore        Balance  NumOfProducts  \\\nGeography Gender                                                         \nFrance    Female       2261   649.185759   60322.670159       1.547545   \n          Male         2753   650.064657   63546.284875       1.517254   \nGermany   Female       1193   653.093881  119145.966471       1.511316   \n          Male         1316   649.966565  120259.668222       1.527356   \nSpain     Female       1089   651.769513   59862.092534       1.573003   \n          Male         1388   650.992075   63352.833746       1.512968   \n\n                    Tenure  EstimatedSalary  \nGeography Gender                             \nFrance    Female  4.943249     99564.252755  \n          Male    5.053472    100174.252495  \nGermany   Female  4.952074    102446.424124  \n          Male    5.007450     99905.033959  \nSpain     Female  4.992915    100734.107475  \n          Male    5.008730     98425.687680  ",
      "text/html": "<div>\n<style scoped>\n    .dataframe tbody tr th:only-of-type {\n        vertical-align: middle;\n    }\n\n    .dataframe tbody tr th {\n        vertical-align: top;\n    }\n\n    .dataframe thead th {\n        text-align: right;\n    }\n</style>\n<table border=\"1\" class=\"dataframe\">\n  <thead>\n    <tr style=\"text-align: right;\">\n      <th></th>\n      <th></th>\n      <th>HasCrCard</th>\n      <th>CreditScore</th>\n      <th>Balance</th>\n      <th>NumOfProducts</th>\n      <th>Tenure</th>\n      <th>EstimatedSalary</th>\n    </tr>\n    <tr>\n      <th>Geography</th>\n      <th>Gender</th>\n      <th></th>\n      <th></th>\n      <th></th>\n      <th></th>\n      <th></th>\n      <th></th>\n    </tr>\n  </thead>\n  <tbody>\n    <tr>\n      <th rowspan=\"2\" valign=\"top\">France</th>\n      <th>Female</th>\n      <td>2261</td>\n      <td>649.185759</td>\n      <td>60322.670159</td>\n      <td>1.547545</td>\n      <td>4.943249</td>\n      <td>99564.252755</td>\n    </tr>\n    <tr>\n      <th>Male</th>\n      <td>2753</td>\n      <td>650.064657</td>\n      <td>63546.284875</td>\n      <td>1.517254</td>\n      <td>5.053472</td>\n      <td>100174.252495</td>\n    </tr>\n    <tr>\n      <th rowspan=\"2\" valign=\"top\">Germany</th>\n      <th>Female</th>\n      <td>1193</td>\n      <td>653.093881</td>\n      <td>119145.966471</td>\n      <td>1.511316</td>\n      <td>4.952074</td>\n      <td>102446.424124</td>\n    </tr>\n    <tr>\n      <th>Male</th>\n      <td>1316</td>\n      <td>649.966565</td>\n      <td>120259.668222</td>\n      <td>1.527356</td>\n      <td>5.007450</td>\n      <td>99905.033959</td>\n    </tr>\n    <tr>\n      <th rowspan=\"2\" valign=\"top\">Spain</th>\n      <th>Female</th>\n      <td>1089</td>\n      <td>651.769513</td>\n      <td>59862.092534</td>\n      <td>1.573003</td>\n      <td>4.992915</td>\n      <td>100734.107475</td>\n    </tr>\n    <tr>\n      <th>Male</th>\n      <td>1388</td>\n      <td>650.992075</td>\n      <td>63352.833746</td>\n      <td>1.512968</td>\n      <td>5.008730</td>\n      <td>98425.687680</td>\n    </tr>\n  </tbody>\n</table>\n</div>"
     },
     "metadata": {},
     "output_type": "display_data"
    }
   ],
   "source": [
    "# dictionary expression\n",
    "dict_agg = {'count': ['HasCrCard'], 'mean': ['CreditScore', 'Balance', 'NumOfProducts', 'Tenure', 'EstimatedSalary']}\n",
    "# grouping table\n",
    "df_group = df.groupby(['Geography','Gender']).agg({k: v for v,l in dict_agg.items() for k in l})\n",
    "display(df_group)"
   ],
   "metadata": {
    "collapsed": false,
    "ExecuteTime": {
     "end_time": "2024-02-10T02:37:17.501300Z",
     "start_time": "2024-02-10T02:37:17.482894Z"
    }
   },
   "execution_count": 1365
  },
  {
   "cell_type": "markdown",
   "metadata": {},
   "source": [
    "`Findings`\n",
    "\n",
    "- Our missing values from the Tenure feature account for about 9% as a proportion of the total. Given this is above 5% (our removal threshold), we will impute the values using the mean.\n",
    "    \n",
    "- Can perceive imbalance from our target feature (a considerable delta).\n",
    "\n",
    "- Given differences in values across the dataset, we will have to deploy some encoding and perhaps scaling in order to preprocess the data and get it in the best shape possible for our modeling.\n",
    "\n",
    "- Grouping some of the features gives us some insights into the relationships between Gender and Geography. We see males having more credit cards throughout in tandem with higher account balances. There seems to be slightly lower average credit scores as well as estimated salaries (with the exception of France) for males. \n",
    "    - There is less variation with the average number of products and tenure, hovering around 1.5 for the number of products and about 5 years of tenure across the groupings.\n",
    "    "
   ]
  },
  {
   "cell_type": "markdown",
   "source": [
    "Feature removal"
   ],
   "metadata": {
    "collapsed": false
   }
  },
  {
   "cell_type": "code",
   "outputs": [
    {
     "data": {
      "text/plain": "      CreditScore Geography  Gender  Age  Tenure    Balance  NumOfProducts  \\\n0             619    France  Female   42     2.0       0.00              1   \n1             608     Spain  Female   41     1.0   83807.86              1   \n2             502    France  Female   42     8.0  159660.80              3   \n3             699    France  Female   39     1.0       0.00              2   \n4             850     Spain  Female   43     2.0  125510.82              1   \n...           ...       ...     ...  ...     ...        ...            ...   \n9995          771    France    Male   39     5.0       0.00              2   \n9996          516    France    Male   35    10.0   57369.61              1   \n9997          709    France  Female   36     7.0       0.00              1   \n9998          772   Germany    Male   42     3.0   75075.31              2   \n9999          792    France  Female   28     NaN  130142.79              1   \n\n      HasCrCard  IsActiveMember  EstimatedSalary  Exited  \n0             1               1        101348.88       1  \n1             0               1        112542.58       0  \n2             1               0        113931.57       1  \n3             0               0         93826.63       0  \n4             1               1         79084.10       0  \n...         ...             ...              ...     ...  \n9995          1               0         96270.64       0  \n9996          1               1        101699.77       0  \n9997          0               1         42085.58       1  \n9998          1               0         92888.52       1  \n9999          1               0         38190.78       0  \n\n[10000 rows x 11 columns]",
      "text/html": "<div>\n<style scoped>\n    .dataframe tbody tr th:only-of-type {\n        vertical-align: middle;\n    }\n\n    .dataframe tbody tr th {\n        vertical-align: top;\n    }\n\n    .dataframe thead th {\n        text-align: right;\n    }\n</style>\n<table border=\"1\" class=\"dataframe\">\n  <thead>\n    <tr style=\"text-align: right;\">\n      <th></th>\n      <th>CreditScore</th>\n      <th>Geography</th>\n      <th>Gender</th>\n      <th>Age</th>\n      <th>Tenure</th>\n      <th>Balance</th>\n      <th>NumOfProducts</th>\n      <th>HasCrCard</th>\n      <th>IsActiveMember</th>\n      <th>EstimatedSalary</th>\n      <th>Exited</th>\n    </tr>\n  </thead>\n  <tbody>\n    <tr>\n      <th>0</th>\n      <td>619</td>\n      <td>France</td>\n      <td>Female</td>\n      <td>42</td>\n      <td>2.0</td>\n      <td>0.00</td>\n      <td>1</td>\n      <td>1</td>\n      <td>1</td>\n      <td>101348.88</td>\n      <td>1</td>\n    </tr>\n    <tr>\n      <th>1</th>\n      <td>608</td>\n      <td>Spain</td>\n      <td>Female</td>\n      <td>41</td>\n      <td>1.0</td>\n      <td>83807.86</td>\n      <td>1</td>\n      <td>0</td>\n      <td>1</td>\n      <td>112542.58</td>\n      <td>0</td>\n    </tr>\n    <tr>\n      <th>2</th>\n      <td>502</td>\n      <td>France</td>\n      <td>Female</td>\n      <td>42</td>\n      <td>8.0</td>\n      <td>159660.80</td>\n      <td>3</td>\n      <td>1</td>\n      <td>0</td>\n      <td>113931.57</td>\n      <td>1</td>\n    </tr>\n    <tr>\n      <th>3</th>\n      <td>699</td>\n      <td>France</td>\n      <td>Female</td>\n      <td>39</td>\n      <td>1.0</td>\n      <td>0.00</td>\n      <td>2</td>\n      <td>0</td>\n      <td>0</td>\n      <td>93826.63</td>\n      <td>0</td>\n    </tr>\n    <tr>\n      <th>4</th>\n      <td>850</td>\n      <td>Spain</td>\n      <td>Female</td>\n      <td>43</td>\n      <td>2.0</td>\n      <td>125510.82</td>\n      <td>1</td>\n      <td>1</td>\n      <td>1</td>\n      <td>79084.10</td>\n      <td>0</td>\n    </tr>\n    <tr>\n      <th>...</th>\n      <td>...</td>\n      <td>...</td>\n      <td>...</td>\n      <td>...</td>\n      <td>...</td>\n      <td>...</td>\n      <td>...</td>\n      <td>...</td>\n      <td>...</td>\n      <td>...</td>\n      <td>...</td>\n    </tr>\n    <tr>\n      <th>9995</th>\n      <td>771</td>\n      <td>France</td>\n      <td>Male</td>\n      <td>39</td>\n      <td>5.0</td>\n      <td>0.00</td>\n      <td>2</td>\n      <td>1</td>\n      <td>0</td>\n      <td>96270.64</td>\n      <td>0</td>\n    </tr>\n    <tr>\n      <th>9996</th>\n      <td>516</td>\n      <td>France</td>\n      <td>Male</td>\n      <td>35</td>\n      <td>10.0</td>\n      <td>57369.61</td>\n      <td>1</td>\n      <td>1</td>\n      <td>1</td>\n      <td>101699.77</td>\n      <td>0</td>\n    </tr>\n    <tr>\n      <th>9997</th>\n      <td>709</td>\n      <td>France</td>\n      <td>Female</td>\n      <td>36</td>\n      <td>7.0</td>\n      <td>0.00</td>\n      <td>1</td>\n      <td>0</td>\n      <td>1</td>\n      <td>42085.58</td>\n      <td>1</td>\n    </tr>\n    <tr>\n      <th>9998</th>\n      <td>772</td>\n      <td>Germany</td>\n      <td>Male</td>\n      <td>42</td>\n      <td>3.0</td>\n      <td>75075.31</td>\n      <td>2</td>\n      <td>1</td>\n      <td>0</td>\n      <td>92888.52</td>\n      <td>1</td>\n    </tr>\n    <tr>\n      <th>9999</th>\n      <td>792</td>\n      <td>France</td>\n      <td>Female</td>\n      <td>28</td>\n      <td>NaN</td>\n      <td>130142.79</td>\n      <td>1</td>\n      <td>1</td>\n      <td>0</td>\n      <td>38190.78</td>\n      <td>0</td>\n    </tr>\n  </tbody>\n</table>\n<p>10000 rows × 11 columns</p>\n</div>"
     },
     "metadata": {},
     "output_type": "display_data"
    }
   ],
   "source": [
    "# we're removing rows that, at first glance, don't seem to have any significance and may possible introduce more noise\n",
    "df = df.drop(['RowNumber', 'Surname', 'CustomerId'], axis=1)\n",
    "\n",
    "display(df)"
   ],
   "metadata": {
    "collapsed": false,
    "ExecuteTime": {
     "end_time": "2024-02-10T02:37:17.526320Z",
     "start_time": "2024-02-10T02:37:17.500101Z"
    }
   },
   "execution_count": 1366
  },
  {
   "cell_type": "markdown",
   "metadata": {},
   "source": [
    "Imbalance"
   ]
  },
  {
   "cell_type": "code",
   "execution_count": 1367,
   "metadata": {
    "ExecuteTime": {
     "end_time": "2024-02-10T02:37:17.622099Z",
     "start_time": "2024-02-10T02:37:17.514033Z"
    }
   },
   "outputs": [
    {
     "name": "stdout",
     "output_type": "stream",
     "text": [
      "Checking frequency:\n",
      "Exited\n",
      "0    0.7963\n",
      "1    0.2037\n",
      "Name: proportion, dtype: float64\n"
     ]
    },
    {
     "data": {
      "text/plain": "<Figure size 1500x600 with 1 Axes>",
      "image/png": "[encoded data removed]"
     },
     "metadata": {},
     "output_type": "display_data"
    }
   ],
   "source": [
    "class_frequency = df['Exited'].value_counts(normalize=True) #normalizing from 0 to 1\n",
    "print('Checking frequency:')\n",
    "print(class_frequency)\n",
    "\n",
    "sns.set(style=\"white\", color_codes=True)\n",
    "plt.rcParams['axes.linewidth'] = 0.1\n",
    "fig, ax = plt.subplots(figsize=(15, 6))\n",
    "class_frequency.plot.pie(autopct='%.2f',textprops={'fontsize':12}, colors=['cyan', 'teal'], ylabel='Exited')\n",
    "ax.autoscale()\n",
    "ax.text(x=0.5, y=1.1, s='Class Imbalance', fontsize=16, weight='bold', ha='center', va='bottom', transform=ax.transAxes)\n",
    "ax.text(x=0.5, y=1.05, s='Target', fontsize=8, alpha=0.75, ha='center', va='bottom', transform=ax.transAxes)\n",
    "# ax.set(ylabel='Count (#)')\n",
    "\n",
    "plt.show()"
   ]
  },
  {
   "cell_type": "markdown",
   "metadata": {},
   "source": [
    "**Encoding and Scaling**"
   ]
  },
  {
   "cell_type": "code",
   "outputs": [],
   "source": [
    "encoder = LabelEncoder() "
   ],
   "metadata": {
    "collapsed": false,
    "ExecuteTime": {
     "end_time": "2024-02-10T02:37:17.622914Z",
     "start_time": "2024-02-10T02:37:17.573576Z"
    }
   },
   "execution_count": 1368
  },
  {
   "cell_type": "code",
   "outputs": [],
   "source": [
    "# to bypass limitations and encode multiple columns\n",
    "class MultiColumnLabelEncoder:\n",
    "    def __init__(self,columns = None):\n",
    "        self.columns = columns # column names to encode\n",
    "\n",
    "    def fit(self,X,y=None):\n",
    "        return self \n",
    "\n",
    "    def transform(self,X):\n",
    "        '''\n",
    "        Transforms columns of X specified in self.columns using\n",
    "        LabelEncoder(). If no columns specified, transforms all\n",
    "        columns in X.\n",
    "        '''\n",
    "        output = X.copy()\n",
    "        if self.columns is not None:\n",
    "            for col in self.columns:\n",
    "                output[col] = LabelEncoder().fit_transform(output[col])\n",
    "        else:\n",
    "            for colname,col in output.iteritems():\n",
    "                output[colname] = LabelEncoder().fit_transform(col)\n",
    "        return output\n",
    "\n",
    "    def fit_transform(self,X,y=None):\n",
    "        return self.fit(X,y).transform(X)"
   ],
   "metadata": {
    "collapsed": false,
    "ExecuteTime": {
     "end_time": "2024-02-10T02:37:17.623645Z",
     "start_time": "2024-02-10T02:37:17.579809Z"
    }
   },
   "execution_count": 1369
  },
  {
   "cell_type": "code",
   "outputs": [],
   "source": [
    "df = MultiColumnLabelEncoder(columns = ['Geography','Gender']).fit_transform(df)"
   ],
   "metadata": {
    "collapsed": false,
    "ExecuteTime": {
     "end_time": "2024-02-10T02:37:17.624619Z",
     "start_time": "2024-02-10T02:37:17.590542Z"
    }
   },
   "execution_count": 1370
  },
  {
   "cell_type": "code",
   "outputs": [],
   "source": [
    "# imputation\n",
    "df['Tenure'].fillna(value=df['Tenure'].mean(), inplace=True)"
   ],
   "metadata": {
    "collapsed": false,
    "ExecuteTime": {
     "end_time": "2024-02-10T02:37:17.625389Z",
     "start_time": "2024-02-10T02:37:17.594032Z"
    }
   },
   "execution_count": 1371
  },
  {
   "cell_type": "code",
   "outputs": [],
   "source": [
    "X = df.drop('Exited', axis=1).values\n",
    "y = df['Exited'].values"
   ],
   "metadata": {
    "collapsed": false,
    "ExecuteTime": {
     "end_time": "2024-02-10T02:37:17.626229Z",
     "start_time": "2024-02-10T02:37:17.598825Z"
    }
   },
   "execution_count": 1372
  },
  {
   "cell_type": "markdown",
   "source": [
    "Sampling"
   ],
   "metadata": {
    "collapsed": false
   }
  },
  {
   "cell_type": "code",
   "outputs": [
    {
     "name": "stdout",
     "output_type": "stream",
     "text": [
      "Resample dataset shape: Counter({1: 7963, 0: 7963})\n",
      "Feature shape comparison: ((10000, 10), (15926, 10))\n"
     ]
    }
   ],
   "source": [
    "smote = SMOTE()\n",
    "\n",
    "# fitting predictor and target variable\n",
    "x_smote, y_smote = smote.fit_resample(X, y)\n",
    "print('Resample dataset shape:', Counter(y_smote))\n",
    "print('Feature shape comparison:', (X.shape, x_smote.shape))"
   ],
   "metadata": {
    "collapsed": false,
    "ExecuteTime": {
     "end_time": "2024-02-10T13:35:02.873255Z",
     "start_time": "2024-02-10T13:35:02.849942Z"
    }
   },
   "execution_count": 1398
  },
  {
   "cell_type": "markdown",
   "source": [
    "Reproducibility"
   ],
   "metadata": {
    "collapsed": false
   }
  },
  {
   "cell_type": "code",
   "outputs": [],
   "source": [
    "seed = 12345"
   ],
   "metadata": {
    "collapsed": false,
    "ExecuteTime": {
     "end_time": "2024-02-10T02:37:17.657738Z",
     "start_time": "2024-02-10T02:37:17.618762Z"
    }
   },
   "execution_count": 1374
  },
  {
   "cell_type": "markdown",
   "source": [
    "RepeatedStratifiedKFold"
   ],
   "metadata": {
    "collapsed": false
   }
  },
  {
   "cell_type": "code",
   "outputs": [],
   "source": [
    "rskf = RepeatedStratifiedKFold(n_splits=10, n_repeats=5, random_state=seed)"
   ],
   "metadata": {
    "collapsed": false,
    "ExecuteTime": {
     "end_time": "2024-02-10T02:37:17.676711Z",
     "start_time": "2024-02-10T02:37:17.622010Z"
    }
   },
   "execution_count": 1375
  },
  {
   "cell_type": "code",
   "execution_count": 1376,
   "metadata": {
    "ExecuteTime": {
     "end_time": "2024-02-10T02:37:17.726704Z",
     "start_time": "2024-02-10T02:37:17.624945Z"
    }
   },
   "outputs": [],
   "source": [
    "X_train, X_test, y_train, y_test = train_test_split(x_smote,\n",
    "                                                    y_smote,\n",
    "                                                    test_size=0.2,\n",
    "                                                    random_state=seed)\n",
    "# scaling\n",
    "scaler = StandardScaler()\n",
    "X_train_scaled = scaler.fit_transform(X_train)\n",
    "X_test_scaled = scaler.transform(X_test)"
   ]
  },
  {
   "cell_type": "markdown",
   "source": [
    "Classifiers"
   ],
   "metadata": {
    "collapsed": false
   }
  },
  {
   "cell_type": "code",
   "outputs": [],
   "source": [
    "dt = DecisionTreeClassifier(random_state=seed)\n",
    "rf = RandomForestClassifier(random_state=seed)\n",
    "\n",
    "classifiers = [('Decision Tree', dt), ('Random Forest', rf)]"
   ],
   "metadata": {
    "collapsed": false,
    "ExecuteTime": {
     "end_time": "2024-02-10T02:37:17.728587Z",
     "start_time": "2024-02-10T02:37:17.632466Z"
    }
   },
   "execution_count": 1377
  },
  {
   "cell_type": "code",
   "outputs": [
    {
     "name": "stdout",
     "output_type": "stream",
     "text": [
      "Decision Tree Average Cross-Val Score w/F-1 scoring: 0.863\n",
      "Random Forest Average Cross-Val Score w/F-1 scoring: 0.907\n"
     ]
    }
   ],
   "source": [
    "for clf_name, clf in classifiers:\n",
    "    # fit the training set\n",
    "    clf.fit(X_train_scaled, y_train)\n",
    "\n",
    "    # label prediction\n",
    "    y_pred = clf.predict(X_test_scaled)\n",
    "\n",
    "    # evaluations\n",
    "    cv = cross_val_score(clf, x_smote, y_smote, scoring='f1', cv=rskf, n_jobs=-1)\n",
    "    print('{} Average Cross-Val Score w/F-1 scoring: {:.3f}'.format(clf_name, cv.mean()))\n"
   ],
   "metadata": {
    "collapsed": false,
    "ExecuteTime": {
     "end_time": "2024-02-10T02:37:33.935286Z",
     "start_time": "2024-02-10T02:37:17.636640Z"
    }
   },
   "execution_count": 1378
  },
  {
   "cell_type": "markdown",
   "source": [
    "Voting"
   ],
   "metadata": {
    "collapsed": false
   }
  },
  {
   "cell_type": "code",
   "execution_count": 1379,
   "metadata": {
    "ExecuteTime": {
     "end_time": "2024-02-10T02:37:49.064085Z",
     "start_time": "2024-02-10T02:37:33.937872Z"
    }
   },
   "outputs": [
    {
     "name": "stdout",
     "output_type": "stream",
     "text": [
      "Average Cross-Val Score w/F-1 scoring: 0.892\n"
     ]
    }
   ],
   "source": [
    "vc = VotingClassifier(estimators=classifiers)\n",
    "\n",
    "# fit and predict\n",
    "vc.fit(X_train_scaled, y_train)\n",
    "y_pred = vc.predict(X_test_scaled)\n",
    "\n",
    "# evaluation\n",
    "cv = cross_val_score(vc, x_smote, y_smote, scoring='f1', cv=rskf, n_jobs=-1)\n",
    "\n",
    "print('Average Cross-Val Score w/F-1 scoring: {:.3f}'.format(cv.mean()))"
   ]
  },
  {
   "cell_type": "markdown",
   "source": [
    "Bagging"
   ],
   "metadata": {
    "collapsed": false
   }
  },
  {
   "cell_type": "code",
   "outputs": [
    {
     "name": "stdout",
     "output_type": "stream",
     "text": [
      "Average Cross-Val Score w/F-1 scoring: 0.896\n"
     ]
    }
   ],
   "source": [
    "bc = BaggingClassifier(estimator=dt, random_state=seed)\n",
    "\n",
    "bc.fit(X_train_scaled, y_train)\n",
    "\n",
    "y_pred = bc.predict(X_test_scaled)\n",
    "y_pred_proba = bc.predict_proba(X_test_scaled)[:, 1]\n",
    "\n",
    "# evaluation\n",
    "cv = cross_val_score(bc, x_smote, y_smote, scoring='f1', cv=rskf, n_jobs=-1)\n",
    "\n",
    "print('Average Cross-Val Score w/F-1 scoring: {:.3f}'.format(cv.mean()))"
   ],
   "metadata": {
    "collapsed": false,
    "ExecuteTime": {
     "end_time": "2024-02-10T02:37:53.222689Z",
     "start_time": "2024-02-10T02:37:49.053895Z"
    }
   },
   "execution_count": 1380
  },
  {
   "cell_type": "markdown",
   "source": [
    "AdaBoost"
   ],
   "metadata": {
    "collapsed": false
   }
  },
  {
   "cell_type": "code",
   "outputs": [
    {
     "name": "stdout",
     "output_type": "stream",
     "text": [
      "Average Cross-Val Score w/F-1 scoring: 0.907\n"
     ]
    }
   ],
   "source": [
    "ada = AdaBoostClassifier(estimator=rf, random_state=seed, algorithm = 'SAMME') # algo. 'SAMME.R' is being deprecated\n",
    "\n",
    "ada.fit(X_train_scaled, y_train)\n",
    "\n",
    "y_pred = ada.predict(X_test_scaled)\n",
    "y_pred_proba = ada.predict_proba(X_test_scaled)[:, 1]\n",
    "\n",
    "# evaluation\n",
    "cv = cross_val_score(ada, x_smote, y_smote, scoring='f1', cv=rskf, n_jobs=-1)\n",
    "\n",
    "print('Average Cross-Val Score w/F-1 scoring: {:.3f}'.format(cv.mean()))"
   ],
   "metadata": {
    "collapsed": false,
    "ExecuteTime": {
     "end_time": "2024-02-10T02:38:13.734119Z",
     "start_time": "2024-02-10T02:37:53.229403Z"
    }
   },
   "execution_count": 1381
  },
  {
   "cell_type": "markdown",
   "source": [
    "Gradient Boosting"
   ],
   "metadata": {
    "collapsed": false
   }
  },
  {
   "cell_type": "code",
   "outputs": [
    {
     "name": "stdout",
     "output_type": "stream",
     "text": [
      "Average Cross-Val Score w/F-1 scoring: 0.900\n"
     ]
    }
   ],
   "source": [
    "sgbt = GradientBoostingClassifier(random_state=seed)\n",
    "\n",
    "sgbt.fit(X_train_scaled, y_train)\n",
    "\n",
    "y_pred_sgbt = sgbt.predict(X_test_scaled)\n",
    "y_pred_proba = sgbt.predict_proba(X_test_scaled)[:, 1]\n",
    "\n",
    "# evaluation\n",
    "cv = cross_val_score(sgbt, x_smote, y_smote, scoring='f1', cv=rskf, n_jobs=-1)\n",
    "\n",
    "print('Average Cross-Val Score w/F-1 scoring: {:.3f}'.format(cv.mean()))"
   ],
   "metadata": {
    "collapsed": false,
    "ExecuteTime": {
     "end_time": "2024-02-10T02:38:36.186236Z",
     "start_time": "2024-02-10T02:38:13.737357Z"
    }
   },
   "execution_count": 1382
  },
  {
   "cell_type": "markdown",
   "metadata": {},
   "source": [
    "**Final Model Evaluation - F1 score**"
   ]
  },
  {
   "cell_type": "code",
   "outputs": [
    {
     "name": "stdout",
     "output_type": "stream",
     "text": [
      "Final Non-Tuned F1-Score: 0.9021601016518425\n",
      "Final Non-Tuned ROC-AUC Score: 0.9123657629382067\n"
     ]
    }
   ],
   "source": [
    "final_ada_y_pred = ada.predict(X_test_scaled)\n",
    "final_ada_y_pred_proba = ada.predict_proba(X_test_scaled)[:,1]\n",
    "print('Final Non-Tuned F1-Score:', f1_score(y_test, final_ada_y_pred))\n",
    "print('Final Non-Tuned ROC-AUC Score:', roc_auc_score(y_test, final_ada_y_pred_proba))"
   ],
   "metadata": {
    "collapsed": false,
    "ExecuteTime": {
     "end_time": "2024-02-10T02:47:26.293106Z",
     "start_time": "2024-02-10T02:47:26.165335Z"
    }
   },
   "execution_count": 1387
  },
  {
   "cell_type": "code",
   "outputs": [
    {
     "name": "stdout",
     "output_type": "stream",
     "text": [
      "              precision    recall  f1-score   support\n",
      "\n",
      "           0       0.87      0.94      0.90      1547\n",
      "           1       0.94      0.87      0.90      1639\n",
      "\n",
      "    accuracy                           0.90      3186\n",
      "   macro avg       0.91      0.90      0.90      3186\n",
      "weighted avg       0.91      0.90      0.90      3186\n"
     ]
    }
   ],
   "source": [
    "print(classification_report(y_test, final_ada_y_pred))"
   ],
   "metadata": {
    "collapsed": false,
    "ExecuteTime": {
     "end_time": "2024-02-10T03:18:28.971223Z",
     "start_time": "2024-02-10T03:18:28.936443Z"
    }
   },
   "execution_count": 1392
  },
  {
   "cell_type": "markdown",
   "source": [
    "Hyperparameter tuning in order to compare improvement to base model"
   ],
   "metadata": {
    "collapsed": false
   }
  },
  {
   "cell_type": "code",
   "execution_count": 1390,
   "metadata": {
    "ExecuteTime": {
     "end_time": "2024-02-10T02:55:36.061516Z",
     "start_time": "2024-02-10T02:53:06.496621Z"
    }
   },
   "outputs": [
    {
     "name": "stdout",
     "output_type": "stream",
     "text": [
      "Fitting 50 folds for each of 10 candidates, totalling 500 fits\n",
      "Final Tuned F1-Score: 0.9021601016518425\n",
      "Final Tuned ROC-AUC Score: 0.9113973275047101\n"
     ]
    }
   ],
   "source": [
    "ada_params = {\n",
    "    'n_estimators': [50, 150, 300],\n",
    "    'learning_rate': [0.3, 0.5, 1.0],\n",
    "    'estimator__criterion': [\"gini\", \"entropy\"]\n",
    "}\n",
    "\n",
    "random_search = RandomizedSearchCV(ada, ada_params, scoring='f1', cv=rskf, n_jobs=-1, verbose=1)\n",
    "\n",
    "random_search.fit(X_train_scaled, y_train)\n",
    "final_y_pred = random_search.predict(X_test_scaled)\n",
    "final_y_pred_proba = random_search.predict_proba(X_test_scaled)[:,1]\n",
    "\n",
    "print('Final Tuned F1-Score:', f1_score(y_test, final_y_pred))\n",
    "print('Final Tuned ROC-AUC Score:', roc_auc_score(y_test, final_y_pred_proba))"
   ]
  },
  {
   "cell_type": "markdown",
   "source": [
    "**To do:**\n",
    "1. findings\n",
    "2. charts\n",
    "3. summary"
   ],
   "metadata": {
    "collapsed": false
   }
  }
 ],
 "metadata": {
  "kernelspec": {
   "display_name": "Python 3 (ipykernel)",
   "language": "python",
   "name": "python3"
  },
  "language_info": {
   "codemirror_mode": {
    "name": "ipython",
    "version": 3
   },
   "file_extension": ".py",
   "mimetype": "text/x-python",
   "name": "python",
   "nbconvert_exporter": "python",
   "pygments_lexer": "ipython3",
   "version": "3.11.6"
  },
  "toc": {
   "base_numbering": 1,
   "nav_menu": {},
   "number_sections": true,
   "sideBar": true,
   "skip_h1_title": true,
   "title_cell": "Table of Contents",
   "title_sidebar": "Contents",
   "toc_cell": false,
   "toc_position": {},
   "toc_section_display": true,
   "toc_window_display": false
  }
 },
 "nbformat": 4,
 "nbformat_minor": 2
}
